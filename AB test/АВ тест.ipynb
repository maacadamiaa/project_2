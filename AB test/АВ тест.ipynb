{
 "cells": [
  {
   "cell_type": "markdown",
   "metadata": {},
   "source": [
    "# Проведение АВ теста"
   ]
  },
  {
   "cell_type": "markdown",
   "metadata": {},
   "source": [
    "\n",
    "Цель: Нам нужно провести оценку результатов A/B-теста, проверить насколько тест соответствует техническому заданию, проанализировать результаты, чтобы понять позволил ли тест recommender_system_test увеличить конверсию в каждое событие на 10 п.п. и подготовить рекомендаци"
   ]
  },
  {
   "cell_type": "markdown",
   "metadata": {},
   "source": [
    "**Техническое задание**\n",
    "- Название теста: recommender_system_test;\n",
    "- Группы: А (контрольная), B (новая платёжная воронка);\n",
    "- Дата запуска: 2020-12-07;\n",
    "- Дата остановки набора новых пользователей: 2020-12-21;\n",
    "- Дата остановки: 2021-01-04;\n",
    "- Аудитория: 15% новых пользователей из региона EU;\n",
    "- Назначение теста: тестирование изменений, связанных с внедрением улучшенной рекомендательной системы;\n",
    "- Ожидаемое количество участников теста: 6000.\n",
    "- Ожидаемый эффект: за 14 дней с момента регистрации в системе пользователи покажут улучшение каждой метрики не менее, чем на 10%:\n",
    "конверсии в просмотр карточек товаров — событие product_page,\n",
    "просмотры корзины — product_cart,\n",
    "покупки — purchase.\n",
    "\n",
    "Ход работы:\n",
    "- Изучение и предобработка данных;\n",
    "- Оценка корректности теста;\n",
    "- Исследовательский анализ данных;\n",
    "- Оценка результатов A/B-тестирования;\n",
    "- Выводы и рекомендации.\n"
   ]
  },
  {
   "cell_type": "markdown",
   "metadata": {},
   "source": [
    "## Изучение данных"
   ]
  },
  {
   "cell_type": "code",
   "execution_count": 1,
   "metadata": {},
   "outputs": [],
   "source": [
    "import numpy as np\n",
    "import pandas as pd\n",
    "from matplotlib import pyplot as plt\n",
    "import seaborn as sns\n",
    "from IPython.display import display\n",
    "import datetime as dt\n",
    "import plotly.express as px\n",
    "from plotly import graph_objects as go\n",
    "from scipy import stats as st\n",
    "import math as mth"
   ]
  },
  {
   "cell_type": "code",
   "execution_count": 2,
   "metadata": {},
   "outputs": [],
   "source": [
    "final_ab_events = pd.read_csv('final_ab_events.csv')\n",
    "marketing_events = pd.read_csv('ab_project_marketing_events.csv')\n",
    "new_users = pd.read_csv('final_ab_new_users.csv')\n",
    "final_ab_participants = pd.read_csv('final_ab_participants.csv')"
   ]
  },
  {
   "cell_type": "code",
   "execution_count": 3,
   "metadata": {},
   "outputs": [
    {
     "data": {
      "text/html": [
       "<div>\n",
       "<style scoped>\n",
       "    .dataframe tbody tr th:only-of-type {\n",
       "        vertical-align: middle;\n",
       "    }\n",
       "\n",
       "    .dataframe tbody tr th {\n",
       "        vertical-align: top;\n",
       "    }\n",
       "\n",
       "    .dataframe thead th {\n",
       "        text-align: right;\n",
       "    }\n",
       "</style>\n",
       "<table border=\"1\" class=\"dataframe\">\n",
       "  <thead>\n",
       "    <tr style=\"text-align: right;\">\n",
       "      <th></th>\n",
       "      <th>name</th>\n",
       "      <th>regions</th>\n",
       "      <th>start_dt</th>\n",
       "      <th>finish_dt</th>\n",
       "    </tr>\n",
       "  </thead>\n",
       "  <tbody>\n",
       "    <tr>\n",
       "      <th>0</th>\n",
       "      <td>Christmas&amp;New Year Promo</td>\n",
       "      <td>EU, N.America</td>\n",
       "      <td>2020-12-25</td>\n",
       "      <td>2021-01-03</td>\n",
       "    </tr>\n",
       "    <tr>\n",
       "      <th>1</th>\n",
       "      <td>St. Valentine's Day Giveaway</td>\n",
       "      <td>EU, CIS, APAC, N.America</td>\n",
       "      <td>2020-02-14</td>\n",
       "      <td>2020-02-16</td>\n",
       "    </tr>\n",
       "    <tr>\n",
       "      <th>2</th>\n",
       "      <td>St. Patric's Day Promo</td>\n",
       "      <td>EU, N.America</td>\n",
       "      <td>2020-03-17</td>\n",
       "      <td>2020-03-19</td>\n",
       "    </tr>\n",
       "    <tr>\n",
       "      <th>3</th>\n",
       "      <td>Easter Promo</td>\n",
       "      <td>EU, CIS, APAC, N.America</td>\n",
       "      <td>2020-04-12</td>\n",
       "      <td>2020-04-19</td>\n",
       "    </tr>\n",
       "    <tr>\n",
       "      <th>4</th>\n",
       "      <td>4th of July Promo</td>\n",
       "      <td>N.America</td>\n",
       "      <td>2020-07-04</td>\n",
       "      <td>2020-07-11</td>\n",
       "    </tr>\n",
       "  </tbody>\n",
       "</table>\n",
       "</div>"
      ],
      "text/plain": [
       "                           name                   regions    start_dt  \\\n",
       "0      Christmas&New Year Promo             EU, N.America  2020-12-25   \n",
       "1  St. Valentine's Day Giveaway  EU, CIS, APAC, N.America  2020-02-14   \n",
       "2        St. Patric's Day Promo             EU, N.America  2020-03-17   \n",
       "3                  Easter Promo  EU, CIS, APAC, N.America  2020-04-12   \n",
       "4             4th of July Promo                 N.America  2020-07-04   \n",
       "\n",
       "    finish_dt  \n",
       "0  2021-01-03  \n",
       "1  2020-02-16  \n",
       "2  2020-03-19  \n",
       "3  2020-04-19  \n",
       "4  2020-07-11  "
      ]
     },
     "metadata": {},
     "output_type": "display_data"
    },
    {
     "data": {
      "text/html": [
       "<div>\n",
       "<style scoped>\n",
       "    .dataframe tbody tr th:only-of-type {\n",
       "        vertical-align: middle;\n",
       "    }\n",
       "\n",
       "    .dataframe tbody tr th {\n",
       "        vertical-align: top;\n",
       "    }\n",
       "\n",
       "    .dataframe thead th {\n",
       "        text-align: right;\n",
       "    }\n",
       "</style>\n",
       "<table border=\"1\" class=\"dataframe\">\n",
       "  <thead>\n",
       "    <tr style=\"text-align: right;\">\n",
       "      <th></th>\n",
       "      <th>user_id</th>\n",
       "      <th>first_date</th>\n",
       "      <th>region</th>\n",
       "      <th>device</th>\n",
       "    </tr>\n",
       "  </thead>\n",
       "  <tbody>\n",
       "    <tr>\n",
       "      <th>0</th>\n",
       "      <td>D72A72121175D8BE</td>\n",
       "      <td>2020-12-07</td>\n",
       "      <td>EU</td>\n",
       "      <td>PC</td>\n",
       "    </tr>\n",
       "    <tr>\n",
       "      <th>1</th>\n",
       "      <td>F1C668619DFE6E65</td>\n",
       "      <td>2020-12-07</td>\n",
       "      <td>N.America</td>\n",
       "      <td>Android</td>\n",
       "    </tr>\n",
       "    <tr>\n",
       "      <th>2</th>\n",
       "      <td>2E1BF1D4C37EA01F</td>\n",
       "      <td>2020-12-07</td>\n",
       "      <td>EU</td>\n",
       "      <td>PC</td>\n",
       "    </tr>\n",
       "    <tr>\n",
       "      <th>3</th>\n",
       "      <td>50734A22C0C63768</td>\n",
       "      <td>2020-12-07</td>\n",
       "      <td>EU</td>\n",
       "      <td>iPhone</td>\n",
       "    </tr>\n",
       "    <tr>\n",
       "      <th>4</th>\n",
       "      <td>E1BDDCE0DAFA2679</td>\n",
       "      <td>2020-12-07</td>\n",
       "      <td>N.America</td>\n",
       "      <td>iPhone</td>\n",
       "    </tr>\n",
       "  </tbody>\n",
       "</table>\n",
       "</div>"
      ],
      "text/plain": [
       "            user_id  first_date     region   device\n",
       "0  D72A72121175D8BE  2020-12-07         EU       PC\n",
       "1  F1C668619DFE6E65  2020-12-07  N.America  Android\n",
       "2  2E1BF1D4C37EA01F  2020-12-07         EU       PC\n",
       "3  50734A22C0C63768  2020-12-07         EU   iPhone\n",
       "4  E1BDDCE0DAFA2679  2020-12-07  N.America   iPhone"
      ]
     },
     "metadata": {},
     "output_type": "display_data"
    },
    {
     "data": {
      "text/html": [
       "<div>\n",
       "<style scoped>\n",
       "    .dataframe tbody tr th:only-of-type {\n",
       "        vertical-align: middle;\n",
       "    }\n",
       "\n",
       "    .dataframe tbody tr th {\n",
       "        vertical-align: top;\n",
       "    }\n",
       "\n",
       "    .dataframe thead th {\n",
       "        text-align: right;\n",
       "    }\n",
       "</style>\n",
       "<table border=\"1\" class=\"dataframe\">\n",
       "  <thead>\n",
       "    <tr style=\"text-align: right;\">\n",
       "      <th></th>\n",
       "      <th>user_id</th>\n",
       "      <th>event_dt</th>\n",
       "      <th>event_name</th>\n",
       "      <th>details</th>\n",
       "    </tr>\n",
       "  </thead>\n",
       "  <tbody>\n",
       "    <tr>\n",
       "      <th>0</th>\n",
       "      <td>E1BDDCE0DAFA2679</td>\n",
       "      <td>2020-12-07 20:22:03</td>\n",
       "      <td>purchase</td>\n",
       "      <td>99.99</td>\n",
       "    </tr>\n",
       "    <tr>\n",
       "      <th>1</th>\n",
       "      <td>7B6452F081F49504</td>\n",
       "      <td>2020-12-07 09:22:53</td>\n",
       "      <td>purchase</td>\n",
       "      <td>9.99</td>\n",
       "    </tr>\n",
       "    <tr>\n",
       "      <th>2</th>\n",
       "      <td>9CD9F34546DF254C</td>\n",
       "      <td>2020-12-07 12:59:29</td>\n",
       "      <td>purchase</td>\n",
       "      <td>4.99</td>\n",
       "    </tr>\n",
       "    <tr>\n",
       "      <th>3</th>\n",
       "      <td>96F27A054B191457</td>\n",
       "      <td>2020-12-07 04:02:40</td>\n",
       "      <td>purchase</td>\n",
       "      <td>4.99</td>\n",
       "    </tr>\n",
       "    <tr>\n",
       "      <th>4</th>\n",
       "      <td>1FD7660FDF94CA1F</td>\n",
       "      <td>2020-12-07 10:15:09</td>\n",
       "      <td>purchase</td>\n",
       "      <td>4.99</td>\n",
       "    </tr>\n",
       "  </tbody>\n",
       "</table>\n",
       "</div>"
      ],
      "text/plain": [
       "            user_id             event_dt event_name  details\n",
       "0  E1BDDCE0DAFA2679  2020-12-07 20:22:03   purchase    99.99\n",
       "1  7B6452F081F49504  2020-12-07 09:22:53   purchase     9.99\n",
       "2  9CD9F34546DF254C  2020-12-07 12:59:29   purchase     4.99\n",
       "3  96F27A054B191457  2020-12-07 04:02:40   purchase     4.99\n",
       "4  1FD7660FDF94CA1F  2020-12-07 10:15:09   purchase     4.99"
      ]
     },
     "metadata": {},
     "output_type": "display_data"
    },
    {
     "data": {
      "text/html": [
       "<div>\n",
       "<style scoped>\n",
       "    .dataframe tbody tr th:only-of-type {\n",
       "        vertical-align: middle;\n",
       "    }\n",
       "\n",
       "    .dataframe tbody tr th {\n",
       "        vertical-align: top;\n",
       "    }\n",
       "\n",
       "    .dataframe thead th {\n",
       "        text-align: right;\n",
       "    }\n",
       "</style>\n",
       "<table border=\"1\" class=\"dataframe\">\n",
       "  <thead>\n",
       "    <tr style=\"text-align: right;\">\n",
       "      <th></th>\n",
       "      <th>user_id</th>\n",
       "      <th>group</th>\n",
       "      <th>ab_test</th>\n",
       "    </tr>\n",
       "  </thead>\n",
       "  <tbody>\n",
       "    <tr>\n",
       "      <th>0</th>\n",
       "      <td>D1ABA3E2887B6A73</td>\n",
       "      <td>A</td>\n",
       "      <td>recommender_system_test</td>\n",
       "    </tr>\n",
       "    <tr>\n",
       "      <th>1</th>\n",
       "      <td>A7A3664BD6242119</td>\n",
       "      <td>A</td>\n",
       "      <td>recommender_system_test</td>\n",
       "    </tr>\n",
       "    <tr>\n",
       "      <th>2</th>\n",
       "      <td>DABC14FDDFADD29E</td>\n",
       "      <td>A</td>\n",
       "      <td>recommender_system_test</td>\n",
       "    </tr>\n",
       "    <tr>\n",
       "      <th>3</th>\n",
       "      <td>04988C5DF189632E</td>\n",
       "      <td>A</td>\n",
       "      <td>recommender_system_test</td>\n",
       "    </tr>\n",
       "    <tr>\n",
       "      <th>4</th>\n",
       "      <td>482F14783456D21B</td>\n",
       "      <td>B</td>\n",
       "      <td>recommender_system_test</td>\n",
       "    </tr>\n",
       "  </tbody>\n",
       "</table>\n",
       "</div>"
      ],
      "text/plain": [
       "            user_id group                  ab_test\n",
       "0  D1ABA3E2887B6A73     A  recommender_system_test\n",
       "1  A7A3664BD6242119     A  recommender_system_test\n",
       "2  DABC14FDDFADD29E     A  recommender_system_test\n",
       "3  04988C5DF189632E     A  recommender_system_test\n",
       "4  482F14783456D21B     B  recommender_system_test"
      ]
     },
     "metadata": {},
     "output_type": "display_data"
    }
   ],
   "source": [
    "display(marketing_events.head())\n",
    "display(new_users.head())\n",
    "display(final_ab_events.head())\n",
    "display(final_ab_participants.head())"
   ]
  },
  {
   "cell_type": "markdown",
   "metadata": {},
   "source": [
    "## Предоброботка данных"
   ]
  },
  {
   "cell_type": "markdown",
   "metadata": {},
   "source": [
    "**Выполним предобработку для marketing_events**"
   ]
  },
  {
   "cell_type": "code",
   "execution_count": 4,
   "metadata": {},
   "outputs": [
    {
     "name": "stdout",
     "output_type": "stream",
     "text": [
      "<class 'pandas.core.frame.DataFrame'>\n",
      "RangeIndex: 14 entries, 0 to 13\n",
      "Data columns (total 4 columns):\n",
      " #   Column     Non-Null Count  Dtype \n",
      "---  ------     --------------  ----- \n",
      " 0   name       14 non-null     object\n",
      " 1   regions    14 non-null     object\n",
      " 2   start_dt   14 non-null     object\n",
      " 3   finish_dt  14 non-null     object\n",
      "dtypes: object(4)\n",
      "memory usage: 580.0+ bytes\n"
     ]
    }
   ],
   "source": [
    "marketing_events.info()"
   ]
  },
  {
   "cell_type": "code",
   "execution_count": 5,
   "metadata": {},
   "outputs": [],
   "source": [
    "marketing_events['start_dt'] = pd.to_datetime(marketing_events['start_dt'])\n",
    "marketing_events['finish_dt'] = pd.to_datetime(marketing_events['finish_dt'])"
   ]
  },
  {
   "cell_type": "code",
   "execution_count": 6,
   "metadata": {},
   "outputs": [
    {
     "data": {
      "text/plain": [
       "name         0\n",
       "regions      0\n",
       "start_dt     0\n",
       "finish_dt    0\n",
       "dtype: int64"
      ]
     },
     "execution_count": 6,
     "metadata": {},
     "output_type": "execute_result"
    }
   ],
   "source": [
    "marketing_events.isnull().sum()"
   ]
  },
  {
   "cell_type": "code",
   "execution_count": 7,
   "metadata": {},
   "outputs": [
    {
     "data": {
      "text/plain": [
       "array(['Christmas&New Year Promo', \"St. Valentine's Day Giveaway\",\n",
       "       \"St. Patric's Day Promo\", 'Easter Promo', '4th of July Promo',\n",
       "       'Black Friday Ads Campaign', 'Chinese New Year Promo',\n",
       "       'Labor day (May 1st) Ads Campaign',\n",
       "       \"International Women's Day Promo\",\n",
       "       'Victory Day CIS (May 9th) Event', 'CIS New Year Gift Lottery',\n",
       "       'Dragon Boat Festival Giveaway', \"Single's Day Gift Promo\",\n",
       "       'Chinese Moon Festival'], dtype=object)"
      ]
     },
     "execution_count": 7,
     "metadata": {},
     "output_type": "execute_result"
    }
   ],
   "source": [
    "marketing_events['name'].unique()"
   ]
  },
  {
   "cell_type": "markdown",
   "metadata": {},
   "source": [
    "Изменила типы данных в двух столбцах, дубликатов и пропусков не найдено"
   ]
  },
  {
   "cell_type": "markdown",
   "metadata": {},
   "source": [
    "**Выполним предобработку для new_users**"
   ]
  },
  {
   "cell_type": "code",
   "execution_count": 8,
   "metadata": {},
   "outputs": [
    {
     "name": "stdout",
     "output_type": "stream",
     "text": [
      "<class 'pandas.core.frame.DataFrame'>\n",
      "RangeIndex: 61733 entries, 0 to 61732\n",
      "Data columns (total 4 columns):\n",
      " #   Column      Non-Null Count  Dtype \n",
      "---  ------      --------------  ----- \n",
      " 0   user_id     61733 non-null  object\n",
      " 1   first_date  61733 non-null  object\n",
      " 2   region      61733 non-null  object\n",
      " 3   device      61733 non-null  object\n",
      "dtypes: object(4)\n",
      "memory usage: 1.9+ MB\n"
     ]
    }
   ],
   "source": [
    "new_users.info()"
   ]
  },
  {
   "cell_type": "code",
   "execution_count": 9,
   "metadata": {},
   "outputs": [],
   "source": [
    "new_users['first_date'] = pd.to_datetime(new_users['first_date'])"
   ]
  },
  {
   "cell_type": "code",
   "execution_count": 10,
   "metadata": {},
   "outputs": [
    {
     "data": {
      "text/plain": [
       "user_id       0\n",
       "first_date    0\n",
       "region        0\n",
       "device        0\n",
       "dtype: int64"
      ]
     },
     "execution_count": 10,
     "metadata": {},
     "output_type": "execute_result"
    }
   ],
   "source": [
    "new_users.isnull().sum()"
   ]
  },
  {
   "cell_type": "code",
   "execution_count": 11,
   "metadata": {},
   "outputs": [
    {
     "data": {
      "text/plain": [
       "Android    27520\n",
       "PC         15599\n",
       "iPhone     12530\n",
       "Mac         6084\n",
       "Name: device, dtype: int64"
      ]
     },
     "execution_count": 11,
     "metadata": {},
     "output_type": "execute_result"
    }
   ],
   "source": [
    "new_users['device'].value_counts()"
   ]
  },
  {
   "cell_type": "code",
   "execution_count": 12,
   "metadata": {},
   "outputs": [
    {
     "data": {
      "text/plain": [
       "61733"
      ]
     },
     "execution_count": 12,
     "metadata": {},
     "output_type": "execute_result"
    }
   ],
   "source": [
    "new_users['user_id'].nunique()"
   ]
  },
  {
   "cell_type": "code",
   "execution_count": 13,
   "metadata": {},
   "outputs": [
    {
     "data": {
      "text/plain": [
       "EU           46270\n",
       "N.America     9155\n",
       "CIS           3155\n",
       "APAC          3153\n",
       "Name: region, dtype: int64"
      ]
     },
     "execution_count": 13,
     "metadata": {},
     "output_type": "execute_result"
    }
   ],
   "source": [
    "new_users['region'].value_counts()"
   ]
  },
  {
   "cell_type": "code",
   "execution_count": 14,
   "metadata": {},
   "outputs": [
    {
     "data": {
      "text/plain": [
       "0"
      ]
     },
     "execution_count": 14,
     "metadata": {},
     "output_type": "execute_result"
    }
   ],
   "source": [
    "new_users.duplicated().sum()"
   ]
  },
  {
   "cell_type": "markdown",
   "metadata": {},
   "source": [
    "В одном столбце изменила тип данных, пропусков и дубликатов нет, в таблице предствалены данные о 61733 уникальном пользователе"
   ]
  },
  {
   "cell_type": "markdown",
   "metadata": {},
   "source": [
    "**Выполним предобработку для final_ab_events**"
   ]
  },
  {
   "cell_type": "code",
   "execution_count": 15,
   "metadata": {},
   "outputs": [
    {
     "name": "stdout",
     "output_type": "stream",
     "text": [
      "<class 'pandas.core.frame.DataFrame'>\n",
      "RangeIndex: 440317 entries, 0 to 440316\n",
      "Data columns (total 4 columns):\n",
      " #   Column      Non-Null Count   Dtype  \n",
      "---  ------      --------------   -----  \n",
      " 0   user_id     440317 non-null  object \n",
      " 1   event_dt    440317 non-null  object \n",
      " 2   event_name  440317 non-null  object \n",
      " 3   details     62740 non-null   float64\n",
      "dtypes: float64(1), object(3)\n",
      "memory usage: 13.4+ MB\n"
     ]
    }
   ],
   "source": [
    "final_ab_events.info()"
   ]
  },
  {
   "cell_type": "code",
   "execution_count": 16,
   "metadata": {},
   "outputs": [
    {
     "data": {
      "text/html": [
       "<div>\n",
       "<style scoped>\n",
       "    .dataframe tbody tr th:only-of-type {\n",
       "        vertical-align: middle;\n",
       "    }\n",
       "\n",
       "    .dataframe tbody tr th {\n",
       "        vertical-align: top;\n",
       "    }\n",
       "\n",
       "    .dataframe thead th {\n",
       "        text-align: right;\n",
       "    }\n",
       "</style>\n",
       "<table border=\"1\" class=\"dataframe\">\n",
       "  <thead>\n",
       "    <tr style=\"text-align: right;\">\n",
       "      <th></th>\n",
       "      <th>user_id</th>\n",
       "      <th>event_dt</th>\n",
       "      <th>event_name</th>\n",
       "      <th>details</th>\n",
       "    </tr>\n",
       "  </thead>\n",
       "  <tbody>\n",
       "    <tr>\n",
       "      <th>0</th>\n",
       "      <td>E1BDDCE0DAFA2679</td>\n",
       "      <td>2020-12-07 20:22:03</td>\n",
       "      <td>purchase</td>\n",
       "      <td>99.99</td>\n",
       "    </tr>\n",
       "    <tr>\n",
       "      <th>1</th>\n",
       "      <td>7B6452F081F49504</td>\n",
       "      <td>2020-12-07 09:22:53</td>\n",
       "      <td>purchase</td>\n",
       "      <td>9.99</td>\n",
       "    </tr>\n",
       "    <tr>\n",
       "      <th>2</th>\n",
       "      <td>9CD9F34546DF254C</td>\n",
       "      <td>2020-12-07 12:59:29</td>\n",
       "      <td>purchase</td>\n",
       "      <td>4.99</td>\n",
       "    </tr>\n",
       "    <tr>\n",
       "      <th>3</th>\n",
       "      <td>96F27A054B191457</td>\n",
       "      <td>2020-12-07 04:02:40</td>\n",
       "      <td>purchase</td>\n",
       "      <td>4.99</td>\n",
       "    </tr>\n",
       "    <tr>\n",
       "      <th>4</th>\n",
       "      <td>1FD7660FDF94CA1F</td>\n",
       "      <td>2020-12-07 10:15:09</td>\n",
       "      <td>purchase</td>\n",
       "      <td>4.99</td>\n",
       "    </tr>\n",
       "  </tbody>\n",
       "</table>\n",
       "</div>"
      ],
      "text/plain": [
       "            user_id             event_dt event_name  details\n",
       "0  E1BDDCE0DAFA2679  2020-12-07 20:22:03   purchase    99.99\n",
       "1  7B6452F081F49504  2020-12-07 09:22:53   purchase     9.99\n",
       "2  9CD9F34546DF254C  2020-12-07 12:59:29   purchase     4.99\n",
       "3  96F27A054B191457  2020-12-07 04:02:40   purchase     4.99\n",
       "4  1FD7660FDF94CA1F  2020-12-07 10:15:09   purchase     4.99"
      ]
     },
     "execution_count": 16,
     "metadata": {},
     "output_type": "execute_result"
    }
   ],
   "source": [
    "final_ab_events.head()"
   ]
  },
  {
   "cell_type": "code",
   "execution_count": 17,
   "metadata": {},
   "outputs": [],
   "source": [
    "final_ab_events['event_dt'] = pd.to_datetime(final_ab_events['event_dt'])"
   ]
  },
  {
   "cell_type": "code",
   "execution_count": 18,
   "metadata": {
    "scrolled": true
   },
   "outputs": [
    {
     "data": {
      "text/plain": [
       "user_id            0\n",
       "event_dt           0\n",
       "event_name         0\n",
       "details       377577\n",
       "dtype: int64"
      ]
     },
     "execution_count": 18,
     "metadata": {},
     "output_type": "execute_result"
    }
   ],
   "source": [
    "final_ab_events.isnull().sum()"
   ]
  },
  {
   "cell_type": "markdown",
   "metadata": {},
   "source": [
    "Много пропусков найдено в поле details, но details есть только у событий purchase (покупка), details показывает сумму покупки, у других событий этого столбца по логике быть не может. Как-то обработать эти пропуски мы не можем, удалить тоже нет, т.к. потеряется большой объем данных. Поэтому оставляем."
   ]
  },
  {
   "cell_type": "code",
   "execution_count": 19,
   "metadata": {
    "scrolled": true
   },
   "outputs": [
    {
     "data": {
      "text/plain": [
       "login           189552\n",
       "product_page    125563\n",
       "purchase         62740\n",
       "product_cart     62462\n",
       "Name: event_name, dtype: int64"
      ]
     },
     "execution_count": 19,
     "metadata": {},
     "output_type": "execute_result"
    }
   ],
   "source": [
    "final_ab_events['event_name'].value_counts()"
   ]
  },
  {
   "cell_type": "code",
   "execution_count": 20,
   "metadata": {},
   "outputs": [
    {
     "data": {
      "text/plain": [
       "0"
      ]
     },
     "execution_count": 20,
     "metadata": {},
     "output_type": "execute_result"
    }
   ],
   "source": [
    "new_users.duplicated().sum()"
   ]
  },
  {
   "cell_type": "markdown",
   "metadata": {},
   "source": [
    "Изменила тип данных в одном столбце, найдены пропуски, но решено ничего с ними не делать, дубликатов не найдено"
   ]
  },
  {
   "cell_type": "markdown",
   "metadata": {},
   "source": [
    "**Выполним предобработку для final_ab_participants**"
   ]
  },
  {
   "cell_type": "code",
   "execution_count": 21,
   "metadata": {},
   "outputs": [
    {
     "name": "stdout",
     "output_type": "stream",
     "text": [
      "<class 'pandas.core.frame.DataFrame'>\n",
      "RangeIndex: 18268 entries, 0 to 18267\n",
      "Data columns (total 3 columns):\n",
      " #   Column   Non-Null Count  Dtype \n",
      "---  ------   --------------  ----- \n",
      " 0   user_id  18268 non-null  object\n",
      " 1   group    18268 non-null  object\n",
      " 2   ab_test  18268 non-null  object\n",
      "dtypes: object(3)\n",
      "memory usage: 428.3+ KB\n"
     ]
    }
   ],
   "source": [
    "final_ab_participants.info()"
   ]
  },
  {
   "cell_type": "code",
   "execution_count": 22,
   "metadata": {},
   "outputs": [
    {
     "data": {
      "text/plain": [
       "A    9655\n",
       "B    8613\n",
       "Name: group, dtype: int64"
      ]
     },
     "execution_count": 22,
     "metadata": {},
     "output_type": "execute_result"
    }
   ],
   "source": [
    "final_ab_participants['group'].value_counts()"
   ]
  },
  {
   "cell_type": "code",
   "execution_count": 23,
   "metadata": {},
   "outputs": [
    {
     "data": {
      "text/plain": [
       "interface_eu_test          11567\n",
       "recommender_system_test     6701\n",
       "Name: ab_test, dtype: int64"
      ]
     },
     "execution_count": 23,
     "metadata": {},
     "output_type": "execute_result"
    }
   ],
   "source": [
    "final_ab_participants['ab_test'].value_counts()"
   ]
  },
  {
   "cell_type": "code",
   "execution_count": 24,
   "metadata": {},
   "outputs": [
    {
     "data": {
      "text/plain": [
       "user_id    0\n",
       "group      0\n",
       "ab_test    0\n",
       "dtype: int64"
      ]
     },
     "execution_count": 24,
     "metadata": {},
     "output_type": "execute_result"
    }
   ],
   "source": [
    "final_ab_participants.isnull().sum()"
   ]
  },
  {
   "cell_type": "code",
   "execution_count": 25,
   "metadata": {},
   "outputs": [
    {
     "data": {
      "text/plain": [
       "0"
      ]
     },
     "execution_count": 25,
     "metadata": {},
     "output_type": "execute_result"
    }
   ],
   "source": [
    "new_users.duplicated().sum()"
   ]
  },
  {
   "cell_type": "markdown",
   "metadata": {},
   "source": [
    "Пропусков и дубликатов не найдено. Датасет состоит из 2 групп: А и В, а также из двух видов тестов."
   ]
  },
  {
   "cell_type": "markdown",
   "metadata": {},
   "source": [
    "## Оцените корректность проведения теста"
   ]
  },
  {
   "cell_type": "markdown",
   "metadata": {},
   "source": [
    "Выделите пользователей участвующих в тесте и проверьте"
   ]
  },
  {
   "cell_type": "markdown",
   "metadata": {},
   "source": [
    "### Период набора пользователей в тест и его соответствие требованиям технического задания"
   ]
  },
  {
   "cell_type": "code",
   "execution_count": 26,
   "metadata": {
    "scrolled": true
   },
   "outputs": [
    {
     "name": "stdout",
     "output_type": "stream",
     "text": [
      "Первая дата регистрации 2020-12-07 00:00:00\n",
      "Последния дата регистрации 2020-12-23 00:00:00\n"
     ]
    }
   ],
   "source": [
    "print('Первая дата регистрации',new_users['first_date'].min())\n",
    "print('Последния дата регистрации', new_users['first_date'].max())"
   ]
  },
  {
   "cell_type": "markdown",
   "metadata": {},
   "source": [
    "В ТЗ указано, что последний день добора новых пользователей 21.12.2023, но в датасете new_users данные о всех пользователях, поэтому проведем дополнительную проверку"
   ]
  },
  {
   "cell_type": "code",
   "execution_count": 27,
   "metadata": {},
   "outputs": [],
   "source": [
    "recomm_user = final_ab_participants.query('ab_test == \"recommender_system_test\"')\n",
    "recomm_user = new_users.merge(recomm_user, on='user_id')\n"
   ]
  },
  {
   "cell_type": "code",
   "execution_count": 28,
   "metadata": {
    "scrolled": true
   },
   "outputs": [
    {
     "name": "stdout",
     "output_type": "stream",
     "text": [
      "Первая дата регистрации 2020-12-07 00:00:00\n",
      "Последния дата регистрации 2020-12-21 00:00:00\n"
     ]
    }
   ],
   "source": [
    "print('Первая дата регистрации',recomm_user['first_date'].min())\n",
    "print('Последния дата регистрации', recomm_user['first_date'].max())"
   ]
  },
  {
   "cell_type": "markdown",
   "metadata": {},
   "source": [
    "В датасете new_users представлены данные все пользователей вне зависимости от участия в тесте. Мы соединили таблицы и увидели, что в тесте recommender_system_test последня дата регистрации участников 2020-12-21, что соответствует ТЗ"
   ]
  },
  {
   "cell_type": "code",
   "execution_count": 29,
   "metadata": {
    "scrolled": true
   },
   "outputs": [
    {
     "name": "stdout",
     "output_type": "stream",
     "text": [
      "Дата запуска 2020-12-07 00:00:33\n",
      "Дата остановки 2020-12-30 23:36:33\n"
     ]
    }
   ],
   "source": [
    "print('Дата запуска',final_ab_events['event_dt'].min())\n",
    "print('Дата остановки', final_ab_events['event_dt'].max())"
   ]
  },
  {
   "cell_type": "markdown",
   "metadata": {},
   "source": [
    "Также указано, что дата остановки теста 4.01.2021, в датасете последняя дата 30.12.2020"
   ]
  },
  {
   "cell_type": "code",
   "execution_count": 30,
   "metadata": {
    "scrolled": true
   },
   "outputs": [
    {
     "data": {
      "text/plain": [
       "group\n",
       "A    3824\n",
       "B    2877\n",
       "Name: user_id, dtype: int64"
      ]
     },
     "execution_count": 30,
     "metadata": {},
     "output_type": "execute_result"
    }
   ],
   "source": [
    "final_ab_participants.query(\"ab_test == 'recommender_system_test'\").groupby('group')['user_id'].count()"
   ]
  },
  {
   "cell_type": "markdown",
   "metadata": {},
   "source": [
    "Для теста recommender_system_test на самом деле есть две группы: А (контрольная) - 3824 пользователя, В (новая платежная воронка) 2877 пользователей"
   ]
  },
  {
   "cell_type": "markdown",
   "metadata": {},
   "source": [
    "Предлагаю посмотреть сколько пользователей зарегистрировалось всего и после 21 декабря"
   ]
  },
  {
   "cell_type": "code",
   "execution_count": 31,
   "metadata": {},
   "outputs": [
    {
     "name": "stdout",
     "output_type": "stream",
     "text": [
      "Всего зарегистрированных пользователей 61733\n"
     ]
    }
   ],
   "source": [
    "print('Всего зарегистрированных пользователей',new_users['user_id'].nunique())"
   ]
  },
  {
   "cell_type": "code",
   "execution_count": 32,
   "metadata": {},
   "outputs": [
    {
     "name": "stdout",
     "output_type": "stream",
     "text": [
      "Всего новых пользователей, зарегистрированных после 21.12 -  5263\n"
     ]
    }
   ],
   "source": [
    "print('Всего новых пользователей, зарегистрированных после 21.12 - ',new_users.query('first_date > \"2020-12-21\"')['user_id'].nunique())"
   ]
  },
  {
   "cell_type": "markdown",
   "metadata": {},
   "source": [
    "Пользователи после 21.12 нам не нужны. Удалим их из датафрейма"
   ]
  },
  {
   "cell_type": "code",
   "execution_count": 33,
   "metadata": {},
   "outputs": [
    {
     "data": {
      "text/plain": [
       "56470"
      ]
     },
     "execution_count": 33,
     "metadata": {},
     "output_type": "execute_result"
    }
   ],
   "source": [
    "new_users = new_users.query('first_date >= \"2020-12-07\" and first_date <= \"2020-12-21\"')\n",
    "new_users_eu = new_users.query('region == \"EU\"')\n",
    "len(new_users)"
   ]
  },
  {
   "cell_type": "markdown",
   "metadata": {},
   "source": [
    "Создадим отдельную таблицу для теста recommender_system_test"
   ]
  },
  {
   "cell_type": "code",
   "execution_count": 34,
   "metadata": {
    "scrolled": true
   },
   "outputs": [],
   "source": [
    "participants_recom = final_ab_participants.query(\"ab_test == 'recommender_system_test'\")"
   ]
  },
  {
   "cell_type": "code",
   "execution_count": 35,
   "metadata": {},
   "outputs": [],
   "source": [
    "data1 = new_users_eu.merge(final_ab_participants, on = 'user_id')"
   ]
  },
  {
   "cell_type": "code",
   "execution_count": 36,
   "metadata": {},
   "outputs": [],
   "source": [
    "participants_events = data1.merge(final_ab_events, on = 'user_id', how='left')"
   ]
  },
  {
   "cell_type": "markdown",
   "metadata": {},
   "source": [
    "Мы соединили несколько датасетов, в итоге получили один с участниками теста, из Европы, с нужным периодом регистрации и с событиями"
   ]
  },
  {
   "cell_type": "markdown",
   "metadata": {},
   "source": [
    "### Проверим сколько пользователей пересекаются в двух тестах"
   ]
  },
  {
   "cell_type": "code",
   "execution_count": 37,
   "metadata": {},
   "outputs": [
    {
     "name": "stdout",
     "output_type": "stream",
     "text": [
      "Количество пользователей, участвующих в обоих тестрованиях - 1602 человека\n"
     ]
    }
   ],
   "source": [
    "err_participants = (\n",
    "                    participants_events\n",
    "                               .groupby('user_id')\n",
    "                               .agg({'ab_test': 'nunique'})\n",
    "                               .reset_index()\n",
    "                               .query('ab_test > 1')\n",
    "                    )\n",
    "print('Количество пользователей, участвующих в обоих тестрованиях - %s человека' % err_participants.shape[0])"
   ]
  },
  {
   "cell_type": "code",
   "execution_count": 38,
   "metadata": {},
   "outputs": [
    {
     "data": {
      "text/plain": [
       "1602"
      ]
     },
     "execution_count": 38,
     "metadata": {},
     "output_type": "execute_result"
    }
   ],
   "source": [
    "#выделим этих пользователей в отдельный датасет\n",
    "participants_new = participants_events[participants_events['user_id'].isin(err_participants['user_id'].values)]\n",
    "participants_new['user_id'].nunique()"
   ]
  },
  {
   "cell_type": "code",
   "execution_count": 39,
   "metadata": {},
   "outputs": [
    {
     "name": "stdout",
     "output_type": "stream",
     "text": [
      "Количество пользователей группы В параллельного теста -  783\n"
     ]
    }
   ],
   "source": [
    "participants_interface_B =  participants_new.query('ab_test == \"interface_eu_test\" & group ==\"B\"')\n",
    "print('Количество пользователей группы В параллельного теста - ', participants_interface_B['user_id'].nunique() )  "
   ]
  },
  {
   "cell_type": "code",
   "execution_count": 40,
   "metadata": {},
   "outputs": [],
   "source": [
    "participants_interface_B = participants_events[participants_events['user_id'].isin(participants_interface_B['user_id'].values)]"
   ]
  },
  {
   "cell_type": "code",
   "execution_count": 41,
   "metadata": {},
   "outputs": [
    {
     "data": {
      "text/html": [
       "<div>\n",
       "<style scoped>\n",
       "    .dataframe tbody tr th:only-of-type {\n",
       "        vertical-align: middle;\n",
       "    }\n",
       "\n",
       "    .dataframe tbody tr th {\n",
       "        vertical-align: top;\n",
       "    }\n",
       "\n",
       "    .dataframe thead th {\n",
       "        text-align: right;\n",
       "    }\n",
       "</style>\n",
       "<table border=\"1\" class=\"dataframe\">\n",
       "  <thead>\n",
       "    <tr style=\"text-align: right;\">\n",
       "      <th></th>\n",
       "      <th></th>\n",
       "      <th>user_id</th>\n",
       "    </tr>\n",
       "    <tr>\n",
       "      <th>ab_test</th>\n",
       "      <th>group</th>\n",
       "      <th></th>\n",
       "    </tr>\n",
       "  </thead>\n",
       "  <tbody>\n",
       "    <tr>\n",
       "      <th rowspan=\"2\" valign=\"top\">recommender_system_test</th>\n",
       "      <th>A</th>\n",
       "      <td>439</td>\n",
       "    </tr>\n",
       "    <tr>\n",
       "      <th>B</th>\n",
       "      <td>344</td>\n",
       "    </tr>\n",
       "  </tbody>\n",
       "</table>\n",
       "</div>"
      ],
      "text/plain": [
       "                               user_id\n",
       "ab_test                 group         \n",
       "recommender_system_test A          439\n",
       "                        B          344"
      ]
     },
     "execution_count": 41,
     "metadata": {},
     "output_type": "execute_result"
    }
   ],
   "source": [
    "participants_interface_B = participants_interface_B.query('ab_test == \"recommender_system_test\"')\n",
    "participants_interface_B.groupby(['ab_test', 'group']).agg({'user_id': 'nunique'})"
   ]
  },
  {
   "cell_type": "markdown",
   "metadata": {},
   "source": [
    "В тесте recommender_system_test в группе А учавствует 439 пользователей, которые одновременно были участниками теста interface_eu_test в группе В, а в группе В (recommender_system_test) -  344 пользователя. Это нехорошо, нужно проверить какую долю они занимают, что с ними делать. Для начала рассчитаю долю."
   ]
  },
  {
   "cell_type": "code",
   "execution_count": 42,
   "metadata": {
    "scrolled": true
   },
   "outputs": [
    {
     "data": {
      "text/html": [
       "<div>\n",
       "<style scoped>\n",
       "    .dataframe tbody tr th:only-of-type {\n",
       "        vertical-align: middle;\n",
       "    }\n",
       "\n",
       "    .dataframe tbody tr th {\n",
       "        vertical-align: top;\n",
       "    }\n",
       "\n",
       "    .dataframe thead th {\n",
       "        text-align: right;\n",
       "    }\n",
       "</style>\n",
       "<table border=\"1\" class=\"dataframe\">\n",
       "  <thead>\n",
       "    <tr style=\"text-align: right;\">\n",
       "      <th></th>\n",
       "      <th></th>\n",
       "      <th>user_id</th>\n",
       "    </tr>\n",
       "    <tr>\n",
       "      <th>ab_test</th>\n",
       "      <th>group</th>\n",
       "      <th></th>\n",
       "    </tr>\n",
       "  </thead>\n",
       "  <tbody>\n",
       "    <tr>\n",
       "      <th rowspan=\"2\" valign=\"top\">recommender_system_test</th>\n",
       "      <th>A</th>\n",
       "      <td>3634</td>\n",
       "    </tr>\n",
       "    <tr>\n",
       "      <th>B</th>\n",
       "      <td>2717</td>\n",
       "    </tr>\n",
       "  </tbody>\n",
       "</table>\n",
       "</div>"
      ],
      "text/plain": [
       "                               user_id\n",
       "ab_test                 group         \n",
       "recommender_system_test A         3634\n",
       "                        B         2717"
      ]
     },
     "execution_count": 42,
     "metadata": {},
     "output_type": "execute_result"
    }
   ],
   "source": [
    "participants_recomm= participants_events.query('ab_test == \"recommender_system_test\"')\n",
    "participants_recomm.groupby(['ab_test', 'group']).agg({'user_id': 'nunique'})"
   ]
  },
  {
   "cell_type": "markdown",
   "metadata": {},
   "source": [
    "Проведя несложные математические вычисления стало ясно, что доля участников из второго теста в группе **А = 12,08%**, а в группе **В = 12,66%**. Доля очень близкая, поэтому предлагаю участников не удалять, чтобы данных для теста было больше."
   ]
  },
  {
   "cell_type": "code",
   "execution_count": 43,
   "metadata": {},
   "outputs": [],
   "source": [
    "participants_recomm_A = participants_recomm.query('group == \"A\"')\n",
    "participants_recomm_B = participants_recomm.query('group == \"B\"')"
   ]
  },
  {
   "cell_type": "code",
   "execution_count": 44,
   "metadata": {},
   "outputs": [],
   "source": [
    "drop_list = list(participants_recomm_B['user_id'].unique())"
   ]
  },
  {
   "cell_type": "code",
   "execution_count": 45,
   "metadata": {},
   "outputs": [
    {
     "data": {
      "text/html": [
       "<div>\n",
       "<style scoped>\n",
       "    .dataframe tbody tr th:only-of-type {\n",
       "        vertical-align: middle;\n",
       "    }\n",
       "\n",
       "    .dataframe tbody tr th {\n",
       "        vertical-align: top;\n",
       "    }\n",
       "\n",
       "    .dataframe thead th {\n",
       "        text-align: right;\n",
       "    }\n",
       "</style>\n",
       "<table border=\"1\" class=\"dataframe\">\n",
       "  <thead>\n",
       "    <tr style=\"text-align: right;\">\n",
       "      <th></th>\n",
       "      <th>user_id</th>\n",
       "      <th>first_date</th>\n",
       "      <th>region</th>\n",
       "      <th>device</th>\n",
       "      <th>group</th>\n",
       "      <th>ab_test</th>\n",
       "      <th>event_dt</th>\n",
       "      <th>event_name</th>\n",
       "      <th>details</th>\n",
       "    </tr>\n",
       "  </thead>\n",
       "  <tbody>\n",
       "  </tbody>\n",
       "</table>\n",
       "</div>"
      ],
      "text/plain": [
       "Empty DataFrame\n",
       "Columns: [user_id, first_date, region, device, group, ab_test, event_dt, event_name, details]\n",
       "Index: []"
      ]
     },
     "execution_count": 45,
     "metadata": {},
     "output_type": "execute_result"
    }
   ],
   "source": [
    "df = participants_recomm_A.query('user_id in @drop_list')\n",
    "df"
   ]
  },
  {
   "cell_type": "markdown",
   "metadata": {},
   "source": [
    "Пересечение не выявлено. Группы распределены корректно"
   ]
  },
  {
   "cell_type": "markdown",
   "metadata": {},
   "source": [
    "### Проверим соблюдается ли условие - Аудитория: 15% новых пользователей из региона EU"
   ]
  },
  {
   "cell_type": "code",
   "execution_count": 46,
   "metadata": {
    "scrolled": false
   },
   "outputs": [
    {
     "name": "stdout",
     "output_type": "stream",
     "text": [
      "Доля пользователей из EU - участников теста: 15.00%\n"
     ]
    }
   ],
   "source": [
    "eu_users = new_users[new_users['region'] == 'EU']['user_id'].nunique()\n",
    "test_users = participants_recomm['user_id'].nunique()\n",
    "print('Доля пользователей из EU - участников теста: {:.2%}'.format(test_users / eu_users))"
   ]
  },
  {
   "cell_type": "markdown",
   "metadata": {},
   "source": [
    "### Посмотрим, на какой день жизни пользователи совершают событие"
   ]
  },
  {
   "cell_type": "code",
   "execution_count": 47,
   "metadata": {
    "scrolled": true
   },
   "outputs": [
    {
     "name": "stderr",
     "output_type": "stream",
     "text": [
      "/var/folders/2b/g11mwp6d6rs813xd2mjgl07r9dw46l/T/ipykernel_958/2832619387.py:1: SettingWithCopyWarning: \n",
      "A value is trying to be set on a copy of a slice from a DataFrame.\n",
      "Try using .loc[row_indexer,col_indexer] = value instead\n",
      "\n",
      "See the caveats in the documentation: https://pandas.pydata.org/pandas-docs/stable/user_guide/indexing.html#returning-a-view-versus-a-copy\n",
      "  participants_recomm['delta'] = (participants_recomm['event_dt'] - participants_recomm['first_date']).dt.days\n"
     ]
    }
   ],
   "source": [
    "participants_recomm['delta'] = (participants_recomm['event_dt'] - participants_recomm['first_date']).dt.days"
   ]
  },
  {
   "cell_type": "code",
   "execution_count": 48,
   "metadata": {},
   "outputs": [
    {
     "data": {
      "text/html": [
       "<div>\n",
       "<style scoped>\n",
       "    .dataframe tbody tr th:only-of-type {\n",
       "        vertical-align: middle;\n",
       "    }\n",
       "\n",
       "    .dataframe tbody tr th {\n",
       "        vertical-align: top;\n",
       "    }\n",
       "\n",
       "    .dataframe thead th {\n",
       "        text-align: right;\n",
       "    }\n",
       "</style>\n",
       "<table border=\"1\" class=\"dataframe\">\n",
       "  <thead>\n",
       "    <tr style=\"text-align: right;\">\n",
       "      <th></th>\n",
       "      <th>user_id</th>\n",
       "      <th>first_date</th>\n",
       "      <th>region</th>\n",
       "      <th>device</th>\n",
       "      <th>group</th>\n",
       "      <th>ab_test</th>\n",
       "      <th>event_dt</th>\n",
       "      <th>event_name</th>\n",
       "      <th>details</th>\n",
       "      <th>delta</th>\n",
       "    </tr>\n",
       "  </thead>\n",
       "  <tbody>\n",
       "    <tr>\n",
       "      <th>0</th>\n",
       "      <td>D72A72121175D8BE</td>\n",
       "      <td>2020-12-07</td>\n",
       "      <td>EU</td>\n",
       "      <td>PC</td>\n",
       "      <td>A</td>\n",
       "      <td>recommender_system_test</td>\n",
       "      <td>2020-12-07 21:52:10</td>\n",
       "      <td>product_page</td>\n",
       "      <td>NaN</td>\n",
       "      <td>0.0</td>\n",
       "    </tr>\n",
       "    <tr>\n",
       "      <th>1</th>\n",
       "      <td>D72A72121175D8BE</td>\n",
       "      <td>2020-12-07</td>\n",
       "      <td>EU</td>\n",
       "      <td>PC</td>\n",
       "      <td>A</td>\n",
       "      <td>recommender_system_test</td>\n",
       "      <td>2020-12-07 21:52:07</td>\n",
       "      <td>login</td>\n",
       "      <td>NaN</td>\n",
       "      <td>0.0</td>\n",
       "    </tr>\n",
       "    <tr>\n",
       "      <th>26</th>\n",
       "      <td>E6DE857AFBDC6102</td>\n",
       "      <td>2020-12-07</td>\n",
       "      <td>EU</td>\n",
       "      <td>PC</td>\n",
       "      <td>B</td>\n",
       "      <td>recommender_system_test</td>\n",
       "      <td>NaT</td>\n",
       "      <td>NaN</td>\n",
       "      <td>NaN</td>\n",
       "      <td>NaN</td>\n",
       "    </tr>\n",
       "    <tr>\n",
       "      <th>44</th>\n",
       "      <td>DD4352CDCF8C3D57</td>\n",
       "      <td>2020-12-07</td>\n",
       "      <td>EU</td>\n",
       "      <td>Android</td>\n",
       "      <td>B</td>\n",
       "      <td>recommender_system_test</td>\n",
       "      <td>2020-12-07 15:32:54</td>\n",
       "      <td>product_page</td>\n",
       "      <td>NaN</td>\n",
       "      <td>0.0</td>\n",
       "    </tr>\n",
       "    <tr>\n",
       "      <th>45</th>\n",
       "      <td>DD4352CDCF8C3D57</td>\n",
       "      <td>2020-12-07</td>\n",
       "      <td>EU</td>\n",
       "      <td>Android</td>\n",
       "      <td>B</td>\n",
       "      <td>recommender_system_test</td>\n",
       "      <td>2020-12-08 08:29:31</td>\n",
       "      <td>product_page</td>\n",
       "      <td>NaN</td>\n",
       "      <td>1.0</td>\n",
       "    </tr>\n",
       "    <tr>\n",
       "      <th>...</th>\n",
       "      <td>...</td>\n",
       "      <td>...</td>\n",
       "      <td>...</td>\n",
       "      <td>...</td>\n",
       "      <td>...</td>\n",
       "      <td>...</td>\n",
       "      <td>...</td>\n",
       "      <td>...</td>\n",
       "      <td>...</td>\n",
       "      <td>...</td>\n",
       "    </tr>\n",
       "    <tr>\n",
       "      <th>102784</th>\n",
       "      <td>0416B34D35C8C8B8</td>\n",
       "      <td>2020-12-20</td>\n",
       "      <td>EU</td>\n",
       "      <td>Android</td>\n",
       "      <td>A</td>\n",
       "      <td>recommender_system_test</td>\n",
       "      <td>2020-12-24 09:12:51</td>\n",
       "      <td>product_page</td>\n",
       "      <td>NaN</td>\n",
       "      <td>4.0</td>\n",
       "    </tr>\n",
       "    <tr>\n",
       "      <th>102785</th>\n",
       "      <td>0416B34D35C8C8B8</td>\n",
       "      <td>2020-12-20</td>\n",
       "      <td>EU</td>\n",
       "      <td>Android</td>\n",
       "      <td>A</td>\n",
       "      <td>recommender_system_test</td>\n",
       "      <td>2020-12-20 20:58:25</td>\n",
       "      <td>login</td>\n",
       "      <td>NaN</td>\n",
       "      <td>0.0</td>\n",
       "    </tr>\n",
       "    <tr>\n",
       "      <th>102786</th>\n",
       "      <td>0416B34D35C8C8B8</td>\n",
       "      <td>2020-12-20</td>\n",
       "      <td>EU</td>\n",
       "      <td>Android</td>\n",
       "      <td>A</td>\n",
       "      <td>recommender_system_test</td>\n",
       "      <td>2020-12-21 22:28:29</td>\n",
       "      <td>login</td>\n",
       "      <td>NaN</td>\n",
       "      <td>1.0</td>\n",
       "    </tr>\n",
       "    <tr>\n",
       "      <th>102787</th>\n",
       "      <td>0416B34D35C8C8B8</td>\n",
       "      <td>2020-12-20</td>\n",
       "      <td>EU</td>\n",
       "      <td>Android</td>\n",
       "      <td>A</td>\n",
       "      <td>recommender_system_test</td>\n",
       "      <td>2020-12-24 09:12:49</td>\n",
       "      <td>login</td>\n",
       "      <td>NaN</td>\n",
       "      <td>4.0</td>\n",
       "    </tr>\n",
       "    <tr>\n",
       "      <th>102789</th>\n",
       "      <td>89CB0BFBC3F35126</td>\n",
       "      <td>2020-12-20</td>\n",
       "      <td>EU</td>\n",
       "      <td>PC</td>\n",
       "      <td>B</td>\n",
       "      <td>recommender_system_test</td>\n",
       "      <td>NaT</td>\n",
       "      <td>NaN</td>\n",
       "      <td>NaN</td>\n",
       "      <td>NaN</td>\n",
       "    </tr>\n",
       "  </tbody>\n",
       "</table>\n",
       "<p>26290 rows × 10 columns</p>\n",
       "</div>"
      ],
      "text/plain": [
       "                 user_id first_date region   device group  \\\n",
       "0       D72A72121175D8BE 2020-12-07     EU       PC     A   \n",
       "1       D72A72121175D8BE 2020-12-07     EU       PC     A   \n",
       "26      E6DE857AFBDC6102 2020-12-07     EU       PC     B   \n",
       "44      DD4352CDCF8C3D57 2020-12-07     EU  Android     B   \n",
       "45      DD4352CDCF8C3D57 2020-12-07     EU  Android     B   \n",
       "...                  ...        ...    ...      ...   ...   \n",
       "102784  0416B34D35C8C8B8 2020-12-20     EU  Android     A   \n",
       "102785  0416B34D35C8C8B8 2020-12-20     EU  Android     A   \n",
       "102786  0416B34D35C8C8B8 2020-12-20     EU  Android     A   \n",
       "102787  0416B34D35C8C8B8 2020-12-20     EU  Android     A   \n",
       "102789  89CB0BFBC3F35126 2020-12-20     EU       PC     B   \n",
       "\n",
       "                        ab_test            event_dt    event_name  details  \\\n",
       "0       recommender_system_test 2020-12-07 21:52:10  product_page      NaN   \n",
       "1       recommender_system_test 2020-12-07 21:52:07         login      NaN   \n",
       "26      recommender_system_test                 NaT           NaN      NaN   \n",
       "44      recommender_system_test 2020-12-07 15:32:54  product_page      NaN   \n",
       "45      recommender_system_test 2020-12-08 08:29:31  product_page      NaN   \n",
       "...                         ...                 ...           ...      ...   \n",
       "102784  recommender_system_test 2020-12-24 09:12:51  product_page      NaN   \n",
       "102785  recommender_system_test 2020-12-20 20:58:25         login      NaN   \n",
       "102786  recommender_system_test 2020-12-21 22:28:29         login      NaN   \n",
       "102787  recommender_system_test 2020-12-24 09:12:49         login      NaN   \n",
       "102789  recommender_system_test                 NaT           NaN      NaN   \n",
       "\n",
       "        delta  \n",
       "0         0.0  \n",
       "1         0.0  \n",
       "26        NaN  \n",
       "44        0.0  \n",
       "45        1.0  \n",
       "...       ...  \n",
       "102784    4.0  \n",
       "102785    0.0  \n",
       "102786    1.0  \n",
       "102787    4.0  \n",
       "102789    NaN  \n",
       "\n",
       "[26290 rows x 10 columns]"
      ]
     },
     "execution_count": 48,
     "metadata": {},
     "output_type": "execute_result"
    }
   ],
   "source": [
    "participants_recomm"
   ]
  },
  {
   "cell_type": "code",
   "execution_count": 49,
   "metadata": {},
   "outputs": [],
   "source": [
    "fig = px.bar(participants_recomm.groupby('delta')['event_name'].count().reset_index(), \n",
    "             x='delta', # указываем столбец с данными для оси X\n",
    "             y='event_name', # указываем столбец с данными для оси Y\n",
    "             text='event_name' \n",
    "            )\n",
    "# оформляем график\n",
    "fig.update_layout(title='День выполнения события',\n",
    "                   xaxis_title='День',\n",
    "                   yaxis_title='Количество событий')\n",
    "fig.show() # выводим график"
   ]
  },
  {
   "cell_type": "markdown",
   "metadata": {},
   "source": [
    "По графику видно, что в основном пользователи совершают событие в первые дни жизни в приложении. "
   ]
  },
  {
   "cell_type": "code",
   "execution_count": null,
   "metadata": {},
   "outputs": [],
   "source": [
    "participants_recomm['event_name'].isnull().sum() / len(participants_recomm['event_name']) *100"
   ]
  },
  {
   "cell_type": "markdown",
   "metadata": {},
   "source": [
    "Почти 11% событий не зафиксировано"
   ]
  },
  {
   "cell_type": "markdown",
   "metadata": {},
   "source": [
    "Отфильтруем по дельте события"
   ]
  },
  {
   "cell_type": "code",
   "execution_count": null,
   "metadata": {},
   "outputs": [
    {
     "data": {
      "text/plain": [
       "22828"
      ]
     },
     "execution_count": 51,
     "metadata": {},
     "output_type": "execute_result"
    }
   ],
   "source": [
    "# отфильтруем те, которые в него не попадают\n",
    "events = participants_recomm[participants_recomm['delta'] <=14].copy()\n",
    "# посмотрим, сколько осталось событий\n",
    "len(events)"
   ]
  },
  {
   "cell_type": "code",
   "execution_count": null,
   "metadata": {
    "scrolled": true
   },
   "outputs": [
    {
     "data": {
      "text/html": [
       "<div>\n",
       "<style scoped>\n",
       "    .dataframe tbody tr th:only-of-type {\n",
       "        vertical-align: middle;\n",
       "    }\n",
       "\n",
       "    .dataframe tbody tr th {\n",
       "        vertical-align: top;\n",
       "    }\n",
       "\n",
       "    .dataframe thead th {\n",
       "        text-align: right;\n",
       "    }\n",
       "</style>\n",
       "<table border=\"1\" class=\"dataframe\">\n",
       "  <thead>\n",
       "    <tr style=\"text-align: right;\">\n",
       "      <th></th>\n",
       "      <th>group</th>\n",
       "      <th>user_id</th>\n",
       "    </tr>\n",
       "  </thead>\n",
       "  <tbody>\n",
       "    <tr>\n",
       "      <th>0</th>\n",
       "      <td>A</td>\n",
       "      <td>2604</td>\n",
       "    </tr>\n",
       "    <tr>\n",
       "      <th>1</th>\n",
       "      <td>B</td>\n",
       "      <td>877</td>\n",
       "    </tr>\n",
       "  </tbody>\n",
       "</table>\n",
       "</div>"
      ],
      "text/plain": [
       "  group  user_id\n",
       "0     A     2604\n",
       "1     B      877"
      ]
     },
     "execution_count": 52,
     "metadata": {},
     "output_type": "execute_result"
    }
   ],
   "source": [
    "user_group = events.groupby('group')['user_id'].nunique().reset_index()\n",
    "user_group"
   ]
  },
  {
   "cell_type": "code",
   "execution_count": null,
   "metadata": {},
   "outputs": [
    {
     "data": {
      "text/plain": [
       "3481"
      ]
     },
     "execution_count": 53,
     "metadata": {},
     "output_type": "execute_result"
    }
   ],
   "source": [
    "events['user_id'].nunique()"
   ]
  },
  {
   "cell_type": "markdown",
   "metadata": {},
   "source": []
  },
  {
   "cell_type": "markdown",
   "metadata": {},
   "source": [
    "**Вывод:** В датасете новые юзеры данные с 7.12 до 23.12, нам же по условию теста нужны пользователи только до 21.12, часть данных пришлось удалить. В таблице по событиям наоборот, некоторых не хватает данных с 31.12, хотя тесть по условию идет до 4.01. На данном этапе для теста recommender_system_test у меня есть две группы: А (контрольная) - 3824 пользователя, В (новая платежная воронка) 2877 пользователей. Таблицы я объединила. \n",
    "\n",
    "Далее из таблиц убрала все ненужные регионы, оставила только Европу. Нашла пересекающихся пользователей, которые попали и во второй тест, всего их было - 783, но их доля в двух группах нужного теста была очень близкой, следовательно и влияния они оказывали сопостовимое, поэтому я их не удаляла. \n",
    "\n",
    "Далее посмотрела как пользователи совершают события, в основном все события совершаются в первые дни жизни, но я решила оставить 14 дней, чтобы соответствовать условию теста. Но количество участников теста сократилось до 3481. В группе А - 2604 (75%), в группе В - 877 (25%). "
   ]
  },
  {
   "cell_type": "markdown",
   "metadata": {},
   "source": [
    "## Проведите исследовательский анализ данных"
   ]
  },
  {
   "cell_type": "markdown",
   "metadata": {},
   "source": [
    "### Количество событий на пользователя одинаково распределены в выборках?"
   ]
  },
  {
   "cell_type": "markdown",
   "metadata": {},
   "source": [
    "Создадим отдельные датасеты для каждой из групп"
   ]
  },
  {
   "cell_type": "code",
   "execution_count": null,
   "metadata": {},
   "outputs": [],
   "source": [
    "events_a = events.query('group == \"A\"')\n",
    "events_b = events.query('group == \"B\"')"
   ]
  },
  {
   "cell_type": "code",
   "execution_count": null,
   "metadata": {},
   "outputs": [
    {
     "name": "stdout",
     "output_type": "stream",
     "text": [
      "На одного пользователя из группы А приходится 7.0 событий\n",
      "На одного пользователя из группы В приходится 6.0 событий\n"
     ]
    }
   ],
   "source": [
    "print('На одного пользователя из группы А приходится', round(events_a['event_name'].count()/events_a['user_id'].nunique(),0), 'событий')\n",
    "print('На одного пользователя из группы В приходится', round(events_b['event_name'].count()/events_b['user_id'].nunique(),0), 'событий')"
   ]
  },
  {
   "cell_type": "markdown",
   "metadata": {},
   "source": [
    "События распределены неравномерно"
   ]
  },
  {
   "cell_type": "markdown",
   "metadata": {},
   "source": [
    "### Время проведения теста. Убедитесь, что оно не совпадает с маркетинговыми и другими активностями."
   ]
  },
  {
   "cell_type": "code",
   "execution_count": 56,
   "metadata": {},
   "outputs": [
    {
     "data": {
      "text/html": [
       "<div>\n",
       "<style scoped>\n",
       "    .dataframe tbody tr th:only-of-type {\n",
       "        vertical-align: middle;\n",
       "    }\n",
       "\n",
       "    .dataframe tbody tr th {\n",
       "        vertical-align: top;\n",
       "    }\n",
       "\n",
       "    .dataframe thead th {\n",
       "        text-align: right;\n",
       "    }\n",
       "</style>\n",
       "<table border=\"1\" class=\"dataframe\">\n",
       "  <thead>\n",
       "    <tr style=\"text-align: right;\">\n",
       "      <th></th>\n",
       "      <th>name</th>\n",
       "      <th>regions</th>\n",
       "      <th>start_dt</th>\n",
       "      <th>finish_dt</th>\n",
       "    </tr>\n",
       "  </thead>\n",
       "  <tbody>\n",
       "    <tr>\n",
       "      <th>0</th>\n",
       "      <td>Christmas&amp;New Year Promo</td>\n",
       "      <td>EU, N.America</td>\n",
       "      <td>2020-12-25</td>\n",
       "      <td>2021-01-03</td>\n",
       "    </tr>\n",
       "    <tr>\n",
       "      <th>10</th>\n",
       "      <td>CIS New Year Gift Lottery</td>\n",
       "      <td>CIS</td>\n",
       "      <td>2020-12-30</td>\n",
       "      <td>2021-01-07</td>\n",
       "    </tr>\n",
       "  </tbody>\n",
       "</table>\n",
       "</div>"
      ],
      "text/plain": [
       "                         name        regions   start_dt  finish_dt\n",
       "0    Christmas&New Year Promo  EU, N.America 2020-12-25 2021-01-03\n",
       "10  CIS New Year Gift Lottery            CIS 2020-12-30 2021-01-07"
      ]
     },
     "execution_count": 56,
     "metadata": {},
     "output_type": "execute_result"
    }
   ],
   "source": [
    "marketing_events_test = marketing_events.query('start_dt < \"2021-01-04\" and finish_dt > \"2020-12-07\"')\n",
    "marketing_events_test.head()"
   ]
  },
  {
   "cell_type": "markdown",
   "metadata": {},
   "source": [
    "В это время проводилось два мероприятия, но т.к. мы исследуем только пользователей из Европы, то только Christmas&New Year Promo могло повлиять на пользователей"
   ]
  },
  {
   "cell_type": "code",
   "execution_count": 57,
   "metadata": {},
   "outputs": [
    {
     "data": {
      "text/plain": [
       "5.531356898517674"
      ]
     },
     "execution_count": 57,
     "metadata": {},
     "output_type": "execute_result"
    }
   ],
   "source": [
    "events_b['event_name'].count()/events_b['user_id'].nunique()"
   ]
  },
  {
   "cell_type": "markdown",
   "metadata": {},
   "source": [
    "### Как число событий в выборках распределено по дням?"
   ]
  },
  {
   "cell_type": "code",
   "execution_count": 58,
   "metadata": {},
   "outputs": [],
   "source": [
    "events['event_dt'] = events['event_dt'].dt.date"
   ]
  },
  {
   "cell_type": "code",
   "execution_count": 59,
   "metadata": {
    "scrolled": true
   },
   "outputs": [
    {
     "data": {
      "text/html": [
       "<div>\n",
       "<style scoped>\n",
       "    .dataframe tbody tr th:only-of-type {\n",
       "        vertical-align: middle;\n",
       "    }\n",
       "\n",
       "    .dataframe tbody tr th {\n",
       "        vertical-align: top;\n",
       "    }\n",
       "\n",
       "    .dataframe thead th {\n",
       "        text-align: right;\n",
       "    }\n",
       "</style>\n",
       "<table border=\"1\" class=\"dataframe\">\n",
       "  <thead>\n",
       "    <tr style=\"text-align: right;\">\n",
       "      <th></th>\n",
       "      <th>group</th>\n",
       "      <th>event_dt</th>\n",
       "      <th>event_name</th>\n",
       "      <th>user_id</th>\n",
       "      <th>cnt_event</th>\n",
       "    </tr>\n",
       "  </thead>\n",
       "  <tbody>\n",
       "    <tr>\n",
       "      <th>0</th>\n",
       "      <td>A</td>\n",
       "      <td>2020-12-07</td>\n",
       "      <td>318</td>\n",
       "      <td>148</td>\n",
       "      <td>2.1</td>\n",
       "    </tr>\n",
       "    <tr>\n",
       "      <th>1</th>\n",
       "      <td>A</td>\n",
       "      <td>2020-12-08</td>\n",
       "      <td>313</td>\n",
       "      <td>147</td>\n",
       "      <td>2.1</td>\n",
       "    </tr>\n",
       "    <tr>\n",
       "      <th>2</th>\n",
       "      <td>A</td>\n",
       "      <td>2020-12-09</td>\n",
       "      <td>371</td>\n",
       "      <td>171</td>\n",
       "      <td>2.2</td>\n",
       "    </tr>\n",
       "    <tr>\n",
       "      <th>3</th>\n",
       "      <td>A</td>\n",
       "      <td>2020-12-10</td>\n",
       "      <td>331</td>\n",
       "      <td>156</td>\n",
       "      <td>2.1</td>\n",
       "    </tr>\n",
       "    <tr>\n",
       "      <th>4</th>\n",
       "      <td>A</td>\n",
       "      <td>2020-12-11</td>\n",
       "      <td>356</td>\n",
       "      <td>176</td>\n",
       "      <td>2.0</td>\n",
       "    </tr>\n",
       "    <tr>\n",
       "      <th>5</th>\n",
       "      <td>A</td>\n",
       "      <td>2020-12-12</td>\n",
       "      <td>346</td>\n",
       "      <td>168</td>\n",
       "      <td>2.1</td>\n",
       "    </tr>\n",
       "    <tr>\n",
       "      <th>6</th>\n",
       "      <td>A</td>\n",
       "      <td>2020-12-13</td>\n",
       "      <td>308</td>\n",
       "      <td>154</td>\n",
       "      <td>2.0</td>\n",
       "    </tr>\n",
       "    <tr>\n",
       "      <th>7</th>\n",
       "      <td>A</td>\n",
       "      <td>2020-12-14</td>\n",
       "      <td>1015</td>\n",
       "      <td>461</td>\n",
       "      <td>2.2</td>\n",
       "    </tr>\n",
       "    <tr>\n",
       "      <th>8</th>\n",
       "      <td>A</td>\n",
       "      <td>2020-12-15</td>\n",
       "      <td>1030</td>\n",
       "      <td>452</td>\n",
       "      <td>2.3</td>\n",
       "    </tr>\n",
       "    <tr>\n",
       "      <th>9</th>\n",
       "      <td>A</td>\n",
       "      <td>2020-12-16</td>\n",
       "      <td>1007</td>\n",
       "      <td>442</td>\n",
       "      <td>2.3</td>\n",
       "    </tr>\n",
       "    <tr>\n",
       "      <th>10</th>\n",
       "      <td>A</td>\n",
       "      <td>2020-12-17</td>\n",
       "      <td>1200</td>\n",
       "      <td>520</td>\n",
       "      <td>2.3</td>\n",
       "    </tr>\n",
       "    <tr>\n",
       "      <th>11</th>\n",
       "      <td>A</td>\n",
       "      <td>2020-12-18</td>\n",
       "      <td>1244</td>\n",
       "      <td>543</td>\n",
       "      <td>2.3</td>\n",
       "    </tr>\n",
       "    <tr>\n",
       "      <th>12</th>\n",
       "      <td>A</td>\n",
       "      <td>2020-12-19</td>\n",
       "      <td>1430</td>\n",
       "      <td>617</td>\n",
       "      <td>2.3</td>\n",
       "    </tr>\n",
       "    <tr>\n",
       "      <th>13</th>\n",
       "      <td>A</td>\n",
       "      <td>2020-12-20</td>\n",
       "      <td>1434</td>\n",
       "      <td>627</td>\n",
       "      <td>2.3</td>\n",
       "    </tr>\n",
       "    <tr>\n",
       "      <th>14</th>\n",
       "      <td>A</td>\n",
       "      <td>2020-12-21</td>\n",
       "      <td>1903</td>\n",
       "      <td>837</td>\n",
       "      <td>2.3</td>\n",
       "    </tr>\n",
       "    <tr>\n",
       "      <th>15</th>\n",
       "      <td>A</td>\n",
       "      <td>2020-12-22</td>\n",
       "      <td>1217</td>\n",
       "      <td>546</td>\n",
       "      <td>2.2</td>\n",
       "    </tr>\n",
       "    <tr>\n",
       "      <th>16</th>\n",
       "      <td>A</td>\n",
       "      <td>2020-12-23</td>\n",
       "      <td>951</td>\n",
       "      <td>422</td>\n",
       "      <td>2.3</td>\n",
       "    </tr>\n",
       "    <tr>\n",
       "      <th>17</th>\n",
       "      <td>A</td>\n",
       "      <td>2020-12-24</td>\n",
       "      <td>806</td>\n",
       "      <td>342</td>\n",
       "      <td>2.4</td>\n",
       "    </tr>\n",
       "    <tr>\n",
       "      <th>18</th>\n",
       "      <td>A</td>\n",
       "      <td>2020-12-25</td>\n",
       "      <td>600</td>\n",
       "      <td>262</td>\n",
       "      <td>2.3</td>\n",
       "    </tr>\n",
       "    <tr>\n",
       "      <th>19</th>\n",
       "      <td>A</td>\n",
       "      <td>2020-12-26</td>\n",
       "      <td>543</td>\n",
       "      <td>231</td>\n",
       "      <td>2.4</td>\n",
       "    </tr>\n",
       "    <tr>\n",
       "      <th>20</th>\n",
       "      <td>A</td>\n",
       "      <td>2020-12-27</td>\n",
       "      <td>511</td>\n",
       "      <td>223</td>\n",
       "      <td>2.3</td>\n",
       "    </tr>\n",
       "    <tr>\n",
       "      <th>21</th>\n",
       "      <td>A</td>\n",
       "      <td>2020-12-28</td>\n",
       "      <td>452</td>\n",
       "      <td>193</td>\n",
       "      <td>2.3</td>\n",
       "    </tr>\n",
       "    <tr>\n",
       "      <th>22</th>\n",
       "      <td>A</td>\n",
       "      <td>2020-12-29</td>\n",
       "      <td>291</td>\n",
       "      <td>131</td>\n",
       "      <td>2.2</td>\n",
       "    </tr>\n",
       "    <tr>\n",
       "      <th>23</th>\n",
       "      <td>B</td>\n",
       "      <td>2020-12-07</td>\n",
       "      <td>356</td>\n",
       "      <td>163</td>\n",
       "      <td>2.2</td>\n",
       "    </tr>\n",
       "    <tr>\n",
       "      <th>24</th>\n",
       "      <td>B</td>\n",
       "      <td>2020-12-08</td>\n",
       "      <td>238</td>\n",
       "      <td>114</td>\n",
       "      <td>2.1</td>\n",
       "    </tr>\n",
       "    <tr>\n",
       "      <th>25</th>\n",
       "      <td>B</td>\n",
       "      <td>2020-12-09</td>\n",
       "      <td>338</td>\n",
       "      <td>161</td>\n",
       "      <td>2.1</td>\n",
       "    </tr>\n",
       "    <tr>\n",
       "      <th>26</th>\n",
       "      <td>B</td>\n",
       "      <td>2020-12-10</td>\n",
       "      <td>249</td>\n",
       "      <td>124</td>\n",
       "      <td>2.0</td>\n",
       "    </tr>\n",
       "    <tr>\n",
       "      <th>27</th>\n",
       "      <td>B</td>\n",
       "      <td>2020-12-11</td>\n",
       "      <td>161</td>\n",
       "      <td>84</td>\n",
       "      <td>1.9</td>\n",
       "    </tr>\n",
       "    <tr>\n",
       "      <th>28</th>\n",
       "      <td>B</td>\n",
       "      <td>2020-12-12</td>\n",
       "      <td>199</td>\n",
       "      <td>102</td>\n",
       "      <td>2.0</td>\n",
       "    </tr>\n",
       "    <tr>\n",
       "      <th>29</th>\n",
       "      <td>B</td>\n",
       "      <td>2020-12-13</td>\n",
       "      <td>164</td>\n",
       "      <td>81</td>\n",
       "      <td>2.0</td>\n",
       "    </tr>\n",
       "    <tr>\n",
       "      <th>30</th>\n",
       "      <td>B</td>\n",
       "      <td>2020-12-14</td>\n",
       "      <td>248</td>\n",
       "      <td>120</td>\n",
       "      <td>2.1</td>\n",
       "    </tr>\n",
       "    <tr>\n",
       "      <th>31</th>\n",
       "      <td>B</td>\n",
       "      <td>2020-12-15</td>\n",
       "      <td>222</td>\n",
       "      <td>109</td>\n",
       "      <td>2.0</td>\n",
       "    </tr>\n",
       "    <tr>\n",
       "      <th>32</th>\n",
       "      <td>B</td>\n",
       "      <td>2020-12-16</td>\n",
       "      <td>369</td>\n",
       "      <td>165</td>\n",
       "      <td>2.2</td>\n",
       "    </tr>\n",
       "    <tr>\n",
       "      <th>33</th>\n",
       "      <td>B</td>\n",
       "      <td>2020-12-17</td>\n",
       "      <td>281</td>\n",
       "      <td>125</td>\n",
       "      <td>2.2</td>\n",
       "    </tr>\n",
       "    <tr>\n",
       "      <th>34</th>\n",
       "      <td>B</td>\n",
       "      <td>2020-12-18</td>\n",
       "      <td>259</td>\n",
       "      <td>127</td>\n",
       "      <td>2.0</td>\n",
       "    </tr>\n",
       "    <tr>\n",
       "      <th>35</th>\n",
       "      <td>B</td>\n",
       "      <td>2020-12-19</td>\n",
       "      <td>288</td>\n",
       "      <td>139</td>\n",
       "      <td>2.1</td>\n",
       "    </tr>\n",
       "    <tr>\n",
       "      <th>36</th>\n",
       "      <td>B</td>\n",
       "      <td>2020-12-20</td>\n",
       "      <td>309</td>\n",
       "      <td>155</td>\n",
       "      <td>2.0</td>\n",
       "    </tr>\n",
       "    <tr>\n",
       "      <th>37</th>\n",
       "      <td>B</td>\n",
       "      <td>2020-12-21</td>\n",
       "      <td>401</td>\n",
       "      <td>190</td>\n",
       "      <td>2.1</td>\n",
       "    </tr>\n",
       "    <tr>\n",
       "      <th>38</th>\n",
       "      <td>B</td>\n",
       "      <td>2020-12-22</td>\n",
       "      <td>169</td>\n",
       "      <td>89</td>\n",
       "      <td>1.9</td>\n",
       "    </tr>\n",
       "    <tr>\n",
       "      <th>39</th>\n",
       "      <td>B</td>\n",
       "      <td>2020-12-23</td>\n",
       "      <td>165</td>\n",
       "      <td>82</td>\n",
       "      <td>2.0</td>\n",
       "    </tr>\n",
       "    <tr>\n",
       "      <th>40</th>\n",
       "      <td>B</td>\n",
       "      <td>2020-12-24</td>\n",
       "      <td>121</td>\n",
       "      <td>60</td>\n",
       "      <td>2.0</td>\n",
       "    </tr>\n",
       "    <tr>\n",
       "      <th>41</th>\n",
       "      <td>B</td>\n",
       "      <td>2020-12-25</td>\n",
       "      <td>71</td>\n",
       "      <td>38</td>\n",
       "      <td>1.9</td>\n",
       "    </tr>\n",
       "    <tr>\n",
       "      <th>42</th>\n",
       "      <td>B</td>\n",
       "      <td>2020-12-26</td>\n",
       "      <td>67</td>\n",
       "      <td>35</td>\n",
       "      <td>1.9</td>\n",
       "    </tr>\n",
       "    <tr>\n",
       "      <th>43</th>\n",
       "      <td>B</td>\n",
       "      <td>2020-12-27</td>\n",
       "      <td>66</td>\n",
       "      <td>32</td>\n",
       "      <td>2.1</td>\n",
       "    </tr>\n",
       "    <tr>\n",
       "      <th>44</th>\n",
       "      <td>B</td>\n",
       "      <td>2020-12-28</td>\n",
       "      <td>69</td>\n",
       "      <td>38</td>\n",
       "      <td>1.8</td>\n",
       "    </tr>\n",
       "    <tr>\n",
       "      <th>45</th>\n",
       "      <td>B</td>\n",
       "      <td>2020-12-29</td>\n",
       "      <td>41</td>\n",
       "      <td>21</td>\n",
       "      <td>2.0</td>\n",
       "    </tr>\n",
       "  </tbody>\n",
       "</table>\n",
       "</div>"
      ],
      "text/plain": [
       "   group    event_dt  event_name  user_id  cnt_event\n",
       "0      A  2020-12-07         318      148        2.1\n",
       "1      A  2020-12-08         313      147        2.1\n",
       "2      A  2020-12-09         371      171        2.2\n",
       "3      A  2020-12-10         331      156        2.1\n",
       "4      A  2020-12-11         356      176        2.0\n",
       "5      A  2020-12-12         346      168        2.1\n",
       "6      A  2020-12-13         308      154        2.0\n",
       "7      A  2020-12-14        1015      461        2.2\n",
       "8      A  2020-12-15        1030      452        2.3\n",
       "9      A  2020-12-16        1007      442        2.3\n",
       "10     A  2020-12-17        1200      520        2.3\n",
       "11     A  2020-12-18        1244      543        2.3\n",
       "12     A  2020-12-19        1430      617        2.3\n",
       "13     A  2020-12-20        1434      627        2.3\n",
       "14     A  2020-12-21        1903      837        2.3\n",
       "15     A  2020-12-22        1217      546        2.2\n",
       "16     A  2020-12-23         951      422        2.3\n",
       "17     A  2020-12-24         806      342        2.4\n",
       "18     A  2020-12-25         600      262        2.3\n",
       "19     A  2020-12-26         543      231        2.4\n",
       "20     A  2020-12-27         511      223        2.3\n",
       "21     A  2020-12-28         452      193        2.3\n",
       "22     A  2020-12-29         291      131        2.2\n",
       "23     B  2020-12-07         356      163        2.2\n",
       "24     B  2020-12-08         238      114        2.1\n",
       "25     B  2020-12-09         338      161        2.1\n",
       "26     B  2020-12-10         249      124        2.0\n",
       "27     B  2020-12-11         161       84        1.9\n",
       "28     B  2020-12-12         199      102        2.0\n",
       "29     B  2020-12-13         164       81        2.0\n",
       "30     B  2020-12-14         248      120        2.1\n",
       "31     B  2020-12-15         222      109        2.0\n",
       "32     B  2020-12-16         369      165        2.2\n",
       "33     B  2020-12-17         281      125        2.2\n",
       "34     B  2020-12-18         259      127        2.0\n",
       "35     B  2020-12-19         288      139        2.1\n",
       "36     B  2020-12-20         309      155        2.0\n",
       "37     B  2020-12-21         401      190        2.1\n",
       "38     B  2020-12-22         169       89        1.9\n",
       "39     B  2020-12-23         165       82        2.0\n",
       "40     B  2020-12-24         121       60        2.0\n",
       "41     B  2020-12-25          71       38        1.9\n",
       "42     B  2020-12-26          67       35        1.9\n",
       "43     B  2020-12-27          66       32        2.1\n",
       "44     B  2020-12-28          69       38        1.8\n",
       "45     B  2020-12-29          41       21        2.0"
      ]
     },
     "execution_count": 59,
     "metadata": {},
     "output_type": "execute_result"
    }
   ],
   "source": [
    "d = events.groupby(['group','event_dt']).agg({'event_name': ['count'], 'user_id': ['nunique']}).reset_index()\n",
    "d.columns = ['group','event_dt', 'event_name','user_id']\n",
    "d['cnt_event'] = round(d['event_name']/d['user_id'],1)\n",
    "d"
   ]
  },
  {
   "cell_type": "code",
   "execution_count": 60,
   "metadata": {
    "scrolled": false
   },
   "outputs": [
    {
     "data": {
      "image/png": "[encoded data removed]",
      "text/plain": [
       "<Figure size 1500x900 with 1 Axes>"
      ]
     },
     "metadata": {},
     "output_type": "display_data"
    }
   ],
   "source": [
    "plt.figure(figsize=(15, 9)) # Важно! Этот код нужно писать до создания графика\n",
    "sns.set_style(\"whitegrid\")\n",
    "ax = sns.lineplot(x='event_dt', y='cnt_event', hue='group', data=d)\n",
    "ax.set_title('Распределение событий по дням в каждой группе на 1 пользователя')\n",
    "ax.set_ylabel('Количество событий')\n",
    "ax.set_xlabel('Дата')\n",
    "plt.show()"
   ]
  },
  {
   "cell_type": "markdown",
   "metadata": {},
   "source": [
    "По графику видно, что пользователи из группы А в среднем в день событий делали больше, чем пользователи из группы В. Особенно заметна разница после 22.12 у группы А кодичество событий увеличилось, у группы В начало снижаться"
   ]
  },
  {
   "cell_type": "markdown",
   "metadata": {},
   "source": [
    "### Как меняется конверсия в воронке в выборках на разных этапах?"
   ]
  },
  {
   "cell_type": "code",
   "execution_count": 61,
   "metadata": {
    "scrolled": false
   },
   "outputs": [
    {
     "data": {
      "text/html": [
       "<div>\n",
       "<style scoped>\n",
       "    .dataframe tbody tr th:only-of-type {\n",
       "        vertical-align: middle;\n",
       "    }\n",
       "\n",
       "    .dataframe tbody tr th {\n",
       "        vertical-align: top;\n",
       "    }\n",
       "\n",
       "    .dataframe thead th {\n",
       "        text-align: right;\n",
       "    }\n",
       "</style>\n",
       "<table border=\"1\" class=\"dataframe\">\n",
       "  <thead>\n",
       "    <tr style=\"text-align: right;\">\n",
       "      <th></th>\n",
       "      <th>event_name</th>\n",
       "      <th>count</th>\n",
       "    </tr>\n",
       "  </thead>\n",
       "  <tbody>\n",
       "    <tr>\n",
       "      <th>0</th>\n",
       "      <td>login</td>\n",
       "      <td>10313</td>\n",
       "    </tr>\n",
       "    <tr>\n",
       "      <th>1</th>\n",
       "      <td>product_page</td>\n",
       "      <td>6382</td>\n",
       "    </tr>\n",
       "    <tr>\n",
       "      <th>2</th>\n",
       "      <td>purchase</td>\n",
       "      <td>3123</td>\n",
       "    </tr>\n",
       "    <tr>\n",
       "      <th>3</th>\n",
       "      <td>product_cart</td>\n",
       "      <td>3010</td>\n",
       "    </tr>\n",
       "  </tbody>\n",
       "</table>\n",
       "</div>"
      ],
      "text/plain": [
       "     event_name  count\n",
       "0         login  10313\n",
       "1  product_page   6382\n",
       "2      purchase   3123\n",
       "3  product_cart   3010"
      ]
     },
     "execution_count": 61,
     "metadata": {},
     "output_type": "execute_result"
    }
   ],
   "source": [
    "events_count = events['event_name'].value_counts().reset_index()\n",
    "events_count.columns = ['event_name','count']\n",
    "events_count"
   ]
  },
  {
   "cell_type": "markdown",
   "metadata": {},
   "source": [
    "В корзину заходят реже, чем совершают покупки, это может быть связано с быстрой покупкой, такой как \"купить в один клик\""
   ]
  },
  {
   "cell_type": "code",
   "execution_count": 62,
   "metadata": {},
   "outputs": [
    {
     "data": {
      "application/vnd.plotly.v1+json": {
       "config": {
        "plotlyServerURL": "https://plot.ly"
       },
       "data": [
        {
         "alignmentgroup": "True",
         "hovertemplate": "event_name=%{x}<br>count=%{text}<extra></extra>",
         "legendgroup": "",
         "marker": {
          "color": "#636efa",
          "pattern": {
           "shape": ""
          }
         },
         "name": "",
         "offsetgroup": "",
         "orientation": "v",
         "showlegend": false,
         "text": [
          10313,
          6382,
          3123,
          3010
         ],
         "textposition": "auto",
         "type": "bar",
         "x": [
          "login",
          "product_page",
          "purchase",
          "product_cart"
         ],
         "xaxis": "x",
         "y": [
          10313,
          6382,
          3123,
          3010
         ],
         "yaxis": "y"
        }
       ],
       "layout": {
        "barmode": "relative",
        "legend": {
         "tracegroupgap": 0
        },
        "margin": {
         "t": 60
        },
        "template": {
         "data": {
          "bar": [
           {
            "error_x": {
             "color": "#2a3f5f"
            },
            "error_y": {
             "color": "#2a3f5f"
            },
            "marker": {
             "line": {
              "color": "#E5ECF6",
              "width": 0.5
             },
             "pattern": {
              "fillmode": "overlay",
              "size": 10,
              "solidity": 0.2
             }
            },
            "type": "bar"
           }
          ],
          "barpolar": [
           {
            "marker": {
             "line": {
              "color": "#E5ECF6",
              "width": 0.5
             },
             "pattern": {
              "fillmode": "overlay",
              "size": 10,
              "solidity": 0.2
             }
            },
            "type": "barpolar"
           }
          ],
          "carpet": [
           {
            "aaxis": {
             "endlinecolor": "#2a3f5f",
             "gridcolor": "white",
             "linecolor": "white",
             "minorgridcolor": "white",
             "startlinecolor": "#2a3f5f"
            },
            "baxis": {
             "endlinecolor": "#2a3f5f",
             "gridcolor": "white",
             "linecolor": "white",
             "minorgridcolor": "white",
             "startlinecolor": "#2a3f5f"
            },
            "type": "carpet"
           }
          ],
          "choropleth": [
           {
            "colorbar": {
             "outlinewidth": 0,
             "ticks": ""
            },
            "type": "choropleth"
           }
          ],
          "contour": [
           {
            "colorbar": {
             "outlinewidth": 0,
             "ticks": ""
            },
            "colorscale": [
             [
              0,
              "#0d0887"
             ],
             [
              0.1111111111111111,
              "#46039f"
             ],
             [
              0.2222222222222222,
              "#7201a8"
             ],
             [
              0.3333333333333333,
              "#9c179e"
             ],
             [
              0.4444444444444444,
              "#bd3786"
             ],
             [
              0.5555555555555556,
              "#d8576b"
             ],
             [
              0.6666666666666666,
              "#ed7953"
             ],
             [
              0.7777777777777778,
              "#fb9f3a"
             ],
             [
              0.8888888888888888,
              "#fdca26"
             ],
             [
              1,
              "#f0f921"
             ]
            ],
            "type": "contour"
           }
          ],
          "contourcarpet": [
           {
            "colorbar": {
             "outlinewidth": 0,
             "ticks": ""
            },
            "type": "contourcarpet"
           }
          ],
          "heatmap": [
           {
            "colorbar": {
             "outlinewidth": 0,
             "ticks": ""
            },
            "colorscale": [
             [
              0,
              "#0d0887"
             ],
             [
              0.1111111111111111,
              "#46039f"
             ],
             [
              0.2222222222222222,
              "#7201a8"
             ],
             [
              0.3333333333333333,
              "#9c179e"
             ],
             [
              0.4444444444444444,
              "#bd3786"
             ],
             [
              0.5555555555555556,
              "#d8576b"
             ],
             [
              0.6666666666666666,
              "#ed7953"
             ],
             [
              0.7777777777777778,
              "#fb9f3a"
             ],
             [
              0.8888888888888888,
              "#fdca26"
             ],
             [
              1,
              "#f0f921"
             ]
            ],
            "type": "heatmap"
           }
          ],
          "heatmapgl": [
           {
            "colorbar": {
             "outlinewidth": 0,
             "ticks": ""
            },
            "colorscale": [
             [
              0,
              "#0d0887"
             ],
             [
              0.1111111111111111,
              "#46039f"
             ],
             [
              0.2222222222222222,
              "#7201a8"
             ],
             [
              0.3333333333333333,
              "#9c179e"
             ],
             [
              0.4444444444444444,
              "#bd3786"
             ],
             [
              0.5555555555555556,
              "#d8576b"
             ],
             [
              0.6666666666666666,
              "#ed7953"
             ],
             [
              0.7777777777777778,
              "#fb9f3a"
             ],
             [
              0.8888888888888888,
              "#fdca26"
             ],
             [
              1,
              "#f0f921"
             ]
            ],
            "type": "heatmapgl"
           }
          ],
          "histogram": [
           {
            "marker": {
             "pattern": {
              "fillmode": "overlay",
              "size": 10,
              "solidity": 0.2
             }
            },
            "type": "histogram"
           }
          ],
          "histogram2d": [
           {
            "colorbar": {
             "outlinewidth": 0,
             "ticks": ""
            },
            "colorscale": [
             [
              0,
              "#0d0887"
             ],
             [
              0.1111111111111111,
              "#46039f"
             ],
             [
              0.2222222222222222,
              "#7201a8"
             ],
             [
              0.3333333333333333,
              "#9c179e"
             ],
             [
              0.4444444444444444,
              "#bd3786"
             ],
             [
              0.5555555555555556,
              "#d8576b"
             ],
             [
              0.6666666666666666,
              "#ed7953"
             ],
             [
              0.7777777777777778,
              "#fb9f3a"
             ],
             [
              0.8888888888888888,
              "#fdca26"
             ],
             [
              1,
              "#f0f921"
             ]
            ],
            "type": "histogram2d"
           }
          ],
          "histogram2dcontour": [
           {
            "colorbar": {
             "outlinewidth": 0,
             "ticks": ""
            },
            "colorscale": [
             [
              0,
              "#0d0887"
             ],
             [
              0.1111111111111111,
              "#46039f"
             ],
             [
              0.2222222222222222,
              "#7201a8"
             ],
             [
              0.3333333333333333,
              "#9c179e"
             ],
             [
              0.4444444444444444,
              "#bd3786"
             ],
             [
              0.5555555555555556,
              "#d8576b"
             ],
             [
              0.6666666666666666,
              "#ed7953"
             ],
             [
              0.7777777777777778,
              "#fb9f3a"
             ],
             [
              0.8888888888888888,
              "#fdca26"
             ],
             [
              1,
              "#f0f921"
             ]
            ],
            "type": "histogram2dcontour"
           }
          ],
          "mesh3d": [
           {
            "colorbar": {
             "outlinewidth": 0,
             "ticks": ""
            },
            "type": "mesh3d"
           }
          ],
          "parcoords": [
           {
            "line": {
             "colorbar": {
              "outlinewidth": 0,
              "ticks": ""
             }
            },
            "type": "parcoords"
           }
          ],
          "pie": [
           {
            "automargin": true,
            "type": "pie"
           }
          ],
          "scatter": [
           {
            "fillpattern": {
             "fillmode": "overlay",
             "size": 10,
             "solidity": 0.2
            },
            "type": "scatter"
           }
          ],
          "scatter3d": [
           {
            "line": {
             "colorbar": {
              "outlinewidth": 0,
              "ticks": ""
             }
            },
            "marker": {
             "colorbar": {
              "outlinewidth": 0,
              "ticks": ""
             }
            },
            "type": "scatter3d"
           }
          ],
          "scattercarpet": [
           {
            "marker": {
             "colorbar": {
              "outlinewidth": 0,
              "ticks": ""
             }
            },
            "type": "scattercarpet"
           }
          ],
          "scattergeo": [
           {
            "marker": {
             "colorbar": {
              "outlinewidth": 0,
              "ticks": ""
             }
            },
            "type": "scattergeo"
           }
          ],
          "scattergl": [
           {
            "marker": {
             "colorbar": {
              "outlinewidth": 0,
              "ticks": ""
             }
            },
            "type": "scattergl"
           }
          ],
          "scattermapbox": [
           {
            "marker": {
             "colorbar": {
              "outlinewidth": 0,
              "ticks": ""
             }
            },
            "type": "scattermapbox"
           }
          ],
          "scatterpolar": [
           {
            "marker": {
             "colorbar": {
              "outlinewidth": 0,
              "ticks": ""
             }
            },
            "type": "scatterpolar"
           }
          ],
          "scatterpolargl": [
           {
            "marker": {
             "colorbar": {
              "outlinewidth": 0,
              "ticks": ""
             }
            },
            "type": "scatterpolargl"
           }
          ],
          "scatterternary": [
           {
            "marker": {
             "colorbar": {
              "outlinewidth": 0,
              "ticks": ""
             }
            },
            "type": "scatterternary"
           }
          ],
          "surface": [
           {
            "colorbar": {
             "outlinewidth": 0,
             "ticks": ""
            },
            "colorscale": [
             [
              0,
              "#0d0887"
             ],
             [
              0.1111111111111111,
              "#46039f"
             ],
             [
              0.2222222222222222,
              "#7201a8"
             ],
             [
              0.3333333333333333,
              "#9c179e"
             ],
             [
              0.4444444444444444,
              "#bd3786"
             ],
             [
              0.5555555555555556,
              "#d8576b"
             ],
             [
              0.6666666666666666,
              "#ed7953"
             ],
             [
              0.7777777777777778,
              "#fb9f3a"
             ],
             [
              0.8888888888888888,
              "#fdca26"
             ],
             [
              1,
              "#f0f921"
             ]
            ],
            "type": "surface"
           }
          ],
          "table": [
           {
            "cells": {
             "fill": {
              "color": "#EBF0F8"
             },
             "line": {
              "color": "white"
             }
            },
            "header": {
             "fill": {
              "color": "#C8D4E3"
             },
             "line": {
              "color": "white"
             }
            },
            "type": "table"
           }
          ]
         },
         "layout": {
          "annotationdefaults": {
           "arrowcolor": "#2a3f5f",
           "arrowhead": 0,
           "arrowwidth": 1
          },
          "autotypenumbers": "strict",
          "coloraxis": {
           "colorbar": {
            "outlinewidth": 0,
            "ticks": ""
           }
          },
          "colorscale": {
           "diverging": [
            [
             0,
             "#8e0152"
            ],
            [
             0.1,
             "#c51b7d"
            ],
            [
             0.2,
             "#de77ae"
            ],
            [
             0.3,
             "#f1b6da"
            ],
            [
             0.4,
             "#fde0ef"
            ],
            [
             0.5,
             "#f7f7f7"
            ],
            [
             0.6,
             "#e6f5d0"
            ],
            [
             0.7,
             "#b8e186"
            ],
            [
             0.8,
             "#7fbc41"
            ],
            [
             0.9,
             "#4d9221"
            ],
            [
             1,
             "#276419"
            ]
           ],
           "sequential": [
            [
             0,
             "#0d0887"
            ],
            [
             0.1111111111111111,
             "#46039f"
            ],
            [
             0.2222222222222222,
             "#7201a8"
            ],
            [
             0.3333333333333333,
             "#9c179e"
            ],
            [
             0.4444444444444444,
             "#bd3786"
            ],
            [
             0.5555555555555556,
             "#d8576b"
            ],
            [
             0.6666666666666666,
             "#ed7953"
            ],
            [
             0.7777777777777778,
             "#fb9f3a"
            ],
            [
             0.8888888888888888,
             "#fdca26"
            ],
            [
             1,
             "#f0f921"
            ]
           ],
           "sequentialminus": [
            [
             0,
             "#0d0887"
            ],
            [
             0.1111111111111111,
             "#46039f"
            ],
            [
             0.2222222222222222,
             "#7201a8"
            ],
            [
             0.3333333333333333,
             "#9c179e"
            ],
            [
             0.4444444444444444,
             "#bd3786"
            ],
            [
             0.5555555555555556,
             "#d8576b"
            ],
            [
             0.6666666666666666,
             "#ed7953"
            ],
            [
             0.7777777777777778,
             "#fb9f3a"
            ],
            [
             0.8888888888888888,
             "#fdca26"
            ],
            [
             1,
             "#f0f921"
            ]
           ]
          },
          "colorway": [
           "#636efa",
           "#EF553B",
           "#00cc96",
           "#ab63fa",
           "#FFA15A",
           "#19d3f3",
           "#FF6692",
           "#B6E880",
           "#FF97FF",
           "#FECB52"
          ],
          "font": {
           "color": "#2a3f5f"
          },
          "geo": {
           "bgcolor": "white",
           "lakecolor": "white",
           "landcolor": "#E5ECF6",
           "showlakes": true,
           "showland": true,
           "subunitcolor": "white"
          },
          "hoverlabel": {
           "align": "left"
          },
          "hovermode": "closest",
          "mapbox": {
           "style": "light"
          },
          "paper_bgcolor": "white",
          "plot_bgcolor": "#E5ECF6",
          "polar": {
           "angularaxis": {
            "gridcolor": "white",
            "linecolor": "white",
            "ticks": ""
           },
           "bgcolor": "#E5ECF6",
           "radialaxis": {
            "gridcolor": "white",
            "linecolor": "white",
            "ticks": ""
           }
          },
          "scene": {
           "xaxis": {
            "backgroundcolor": "#E5ECF6",
            "gridcolor": "white",
            "gridwidth": 2,
            "linecolor": "white",
            "showbackground": true,
            "ticks": "",
            "zerolinecolor": "white"
           },
           "yaxis": {
            "backgroundcolor": "#E5ECF6",
            "gridcolor": "white",
            "gridwidth": 2,
            "linecolor": "white",
            "showbackground": true,
            "ticks": "",
            "zerolinecolor": "white"
           },
           "zaxis": {
            "backgroundcolor": "#E5ECF6",
            "gridcolor": "white",
            "gridwidth": 2,
            "linecolor": "white",
            "showbackground": true,
            "ticks": "",
            "zerolinecolor": "white"
           }
          },
          "shapedefaults": {
           "line": {
            "color": "#2a3f5f"
           }
          },
          "ternary": {
           "aaxis": {
            "gridcolor": "white",
            "linecolor": "white",
            "ticks": ""
           },
           "baxis": {
            "gridcolor": "white",
            "linecolor": "white",
            "ticks": ""
           },
           "bgcolor": "#E5ECF6",
           "caxis": {
            "gridcolor": "white",
            "linecolor": "white",
            "ticks": ""
           }
          },
          "title": {
           "x": 0.05
          },
          "xaxis": {
           "automargin": true,
           "gridcolor": "white",
           "linecolor": "white",
           "ticks": "",
           "title": {
            "standoff": 15
           },
           "zerolinecolor": "white",
           "zerolinewidth": 2
          },
          "yaxis": {
           "automargin": true,
           "gridcolor": "white",
           "linecolor": "white",
           "ticks": "",
           "title": {
            "standoff": 15
           },
           "zerolinecolor": "white",
           "zerolinewidth": 2
          }
         }
        },
        "title": {
         "text": "Количество действий по событиям"
        },
        "xaxis": {
         "anchor": "y",
         "domain": [
          0,
          1
         ],
         "title": {
          "text": "Событие"
         }
        },
        "yaxis": {
         "anchor": "x",
         "domain": [
          0,
          1
         ],
         "title": {
          "text": "Количество событий"
         }
        }
       }
      },
      "text/html": [
       "<div>                            <div id=\"6d4cf8b6-0dde-436a-b21c-4001a342d1d4\" class=\"plotly-graph-div\" style=\"height:525px; width:100%;\"></div>            <script type=\"text/javascript\">                require([\"plotly\"], function(Plotly) {                    window.PLOTLYENV=window.PLOTLYENV || {};                                    if (document.getElementById(\"6d4cf8b6-0dde-436a-b21c-4001a342d1d4\")) {                    Plotly.newPlot(                        \"6d4cf8b6-0dde-436a-b21c-4001a342d1d4\",                        [{\"alignmentgroup\":\"True\",\"hovertemplate\":\"event_name=%{x}<br>count=%{text}<extra></extra>\",\"legendgroup\":\"\",\"marker\":{\"color\":\"#636efa\",\"pattern\":{\"shape\":\"\"}},\"name\":\"\",\"offsetgroup\":\"\",\"orientation\":\"v\",\"showlegend\":false,\"text\":[10313.0,6382.0,3123.0,3010.0],\"textposition\":\"auto\",\"x\":[\"login\",\"product_page\",\"purchase\",\"product_cart\"],\"xaxis\":\"x\",\"y\":[10313,6382,3123,3010],\"yaxis\":\"y\",\"type\":\"bar\"}],                        {\"template\":{\"data\":{\"histogram2dcontour\":[{\"type\":\"histogram2dcontour\",\"colorbar\":{\"outlinewidth\":0,\"ticks\":\"\"},\"colorscale\":[[0.0,\"#0d0887\"],[0.1111111111111111,\"#46039f\"],[0.2222222222222222,\"#7201a8\"],[0.3333333333333333,\"#9c179e\"],[0.4444444444444444,\"#bd3786\"],[0.5555555555555556,\"#d8576b\"],[0.6666666666666666,\"#ed7953\"],[0.7777777777777778,\"#fb9f3a\"],[0.8888888888888888,\"#fdca26\"],[1.0,\"#f0f921\"]]}],\"choropleth\":[{\"type\":\"choropleth\",\"colorbar\":{\"outlinewidth\":0,\"ticks\":\"\"}}],\"histogram2d\":[{\"type\":\"histogram2d\",\"colorbar\":{\"outlinewidth\":0,\"ticks\":\"\"},\"colorscale\":[[0.0,\"#0d0887\"],[0.1111111111111111,\"#46039f\"],[0.2222222222222222,\"#7201a8\"],[0.3333333333333333,\"#9c179e\"],[0.4444444444444444,\"#bd3786\"],[0.5555555555555556,\"#d8576b\"],[0.6666666666666666,\"#ed7953\"],[0.7777777777777778,\"#fb9f3a\"],[0.8888888888888888,\"#fdca26\"],[1.0,\"#f0f921\"]]}],\"heatmap\":[{\"type\":\"heatmap\",\"colorbar\":{\"outlinewidth\":0,\"ticks\":\"\"},\"colorscale\":[[0.0,\"#0d0887\"],[0.1111111111111111,\"#46039f\"],[0.2222222222222222,\"#7201a8\"],[0.3333333333333333,\"#9c179e\"],[0.4444444444444444,\"#bd3786\"],[0.5555555555555556,\"#d8576b\"],[0.6666666666666666,\"#ed7953\"],[0.7777777777777778,\"#fb9f3a\"],[0.8888888888888888,\"#fdca26\"],[1.0,\"#f0f921\"]]}],\"heatmapgl\":[{\"type\":\"heatmapgl\",\"colorbar\":{\"outlinewidth\":0,\"ticks\":\"\"},\"colorscale\":[[0.0,\"#0d0887\"],[0.1111111111111111,\"#46039f\"],[0.2222222222222222,\"#7201a8\"],[0.3333333333333333,\"#9c179e\"],[0.4444444444444444,\"#bd3786\"],[0.5555555555555556,\"#d8576b\"],[0.6666666666666666,\"#ed7953\"],[0.7777777777777778,\"#fb9f3a\"],[0.8888888888888888,\"#fdca26\"],[1.0,\"#f0f921\"]]}],\"contourcarpet\":[{\"type\":\"contourcarpet\",\"colorbar\":{\"outlinewidth\":0,\"ticks\":\"\"}}],\"contour\":[{\"type\":\"contour\",\"colorbar\":{\"outlinewidth\":0,\"ticks\":\"\"},\"colorscale\":[[0.0,\"#0d0887\"],[0.1111111111111111,\"#46039f\"],[0.2222222222222222,\"#7201a8\"],[0.3333333333333333,\"#9c179e\"],[0.4444444444444444,\"#bd3786\"],[0.5555555555555556,\"#d8576b\"],[0.6666666666666666,\"#ed7953\"],[0.7777777777777778,\"#fb9f3a\"],[0.8888888888888888,\"#fdca26\"],[1.0,\"#f0f921\"]]}],\"surface\":[{\"type\":\"surface\",\"colorbar\":{\"outlinewidth\":0,\"ticks\":\"\"},\"colorscale\":[[0.0,\"#0d0887\"],[0.1111111111111111,\"#46039f\"],[0.2222222222222222,\"#7201a8\"],[0.3333333333333333,\"#9c179e\"],[0.4444444444444444,\"#bd3786\"],[0.5555555555555556,\"#d8576b\"],[0.6666666666666666,\"#ed7953\"],[0.7777777777777778,\"#fb9f3a\"],[0.8888888888888888,\"#fdca26\"],[1.0,\"#f0f921\"]]}],\"mesh3d\":[{\"type\":\"mesh3d\",\"colorbar\":{\"outlinewidth\":0,\"ticks\":\"\"}}],\"scatter\":[{\"fillpattern\":{\"fillmode\":\"overlay\",\"size\":10,\"solidity\":0.2},\"type\":\"scatter\"}],\"parcoords\":[{\"type\":\"parcoords\",\"line\":{\"colorbar\":{\"outlinewidth\":0,\"ticks\":\"\"}}}],\"scatterpolargl\":[{\"type\":\"scatterpolargl\",\"marker\":{\"colorbar\":{\"outlinewidth\":0,\"ticks\":\"\"}}}],\"bar\":[{\"error_x\":{\"color\":\"#2a3f5f\"},\"error_y\":{\"color\":\"#2a3f5f\"},\"marker\":{\"line\":{\"color\":\"#E5ECF6\",\"width\":0.5},\"pattern\":{\"fillmode\":\"overlay\",\"size\":10,\"solidity\":0.2}},\"type\":\"bar\"}],\"scattergeo\":[{\"type\":\"scattergeo\",\"marker\":{\"colorbar\":{\"outlinewidth\":0,\"ticks\":\"\"}}}],\"scatterpolar\":[{\"type\":\"scatterpolar\",\"marker\":{\"colorbar\":{\"outlinewidth\":0,\"ticks\":\"\"}}}],\"histogram\":[{\"marker\":{\"pattern\":{\"fillmode\":\"overlay\",\"size\":10,\"solidity\":0.2}},\"type\":\"histogram\"}],\"scattergl\":[{\"type\":\"scattergl\",\"marker\":{\"colorbar\":{\"outlinewidth\":0,\"ticks\":\"\"}}}],\"scatter3d\":[{\"type\":\"scatter3d\",\"line\":{\"colorbar\":{\"outlinewidth\":0,\"ticks\":\"\"}},\"marker\":{\"colorbar\":{\"outlinewidth\":0,\"ticks\":\"\"}}}],\"scattermapbox\":[{\"type\":\"scattermapbox\",\"marker\":{\"colorbar\":{\"outlinewidth\":0,\"ticks\":\"\"}}}],\"scatterternary\":[{\"type\":\"scatterternary\",\"marker\":{\"colorbar\":{\"outlinewidth\":0,\"ticks\":\"\"}}}],\"scattercarpet\":[{\"type\":\"scattercarpet\",\"marker\":{\"colorbar\":{\"outlinewidth\":0,\"ticks\":\"\"}}}],\"carpet\":[{\"aaxis\":{\"endlinecolor\":\"#2a3f5f\",\"gridcolor\":\"white\",\"linecolor\":\"white\",\"minorgridcolor\":\"white\",\"startlinecolor\":\"#2a3f5f\"},\"baxis\":{\"endlinecolor\":\"#2a3f5f\",\"gridcolor\":\"white\",\"linecolor\":\"white\",\"minorgridcolor\":\"white\",\"startlinecolor\":\"#2a3f5f\"},\"type\":\"carpet\"}],\"table\":[{\"cells\":{\"fill\":{\"color\":\"#EBF0F8\"},\"line\":{\"color\":\"white\"}},\"header\":{\"fill\":{\"color\":\"#C8D4E3\"},\"line\":{\"color\":\"white\"}},\"type\":\"table\"}],\"barpolar\":[{\"marker\":{\"line\":{\"color\":\"#E5ECF6\",\"width\":0.5},\"pattern\":{\"fillmode\":\"overlay\",\"size\":10,\"solidity\":0.2}},\"type\":\"barpolar\"}],\"pie\":[{\"automargin\":true,\"type\":\"pie\"}]},\"layout\":{\"autotypenumbers\":\"strict\",\"colorway\":[\"#636efa\",\"#EF553B\",\"#00cc96\",\"#ab63fa\",\"#FFA15A\",\"#19d3f3\",\"#FF6692\",\"#B6E880\",\"#FF97FF\",\"#FECB52\"],\"font\":{\"color\":\"#2a3f5f\"},\"hovermode\":\"closest\",\"hoverlabel\":{\"align\":\"left\"},\"paper_bgcolor\":\"white\",\"plot_bgcolor\":\"#E5ECF6\",\"polar\":{\"bgcolor\":\"#E5ECF6\",\"angularaxis\":{\"gridcolor\":\"white\",\"linecolor\":\"white\",\"ticks\":\"\"},\"radialaxis\":{\"gridcolor\":\"white\",\"linecolor\":\"white\",\"ticks\":\"\"}},\"ternary\":{\"bgcolor\":\"#E5ECF6\",\"aaxis\":{\"gridcolor\":\"white\",\"linecolor\":\"white\",\"ticks\":\"\"},\"baxis\":{\"gridcolor\":\"white\",\"linecolor\":\"white\",\"ticks\":\"\"},\"caxis\":{\"gridcolor\":\"white\",\"linecolor\":\"white\",\"ticks\":\"\"}},\"coloraxis\":{\"colorbar\":{\"outlinewidth\":0,\"ticks\":\"\"}},\"colorscale\":{\"sequential\":[[0.0,\"#0d0887\"],[0.1111111111111111,\"#46039f\"],[0.2222222222222222,\"#7201a8\"],[0.3333333333333333,\"#9c179e\"],[0.4444444444444444,\"#bd3786\"],[0.5555555555555556,\"#d8576b\"],[0.6666666666666666,\"#ed7953\"],[0.7777777777777778,\"#fb9f3a\"],[0.8888888888888888,\"#fdca26\"],[1.0,\"#f0f921\"]],\"sequentialminus\":[[0.0,\"#0d0887\"],[0.1111111111111111,\"#46039f\"],[0.2222222222222222,\"#7201a8\"],[0.3333333333333333,\"#9c179e\"],[0.4444444444444444,\"#bd3786\"],[0.5555555555555556,\"#d8576b\"],[0.6666666666666666,\"#ed7953\"],[0.7777777777777778,\"#fb9f3a\"],[0.8888888888888888,\"#fdca26\"],[1.0,\"#f0f921\"]],\"diverging\":[[0,\"#8e0152\"],[0.1,\"#c51b7d\"],[0.2,\"#de77ae\"],[0.3,\"#f1b6da\"],[0.4,\"#fde0ef\"],[0.5,\"#f7f7f7\"],[0.6,\"#e6f5d0\"],[0.7,\"#b8e186\"],[0.8,\"#7fbc41\"],[0.9,\"#4d9221\"],[1,\"#276419\"]]},\"xaxis\":{\"gridcolor\":\"white\",\"linecolor\":\"white\",\"ticks\":\"\",\"title\":{\"standoff\":15},\"zerolinecolor\":\"white\",\"automargin\":true,\"zerolinewidth\":2},\"yaxis\":{\"gridcolor\":\"white\",\"linecolor\":\"white\",\"ticks\":\"\",\"title\":{\"standoff\":15},\"zerolinecolor\":\"white\",\"automargin\":true,\"zerolinewidth\":2},\"scene\":{\"xaxis\":{\"backgroundcolor\":\"#E5ECF6\",\"gridcolor\":\"white\",\"linecolor\":\"white\",\"showbackground\":true,\"ticks\":\"\",\"zerolinecolor\":\"white\",\"gridwidth\":2},\"yaxis\":{\"backgroundcolor\":\"#E5ECF6\",\"gridcolor\":\"white\",\"linecolor\":\"white\",\"showbackground\":true,\"ticks\":\"\",\"zerolinecolor\":\"white\",\"gridwidth\":2},\"zaxis\":{\"backgroundcolor\":\"#E5ECF6\",\"gridcolor\":\"white\",\"linecolor\":\"white\",\"showbackground\":true,\"ticks\":\"\",\"zerolinecolor\":\"white\",\"gridwidth\":2}},\"shapedefaults\":{\"line\":{\"color\":\"#2a3f5f\"}},\"annotationdefaults\":{\"arrowcolor\":\"#2a3f5f\",\"arrowhead\":0,\"arrowwidth\":1},\"geo\":{\"bgcolor\":\"white\",\"landcolor\":\"#E5ECF6\",\"subunitcolor\":\"white\",\"showland\":true,\"showlakes\":true,\"lakecolor\":\"white\"},\"title\":{\"x\":0.05},\"mapbox\":{\"style\":\"light\"}}},\"xaxis\":{\"anchor\":\"y\",\"domain\":[0.0,1.0],\"title\":{\"text\":\"\\u0421\\u043e\\u0431\\u044b\\u0442\\u0438\\u0435\"}},\"yaxis\":{\"anchor\":\"x\",\"domain\":[0.0,1.0],\"title\":{\"text\":\"\\u041a\\u043e\\u043b\\u0438\\u0447\\u0435\\u0441\\u0442\\u0432\\u043e \\u0441\\u043e\\u0431\\u044b\\u0442\\u0438\\u0439\"}},\"legend\":{\"tracegroupgap\":0},\"margin\":{\"t\":60},\"barmode\":\"relative\",\"title\":{\"text\":\"\\u041a\\u043e\\u043b\\u0438\\u0447\\u0435\\u0441\\u0442\\u0432\\u043e \\u0434\\u0435\\u0439\\u0441\\u0442\\u0432\\u0438\\u0439 \\u043f\\u043e \\u0441\\u043e\\u0431\\u044b\\u0442\\u0438\\u044f\\u043c\"}},                        {\"responsive\": true}                    ).then(function(){\n",
       "                            \n",
       "var gd = document.getElementById('6d4cf8b6-0dde-436a-b21c-4001a342d1d4');\n",
       "var x = new MutationObserver(function (mutations, observer) {{\n",
       "        var display = window.getComputedStyle(gd).display;\n",
       "        if (!display || display === 'none') {{\n",
       "            console.log([gd, 'removed!']);\n",
       "            Plotly.purge(gd);\n",
       "            observer.disconnect();\n",
       "        }}\n",
       "}});\n",
       "\n",
       "// Listen for the removal of the full notebook cells\n",
       "var notebookContainer = gd.closest('#notebook-container');\n",
       "if (notebookContainer) {{\n",
       "    x.observe(notebookContainer, {childList: true});\n",
       "}}\n",
       "\n",
       "// Listen for the clearing of the current output cell\n",
       "var outputEl = gd.closest('.output');\n",
       "if (outputEl) {{\n",
       "    x.observe(outputEl, {childList: true});\n",
       "}}\n",
       "\n",
       "                        })                };                });            </script>        </div>"
      ]
     },
     "metadata": {},
     "output_type": "display_data"
    }
   ],
   "source": [
    "fig = px.bar(events_count, \n",
    "             x='event_name', # указываем столбец с данными для оси X\n",
    "             y='count', # указываем столбец с данными для оси Y\n",
    "             text='count' \n",
    "            )\n",
    "# оформляем график\n",
    "fig.update_layout(title='Количество действий по событиям',\n",
    "                   xaxis_title='Событие',\n",
    "                   yaxis_title='Количество событий')\n",
    "fig.show() # выводим график"
   ]
  },
  {
   "cell_type": "code",
   "execution_count": 63,
   "metadata": {
    "scrolled": false
   },
   "outputs": [
    {
     "data": {
      "text/html": [
       "<div>\n",
       "<style scoped>\n",
       "    .dataframe tbody tr th:only-of-type {\n",
       "        vertical-align: middle;\n",
       "    }\n",
       "\n",
       "    .dataframe tbody tr th {\n",
       "        vertical-align: top;\n",
       "    }\n",
       "\n",
       "    .dataframe thead th {\n",
       "        text-align: right;\n",
       "    }\n",
       "</style>\n",
       "<table border=\"1\" class=\"dataframe\">\n",
       "  <thead>\n",
       "    <tr style=\"text-align: right;\">\n",
       "      <th></th>\n",
       "      <th>event_name</th>\n",
       "      <th>user_id</th>\n",
       "      <th>percent</th>\n",
       "    </tr>\n",
       "  </thead>\n",
       "  <tbody>\n",
       "    <tr>\n",
       "      <th>0</th>\n",
       "      <td>login</td>\n",
       "      <td>3480</td>\n",
       "      <td>99.97</td>\n",
       "    </tr>\n",
       "    <tr>\n",
       "      <th>1</th>\n",
       "      <td>product_page</td>\n",
       "      <td>2178</td>\n",
       "      <td>62.57</td>\n",
       "    </tr>\n",
       "    <tr>\n",
       "      <th>2</th>\n",
       "      <td>purchase</td>\n",
       "      <td>1082</td>\n",
       "      <td>31.08</td>\n",
       "    </tr>\n",
       "    <tr>\n",
       "      <th>3</th>\n",
       "      <td>product_cart</td>\n",
       "      <td>1026</td>\n",
       "      <td>29.47</td>\n",
       "    </tr>\n",
       "  </tbody>\n",
       "</table>\n",
       "</div>"
      ],
      "text/plain": [
       "     event_name  user_id  percent\n",
       "0         login     3480    99.97\n",
       "1  product_page     2178    62.57\n",
       "2      purchase     1082    31.08\n",
       "3  product_cart     1026    29.47"
      ]
     },
     "execution_count": 63,
     "metadata": {},
     "output_type": "execute_result"
    }
   ],
   "source": [
    "events_uniq = events.groupby('event_name')['user_id'].nunique().sort_values(ascending=False).to_frame().reset_index()\n",
    "events_uniq['percent'] = round(events_uniq['user_id']/events['user_id'].nunique(),4)*100\n",
    "events_uniq"
   ]
  },
  {
   "cell_type": "code",
   "execution_count": 64,
   "metadata": {},
   "outputs": [
    {
     "data": {
      "text/html": [
       "<div>\n",
       "<style scoped>\n",
       "    .dataframe tbody tr th:only-of-type {\n",
       "        vertical-align: middle;\n",
       "    }\n",
       "\n",
       "    .dataframe tbody tr th {\n",
       "        vertical-align: top;\n",
       "    }\n",
       "\n",
       "    .dataframe thead th {\n",
       "        text-align: right;\n",
       "    }\n",
       "</style>\n",
       "<table border=\"1\" class=\"dataframe\">\n",
       "  <thead>\n",
       "    <tr style=\"text-align: right;\">\n",
       "      <th></th>\n",
       "      <th>event_name</th>\n",
       "      <th>user_id</th>\n",
       "      <th>percent</th>\n",
       "    </tr>\n",
       "  </thead>\n",
       "  <tbody>\n",
       "    <tr>\n",
       "      <th>0</th>\n",
       "      <td>login</td>\n",
       "      <td>3480</td>\n",
       "      <td>99.97</td>\n",
       "    </tr>\n",
       "    <tr>\n",
       "      <th>1</th>\n",
       "      <td>product_page</td>\n",
       "      <td>2178</td>\n",
       "      <td>62.57</td>\n",
       "    </tr>\n",
       "    <tr>\n",
       "      <th>2</th>\n",
       "      <td>product_cart</td>\n",
       "      <td>1026</td>\n",
       "      <td>29.47</td>\n",
       "    </tr>\n",
       "    <tr>\n",
       "      <th>3</th>\n",
       "      <td>purchase</td>\n",
       "      <td>1082</td>\n",
       "      <td>31.08</td>\n",
       "    </tr>\n",
       "  </tbody>\n",
       "</table>\n",
       "</div>"
      ],
      "text/plain": [
       "     event_name  user_id  percent\n",
       "0         login     3480    99.97\n",
       "1  product_page     2178    62.57\n",
       "2  product_cart     1026    29.47\n",
       "3      purchase     1082    31.08"
      ]
     },
     "execution_count": 64,
     "metadata": {},
     "output_type": "execute_result"
    }
   ],
   "source": [
    "def new_table(df, i1, i2):\n",
    "    a, b = df.iloc[i1, :].copy(), df.iloc[i2, :].copy()\n",
    "    df.iloc[i1, :], df.iloc[i2, :] = b, a\n",
    "    return df\n",
    "\n",
    "new_table(events_uniq, 2, 3)"
   ]
  },
  {
   "cell_type": "code",
   "execution_count": 65,
   "metadata": {
    "scrolled": false
   },
   "outputs": [
    {
     "data": {
      "application/vnd.plotly.v1+json": {
       "config": {
        "plotlyServerURL": "https://plot.ly"
       },
       "data": [
        {
         "hovertemplate": "percent=%{x}<br>event_name=%{y}<extra></extra>",
         "legendgroup": "",
         "marker": {
          "color": "#636efa"
         },
         "name": "",
         "orientation": "h",
         "showlegend": false,
         "type": "funnel",
         "x": [
          99.97,
          62.57,
          29.470000000000002,
          31.080000000000002
         ],
         "xaxis": "x",
         "y": [
          "login",
          "product_page",
          "product_cart",
          "purchase"
         ],
         "yaxis": "y"
        }
       ],
       "layout": {
        "legend": {
         "tracegroupgap": 0
        },
        "template": {
         "data": {
          "bar": [
           {
            "error_x": {
             "color": "#2a3f5f"
            },
            "error_y": {
             "color": "#2a3f5f"
            },
            "marker": {
             "line": {
              "color": "#E5ECF6",
              "width": 0.5
             },
             "pattern": {
              "fillmode": "overlay",
              "size": 10,
              "solidity": 0.2
             }
            },
            "type": "bar"
           }
          ],
          "barpolar": [
           {
            "marker": {
             "line": {
              "color": "#E5ECF6",
              "width": 0.5
             },
             "pattern": {
              "fillmode": "overlay",
              "size": 10,
              "solidity": 0.2
             }
            },
            "type": "barpolar"
           }
          ],
          "carpet": [
           {
            "aaxis": {
             "endlinecolor": "#2a3f5f",
             "gridcolor": "white",
             "linecolor": "white",
             "minorgridcolor": "white",
             "startlinecolor": "#2a3f5f"
            },
            "baxis": {
             "endlinecolor": "#2a3f5f",
             "gridcolor": "white",
             "linecolor": "white",
             "minorgridcolor": "white",
             "startlinecolor": "#2a3f5f"
            },
            "type": "carpet"
           }
          ],
          "choropleth": [
           {
            "colorbar": {
             "outlinewidth": 0,
             "ticks": ""
            },
            "type": "choropleth"
           }
          ],
          "contour": [
           {
            "colorbar": {
             "outlinewidth": 0,
             "ticks": ""
            },
            "colorscale": [
             [
              0,
              "#0d0887"
             ],
             [
              0.1111111111111111,
              "#46039f"
             ],
             [
              0.2222222222222222,
              "#7201a8"
             ],
             [
              0.3333333333333333,
              "#9c179e"
             ],
             [
              0.4444444444444444,
              "#bd3786"
             ],
             [
              0.5555555555555556,
              "#d8576b"
             ],
             [
              0.6666666666666666,
              "#ed7953"
             ],
             [
              0.7777777777777778,
              "#fb9f3a"
             ],
             [
              0.8888888888888888,
              "#fdca26"
             ],
             [
              1,
              "#f0f921"
             ]
            ],
            "type": "contour"
           }
          ],
          "contourcarpet": [
           {
            "colorbar": {
             "outlinewidth": 0,
             "ticks": ""
            },
            "type": "contourcarpet"
           }
          ],
          "heatmap": [
           {
            "colorbar": {
             "outlinewidth": 0,
             "ticks": ""
            },
            "colorscale": [
             [
              0,
              "#0d0887"
             ],
             [
              0.1111111111111111,
              "#46039f"
             ],
             [
              0.2222222222222222,
              "#7201a8"
             ],
             [
              0.3333333333333333,
              "#9c179e"
             ],
             [
              0.4444444444444444,
              "#bd3786"
             ],
             [
              0.5555555555555556,
              "#d8576b"
             ],
             [
              0.6666666666666666,
              "#ed7953"
             ],
             [
              0.7777777777777778,
              "#fb9f3a"
             ],
             [
              0.8888888888888888,
              "#fdca26"
             ],
             [
              1,
              "#f0f921"
             ]
            ],
            "type": "heatmap"
           }
          ],
          "heatmapgl": [
           {
            "colorbar": {
             "outlinewidth": 0,
             "ticks": ""
            },
            "colorscale": [
             [
              0,
              "#0d0887"
             ],
             [
              0.1111111111111111,
              "#46039f"
             ],
             [
              0.2222222222222222,
              "#7201a8"
             ],
             [
              0.3333333333333333,
              "#9c179e"
             ],
             [
              0.4444444444444444,
              "#bd3786"
             ],
             [
              0.5555555555555556,
              "#d8576b"
             ],
             [
              0.6666666666666666,
              "#ed7953"
             ],
             [
              0.7777777777777778,
              "#fb9f3a"
             ],
             [
              0.8888888888888888,
              "#fdca26"
             ],
             [
              1,
              "#f0f921"
             ]
            ],
            "type": "heatmapgl"
           }
          ],
          "histogram": [
           {
            "marker": {
             "pattern": {
              "fillmode": "overlay",
              "size": 10,
              "solidity": 0.2
             }
            },
            "type": "histogram"
           }
          ],
          "histogram2d": [
           {
            "colorbar": {
             "outlinewidth": 0,
             "ticks": ""
            },
            "colorscale": [
             [
              0,
              "#0d0887"
             ],
             [
              0.1111111111111111,
              "#46039f"
             ],
             [
              0.2222222222222222,
              "#7201a8"
             ],
             [
              0.3333333333333333,
              "#9c179e"
             ],
             [
              0.4444444444444444,
              "#bd3786"
             ],
             [
              0.5555555555555556,
              "#d8576b"
             ],
             [
              0.6666666666666666,
              "#ed7953"
             ],
             [
              0.7777777777777778,
              "#fb9f3a"
             ],
             [
              0.8888888888888888,
              "#fdca26"
             ],
             [
              1,
              "#f0f921"
             ]
            ],
            "type": "histogram2d"
           }
          ],
          "histogram2dcontour": [
           {
            "colorbar": {
             "outlinewidth": 0,
             "ticks": ""
            },
            "colorscale": [
             [
              0,
              "#0d0887"
             ],
             [
              0.1111111111111111,
              "#46039f"
             ],
             [
              0.2222222222222222,
              "#7201a8"
             ],
             [
              0.3333333333333333,
              "#9c179e"
             ],
             [
              0.4444444444444444,
              "#bd3786"
             ],
             [
              0.5555555555555556,
              "#d8576b"
             ],
             [
              0.6666666666666666,
              "#ed7953"
             ],
             [
              0.7777777777777778,
              "#fb9f3a"
             ],
             [
              0.8888888888888888,
              "#fdca26"
             ],
             [
              1,
              "#f0f921"
             ]
            ],
            "type": "histogram2dcontour"
           }
          ],
          "mesh3d": [
           {
            "colorbar": {
             "outlinewidth": 0,
             "ticks": ""
            },
            "type": "mesh3d"
           }
          ],
          "parcoords": [
           {
            "line": {
             "colorbar": {
              "outlinewidth": 0,
              "ticks": ""
             }
            },
            "type": "parcoords"
           }
          ],
          "pie": [
           {
            "automargin": true,
            "type": "pie"
           }
          ],
          "scatter": [
           {
            "fillpattern": {
             "fillmode": "overlay",
             "size": 10,
             "solidity": 0.2
            },
            "type": "scatter"
           }
          ],
          "scatter3d": [
           {
            "line": {
             "colorbar": {
              "outlinewidth": 0,
              "ticks": ""
             }
            },
            "marker": {
             "colorbar": {
              "outlinewidth": 0,
              "ticks": ""
             }
            },
            "type": "scatter3d"
           }
          ],
          "scattercarpet": [
           {
            "marker": {
             "colorbar": {
              "outlinewidth": 0,
              "ticks": ""
             }
            },
            "type": "scattercarpet"
           }
          ],
          "scattergeo": [
           {
            "marker": {
             "colorbar": {
              "outlinewidth": 0,
              "ticks": ""
             }
            },
            "type": "scattergeo"
           }
          ],
          "scattergl": [
           {
            "marker": {
             "colorbar": {
              "outlinewidth": 0,
              "ticks": ""
             }
            },
            "type": "scattergl"
           }
          ],
          "scattermapbox": [
           {
            "marker": {
             "colorbar": {
              "outlinewidth": 0,
              "ticks": ""
             }
            },
            "type": "scattermapbox"
           }
          ],
          "scatterpolar": [
           {
            "marker": {
             "colorbar": {
              "outlinewidth": 0,
              "ticks": ""
             }
            },
            "type": "scatterpolar"
           }
          ],
          "scatterpolargl": [
           {
            "marker": {
             "colorbar": {
              "outlinewidth": 0,
              "ticks": ""
             }
            },
            "type": "scatterpolargl"
           }
          ],
          "scatterternary": [
           {
            "marker": {
             "colorbar": {
              "outlinewidth": 0,
              "ticks": ""
             }
            },
            "type": "scatterternary"
           }
          ],
          "surface": [
           {
            "colorbar": {
             "outlinewidth": 0,
             "ticks": ""
            },
            "colorscale": [
             [
              0,
              "#0d0887"
             ],
             [
              0.1111111111111111,
              "#46039f"
             ],
             [
              0.2222222222222222,
              "#7201a8"
             ],
             [
              0.3333333333333333,
              "#9c179e"
             ],
             [
              0.4444444444444444,
              "#bd3786"
             ],
             [
              0.5555555555555556,
              "#d8576b"
             ],
             [
              0.6666666666666666,
              "#ed7953"
             ],
             [
              0.7777777777777778,
              "#fb9f3a"
             ],
             [
              0.8888888888888888,
              "#fdca26"
             ],
             [
              1,
              "#f0f921"
             ]
            ],
            "type": "surface"
           }
          ],
          "table": [
           {
            "cells": {
             "fill": {
              "color": "#EBF0F8"
             },
             "line": {
              "color": "white"
             }
            },
            "header": {
             "fill": {
              "color": "#C8D4E3"
             },
             "line": {
              "color": "white"
             }
            },
            "type": "table"
           }
          ]
         },
         "layout": {
          "annotationdefaults": {
           "arrowcolor": "#2a3f5f",
           "arrowhead": 0,
           "arrowwidth": 1
          },
          "autotypenumbers": "strict",
          "coloraxis": {
           "colorbar": {
            "outlinewidth": 0,
            "ticks": ""
           }
          },
          "colorscale": {
           "diverging": [
            [
             0,
             "#8e0152"
            ],
            [
             0.1,
             "#c51b7d"
            ],
            [
             0.2,
             "#de77ae"
            ],
            [
             0.3,
             "#f1b6da"
            ],
            [
             0.4,
             "#fde0ef"
            ],
            [
             0.5,
             "#f7f7f7"
            ],
            [
             0.6,
             "#e6f5d0"
            ],
            [
             0.7,
             "#b8e186"
            ],
            [
             0.8,
             "#7fbc41"
            ],
            [
             0.9,
             "#4d9221"
            ],
            [
             1,
             "#276419"
            ]
           ],
           "sequential": [
            [
             0,
             "#0d0887"
            ],
            [
             0.1111111111111111,
             "#46039f"
            ],
            [
             0.2222222222222222,
             "#7201a8"
            ],
            [
             0.3333333333333333,
             "#9c179e"
            ],
            [
             0.4444444444444444,
             "#bd3786"
            ],
            [
             0.5555555555555556,
             "#d8576b"
            ],
            [
             0.6666666666666666,
             "#ed7953"
            ],
            [
             0.7777777777777778,
             "#fb9f3a"
            ],
            [
             0.8888888888888888,
             "#fdca26"
            ],
            [
             1,
             "#f0f921"
            ]
           ],
           "sequentialminus": [
            [
             0,
             "#0d0887"
            ],
            [
             0.1111111111111111,
             "#46039f"
            ],
            [
             0.2222222222222222,
             "#7201a8"
            ],
            [
             0.3333333333333333,
             "#9c179e"
            ],
            [
             0.4444444444444444,
             "#bd3786"
            ],
            [
             0.5555555555555556,
             "#d8576b"
            ],
            [
             0.6666666666666666,
             "#ed7953"
            ],
            [
             0.7777777777777778,
             "#fb9f3a"
            ],
            [
             0.8888888888888888,
             "#fdca26"
            ],
            [
             1,
             "#f0f921"
            ]
           ]
          },
          "colorway": [
           "#636efa",
           "#EF553B",
           "#00cc96",
           "#ab63fa",
           "#FFA15A",
           "#19d3f3",
           "#FF6692",
           "#B6E880",
           "#FF97FF",
           "#FECB52"
          ],
          "font": {
           "color": "#2a3f5f"
          },
          "geo": {
           "bgcolor": "white",
           "lakecolor": "white",
           "landcolor": "#E5ECF6",
           "showlakes": true,
           "showland": true,
           "subunitcolor": "white"
          },
          "hoverlabel": {
           "align": "left"
          },
          "hovermode": "closest",
          "mapbox": {
           "style": "light"
          },
          "paper_bgcolor": "white",
          "plot_bgcolor": "#E5ECF6",
          "polar": {
           "angularaxis": {
            "gridcolor": "white",
            "linecolor": "white",
            "ticks": ""
           },
           "bgcolor": "#E5ECF6",
           "radialaxis": {
            "gridcolor": "white",
            "linecolor": "white",
            "ticks": ""
           }
          },
          "scene": {
           "xaxis": {
            "backgroundcolor": "#E5ECF6",
            "gridcolor": "white",
            "gridwidth": 2,
            "linecolor": "white",
            "showbackground": true,
            "ticks": "",
            "zerolinecolor": "white"
           },
           "yaxis": {
            "backgroundcolor": "#E5ECF6",
            "gridcolor": "white",
            "gridwidth": 2,
            "linecolor": "white",
            "showbackground": true,
            "ticks": "",
            "zerolinecolor": "white"
           },
           "zaxis": {
            "backgroundcolor": "#E5ECF6",
            "gridcolor": "white",
            "gridwidth": 2,
            "linecolor": "white",
            "showbackground": true,
            "ticks": "",
            "zerolinecolor": "white"
           }
          },
          "shapedefaults": {
           "line": {
            "color": "#2a3f5f"
           }
          },
          "ternary": {
           "aaxis": {
            "gridcolor": "white",
            "linecolor": "white",
            "ticks": ""
           },
           "baxis": {
            "gridcolor": "white",
            "linecolor": "white",
            "ticks": ""
           },
           "bgcolor": "#E5ECF6",
           "caxis": {
            "gridcolor": "white",
            "linecolor": "white",
            "ticks": ""
           }
          },
          "title": {
           "x": 0.05
          },
          "xaxis": {
           "automargin": true,
           "gridcolor": "white",
           "linecolor": "white",
           "ticks": "",
           "title": {
            "standoff": 15
           },
           "zerolinecolor": "white",
           "zerolinewidth": 2
          },
          "yaxis": {
           "automargin": true,
           "gridcolor": "white",
           "linecolor": "white",
           "ticks": "",
           "title": {
            "standoff": 15
           },
           "zerolinecolor": "white",
           "zerolinewidth": 2
          }
         }
        },
        "title": {
         "text": "Воронка продаж"
        },
        "xaxis": {
         "anchor": "y",
         "domain": [
          0,
          1
         ],
         "title": {
          "text": "percent"
         }
        },
        "yaxis": {
         "anchor": "x",
         "domain": [
          0,
          1
         ],
         "title": {
          "text": "event_name"
         }
        }
       }
      },
      "text/html": [
       "<div>                            <div id=\"8647cd2f-46fa-4cc6-a40b-7512804c9780\" class=\"plotly-graph-div\" style=\"height:525px; width:100%;\"></div>            <script type=\"text/javascript\">                require([\"plotly\"], function(Plotly) {                    window.PLOTLYENV=window.PLOTLYENV || {};                                    if (document.getElementById(\"8647cd2f-46fa-4cc6-a40b-7512804c9780\")) {                    Plotly.newPlot(                        \"8647cd2f-46fa-4cc6-a40b-7512804c9780\",                        [{\"hovertemplate\":\"percent=%{x}<br>event_name=%{y}<extra></extra>\",\"legendgroup\":\"\",\"marker\":{\"color\":\"#636efa\"},\"name\":\"\",\"orientation\":\"h\",\"showlegend\":false,\"x\":[99.97,62.57,29.470000000000002,31.080000000000002],\"xaxis\":\"x\",\"y\":[\"login\",\"product_page\",\"product_cart\",\"purchase\"],\"yaxis\":\"y\",\"type\":\"funnel\"}],                        {\"template\":{\"data\":{\"histogram2dcontour\":[{\"type\":\"histogram2dcontour\",\"colorbar\":{\"outlinewidth\":0,\"ticks\":\"\"},\"colorscale\":[[0.0,\"#0d0887\"],[0.1111111111111111,\"#46039f\"],[0.2222222222222222,\"#7201a8\"],[0.3333333333333333,\"#9c179e\"],[0.4444444444444444,\"#bd3786\"],[0.5555555555555556,\"#d8576b\"],[0.6666666666666666,\"#ed7953\"],[0.7777777777777778,\"#fb9f3a\"],[0.8888888888888888,\"#fdca26\"],[1.0,\"#f0f921\"]]}],\"choropleth\":[{\"type\":\"choropleth\",\"colorbar\":{\"outlinewidth\":0,\"ticks\":\"\"}}],\"histogram2d\":[{\"type\":\"histogram2d\",\"colorbar\":{\"outlinewidth\":0,\"ticks\":\"\"},\"colorscale\":[[0.0,\"#0d0887\"],[0.1111111111111111,\"#46039f\"],[0.2222222222222222,\"#7201a8\"],[0.3333333333333333,\"#9c179e\"],[0.4444444444444444,\"#bd3786\"],[0.5555555555555556,\"#d8576b\"],[0.6666666666666666,\"#ed7953\"],[0.7777777777777778,\"#fb9f3a\"],[0.8888888888888888,\"#fdca26\"],[1.0,\"#f0f921\"]]}],\"heatmap\":[{\"type\":\"heatmap\",\"colorbar\":{\"outlinewidth\":0,\"ticks\":\"\"},\"colorscale\":[[0.0,\"#0d0887\"],[0.1111111111111111,\"#46039f\"],[0.2222222222222222,\"#7201a8\"],[0.3333333333333333,\"#9c179e\"],[0.4444444444444444,\"#bd3786\"],[0.5555555555555556,\"#d8576b\"],[0.6666666666666666,\"#ed7953\"],[0.7777777777777778,\"#fb9f3a\"],[0.8888888888888888,\"#fdca26\"],[1.0,\"#f0f921\"]]}],\"heatmapgl\":[{\"type\":\"heatmapgl\",\"colorbar\":{\"outlinewidth\":0,\"ticks\":\"\"},\"colorscale\":[[0.0,\"#0d0887\"],[0.1111111111111111,\"#46039f\"],[0.2222222222222222,\"#7201a8\"],[0.3333333333333333,\"#9c179e\"],[0.4444444444444444,\"#bd3786\"],[0.5555555555555556,\"#d8576b\"],[0.6666666666666666,\"#ed7953\"],[0.7777777777777778,\"#fb9f3a\"],[0.8888888888888888,\"#fdca26\"],[1.0,\"#f0f921\"]]}],\"contourcarpet\":[{\"type\":\"contourcarpet\",\"colorbar\":{\"outlinewidth\":0,\"ticks\":\"\"}}],\"contour\":[{\"type\":\"contour\",\"colorbar\":{\"outlinewidth\":0,\"ticks\":\"\"},\"colorscale\":[[0.0,\"#0d0887\"],[0.1111111111111111,\"#46039f\"],[0.2222222222222222,\"#7201a8\"],[0.3333333333333333,\"#9c179e\"],[0.4444444444444444,\"#bd3786\"],[0.5555555555555556,\"#d8576b\"],[0.6666666666666666,\"#ed7953\"],[0.7777777777777778,\"#fb9f3a\"],[0.8888888888888888,\"#fdca26\"],[1.0,\"#f0f921\"]]}],\"surface\":[{\"type\":\"surface\",\"colorbar\":{\"outlinewidth\":0,\"ticks\":\"\"},\"colorscale\":[[0.0,\"#0d0887\"],[0.1111111111111111,\"#46039f\"],[0.2222222222222222,\"#7201a8\"],[0.3333333333333333,\"#9c179e\"],[0.4444444444444444,\"#bd3786\"],[0.5555555555555556,\"#d8576b\"],[0.6666666666666666,\"#ed7953\"],[0.7777777777777778,\"#fb9f3a\"],[0.8888888888888888,\"#fdca26\"],[1.0,\"#f0f921\"]]}],\"mesh3d\":[{\"type\":\"mesh3d\",\"colorbar\":{\"outlinewidth\":0,\"ticks\":\"\"}}],\"scatter\":[{\"fillpattern\":{\"fillmode\":\"overlay\",\"size\":10,\"solidity\":0.2},\"type\":\"scatter\"}],\"parcoords\":[{\"type\":\"parcoords\",\"line\":{\"colorbar\":{\"outlinewidth\":0,\"ticks\":\"\"}}}],\"scatterpolargl\":[{\"type\":\"scatterpolargl\",\"marker\":{\"colorbar\":{\"outlinewidth\":0,\"ticks\":\"\"}}}],\"bar\":[{\"error_x\":{\"color\":\"#2a3f5f\"},\"error_y\":{\"color\":\"#2a3f5f\"},\"marker\":{\"line\":{\"color\":\"#E5ECF6\",\"width\":0.5},\"pattern\":{\"fillmode\":\"overlay\",\"size\":10,\"solidity\":0.2}},\"type\":\"bar\"}],\"scattergeo\":[{\"type\":\"scattergeo\",\"marker\":{\"colorbar\":{\"outlinewidth\":0,\"ticks\":\"\"}}}],\"scatterpolar\":[{\"type\":\"scatterpolar\",\"marker\":{\"colorbar\":{\"outlinewidth\":0,\"ticks\":\"\"}}}],\"histogram\":[{\"marker\":{\"pattern\":{\"fillmode\":\"overlay\",\"size\":10,\"solidity\":0.2}},\"type\":\"histogram\"}],\"scattergl\":[{\"type\":\"scattergl\",\"marker\":{\"colorbar\":{\"outlinewidth\":0,\"ticks\":\"\"}}}],\"scatter3d\":[{\"type\":\"scatter3d\",\"line\":{\"colorbar\":{\"outlinewidth\":0,\"ticks\":\"\"}},\"marker\":{\"colorbar\":{\"outlinewidth\":0,\"ticks\":\"\"}}}],\"scattermapbox\":[{\"type\":\"scattermapbox\",\"marker\":{\"colorbar\":{\"outlinewidth\":0,\"ticks\":\"\"}}}],\"scatterternary\":[{\"type\":\"scatterternary\",\"marker\":{\"colorbar\":{\"outlinewidth\":0,\"ticks\":\"\"}}}],\"scattercarpet\":[{\"type\":\"scattercarpet\",\"marker\":{\"colorbar\":{\"outlinewidth\":0,\"ticks\":\"\"}}}],\"carpet\":[{\"aaxis\":{\"endlinecolor\":\"#2a3f5f\",\"gridcolor\":\"white\",\"linecolor\":\"white\",\"minorgridcolor\":\"white\",\"startlinecolor\":\"#2a3f5f\"},\"baxis\":{\"endlinecolor\":\"#2a3f5f\",\"gridcolor\":\"white\",\"linecolor\":\"white\",\"minorgridcolor\":\"white\",\"startlinecolor\":\"#2a3f5f\"},\"type\":\"carpet\"}],\"table\":[{\"cells\":{\"fill\":{\"color\":\"#EBF0F8\"},\"line\":{\"color\":\"white\"}},\"header\":{\"fill\":{\"color\":\"#C8D4E3\"},\"line\":{\"color\":\"white\"}},\"type\":\"table\"}],\"barpolar\":[{\"marker\":{\"line\":{\"color\":\"#E5ECF6\",\"width\":0.5},\"pattern\":{\"fillmode\":\"overlay\",\"size\":10,\"solidity\":0.2}},\"type\":\"barpolar\"}],\"pie\":[{\"automargin\":true,\"type\":\"pie\"}]},\"layout\":{\"autotypenumbers\":\"strict\",\"colorway\":[\"#636efa\",\"#EF553B\",\"#00cc96\",\"#ab63fa\",\"#FFA15A\",\"#19d3f3\",\"#FF6692\",\"#B6E880\",\"#FF97FF\",\"#FECB52\"],\"font\":{\"color\":\"#2a3f5f\"},\"hovermode\":\"closest\",\"hoverlabel\":{\"align\":\"left\"},\"paper_bgcolor\":\"white\",\"plot_bgcolor\":\"#E5ECF6\",\"polar\":{\"bgcolor\":\"#E5ECF6\",\"angularaxis\":{\"gridcolor\":\"white\",\"linecolor\":\"white\",\"ticks\":\"\"},\"radialaxis\":{\"gridcolor\":\"white\",\"linecolor\":\"white\",\"ticks\":\"\"}},\"ternary\":{\"bgcolor\":\"#E5ECF6\",\"aaxis\":{\"gridcolor\":\"white\",\"linecolor\":\"white\",\"ticks\":\"\"},\"baxis\":{\"gridcolor\":\"white\",\"linecolor\":\"white\",\"ticks\":\"\"},\"caxis\":{\"gridcolor\":\"white\",\"linecolor\":\"white\",\"ticks\":\"\"}},\"coloraxis\":{\"colorbar\":{\"outlinewidth\":0,\"ticks\":\"\"}},\"colorscale\":{\"sequential\":[[0.0,\"#0d0887\"],[0.1111111111111111,\"#46039f\"],[0.2222222222222222,\"#7201a8\"],[0.3333333333333333,\"#9c179e\"],[0.4444444444444444,\"#bd3786\"],[0.5555555555555556,\"#d8576b\"],[0.6666666666666666,\"#ed7953\"],[0.7777777777777778,\"#fb9f3a\"],[0.8888888888888888,\"#fdca26\"],[1.0,\"#f0f921\"]],\"sequentialminus\":[[0.0,\"#0d0887\"],[0.1111111111111111,\"#46039f\"],[0.2222222222222222,\"#7201a8\"],[0.3333333333333333,\"#9c179e\"],[0.4444444444444444,\"#bd3786\"],[0.5555555555555556,\"#d8576b\"],[0.6666666666666666,\"#ed7953\"],[0.7777777777777778,\"#fb9f3a\"],[0.8888888888888888,\"#fdca26\"],[1.0,\"#f0f921\"]],\"diverging\":[[0,\"#8e0152\"],[0.1,\"#c51b7d\"],[0.2,\"#de77ae\"],[0.3,\"#f1b6da\"],[0.4,\"#fde0ef\"],[0.5,\"#f7f7f7\"],[0.6,\"#e6f5d0\"],[0.7,\"#b8e186\"],[0.8,\"#7fbc41\"],[0.9,\"#4d9221\"],[1,\"#276419\"]]},\"xaxis\":{\"gridcolor\":\"white\",\"linecolor\":\"white\",\"ticks\":\"\",\"title\":{\"standoff\":15},\"zerolinecolor\":\"white\",\"automargin\":true,\"zerolinewidth\":2},\"yaxis\":{\"gridcolor\":\"white\",\"linecolor\":\"white\",\"ticks\":\"\",\"title\":{\"standoff\":15},\"zerolinecolor\":\"white\",\"automargin\":true,\"zerolinewidth\":2},\"scene\":{\"xaxis\":{\"backgroundcolor\":\"#E5ECF6\",\"gridcolor\":\"white\",\"linecolor\":\"white\",\"showbackground\":true,\"ticks\":\"\",\"zerolinecolor\":\"white\",\"gridwidth\":2},\"yaxis\":{\"backgroundcolor\":\"#E5ECF6\",\"gridcolor\":\"white\",\"linecolor\":\"white\",\"showbackground\":true,\"ticks\":\"\",\"zerolinecolor\":\"white\",\"gridwidth\":2},\"zaxis\":{\"backgroundcolor\":\"#E5ECF6\",\"gridcolor\":\"white\",\"linecolor\":\"white\",\"showbackground\":true,\"ticks\":\"\",\"zerolinecolor\":\"white\",\"gridwidth\":2}},\"shapedefaults\":{\"line\":{\"color\":\"#2a3f5f\"}},\"annotationdefaults\":{\"arrowcolor\":\"#2a3f5f\",\"arrowhead\":0,\"arrowwidth\":1},\"geo\":{\"bgcolor\":\"white\",\"landcolor\":\"#E5ECF6\",\"subunitcolor\":\"white\",\"showland\":true,\"showlakes\":true,\"lakecolor\":\"white\"},\"title\":{\"x\":0.05},\"mapbox\":{\"style\":\"light\"}}},\"xaxis\":{\"anchor\":\"y\",\"domain\":[0.0,1.0],\"title\":{\"text\":\"percent\"}},\"yaxis\":{\"anchor\":\"x\",\"domain\":[0.0,1.0],\"title\":{\"text\":\"event_name\"}},\"legend\":{\"tracegroupgap\":0},\"title\":{\"text\":\"\\u0412\\u043e\\u0440\\u043e\\u043d\\u043a\\u0430 \\u043f\\u0440\\u043e\\u0434\\u0430\\u0436\"}},                        {\"responsive\": true}                    ).then(function(){\n",
       "                            \n",
       "var gd = document.getElementById('8647cd2f-46fa-4cc6-a40b-7512804c9780');\n",
       "var x = new MutationObserver(function (mutations, observer) {{\n",
       "        var display = window.getComputedStyle(gd).display;\n",
       "        if (!display || display === 'none') {{\n",
       "            console.log([gd, 'removed!']);\n",
       "            Plotly.purge(gd);\n",
       "            observer.disconnect();\n",
       "        }}\n",
       "}});\n",
       "\n",
       "// Listen for the removal of the full notebook cells\n",
       "var notebookContainer = gd.closest('#notebook-container');\n",
       "if (notebookContainer) {{\n",
       "    x.observe(notebookContainer, {childList: true});\n",
       "}}\n",
       "\n",
       "// Listen for the clearing of the current output cell\n",
       "var outputEl = gd.closest('.output');\n",
       "if (outputEl) {{\n",
       "    x.observe(outputEl, {childList: true});\n",
       "}}\n",
       "\n",
       "                        })                };                });            </script>        </div>"
      ]
     },
     "metadata": {},
     "output_type": "display_data"
    }
   ],
   "source": [
    "fig = px.funnel(events_uniq, x='percent', y='event_name',  title='Воронка продаж')\n",
    "fig.show()"
   ]
  },
  {
   "cell_type": "markdown",
   "metadata": {},
   "source": [
    "Из всех пользователей 99.97% зарегистрировались, 62.57% дошли до карточки товара, 31.08% совершили покупку, 29.47% перешли в корзину"
   ]
  },
  {
   "cell_type": "code",
   "execution_count": 66,
   "metadata": {},
   "outputs": [
    {
     "data": {
      "text/plain": [
       "2604"
      ]
     },
     "execution_count": 66,
     "metadata": {},
     "output_type": "execute_result"
    }
   ],
   "source": [
    "users_a = events.query('group == \"A\"')['user_id'].nunique()\n",
    "events_a = events.query('group == \"A\"')\n",
    "users_a"
   ]
  },
  {
   "cell_type": "code",
   "execution_count": 67,
   "metadata": {},
   "outputs": [
    {
     "data": {
      "text/plain": [
       "877"
      ]
     },
     "execution_count": 67,
     "metadata": {},
     "output_type": "execute_result"
    }
   ],
   "source": [
    "users_b = events.query('group == \"B\"')['user_id'].nunique()\n",
    "events_b = events.query('group == \"B\"')\n",
    "users_b\n"
   ]
  },
  {
   "cell_type": "code",
   "execution_count": 68,
   "metadata": {},
   "outputs": [
    {
     "data": {
      "text/html": [
       "<div>\n",
       "<style scoped>\n",
       "    .dataframe tbody tr th:only-of-type {\n",
       "        vertical-align: middle;\n",
       "    }\n",
       "\n",
       "    .dataframe tbody tr th {\n",
       "        vertical-align: top;\n",
       "    }\n",
       "\n",
       "    .dataframe thead th {\n",
       "        text-align: right;\n",
       "    }\n",
       "</style>\n",
       "<table border=\"1\" class=\"dataframe\">\n",
       "  <thead>\n",
       "    <tr style=\"text-align: right;\">\n",
       "      <th></th>\n",
       "      <th>event_name</th>\n",
       "      <th>user_id</th>\n",
       "      <th>percent</th>\n",
       "    </tr>\n",
       "  </thead>\n",
       "  <tbody>\n",
       "    <tr>\n",
       "      <th>0</th>\n",
       "      <td>login</td>\n",
       "      <td>2604</td>\n",
       "      <td>100.00</td>\n",
       "    </tr>\n",
       "    <tr>\n",
       "      <th>1</th>\n",
       "      <td>product_page</td>\n",
       "      <td>1685</td>\n",
       "      <td>64.71</td>\n",
       "    </tr>\n",
       "    <tr>\n",
       "      <th>2</th>\n",
       "      <td>purchase</td>\n",
       "      <td>833</td>\n",
       "      <td>31.99</td>\n",
       "    </tr>\n",
       "    <tr>\n",
       "      <th>3</th>\n",
       "      <td>product_cart</td>\n",
       "      <td>782</td>\n",
       "      <td>30.03</td>\n",
       "    </tr>\n",
       "  </tbody>\n",
       "</table>\n",
       "</div>"
      ],
      "text/plain": [
       "     event_name  user_id  percent\n",
       "0         login     2604   100.00\n",
       "1  product_page     1685    64.71\n",
       "2      purchase      833    31.99\n",
       "3  product_cart      782    30.03"
      ]
     },
     "execution_count": 68,
     "metadata": {},
     "output_type": "execute_result"
    }
   ],
   "source": [
    "events_uniq_A = events.query('group == \"A\"').groupby('event_name')['user_id'].nunique().sort_values(ascending=False).to_frame().reset_index()\n",
    "events_uniq_A['percent'] = round(events_uniq_A['user_id']/users_a,4)*100\n",
    "events_uniq_A"
   ]
  },
  {
   "cell_type": "code",
   "execution_count": 69,
   "metadata": {
    "scrolled": false
   },
   "outputs": [
    {
     "data": {
      "text/html": [
       "<div>\n",
       "<style scoped>\n",
       "    .dataframe tbody tr th:only-of-type {\n",
       "        vertical-align: middle;\n",
       "    }\n",
       "\n",
       "    .dataframe tbody tr th {\n",
       "        vertical-align: top;\n",
       "    }\n",
       "\n",
       "    .dataframe thead th {\n",
       "        text-align: right;\n",
       "    }\n",
       "</style>\n",
       "<table border=\"1\" class=\"dataframe\">\n",
       "  <thead>\n",
       "    <tr style=\"text-align: right;\">\n",
       "      <th></th>\n",
       "      <th>event_name</th>\n",
       "      <th>user_id</th>\n",
       "      <th>percent</th>\n",
       "    </tr>\n",
       "  </thead>\n",
       "  <tbody>\n",
       "    <tr>\n",
       "      <th>0</th>\n",
       "      <td>login</td>\n",
       "      <td>876</td>\n",
       "      <td>99.89</td>\n",
       "    </tr>\n",
       "    <tr>\n",
       "      <th>1</th>\n",
       "      <td>product_page</td>\n",
       "      <td>493</td>\n",
       "      <td>56.21</td>\n",
       "    </tr>\n",
       "    <tr>\n",
       "      <th>2</th>\n",
       "      <td>purchase</td>\n",
       "      <td>249</td>\n",
       "      <td>28.39</td>\n",
       "    </tr>\n",
       "    <tr>\n",
       "      <th>3</th>\n",
       "      <td>product_cart</td>\n",
       "      <td>244</td>\n",
       "      <td>27.82</td>\n",
       "    </tr>\n",
       "  </tbody>\n",
       "</table>\n",
       "</div>"
      ],
      "text/plain": [
       "     event_name  user_id  percent\n",
       "0         login      876    99.89\n",
       "1  product_page      493    56.21\n",
       "2      purchase      249    28.39\n",
       "3  product_cart      244    27.82"
      ]
     },
     "execution_count": 69,
     "metadata": {},
     "output_type": "execute_result"
    }
   ],
   "source": [
    "events_uniq_B = events.query('group == \"B\"').groupby('event_name')['user_id'].nunique().sort_values(ascending=False).to_frame().reset_index()\n",
    "events_uniq_B['percent'] = round(events_uniq_B['user_id']/users_b,4)*100\n",
    "events_uniq_B"
   ]
  },
  {
   "cell_type": "code",
   "execution_count": 70,
   "metadata": {
    "scrolled": true
   },
   "outputs": [
    {
     "data": {
      "text/html": [
       "<div>\n",
       "<style scoped>\n",
       "    .dataframe tbody tr th:only-of-type {\n",
       "        vertical-align: middle;\n",
       "    }\n",
       "\n",
       "    .dataframe tbody tr th {\n",
       "        vertical-align: top;\n",
       "    }\n",
       "\n",
       "    .dataframe thead th {\n",
       "        text-align: right;\n",
       "    }\n",
       "</style>\n",
       "<table border=\"1\" class=\"dataframe\">\n",
       "  <thead>\n",
       "    <tr style=\"text-align: right;\">\n",
       "      <th></th>\n",
       "      <th>event_name</th>\n",
       "      <th>user_id</th>\n",
       "      <th>percent</th>\n",
       "    </tr>\n",
       "  </thead>\n",
       "  <tbody>\n",
       "    <tr>\n",
       "      <th>0</th>\n",
       "      <td>login</td>\n",
       "      <td>876</td>\n",
       "      <td>99.89</td>\n",
       "    </tr>\n",
       "    <tr>\n",
       "      <th>1</th>\n",
       "      <td>product_page</td>\n",
       "      <td>493</td>\n",
       "      <td>56.21</td>\n",
       "    </tr>\n",
       "    <tr>\n",
       "      <th>2</th>\n",
       "      <td>purchase</td>\n",
       "      <td>249</td>\n",
       "      <td>28.39</td>\n",
       "    </tr>\n",
       "    <tr>\n",
       "      <th>3</th>\n",
       "      <td>product_cart</td>\n",
       "      <td>244</td>\n",
       "      <td>27.82</td>\n",
       "    </tr>\n",
       "  </tbody>\n",
       "</table>\n",
       "</div>"
      ],
      "text/plain": [
       "     event_name  user_id  percent\n",
       "0         login      876    99.89\n",
       "1  product_page      493    56.21\n",
       "2      purchase      249    28.39\n",
       "3  product_cart      244    27.82"
      ]
     },
     "execution_count": 70,
     "metadata": {},
     "output_type": "execute_result"
    }
   ],
   "source": [
    "events_uniq_B"
   ]
  },
  {
   "cell_type": "code",
   "execution_count": 71,
   "metadata": {},
   "outputs": [
    {
     "data": {
      "text/html": [
       "<div>\n",
       "<style scoped>\n",
       "    .dataframe tbody tr th:only-of-type {\n",
       "        vertical-align: middle;\n",
       "    }\n",
       "\n",
       "    .dataframe tbody tr th {\n",
       "        vertical-align: top;\n",
       "    }\n",
       "\n",
       "    .dataframe thead th {\n",
       "        text-align: right;\n",
       "    }\n",
       "</style>\n",
       "<table border=\"1\" class=\"dataframe\">\n",
       "  <thead>\n",
       "    <tr style=\"text-align: right;\">\n",
       "      <th></th>\n",
       "      <th>event_name</th>\n",
       "      <th>user_id</th>\n",
       "      <th>percent</th>\n",
       "    </tr>\n",
       "  </thead>\n",
       "  <tbody>\n",
       "    <tr>\n",
       "      <th>0</th>\n",
       "      <td>login</td>\n",
       "      <td>876</td>\n",
       "      <td>99.89</td>\n",
       "    </tr>\n",
       "    <tr>\n",
       "      <th>1</th>\n",
       "      <td>product_page</td>\n",
       "      <td>493</td>\n",
       "      <td>56.21</td>\n",
       "    </tr>\n",
       "    <tr>\n",
       "      <th>2</th>\n",
       "      <td>product_cart</td>\n",
       "      <td>244</td>\n",
       "      <td>27.82</td>\n",
       "    </tr>\n",
       "    <tr>\n",
       "      <th>3</th>\n",
       "      <td>purchase</td>\n",
       "      <td>249</td>\n",
       "      <td>28.39</td>\n",
       "    </tr>\n",
       "  </tbody>\n",
       "</table>\n",
       "</div>"
      ],
      "text/plain": [
       "     event_name  user_id  percent\n",
       "0         login      876    99.89\n",
       "1  product_page      493    56.21\n",
       "2  product_cart      244    27.82\n",
       "3      purchase      249    28.39"
      ]
     },
     "execution_count": 71,
     "metadata": {},
     "output_type": "execute_result"
    }
   ],
   "source": [
    "new_table(events_uniq_B, 2, 3)"
   ]
  },
  {
   "cell_type": "code",
   "execution_count": 72,
   "metadata": {
    "scrolled": true
   },
   "outputs": [
    {
     "data": {
      "text/html": [
       "<div>\n",
       "<style scoped>\n",
       "    .dataframe tbody tr th:only-of-type {\n",
       "        vertical-align: middle;\n",
       "    }\n",
       "\n",
       "    .dataframe tbody tr th {\n",
       "        vertical-align: top;\n",
       "    }\n",
       "\n",
       "    .dataframe thead th {\n",
       "        text-align: right;\n",
       "    }\n",
       "</style>\n",
       "<table border=\"1\" class=\"dataframe\">\n",
       "  <thead>\n",
       "    <tr style=\"text-align: right;\">\n",
       "      <th></th>\n",
       "      <th>event_name</th>\n",
       "      <th>user_id_a</th>\n",
       "      <th>percent_a</th>\n",
       "      <th>user_id_b</th>\n",
       "      <th>percent_b</th>\n",
       "    </tr>\n",
       "  </thead>\n",
       "  <tbody>\n",
       "    <tr>\n",
       "      <th>0</th>\n",
       "      <td>login</td>\n",
       "      <td>2604</td>\n",
       "      <td>100.00</td>\n",
       "      <td>876</td>\n",
       "      <td>99.89</td>\n",
       "    </tr>\n",
       "    <tr>\n",
       "      <th>1</th>\n",
       "      <td>product_page</td>\n",
       "      <td>1685</td>\n",
       "      <td>64.71</td>\n",
       "      <td>493</td>\n",
       "      <td>56.21</td>\n",
       "    </tr>\n",
       "    <tr>\n",
       "      <th>2</th>\n",
       "      <td>purchase</td>\n",
       "      <td>833</td>\n",
       "      <td>31.99</td>\n",
       "      <td>249</td>\n",
       "      <td>28.39</td>\n",
       "    </tr>\n",
       "    <tr>\n",
       "      <th>3</th>\n",
       "      <td>product_cart</td>\n",
       "      <td>782</td>\n",
       "      <td>30.03</td>\n",
       "      <td>244</td>\n",
       "      <td>27.82</td>\n",
       "    </tr>\n",
       "  </tbody>\n",
       "</table>\n",
       "</div>"
      ],
      "text/plain": [
       "     event_name  user_id_a  percent_a  user_id_b  percent_b\n",
       "0         login       2604     100.00        876      99.89\n",
       "1  product_page       1685      64.71        493      56.21\n",
       "2      purchase        833      31.99        249      28.39\n",
       "3  product_cart        782      30.03        244      27.82"
      ]
     },
     "execution_count": 72,
     "metadata": {},
     "output_type": "execute_result"
    }
   ],
   "source": [
    "events_uniq_AB = events_uniq_A.merge(events_uniq_B, on='event_name')\n",
    "events_uniq_AB.columns = ['event_name', 'user_id_a', 'percent_a', 'user_id_b', 'percent_b' ]\n",
    "events_uniq_AB"
   ]
  },
  {
   "cell_type": "code",
   "execution_count": 73,
   "metadata": {
    "scrolled": false
   },
   "outputs": [
    {
     "data": {
      "text/html": [
       "<div>\n",
       "<style scoped>\n",
       "    .dataframe tbody tr th:only-of-type {\n",
       "        vertical-align: middle;\n",
       "    }\n",
       "\n",
       "    .dataframe tbody tr th {\n",
       "        vertical-align: top;\n",
       "    }\n",
       "\n",
       "    .dataframe thead th {\n",
       "        text-align: right;\n",
       "    }\n",
       "</style>\n",
       "<table border=\"1\" class=\"dataframe\">\n",
       "  <thead>\n",
       "    <tr style=\"text-align: right;\">\n",
       "      <th></th>\n",
       "      <th>event_name</th>\n",
       "      <th>user_id</th>\n",
       "      <th>percent</th>\n",
       "    </tr>\n",
       "  </thead>\n",
       "  <tbody>\n",
       "    <tr>\n",
       "      <th>0</th>\n",
       "      <td>login</td>\n",
       "      <td>2604</td>\n",
       "      <td>100.00</td>\n",
       "    </tr>\n",
       "    <tr>\n",
       "      <th>1</th>\n",
       "      <td>product_page</td>\n",
       "      <td>1685</td>\n",
       "      <td>64.71</td>\n",
       "    </tr>\n",
       "    <tr>\n",
       "      <th>2</th>\n",
       "      <td>purchase</td>\n",
       "      <td>833</td>\n",
       "      <td>31.99</td>\n",
       "    </tr>\n",
       "    <tr>\n",
       "      <th>3</th>\n",
       "      <td>product_cart</td>\n",
       "      <td>782</td>\n",
       "      <td>30.03</td>\n",
       "    </tr>\n",
       "  </tbody>\n",
       "</table>\n",
       "</div>"
      ],
      "text/plain": [
       "     event_name  user_id  percent\n",
       "0         login     2604   100.00\n",
       "1  product_page     1685    64.71\n",
       "2      purchase      833    31.99\n",
       "3  product_cart      782    30.03"
      ]
     },
     "execution_count": 73,
     "metadata": {},
     "output_type": "execute_result"
    }
   ],
   "source": [
    "events_uniq_A"
   ]
  },
  {
   "cell_type": "code",
   "execution_count": 74,
   "metadata": {},
   "outputs": [
    {
     "data": {
      "text/html": [
       "<div>\n",
       "<style scoped>\n",
       "    .dataframe tbody tr th:only-of-type {\n",
       "        vertical-align: middle;\n",
       "    }\n",
       "\n",
       "    .dataframe tbody tr th {\n",
       "        vertical-align: top;\n",
       "    }\n",
       "\n",
       "    .dataframe thead th {\n",
       "        text-align: right;\n",
       "    }\n",
       "</style>\n",
       "<table border=\"1\" class=\"dataframe\">\n",
       "  <thead>\n",
       "    <tr style=\"text-align: right;\">\n",
       "      <th></th>\n",
       "      <th>event_name</th>\n",
       "      <th>user_id</th>\n",
       "      <th>percent</th>\n",
       "    </tr>\n",
       "  </thead>\n",
       "  <tbody>\n",
       "    <tr>\n",
       "      <th>0</th>\n",
       "      <td>login</td>\n",
       "      <td>2604</td>\n",
       "      <td>100.00</td>\n",
       "    </tr>\n",
       "    <tr>\n",
       "      <th>1</th>\n",
       "      <td>product_page</td>\n",
       "      <td>1685</td>\n",
       "      <td>64.71</td>\n",
       "    </tr>\n",
       "    <tr>\n",
       "      <th>2</th>\n",
       "      <td>product_cart</td>\n",
       "      <td>782</td>\n",
       "      <td>30.03</td>\n",
       "    </tr>\n",
       "    <tr>\n",
       "      <th>3</th>\n",
       "      <td>purchase</td>\n",
       "      <td>833</td>\n",
       "      <td>31.99</td>\n",
       "    </tr>\n",
       "  </tbody>\n",
       "</table>\n",
       "</div>"
      ],
      "text/plain": [
       "     event_name  user_id  percent\n",
       "0         login     2604   100.00\n",
       "1  product_page     1685    64.71\n",
       "2  product_cart      782    30.03\n",
       "3      purchase      833    31.99"
      ]
     },
     "execution_count": 74,
     "metadata": {},
     "output_type": "execute_result"
    }
   ],
   "source": [
    "new_table(events_uniq_A, 2, 3)"
   ]
  },
  {
   "cell_type": "code",
   "execution_count": 75,
   "metadata": {},
   "outputs": [
    {
     "data": {
      "application/vnd.plotly.v1+json": {
       "config": {
        "plotlyServerURL": "https://plot.ly"
       },
       "data": [
        {
         "name": "А",
         "type": "funnel",
         "x": [
          2604,
          1685,
          782,
          833
         ],
         "y": [
          "login",
          "product_page",
          "product_cart",
          "purchase"
         ]
        },
        {
         "name": "B",
         "type": "funnel",
         "x": [
          876,
          493,
          244,
          249
         ],
         "y": [
          "login",
          "product_page",
          "product_cart",
          "purchase"
         ]
        }
       ],
       "layout": {
        "template": {
         "data": {
          "bar": [
           {
            "error_x": {
             "color": "#2a3f5f"
            },
            "error_y": {
             "color": "#2a3f5f"
            },
            "marker": {
             "line": {
              "color": "#E5ECF6",
              "width": 0.5
             },
             "pattern": {
              "fillmode": "overlay",
              "size": 10,
              "solidity": 0.2
             }
            },
            "type": "bar"
           }
          ],
          "barpolar": [
           {
            "marker": {
             "line": {
              "color": "#E5ECF6",
              "width": 0.5
             },
             "pattern": {
              "fillmode": "overlay",
              "size": 10,
              "solidity": 0.2
             }
            },
            "type": "barpolar"
           }
          ],
          "carpet": [
           {
            "aaxis": {
             "endlinecolor": "#2a3f5f",
             "gridcolor": "white",
             "linecolor": "white",
             "minorgridcolor": "white",
             "startlinecolor": "#2a3f5f"
            },
            "baxis": {
             "endlinecolor": "#2a3f5f",
             "gridcolor": "white",
             "linecolor": "white",
             "minorgridcolor": "white",
             "startlinecolor": "#2a3f5f"
            },
            "type": "carpet"
           }
          ],
          "choropleth": [
           {
            "colorbar": {
             "outlinewidth": 0,
             "ticks": ""
            },
            "type": "choropleth"
           }
          ],
          "contour": [
           {
            "colorbar": {
             "outlinewidth": 0,
             "ticks": ""
            },
            "colorscale": [
             [
              0,
              "#0d0887"
             ],
             [
              0.1111111111111111,
              "#46039f"
             ],
             [
              0.2222222222222222,
              "#7201a8"
             ],
             [
              0.3333333333333333,
              "#9c179e"
             ],
             [
              0.4444444444444444,
              "#bd3786"
             ],
             [
              0.5555555555555556,
              "#d8576b"
             ],
             [
              0.6666666666666666,
              "#ed7953"
             ],
             [
              0.7777777777777778,
              "#fb9f3a"
             ],
             [
              0.8888888888888888,
              "#fdca26"
             ],
             [
              1,
              "#f0f921"
             ]
            ],
            "type": "contour"
           }
          ],
          "contourcarpet": [
           {
            "colorbar": {
             "outlinewidth": 0,
             "ticks": ""
            },
            "type": "contourcarpet"
           }
          ],
          "heatmap": [
           {
            "colorbar": {
             "outlinewidth": 0,
             "ticks": ""
            },
            "colorscale": [
             [
              0,
              "#0d0887"
             ],
             [
              0.1111111111111111,
              "#46039f"
             ],
             [
              0.2222222222222222,
              "#7201a8"
             ],
             [
              0.3333333333333333,
              "#9c179e"
             ],
             [
              0.4444444444444444,
              "#bd3786"
             ],
             [
              0.5555555555555556,
              "#d8576b"
             ],
             [
              0.6666666666666666,
              "#ed7953"
             ],
             [
              0.7777777777777778,
              "#fb9f3a"
             ],
             [
              0.8888888888888888,
              "#fdca26"
             ],
             [
              1,
              "#f0f921"
             ]
            ],
            "type": "heatmap"
           }
          ],
          "heatmapgl": [
           {
            "colorbar": {
             "outlinewidth": 0,
             "ticks": ""
            },
            "colorscale": [
             [
              0,
              "#0d0887"
             ],
             [
              0.1111111111111111,
              "#46039f"
             ],
             [
              0.2222222222222222,
              "#7201a8"
             ],
             [
              0.3333333333333333,
              "#9c179e"
             ],
             [
              0.4444444444444444,
              "#bd3786"
             ],
             [
              0.5555555555555556,
              "#d8576b"
             ],
             [
              0.6666666666666666,
              "#ed7953"
             ],
             [
              0.7777777777777778,
              "#fb9f3a"
             ],
             [
              0.8888888888888888,
              "#fdca26"
             ],
             [
              1,
              "#f0f921"
             ]
            ],
            "type": "heatmapgl"
           }
          ],
          "histogram": [
           {
            "marker": {
             "pattern": {
              "fillmode": "overlay",
              "size": 10,
              "solidity": 0.2
             }
            },
            "type": "histogram"
           }
          ],
          "histogram2d": [
           {
            "colorbar": {
             "outlinewidth": 0,
             "ticks": ""
            },
            "colorscale": [
             [
              0,
              "#0d0887"
             ],
             [
              0.1111111111111111,
              "#46039f"
             ],
             [
              0.2222222222222222,
              "#7201a8"
             ],
             [
              0.3333333333333333,
              "#9c179e"
             ],
             [
              0.4444444444444444,
              "#bd3786"
             ],
             [
              0.5555555555555556,
              "#d8576b"
             ],
             [
              0.6666666666666666,
              "#ed7953"
             ],
             [
              0.7777777777777778,
              "#fb9f3a"
             ],
             [
              0.8888888888888888,
              "#fdca26"
             ],
             [
              1,
              "#f0f921"
             ]
            ],
            "type": "histogram2d"
           }
          ],
          "histogram2dcontour": [
           {
            "colorbar": {
             "outlinewidth": 0,
             "ticks": ""
            },
            "colorscale": [
             [
              0,
              "#0d0887"
             ],
             [
              0.1111111111111111,
              "#46039f"
             ],
             [
              0.2222222222222222,
              "#7201a8"
             ],
             [
              0.3333333333333333,
              "#9c179e"
             ],
             [
              0.4444444444444444,
              "#bd3786"
             ],
             [
              0.5555555555555556,
              "#d8576b"
             ],
             [
              0.6666666666666666,
              "#ed7953"
             ],
             [
              0.7777777777777778,
              "#fb9f3a"
             ],
             [
              0.8888888888888888,
              "#fdca26"
             ],
             [
              1,
              "#f0f921"
             ]
            ],
            "type": "histogram2dcontour"
           }
          ],
          "mesh3d": [
           {
            "colorbar": {
             "outlinewidth": 0,
             "ticks": ""
            },
            "type": "mesh3d"
           }
          ],
          "parcoords": [
           {
            "line": {
             "colorbar": {
              "outlinewidth": 0,
              "ticks": ""
             }
            },
            "type": "parcoords"
           }
          ],
          "pie": [
           {
            "automargin": true,
            "type": "pie"
           }
          ],
          "scatter": [
           {
            "fillpattern": {
             "fillmode": "overlay",
             "size": 10,
             "solidity": 0.2
            },
            "type": "scatter"
           }
          ],
          "scatter3d": [
           {
            "line": {
             "colorbar": {
              "outlinewidth": 0,
              "ticks": ""
             }
            },
            "marker": {
             "colorbar": {
              "outlinewidth": 0,
              "ticks": ""
             }
            },
            "type": "scatter3d"
           }
          ],
          "scattercarpet": [
           {
            "marker": {
             "colorbar": {
              "outlinewidth": 0,
              "ticks": ""
             }
            },
            "type": "scattercarpet"
           }
          ],
          "scattergeo": [
           {
            "marker": {
             "colorbar": {
              "outlinewidth": 0,
              "ticks": ""
             }
            },
            "type": "scattergeo"
           }
          ],
          "scattergl": [
           {
            "marker": {
             "colorbar": {
              "outlinewidth": 0,
              "ticks": ""
             }
            },
            "type": "scattergl"
           }
          ],
          "scattermapbox": [
           {
            "marker": {
             "colorbar": {
              "outlinewidth": 0,
              "ticks": ""
             }
            },
            "type": "scattermapbox"
           }
          ],
          "scatterpolar": [
           {
            "marker": {
             "colorbar": {
              "outlinewidth": 0,
              "ticks": ""
             }
            },
            "type": "scatterpolar"
           }
          ],
          "scatterpolargl": [
           {
            "marker": {
             "colorbar": {
              "outlinewidth": 0,
              "ticks": ""
             }
            },
            "type": "scatterpolargl"
           }
          ],
          "scatterternary": [
           {
            "marker": {
             "colorbar": {
              "outlinewidth": 0,
              "ticks": ""
             }
            },
            "type": "scatterternary"
           }
          ],
          "surface": [
           {
            "colorbar": {
             "outlinewidth": 0,
             "ticks": ""
            },
            "colorscale": [
             [
              0,
              "#0d0887"
             ],
             [
              0.1111111111111111,
              "#46039f"
             ],
             [
              0.2222222222222222,
              "#7201a8"
             ],
             [
              0.3333333333333333,
              "#9c179e"
             ],
             [
              0.4444444444444444,
              "#bd3786"
             ],
             [
              0.5555555555555556,
              "#d8576b"
             ],
             [
              0.6666666666666666,
              "#ed7953"
             ],
             [
              0.7777777777777778,
              "#fb9f3a"
             ],
             [
              0.8888888888888888,
              "#fdca26"
             ],
             [
              1,
              "#f0f921"
             ]
            ],
            "type": "surface"
           }
          ],
          "table": [
           {
            "cells": {
             "fill": {
              "color": "#EBF0F8"
             },
             "line": {
              "color": "white"
             }
            },
            "header": {
             "fill": {
              "color": "#C8D4E3"
             },
             "line": {
              "color": "white"
             }
            },
            "type": "table"
           }
          ]
         },
         "layout": {
          "annotationdefaults": {
           "arrowcolor": "#2a3f5f",
           "arrowhead": 0,
           "arrowwidth": 1
          },
          "autotypenumbers": "strict",
          "coloraxis": {
           "colorbar": {
            "outlinewidth": 0,
            "ticks": ""
           }
          },
          "colorscale": {
           "diverging": [
            [
             0,
             "#8e0152"
            ],
            [
             0.1,
             "#c51b7d"
            ],
            [
             0.2,
             "#de77ae"
            ],
            [
             0.3,
             "#f1b6da"
            ],
            [
             0.4,
             "#fde0ef"
            ],
            [
             0.5,
             "#f7f7f7"
            ],
            [
             0.6,
             "#e6f5d0"
            ],
            [
             0.7,
             "#b8e186"
            ],
            [
             0.8,
             "#7fbc41"
            ],
            [
             0.9,
             "#4d9221"
            ],
            [
             1,
             "#276419"
            ]
           ],
           "sequential": [
            [
             0,
             "#0d0887"
            ],
            [
             0.1111111111111111,
             "#46039f"
            ],
            [
             0.2222222222222222,
             "#7201a8"
            ],
            [
             0.3333333333333333,
             "#9c179e"
            ],
            [
             0.4444444444444444,
             "#bd3786"
            ],
            [
             0.5555555555555556,
             "#d8576b"
            ],
            [
             0.6666666666666666,
             "#ed7953"
            ],
            [
             0.7777777777777778,
             "#fb9f3a"
            ],
            [
             0.8888888888888888,
             "#fdca26"
            ],
            [
             1,
             "#f0f921"
            ]
           ],
           "sequentialminus": [
            [
             0,
             "#0d0887"
            ],
            [
             0.1111111111111111,
             "#46039f"
            ],
            [
             0.2222222222222222,
             "#7201a8"
            ],
            [
             0.3333333333333333,
             "#9c179e"
            ],
            [
             0.4444444444444444,
             "#bd3786"
            ],
            [
             0.5555555555555556,
             "#d8576b"
            ],
            [
             0.6666666666666666,
             "#ed7953"
            ],
            [
             0.7777777777777778,
             "#fb9f3a"
            ],
            [
             0.8888888888888888,
             "#fdca26"
            ],
            [
             1,
             "#f0f921"
            ]
           ]
          },
          "colorway": [
           "#636efa",
           "#EF553B",
           "#00cc96",
           "#ab63fa",
           "#FFA15A",
           "#19d3f3",
           "#FF6692",
           "#B6E880",
           "#FF97FF",
           "#FECB52"
          ],
          "font": {
           "color": "#2a3f5f"
          },
          "geo": {
           "bgcolor": "white",
           "lakecolor": "white",
           "landcolor": "#E5ECF6",
           "showlakes": true,
           "showland": true,
           "subunitcolor": "white"
          },
          "hoverlabel": {
           "align": "left"
          },
          "hovermode": "closest",
          "mapbox": {
           "style": "light"
          },
          "paper_bgcolor": "white",
          "plot_bgcolor": "#E5ECF6",
          "polar": {
           "angularaxis": {
            "gridcolor": "white",
            "linecolor": "white",
            "ticks": ""
           },
           "bgcolor": "#E5ECF6",
           "radialaxis": {
            "gridcolor": "white",
            "linecolor": "white",
            "ticks": ""
           }
          },
          "scene": {
           "xaxis": {
            "backgroundcolor": "#E5ECF6",
            "gridcolor": "white",
            "gridwidth": 2,
            "linecolor": "white",
            "showbackground": true,
            "ticks": "",
            "zerolinecolor": "white"
           },
           "yaxis": {
            "backgroundcolor": "#E5ECF6",
            "gridcolor": "white",
            "gridwidth": 2,
            "linecolor": "white",
            "showbackground": true,
            "ticks": "",
            "zerolinecolor": "white"
           },
           "zaxis": {
            "backgroundcolor": "#E5ECF6",
            "gridcolor": "white",
            "gridwidth": 2,
            "linecolor": "white",
            "showbackground": true,
            "ticks": "",
            "zerolinecolor": "white"
           }
          },
          "shapedefaults": {
           "line": {
            "color": "#2a3f5f"
           }
          },
          "ternary": {
           "aaxis": {
            "gridcolor": "white",
            "linecolor": "white",
            "ticks": ""
           },
           "baxis": {
            "gridcolor": "white",
            "linecolor": "white",
            "ticks": ""
           },
           "bgcolor": "#E5ECF6",
           "caxis": {
            "gridcolor": "white",
            "linecolor": "white",
            "ticks": ""
           }
          },
          "title": {
           "x": 0.05
          },
          "xaxis": {
           "automargin": true,
           "gridcolor": "white",
           "linecolor": "white",
           "ticks": "",
           "title": {
            "standoff": 15
           },
           "zerolinecolor": "white",
           "zerolinewidth": 2
          },
          "yaxis": {
           "automargin": true,
           "gridcolor": "white",
           "linecolor": "white",
           "ticks": "",
           "title": {
            "standoff": 15
           },
           "zerolinecolor": "white",
           "zerolinewidth": 2
          }
         }
        },
        "title": {
         "text": "Воронка продаж <br><sup>Распределенная по группам</sup>",
         "x": 0,
         "xref": "paper"
        }
       }
      },
      "text/html": [
       "<div>                            <div id=\"05532479-e273-4521-96c4-49eacfe20796\" class=\"plotly-graph-div\" style=\"height:525px; width:100%;\"></div>            <script type=\"text/javascript\">                require([\"plotly\"], function(Plotly) {                    window.PLOTLYENV=window.PLOTLYENV || {};                                    if (document.getElementById(\"05532479-e273-4521-96c4-49eacfe20796\")) {                    Plotly.newPlot(                        \"05532479-e273-4521-96c4-49eacfe20796\",                        [{\"name\":\"\\u0410\",\"x\":[2604,1685,782,833],\"y\":[\"login\",\"product_page\",\"product_cart\",\"purchase\"],\"type\":\"funnel\"},{\"name\":\"B\",\"x\":[876,493,244,249],\"y\":[\"login\",\"product_page\",\"product_cart\",\"purchase\"],\"type\":\"funnel\"}],                        {\"template\":{\"data\":{\"histogram2dcontour\":[{\"type\":\"histogram2dcontour\",\"colorbar\":{\"outlinewidth\":0,\"ticks\":\"\"},\"colorscale\":[[0.0,\"#0d0887\"],[0.1111111111111111,\"#46039f\"],[0.2222222222222222,\"#7201a8\"],[0.3333333333333333,\"#9c179e\"],[0.4444444444444444,\"#bd3786\"],[0.5555555555555556,\"#d8576b\"],[0.6666666666666666,\"#ed7953\"],[0.7777777777777778,\"#fb9f3a\"],[0.8888888888888888,\"#fdca26\"],[1.0,\"#f0f921\"]]}],\"choropleth\":[{\"type\":\"choropleth\",\"colorbar\":{\"outlinewidth\":0,\"ticks\":\"\"}}],\"histogram2d\":[{\"type\":\"histogram2d\",\"colorbar\":{\"outlinewidth\":0,\"ticks\":\"\"},\"colorscale\":[[0.0,\"#0d0887\"],[0.1111111111111111,\"#46039f\"],[0.2222222222222222,\"#7201a8\"],[0.3333333333333333,\"#9c179e\"],[0.4444444444444444,\"#bd3786\"],[0.5555555555555556,\"#d8576b\"],[0.6666666666666666,\"#ed7953\"],[0.7777777777777778,\"#fb9f3a\"],[0.8888888888888888,\"#fdca26\"],[1.0,\"#f0f921\"]]}],\"heatmap\":[{\"type\":\"heatmap\",\"colorbar\":{\"outlinewidth\":0,\"ticks\":\"\"},\"colorscale\":[[0.0,\"#0d0887\"],[0.1111111111111111,\"#46039f\"],[0.2222222222222222,\"#7201a8\"],[0.3333333333333333,\"#9c179e\"],[0.4444444444444444,\"#bd3786\"],[0.5555555555555556,\"#d8576b\"],[0.6666666666666666,\"#ed7953\"],[0.7777777777777778,\"#fb9f3a\"],[0.8888888888888888,\"#fdca26\"],[1.0,\"#f0f921\"]]}],\"heatmapgl\":[{\"type\":\"heatmapgl\",\"colorbar\":{\"outlinewidth\":0,\"ticks\":\"\"},\"colorscale\":[[0.0,\"#0d0887\"],[0.1111111111111111,\"#46039f\"],[0.2222222222222222,\"#7201a8\"],[0.3333333333333333,\"#9c179e\"],[0.4444444444444444,\"#bd3786\"],[0.5555555555555556,\"#d8576b\"],[0.6666666666666666,\"#ed7953\"],[0.7777777777777778,\"#fb9f3a\"],[0.8888888888888888,\"#fdca26\"],[1.0,\"#f0f921\"]]}],\"contourcarpet\":[{\"type\":\"contourcarpet\",\"colorbar\":{\"outlinewidth\":0,\"ticks\":\"\"}}],\"contour\":[{\"type\":\"contour\",\"colorbar\":{\"outlinewidth\":0,\"ticks\":\"\"},\"colorscale\":[[0.0,\"#0d0887\"],[0.1111111111111111,\"#46039f\"],[0.2222222222222222,\"#7201a8\"],[0.3333333333333333,\"#9c179e\"],[0.4444444444444444,\"#bd3786\"],[0.5555555555555556,\"#d8576b\"],[0.6666666666666666,\"#ed7953\"],[0.7777777777777778,\"#fb9f3a\"],[0.8888888888888888,\"#fdca26\"],[1.0,\"#f0f921\"]]}],\"surface\":[{\"type\":\"surface\",\"colorbar\":{\"outlinewidth\":0,\"ticks\":\"\"},\"colorscale\":[[0.0,\"#0d0887\"],[0.1111111111111111,\"#46039f\"],[0.2222222222222222,\"#7201a8\"],[0.3333333333333333,\"#9c179e\"],[0.4444444444444444,\"#bd3786\"],[0.5555555555555556,\"#d8576b\"],[0.6666666666666666,\"#ed7953\"],[0.7777777777777778,\"#fb9f3a\"],[0.8888888888888888,\"#fdca26\"],[1.0,\"#f0f921\"]]}],\"mesh3d\":[{\"type\":\"mesh3d\",\"colorbar\":{\"outlinewidth\":0,\"ticks\":\"\"}}],\"scatter\":[{\"fillpattern\":{\"fillmode\":\"overlay\",\"size\":10,\"solidity\":0.2},\"type\":\"scatter\"}],\"parcoords\":[{\"type\":\"parcoords\",\"line\":{\"colorbar\":{\"outlinewidth\":0,\"ticks\":\"\"}}}],\"scatterpolargl\":[{\"type\":\"scatterpolargl\",\"marker\":{\"colorbar\":{\"outlinewidth\":0,\"ticks\":\"\"}}}],\"bar\":[{\"error_x\":{\"color\":\"#2a3f5f\"},\"error_y\":{\"color\":\"#2a3f5f\"},\"marker\":{\"line\":{\"color\":\"#E5ECF6\",\"width\":0.5},\"pattern\":{\"fillmode\":\"overlay\",\"size\":10,\"solidity\":0.2}},\"type\":\"bar\"}],\"scattergeo\":[{\"type\":\"scattergeo\",\"marker\":{\"colorbar\":{\"outlinewidth\":0,\"ticks\":\"\"}}}],\"scatterpolar\":[{\"type\":\"scatterpolar\",\"marker\":{\"colorbar\":{\"outlinewidth\":0,\"ticks\":\"\"}}}],\"histogram\":[{\"marker\":{\"pattern\":{\"fillmode\":\"overlay\",\"size\":10,\"solidity\":0.2}},\"type\":\"histogram\"}],\"scattergl\":[{\"type\":\"scattergl\",\"marker\":{\"colorbar\":{\"outlinewidth\":0,\"ticks\":\"\"}}}],\"scatter3d\":[{\"type\":\"scatter3d\",\"line\":{\"colorbar\":{\"outlinewidth\":0,\"ticks\":\"\"}},\"marker\":{\"colorbar\":{\"outlinewidth\":0,\"ticks\":\"\"}}}],\"scattermapbox\":[{\"type\":\"scattermapbox\",\"marker\":{\"colorbar\":{\"outlinewidth\":0,\"ticks\":\"\"}}}],\"scatterternary\":[{\"type\":\"scatterternary\",\"marker\":{\"colorbar\":{\"outlinewidth\":0,\"ticks\":\"\"}}}],\"scattercarpet\":[{\"type\":\"scattercarpet\",\"marker\":{\"colorbar\":{\"outlinewidth\":0,\"ticks\":\"\"}}}],\"carpet\":[{\"aaxis\":{\"endlinecolor\":\"#2a3f5f\",\"gridcolor\":\"white\",\"linecolor\":\"white\",\"minorgridcolor\":\"white\",\"startlinecolor\":\"#2a3f5f\"},\"baxis\":{\"endlinecolor\":\"#2a3f5f\",\"gridcolor\":\"white\",\"linecolor\":\"white\",\"minorgridcolor\":\"white\",\"startlinecolor\":\"#2a3f5f\"},\"type\":\"carpet\"}],\"table\":[{\"cells\":{\"fill\":{\"color\":\"#EBF0F8\"},\"line\":{\"color\":\"white\"}},\"header\":{\"fill\":{\"color\":\"#C8D4E3\"},\"line\":{\"color\":\"white\"}},\"type\":\"table\"}],\"barpolar\":[{\"marker\":{\"line\":{\"color\":\"#E5ECF6\",\"width\":0.5},\"pattern\":{\"fillmode\":\"overlay\",\"size\":10,\"solidity\":0.2}},\"type\":\"barpolar\"}],\"pie\":[{\"automargin\":true,\"type\":\"pie\"}]},\"layout\":{\"autotypenumbers\":\"strict\",\"colorway\":[\"#636efa\",\"#EF553B\",\"#00cc96\",\"#ab63fa\",\"#FFA15A\",\"#19d3f3\",\"#FF6692\",\"#B6E880\",\"#FF97FF\",\"#FECB52\"],\"font\":{\"color\":\"#2a3f5f\"},\"hovermode\":\"closest\",\"hoverlabel\":{\"align\":\"left\"},\"paper_bgcolor\":\"white\",\"plot_bgcolor\":\"#E5ECF6\",\"polar\":{\"bgcolor\":\"#E5ECF6\",\"angularaxis\":{\"gridcolor\":\"white\",\"linecolor\":\"white\",\"ticks\":\"\"},\"radialaxis\":{\"gridcolor\":\"white\",\"linecolor\":\"white\",\"ticks\":\"\"}},\"ternary\":{\"bgcolor\":\"#E5ECF6\",\"aaxis\":{\"gridcolor\":\"white\",\"linecolor\":\"white\",\"ticks\":\"\"},\"baxis\":{\"gridcolor\":\"white\",\"linecolor\":\"white\",\"ticks\":\"\"},\"caxis\":{\"gridcolor\":\"white\",\"linecolor\":\"white\",\"ticks\":\"\"}},\"coloraxis\":{\"colorbar\":{\"outlinewidth\":0,\"ticks\":\"\"}},\"colorscale\":{\"sequential\":[[0.0,\"#0d0887\"],[0.1111111111111111,\"#46039f\"],[0.2222222222222222,\"#7201a8\"],[0.3333333333333333,\"#9c179e\"],[0.4444444444444444,\"#bd3786\"],[0.5555555555555556,\"#d8576b\"],[0.6666666666666666,\"#ed7953\"],[0.7777777777777778,\"#fb9f3a\"],[0.8888888888888888,\"#fdca26\"],[1.0,\"#f0f921\"]],\"sequentialminus\":[[0.0,\"#0d0887\"],[0.1111111111111111,\"#46039f\"],[0.2222222222222222,\"#7201a8\"],[0.3333333333333333,\"#9c179e\"],[0.4444444444444444,\"#bd3786\"],[0.5555555555555556,\"#d8576b\"],[0.6666666666666666,\"#ed7953\"],[0.7777777777777778,\"#fb9f3a\"],[0.8888888888888888,\"#fdca26\"],[1.0,\"#f0f921\"]],\"diverging\":[[0,\"#8e0152\"],[0.1,\"#c51b7d\"],[0.2,\"#de77ae\"],[0.3,\"#f1b6da\"],[0.4,\"#fde0ef\"],[0.5,\"#f7f7f7\"],[0.6,\"#e6f5d0\"],[0.7,\"#b8e186\"],[0.8,\"#7fbc41\"],[0.9,\"#4d9221\"],[1,\"#276419\"]]},\"xaxis\":{\"gridcolor\":\"white\",\"linecolor\":\"white\",\"ticks\":\"\",\"title\":{\"standoff\":15},\"zerolinecolor\":\"white\",\"automargin\":true,\"zerolinewidth\":2},\"yaxis\":{\"gridcolor\":\"white\",\"linecolor\":\"white\",\"ticks\":\"\",\"title\":{\"standoff\":15},\"zerolinecolor\":\"white\",\"automargin\":true,\"zerolinewidth\":2},\"scene\":{\"xaxis\":{\"backgroundcolor\":\"#E5ECF6\",\"gridcolor\":\"white\",\"linecolor\":\"white\",\"showbackground\":true,\"ticks\":\"\",\"zerolinecolor\":\"white\",\"gridwidth\":2},\"yaxis\":{\"backgroundcolor\":\"#E5ECF6\",\"gridcolor\":\"white\",\"linecolor\":\"white\",\"showbackground\":true,\"ticks\":\"\",\"zerolinecolor\":\"white\",\"gridwidth\":2},\"zaxis\":{\"backgroundcolor\":\"#E5ECF6\",\"gridcolor\":\"white\",\"linecolor\":\"white\",\"showbackground\":true,\"ticks\":\"\",\"zerolinecolor\":\"white\",\"gridwidth\":2}},\"shapedefaults\":{\"line\":{\"color\":\"#2a3f5f\"}},\"annotationdefaults\":{\"arrowcolor\":\"#2a3f5f\",\"arrowhead\":0,\"arrowwidth\":1},\"geo\":{\"bgcolor\":\"white\",\"landcolor\":\"#E5ECF6\",\"subunitcolor\":\"white\",\"showland\":true,\"showlakes\":true,\"lakecolor\":\"white\"},\"title\":{\"x\":0.05},\"mapbox\":{\"style\":\"light\"}}},\"title\":{\"text\":\"\\u0412\\u043e\\u0440\\u043e\\u043d\\u043a\\u0430 \\u043f\\u0440\\u043e\\u0434\\u0430\\u0436 <br><sup>\\u0420\\u0430\\u0441\\u043f\\u0440\\u0435\\u0434\\u0435\\u043b\\u0435\\u043d\\u043d\\u0430\\u044f \\u043f\\u043e \\u0433\\u0440\\u0443\\u043f\\u043f\\u0430\\u043c</sup>\",\"x\":0,\"xref\":\"paper\"}},                        {\"responsive\": true}                    ).then(function(){\n",
       "                            \n",
       "var gd = document.getElementById('05532479-e273-4521-96c4-49eacfe20796');\n",
       "var x = new MutationObserver(function (mutations, observer) {{\n",
       "        var display = window.getComputedStyle(gd).display;\n",
       "        if (!display || display === 'none') {{\n",
       "            console.log([gd, 'removed!']);\n",
       "            Plotly.purge(gd);\n",
       "            observer.disconnect();\n",
       "        }}\n",
       "}});\n",
       "\n",
       "// Listen for the removal of the full notebook cells\n",
       "var notebookContainer = gd.closest('#notebook-container');\n",
       "if (notebookContainer) {{\n",
       "    x.observe(notebookContainer, {childList: true});\n",
       "}}\n",
       "\n",
       "// Listen for the clearing of the current output cell\n",
       "var outputEl = gd.closest('.output');\n",
       "if (outputEl) {{\n",
       "    x.observe(outputEl, {childList: true});\n",
       "}}\n",
       "\n",
       "                        })                };                });            </script>        </div>"
      ]
     },
     "metadata": {},
     "output_type": "display_data"
    }
   ],
   "source": [
    "fig = go.Figure()\n",
    "fig.add_trace(go.Funnel(\n",
    "    name = 'А',\n",
    "    y = events_uniq_A['event_name'],\n",
    "    x = events_uniq_A['user_id'],\n",
    "    ))\n",
    "fig.add_trace(go.Funnel(\n",
    "    name = 'B',\n",
    "    y = events_uniq_B['event_name'],\n",
    "    x = events_uniq_B['user_id'],\n",
    "    ))\n",
    "fig.update_layout(\n",
    "    title=go.layout.Title(\n",
    "        text=\"Воронка продаж <br><sup>Распределенная по группам</sup>\",\n",
    "        xref=\"paper\",\n",
    "        x=0\n",
    "    ))\n",
    "fig.show()"
   ]
  },
  {
   "cell_type": "markdown",
   "metadata": {},
   "source": [
    "**Вывод:** События на пользователя в каждой из групп распределены неравномерно, в группе А - 7 событий, в группе В - 6 событий. Также во время проведения теста проводилось два мероприятия, но т.к. мы исследуем только пользователей из Европы, то только Christmas&New Year Promo могло повлиять на пользователей.\n",
    "\n",
    "Распределение событий по дням тоже неравномерное, мы видим, что в группе А после 12.12 был рост количества событий, в группе В рост был менее выражен, также в группе А наблюдается всплеск 21.12, в группе В он был совсем небольшой. Из всех пользователей 99.97% зарегистрировались, 62.57% дошли до карточки товара, 31.08% совершили покупку, 29.47% перешли в корзину\n"
   ]
  },
  {
   "cell_type": "markdown",
   "metadata": {},
   "source": [
    "## Проведите оценку результатов A/B-тестирования:"
   ]
  },
  {
   "cell_type": "markdown",
   "metadata": {},
   "source": [
    "### Что можно сказать про результаты A/B-тестирования?"
   ]
  },
  {
   "cell_type": "markdown",
   "metadata": {},
   "source": [
    "Ожидаемый эффект: за 14 дней с момента регистрации в системе пользователи покажут улучшение каждой метрики не менее, чем на 10%:\n",
    "\n",
    "конверсии в просмотр карточек товаров — событие product_page\n",
    "\n",
    "просмотры корзины — product_cart\n",
    "\n",
    "покупки — purchase."
   ]
  },
  {
   "cell_type": "code",
   "execution_count": 76,
   "metadata": {},
   "outputs": [
    {
     "data": {
      "text/html": [
       "<div>\n",
       "<style scoped>\n",
       "    .dataframe tbody tr th:only-of-type {\n",
       "        vertical-align: middle;\n",
       "    }\n",
       "\n",
       "    .dataframe tbody tr th {\n",
       "        vertical-align: top;\n",
       "    }\n",
       "\n",
       "    .dataframe thead th {\n",
       "        text-align: right;\n",
       "    }\n",
       "</style>\n",
       "<table border=\"1\" class=\"dataframe\">\n",
       "  <thead>\n",
       "    <tr style=\"text-align: right;\">\n",
       "      <th></th>\n",
       "      <th>group</th>\n",
       "      <th>event_name</th>\n",
       "      <th>ab_test</th>\n",
       "    </tr>\n",
       "  </thead>\n",
       "  <tbody>\n",
       "    <tr>\n",
       "      <th>0</th>\n",
       "      <td>A</td>\n",
       "      <td>login</td>\n",
       "      <td>7968</td>\n",
       "    </tr>\n",
       "    <tr>\n",
       "      <th>1</th>\n",
       "      <td>A</td>\n",
       "      <td>product_cart</td>\n",
       "      <td>2385</td>\n",
       "    </tr>\n",
       "    <tr>\n",
       "      <th>2</th>\n",
       "      <td>A</td>\n",
       "      <td>product_page</td>\n",
       "      <td>5125</td>\n",
       "    </tr>\n",
       "    <tr>\n",
       "      <th>3</th>\n",
       "      <td>A</td>\n",
       "      <td>purchase</td>\n",
       "      <td>2499</td>\n",
       "    </tr>\n",
       "    <tr>\n",
       "      <th>4</th>\n",
       "      <td>B</td>\n",
       "      <td>login</td>\n",
       "      <td>2345</td>\n",
       "    </tr>\n",
       "    <tr>\n",
       "      <th>5</th>\n",
       "      <td>B</td>\n",
       "      <td>product_cart</td>\n",
       "      <td>625</td>\n",
       "    </tr>\n",
       "    <tr>\n",
       "      <th>6</th>\n",
       "      <td>B</td>\n",
       "      <td>product_page</td>\n",
       "      <td>1257</td>\n",
       "    </tr>\n",
       "    <tr>\n",
       "      <th>7</th>\n",
       "      <td>B</td>\n",
       "      <td>purchase</td>\n",
       "      <td>624</td>\n",
       "    </tr>\n",
       "  </tbody>\n",
       "</table>\n",
       "</div>"
      ],
      "text/plain": [
       "  group    event_name  ab_test\n",
       "0     A         login     7968\n",
       "1     A  product_cart     2385\n",
       "2     A  product_page     5125\n",
       "3     A      purchase     2499\n",
       "4     B         login     2345\n",
       "5     B  product_cart      625\n",
       "6     B  product_page     1257\n",
       "7     B      purchase      624"
      ]
     },
     "execution_count": 76,
     "metadata": {},
     "output_type": "execute_result"
    }
   ],
   "source": [
    "results = events.groupby(['group', 'event_name'])['ab_test'].count().reset_index()\n",
    "results"
   ]
  },
  {
   "cell_type": "code",
   "execution_count": 77,
   "metadata": {},
   "outputs": [],
   "source": [
    "results_cr = pd.DataFrame(index=['product_cart', 'product_page', 'purchase'], \\\n",
    "                                 columns=['cr_a','cr_b','delta'])\n"
   ]
  },
  {
   "cell_type": "code",
   "execution_count": 78,
   "metadata": {
    "scrolled": false
   },
   "outputs": [
    {
     "data": {
      "text/html": [
       "<div>\n",
       "<style scoped>\n",
       "    .dataframe tbody tr th:only-of-type {\n",
       "        vertical-align: middle;\n",
       "    }\n",
       "\n",
       "    .dataframe tbody tr th {\n",
       "        vertical-align: top;\n",
       "    }\n",
       "\n",
       "    .dataframe thead th {\n",
       "        text-align: right;\n",
       "    }\n",
       "</style>\n",
       "<table border=\"1\" class=\"dataframe\">\n",
       "  <thead>\n",
       "    <tr style=\"text-align: right;\">\n",
       "      <th></th>\n",
       "      <th>cr_a</th>\n",
       "      <th>cr_b</th>\n",
       "      <th>delta</th>\n",
       "    </tr>\n",
       "  </thead>\n",
       "  <tbody>\n",
       "    <tr>\n",
       "      <th>product_cart</th>\n",
       "      <td>29.9</td>\n",
       "      <td>26.7</td>\n",
       "      <td>-10.702341</td>\n",
       "    </tr>\n",
       "    <tr>\n",
       "      <th>product_page</th>\n",
       "      <td>64.3</td>\n",
       "      <td>53.6</td>\n",
       "      <td>-16.640747</td>\n",
       "    </tr>\n",
       "    <tr>\n",
       "      <th>purchase</th>\n",
       "      <td>31.4</td>\n",
       "      <td>26.6</td>\n",
       "      <td>-15.286624</td>\n",
       "    </tr>\n",
       "  </tbody>\n",
       "</table>\n",
       "</div>"
      ],
      "text/plain": [
       "              cr_a  cr_b      delta\n",
       "product_cart  29.9  26.7 -10.702341\n",
       "product_page  64.3  53.6 -16.640747\n",
       "purchase      31.4  26.6 -15.286624"
      ]
     },
     "execution_count": 78,
     "metadata": {},
     "output_type": "execute_result"
    }
   ],
   "source": [
    "for i in [1,2,3]:\n",
    "    results_cr.iloc[i-1, 0] = round((results.iloc[i,2] / results.iloc[0,2] * 100), 1)   \n",
    "for i in [1,2,3]:\n",
    "    results_cr.iloc[i-1, 1] = round((results.iloc[i+4,2] / results.iloc[4,2] * 100), 1)    \n",
    "results_cr['delta'] = (results_cr['cr_b'] / results_cr['cr_a'] * 100 - 100)\n",
    "\n",
    "results_cr"
   ]
  },
  {
   "cell_type": "markdown",
   "metadata": {},
   "source": [
    "В группе В улучшений не было, конверсия только снизилась"
   ]
  },
  {
   "cell_type": "markdown",
   "metadata": {},
   "source": [
    "### Проверьте статистическую разницу долей z-критерием."
   ]
  },
  {
   "cell_type": "markdown",
   "metadata": {},
   "source": [
    "H0 - нулевая гипотеза о том, что статистически значимых различий в долях между группами пользователей нет\n",
    "\n",
    "H1 - альтернативная гипотеза о том, что есть статистические различия между долями групп пользователей"
   ]
  },
  {
   "cell_type": "code",
   "execution_count": 79,
   "metadata": {},
   "outputs": [],
   "source": [
    "def z_test(df1, df2, event, alpha, n):  \n",
    " \n",
    "    # критический уровень статистической значимости c поправкой Бонферрони\n",
    "    bonferroni_alpha = alpha / n\n",
    " \n",
    "    # число пользователей в группе 1 и группе 2:\n",
    "    n_users = np.array([users_a, \n",
    "                        users_b])\n",
    "\n",
    "    # число пользователей, совершивших событие в группе 1 и группе 2\n",
    "    success = np.array([events_a[events_a['event_name'] == event]['user_id'].nunique(), \n",
    "                        events_b[events_b['event_name'] == event]['user_id'].nunique()])\n",
    "\n",
    "    # пропорции успехов в группах:\n",
    "    p1 = success[0]/n_users[0]\n",
    "    p2 = success[1]/n_users[1]\n",
    "    \n",
    "    print(n_users[0], n_users[1])\n",
    "    \n",
    "    # пропорция успехов в комбинированном датасете:\n",
    "    p_combined = (success[0] + success[1]) / (n_users[0] + n_users[1])\n",
    "    \n",
    "    # разница пропорций в датасетах\n",
    "    difference = p1 - p2 \n",
    "    \n",
    "    # считаем статистику в ст.отклонениях стандартного нормального распределения\n",
    "    z_value = difference /  np.sqrt(p_combined * (1 - p_combined) * (1/n_users[0] + 1/n_users[1]))\n",
    "    \n",
    "    # задаем стандартное нормальное распределение (среднее 0, ст.отклонение 1)\n",
    "    distr = st.norm(0, 1)  \n",
    "\n",
    "    p_value = (1 - distr.cdf(abs(z_value))) * 2   #тест двусторонний, удваиваем результат\n",
    "    \n",
    "    print('Событие:', event)\n",
    "    print('p-значение: ', p_value)\n",
    "\n",
    "    if p_value < bonferroni_alpha:\n",
    "        print('Отвергаем нулевую гипотезу, есть статистически значимых различия между долями')\n",
    "    else:\n",
    "        print(\n",
    "        'Не получилось отвергнуть нулевую гипотезу, статистически значимых различий между долями нет ')"
   ]
  },
  {
   "cell_type": "code",
   "execution_count": 80,
   "metadata": {},
   "outputs": [
    {
     "name": "stdout",
     "output_type": "stream",
     "text": [
      "2604 877\n",
      "Событие: product_page\n",
      "p-значение:  6.942739359416805e-06\n",
      "Отвергаем нулевую гипотезу, есть статистически значимых различия между долями\n",
      "\n",
      "2604 877\n",
      "Событие: product_cart\n",
      "p-значение:  0.21469192029582396\n",
      "Не получилось отвергнуть нулевую гипотезу, статистически значимых различий между долями нет \n",
      "\n",
      "2604 877\n",
      "Событие: purchase\n",
      "p-значение:  0.04652482738393027\n",
      "Не получилось отвергнуть нулевую гипотезу, статистически значимых различий между долями нет \n",
      "\n"
     ]
    }
   ],
   "source": [
    "for event in ['product_page', 'product_cart', 'purchase']:\n",
    "    z_test(events_a, events_b, event,.05, 3)\n",
    "    print()"
   ]
  },
  {
   "cell_type": "markdown",
   "metadata": {},
   "source": [
    "**Вывод:** Мы видим, что конверсия на всех этапах воронки только ухудшилась, ни о каких увеличениях на 10п.п. говорить не приходится. Нулевую гипотезу отвергли только на этапе карточки товара, на остальных этапах значимой разницы между долями нет."
   ]
  },
  {
   "cell_type": "markdown",
   "metadata": {},
   "source": [
    "## Вывод"
   ]
  },
  {
   "cell_type": "markdown",
   "metadata": {},
   "source": [
    "Все условия теста не соблюдены. \n",
    "- Не все даты есть;\n",
    "- Количество участников намного меньше, всего 3481 вместо 6000 пользователей;\n",
    "- Во время теста проходила маркетинговая акция, которая тоже согла повлиять на результаты;\n",
    "- Также параллельно проходил второй тест, пользователи которого участвовали и в нашем.\n",
    "Уже можем делать вывод о том, что могут быть высокая погрешность и недостоверность данных\n",
    "\n",
    "По результатам исследовательского анализа данных в группах разное количество участников, на группу А приходится 7 событий, на группу В всего 6. Из всех пользователей 99.97% зарегистрировались, 62.57% дошли до карточки товара, 31.08% совершили покупку, 29.47% перешли в корзину Конверсия в группе В на 10% не увеличилась, а только снизилась. По итогам стататистического анализа мы отвергли гипотезу о равенстве долей в событие карточка товара.\n",
    "\n",
    "По итогам теста можно сказать, что тест провален."
   ]
  },
  {
   "cell_type": "markdown",
   "metadata": {},
   "source": [
    "## Рекомендации"
   ]
  },
  {
   "cell_type": "markdown",
   "metadata": {},
   "source": [
    "Перед проведением теста нужно внимательнее готовится, проверять наличие паралелльных тестов и маркетинговых акций, запускать тест на равные группы.\n"
   ]
  }
 ],
 "metadata": {
  "ExecuteTimeLog": [
   {
    "duration": 4,
    "start_time": "2023-09-11T20:36:51.586Z"
   },
   {
    "duration": 1824,
    "start_time": "2023-09-11T20:37:29.226Z"
   },
   {
    "duration": 178,
    "start_time": "2023-09-11T20:37:36.937Z"
   },
   {
    "duration": 1420,
    "start_time": "2023-09-11T20:39:16.956Z"
   },
   {
    "duration": 34,
    "start_time": "2023-09-11T20:39:29.272Z"
   },
   {
    "duration": 4,
    "start_time": "2023-09-11T20:44:59.529Z"
   },
   {
    "duration": 1219,
    "start_time": "2023-09-11T20:44:59.671Z"
   },
   {
    "duration": 24,
    "start_time": "2023-09-11T20:45:00.892Z"
   },
   {
    "duration": 48,
    "start_time": "2023-09-11T20:45:00.918Z"
   },
   {
    "duration": 62,
    "start_time": "2023-09-11T20:45:00.969Z"
   },
   {
    "duration": 137,
    "start_time": "2023-09-11T20:45:01.032Z"
   },
   {
    "duration": 27,
    "start_time": "2023-09-11T20:45:01.172Z"
   },
   {
    "duration": 22,
    "start_time": "2023-09-11T20:45:01.349Z"
   },
   {
    "duration": 13,
    "start_time": "2023-09-11T20:45:01.537Z"
   },
   {
    "duration": 15,
    "start_time": "2023-09-11T20:45:01.686Z"
   },
   {
    "duration": 22,
    "start_time": "2023-09-11T20:45:01.869Z"
   },
   {
    "duration": 24,
    "start_time": "2023-09-11T20:45:02.036Z"
   },
   {
    "duration": 12,
    "start_time": "2023-09-11T20:45:02.201Z"
   },
   {
    "duration": 34,
    "start_time": "2023-09-11T20:45:02.384Z"
   },
   {
    "duration": 86,
    "start_time": "2023-09-11T20:45:02.922Z"
   },
   {
    "duration": 11,
    "start_time": "2023-09-11T20:45:03.087Z"
   },
   {
    "duration": 84,
    "start_time": "2023-09-11T20:45:03.252Z"
   },
   {
    "duration": 46,
    "start_time": "2023-09-11T20:45:03.439Z"
   },
   {
    "duration": 49,
    "start_time": "2023-09-11T20:45:03.622Z"
   },
   {
    "duration": 33,
    "start_time": "2023-09-11T20:45:03.785Z"
   },
   {
    "duration": 15,
    "start_time": "2023-09-11T20:45:04.387Z"
   },
   {
    "duration": 10,
    "start_time": "2023-09-11T20:45:04.571Z"
   },
   {
    "duration": 7,
    "start_time": "2023-09-11T20:45:04.787Z"
   },
   {
    "duration": 12,
    "start_time": "2023-09-11T20:45:04.970Z"
   },
   {
    "duration": 42,
    "start_time": "2023-09-11T20:45:05.153Z"
   },
   {
    "duration": 4,
    "start_time": "2023-09-11T20:46:35.789Z"
   },
   {
    "duration": 6,
    "start_time": "2023-09-11T20:48:55.904Z"
   },
   {
    "duration": 5,
    "start_time": "2023-09-11T20:49:16.890Z"
   },
   {
    "duration": 8,
    "start_time": "2023-09-11T20:51:11.653Z"
   },
   {
    "duration": 10,
    "start_time": "2023-09-11T20:53:18.253Z"
   },
   {
    "duration": 1603,
    "start_time": "2023-09-12T16:09:41.224Z"
   },
   {
    "duration": 3,
    "start_time": "2023-09-12T16:11:07.106Z"
   },
   {
    "duration": 1209,
    "start_time": "2023-09-12T16:11:08.054Z"
   },
   {
    "duration": 28,
    "start_time": "2023-09-12T16:11:09.265Z"
   },
   {
    "duration": 12,
    "start_time": "2023-09-12T16:11:10.207Z"
   },
   {
    "duration": 5,
    "start_time": "2023-09-12T16:11:10.354Z"
   },
   {
    "duration": 6,
    "start_time": "2023-09-12T16:11:10.521Z"
   },
   {
    "duration": 5,
    "start_time": "2023-09-12T16:11:10.808Z"
   },
   {
    "duration": 19,
    "start_time": "2023-09-12T16:11:11.305Z"
   },
   {
    "duration": 15,
    "start_time": "2023-09-12T16:11:11.471Z"
   },
   {
    "duration": 15,
    "start_time": "2023-09-12T16:11:11.639Z"
   },
   {
    "duration": 12,
    "start_time": "2023-09-12T16:11:11.804Z"
   },
   {
    "duration": 24,
    "start_time": "2023-09-12T16:11:11.953Z"
   },
   {
    "duration": 14,
    "start_time": "2023-09-12T16:11:12.121Z"
   },
   {
    "duration": 35,
    "start_time": "2023-09-12T16:11:12.287Z"
   },
   {
    "duration": 70,
    "start_time": "2023-09-12T16:11:12.781Z"
   },
   {
    "duration": 9,
    "start_time": "2023-09-12T16:11:12.960Z"
   },
   {
    "duration": 91,
    "start_time": "2023-09-12T16:11:13.120Z"
   },
   {
    "duration": 52,
    "start_time": "2023-09-12T16:11:13.490Z"
   },
   {
    "duration": 45,
    "start_time": "2023-09-12T16:11:13.641Z"
   },
   {
    "duration": 31,
    "start_time": "2023-09-12T16:11:13.820Z"
   },
   {
    "duration": 12,
    "start_time": "2023-09-12T16:11:14.354Z"
   },
   {
    "duration": 7,
    "start_time": "2023-09-12T16:11:14.536Z"
   },
   {
    "duration": 8,
    "start_time": "2023-09-12T16:11:14.704Z"
   },
   {
    "duration": 9,
    "start_time": "2023-09-12T16:11:14.888Z"
   },
   {
    "duration": 32,
    "start_time": "2023-09-12T16:11:15.053Z"
   },
   {
    "duration": 5,
    "start_time": "2023-09-12T16:11:15.897Z"
   },
   {
    "duration": 8,
    "start_time": "2023-09-12T16:11:16.220Z"
   },
   {
    "duration": 13,
    "start_time": "2023-09-12T16:11:16.555Z"
   },
   {
    "duration": 3,
    "start_time": "2023-09-12T16:13:07.444Z"
   },
   {
    "duration": 977,
    "start_time": "2023-09-12T16:13:07.622Z"
   },
   {
    "duration": 23,
    "start_time": "2023-09-12T16:13:08.601Z"
   },
   {
    "duration": 14,
    "start_time": "2023-09-12T16:13:08.626Z"
   },
   {
    "duration": 5,
    "start_time": "2023-09-12T16:13:08.753Z"
   },
   {
    "duration": 7,
    "start_time": "2023-09-12T16:13:08.920Z"
   },
   {
    "duration": 4,
    "start_time": "2023-09-12T16:13:09.086Z"
   },
   {
    "duration": 19,
    "start_time": "2023-09-12T16:13:09.777Z"
   },
   {
    "duration": 13,
    "start_time": "2023-09-12T16:13:09.938Z"
   },
   {
    "duration": 15,
    "start_time": "2023-09-12T16:13:10.103Z"
   },
   {
    "duration": 11,
    "start_time": "2023-09-12T16:13:10.286Z"
   },
   {
    "duration": 24,
    "start_time": "2023-09-12T16:13:10.453Z"
   },
   {
    "duration": 11,
    "start_time": "2023-09-12T16:13:10.620Z"
   },
   {
    "duration": 33,
    "start_time": "2023-09-12T16:13:10.804Z"
   },
   {
    "duration": 70,
    "start_time": "2023-09-12T16:13:11.303Z"
   },
   {
    "duration": 9,
    "start_time": "2023-09-12T16:13:11.504Z"
   },
   {
    "duration": 88,
    "start_time": "2023-09-12T16:13:11.686Z"
   },
   {
    "duration": 54,
    "start_time": "2023-09-12T16:13:11.854Z"
   },
   {
    "duration": 45,
    "start_time": "2023-09-12T16:13:12.539Z"
   },
   {
    "duration": 33,
    "start_time": "2023-09-12T16:13:12.703Z"
   },
   {
    "duration": 12,
    "start_time": "2023-09-12T16:13:13.281Z"
   },
   {
    "duration": 7,
    "start_time": "2023-09-12T16:13:13.438Z"
   },
   {
    "duration": 7,
    "start_time": "2023-09-12T16:13:13.619Z"
   },
   {
    "duration": 8,
    "start_time": "2023-09-12T16:13:13.803Z"
   },
   {
    "duration": 43,
    "start_time": "2023-09-12T16:13:13.969Z"
   },
   {
    "duration": 5,
    "start_time": "2023-09-12T16:13:14.882Z"
   },
   {
    "duration": 7,
    "start_time": "2023-09-12T16:13:15.927Z"
   },
   {
    "duration": 10,
    "start_time": "2023-09-12T16:13:18.002Z"
   },
   {
    "duration": 145,
    "start_time": "2023-09-12T17:11:37.013Z"
   },
   {
    "duration": 31,
    "start_time": "2023-09-12T17:11:40.463Z"
   },
   {
    "duration": 16,
    "start_time": "2023-09-12T17:11:56.528Z"
   },
   {
    "duration": 8,
    "start_time": "2023-09-12T17:12:28.424Z"
   },
   {
    "duration": 9,
    "start_time": "2023-09-12T17:12:40.860Z"
   },
   {
    "duration": 8,
    "start_time": "2023-09-12T17:14:33.210Z"
   },
   {
    "duration": 21,
    "start_time": "2023-09-12T17:15:20.777Z"
   },
   {
    "duration": 21,
    "start_time": "2023-09-12T17:17:17.577Z"
   },
   {
    "duration": 10,
    "start_time": "2023-09-12T17:20:34.546Z"
   },
   {
    "duration": 7,
    "start_time": "2023-09-12T17:24:16.941Z"
   },
   {
    "duration": 14,
    "start_time": "2023-09-12T17:27:43.709Z"
   },
   {
    "duration": 12,
    "start_time": "2023-09-12T17:27:49.228Z"
   },
   {
    "duration": 33,
    "start_time": "2023-09-12T17:27:55.454Z"
   },
   {
    "duration": 14,
    "start_time": "2023-09-12T17:28:03.061Z"
   },
   {
    "duration": 44,
    "start_time": "2023-09-12T18:01:02.408Z"
   },
   {
    "duration": 15,
    "start_time": "2023-09-12T18:01:03.271Z"
   },
   {
    "duration": 29,
    "start_time": "2023-09-12T18:07:56.314Z"
   },
   {
    "duration": 10,
    "start_time": "2023-09-12T18:08:20.493Z"
   },
   {
    "duration": 30,
    "start_time": "2023-09-12T18:17:43.354Z"
   },
   {
    "duration": 6,
    "start_time": "2023-09-12T18:18:06.311Z"
   },
   {
    "duration": 6,
    "start_time": "2023-09-12T18:18:14.715Z"
   },
   {
    "duration": 18,
    "start_time": "2023-09-12T18:18:29.145Z"
   },
   {
    "duration": 45,
    "start_time": "2023-09-12T18:18:51.527Z"
   },
   {
    "duration": 7,
    "start_time": "2023-09-12T18:18:55.258Z"
   },
   {
    "duration": 18,
    "start_time": "2023-09-12T18:19:01.090Z"
   },
   {
    "duration": 63,
    "start_time": "2023-09-12T18:19:16.778Z"
   },
   {
    "duration": 16,
    "start_time": "2023-09-12T18:19:17.395Z"
   },
   {
    "duration": 12,
    "start_time": "2023-09-12T18:19:29.292Z"
   },
   {
    "duration": 14,
    "start_time": "2023-09-12T18:19:35.512Z"
   },
   {
    "duration": 20,
    "start_time": "2023-09-12T18:19:46.159Z"
   },
   {
    "duration": 10,
    "start_time": "2023-09-12T18:20:27.461Z"
   },
   {
    "duration": 13,
    "start_time": "2023-09-12T18:20:35.266Z"
   },
   {
    "duration": 14,
    "start_time": "2023-09-12T18:20:55.548Z"
   },
   {
    "duration": 10,
    "start_time": "2023-09-12T18:21:46.259Z"
   },
   {
    "duration": 34,
    "start_time": "2023-09-12T18:22:05.945Z"
   },
   {
    "duration": 9,
    "start_time": "2023-09-12T18:22:06.640Z"
   },
   {
    "duration": 7,
    "start_time": "2023-09-12T18:22:08.177Z"
   },
   {
    "duration": 17,
    "start_time": "2023-09-12T18:53:49.410Z"
   },
   {
    "duration": 28,
    "start_time": "2023-09-12T18:53:51.490Z"
   },
   {
    "duration": 13,
    "start_time": "2023-09-12T18:53:53.964Z"
   },
   {
    "duration": 34,
    "start_time": "2023-09-12T18:54:22.807Z"
   },
   {
    "duration": 14,
    "start_time": "2023-09-12T18:54:26.994Z"
   },
   {
    "duration": 10,
    "start_time": "2023-09-12T18:55:06.433Z"
   },
   {
    "duration": 14,
    "start_time": "2023-09-12T18:55:12.891Z"
   },
   {
    "duration": 30,
    "start_time": "2023-09-12T18:55:57.343Z"
   },
   {
    "duration": 29,
    "start_time": "2023-09-12T18:56:45.396Z"
   },
   {
    "duration": 13,
    "start_time": "2023-09-12T18:57:24.311Z"
   },
   {
    "duration": 97,
    "start_time": "2023-09-12T18:58:38.442Z"
   },
   {
    "duration": 15,
    "start_time": "2023-09-12T18:58:54.411Z"
   },
   {
    "duration": 248,
    "start_time": "2023-09-12T18:59:35.034Z"
   },
   {
    "duration": 10,
    "start_time": "2023-09-12T18:59:35.979Z"
   },
   {
    "duration": 636,
    "start_time": "2023-09-12T18:59:56.564Z"
   },
   {
    "duration": 412,
    "start_time": "2023-09-12T19:00:16.377Z"
   },
   {
    "duration": 10,
    "start_time": "2023-09-12T19:00:38.200Z"
   },
   {
    "duration": 106,
    "start_time": "2023-09-12T19:01:05.866Z"
   },
   {
    "duration": 41,
    "start_time": "2023-09-12T19:01:24.776Z"
   },
   {
    "duration": 52,
    "start_time": "2023-09-12T19:01:29.227Z"
   },
   {
    "duration": 52,
    "start_time": "2023-09-12T19:01:43.471Z"
   },
   {
    "duration": 37,
    "start_time": "2023-09-12T19:02:08.077Z"
   },
   {
    "duration": 14,
    "start_time": "2023-09-12T19:02:31.775Z"
   },
   {
    "duration": 134,
    "start_time": "2023-09-12T19:02:56.395Z"
   },
   {
    "duration": 19,
    "start_time": "2023-09-12T19:02:57.596Z"
   },
   {
    "duration": 132,
    "start_time": "2023-09-12T19:03:14.292Z"
   },
   {
    "duration": 19,
    "start_time": "2023-09-12T19:03:14.776Z"
   },
   {
    "duration": 26,
    "start_time": "2023-09-12T19:05:21.598Z"
   },
   {
    "duration": 131,
    "start_time": "2023-09-12T19:05:22.209Z"
   },
   {
    "duration": 7,
    "start_time": "2023-09-12T19:05:37.742Z"
   },
   {
    "duration": 61,
    "start_time": "2023-09-12T19:06:04.046Z"
   },
   {
    "duration": 17,
    "start_time": "2023-09-12T19:07:19.671Z"
   },
   {
    "duration": 38,
    "start_time": "2023-09-12T19:07:23.182Z"
   },
   {
    "duration": 14,
    "start_time": "2023-09-12T19:07:40.526Z"
   },
   {
    "duration": 10,
    "start_time": "2023-09-12T19:08:09.905Z"
   },
   {
    "duration": 10,
    "start_time": "2023-09-12T19:09:25.120Z"
   },
   {
    "duration": 27,
    "start_time": "2023-09-12T19:09:53.192Z"
   },
   {
    "duration": 12,
    "start_time": "2023-09-12T19:10:16.635Z"
   },
   {
    "duration": 19,
    "start_time": "2023-09-12T19:11:09.960Z"
   },
   {
    "duration": 8,
    "start_time": "2023-09-12T19:11:28.510Z"
   },
   {
    "duration": 15,
    "start_time": "2023-09-12T19:11:35.893Z"
   },
   {
    "duration": 19,
    "start_time": "2023-09-12T19:11:40.293Z"
   },
   {
    "duration": 10,
    "start_time": "2023-09-12T19:11:45.159Z"
   },
   {
    "duration": 12,
    "start_time": "2023-09-12T19:12:22.508Z"
   },
   {
    "duration": 10,
    "start_time": "2023-09-12T19:12:51.341Z"
   },
   {
    "duration": 9,
    "start_time": "2023-09-12T19:14:19.867Z"
   },
   {
    "duration": 9,
    "start_time": "2023-09-12T19:14:37.362Z"
   },
   {
    "duration": 10,
    "start_time": "2023-09-12T19:14:56.376Z"
   },
   {
    "duration": 23,
    "start_time": "2023-09-12T19:15:00.593Z"
   },
   {
    "duration": 10,
    "start_time": "2023-09-12T19:15:37.668Z"
   },
   {
    "duration": 14,
    "start_time": "2023-09-12T19:16:12.517Z"
   },
   {
    "duration": 11,
    "start_time": "2023-09-12T19:24:11.610Z"
   },
   {
    "duration": 26,
    "start_time": "2023-09-12T19:24:37.994Z"
   },
   {
    "duration": 9,
    "start_time": "2023-09-12T19:25:22.358Z"
   },
   {
    "duration": 21,
    "start_time": "2023-09-12T19:25:25.096Z"
   },
   {
    "duration": 1185,
    "start_time": "2023-09-12T19:25:26.345Z"
   },
   {
    "duration": 25,
    "start_time": "2023-09-12T19:27:48.922Z"
   },
   {
    "duration": 26,
    "start_time": "2023-09-12T19:36:06.500Z"
   },
   {
    "duration": 34,
    "start_time": "2023-09-12T19:36:31.268Z"
   },
   {
    "duration": 16,
    "start_time": "2023-09-12T19:38:44.742Z"
   },
   {
    "duration": 6,
    "start_time": "2023-09-12T19:38:45.794Z"
   },
   {
    "duration": 29,
    "start_time": "2023-09-12T19:38:46.298Z"
   },
   {
    "duration": 137,
    "start_time": "2023-09-12T19:38:47.709Z"
   },
   {
    "duration": 24,
    "start_time": "2023-09-12T19:38:51.982Z"
   },
   {
    "duration": 9,
    "start_time": "2023-09-12T19:39:41.492Z"
   },
   {
    "duration": 4,
    "start_time": "2023-09-12T19:41:37.185Z"
   },
   {
    "duration": 1140,
    "start_time": "2023-09-12T19:41:37.327Z"
   },
   {
    "duration": 29,
    "start_time": "2023-09-12T19:41:38.473Z"
   },
   {
    "duration": 10,
    "start_time": "2023-09-12T19:41:38.503Z"
   },
   {
    "duration": 9,
    "start_time": "2023-09-12T19:41:38.515Z"
   },
   {
    "duration": 17,
    "start_time": "2023-09-12T19:41:38.526Z"
   },
   {
    "duration": 5,
    "start_time": "2023-09-12T19:41:38.545Z"
   },
   {
    "duration": 31,
    "start_time": "2023-09-12T19:41:39.044Z"
   },
   {
    "duration": 13,
    "start_time": "2023-09-12T19:41:39.209Z"
   },
   {
    "duration": 16,
    "start_time": "2023-09-12T19:41:39.386Z"
   },
   {
    "duration": 13,
    "start_time": "2023-09-12T19:41:39.558Z"
   },
   {
    "duration": 25,
    "start_time": "2023-09-12T19:41:39.724Z"
   },
   {
    "duration": 11,
    "start_time": "2023-09-12T19:41:39.890Z"
   },
   {
    "duration": 39,
    "start_time": "2023-09-12T19:41:40.076Z"
   },
   {
    "duration": 82,
    "start_time": "2023-09-12T19:41:40.558Z"
   },
   {
    "duration": 8,
    "start_time": "2023-09-12T19:41:40.726Z"
   },
   {
    "duration": 103,
    "start_time": "2023-09-12T19:41:40.891Z"
   },
   {
    "duration": 64,
    "start_time": "2023-09-12T19:41:41.061Z"
   },
   {
    "duration": 54,
    "start_time": "2023-09-12T19:41:41.241Z"
   },
   {
    "duration": 31,
    "start_time": "2023-09-12T19:41:41.424Z"
   },
   {
    "duration": 16,
    "start_time": "2023-09-12T19:41:41.925Z"
   },
   {
    "duration": 8,
    "start_time": "2023-09-12T19:41:42.090Z"
   },
   {
    "duration": 7,
    "start_time": "2023-09-12T19:41:42.257Z"
   },
   {
    "duration": 9,
    "start_time": "2023-09-12T19:41:42.600Z"
   },
   {
    "duration": 39,
    "start_time": "2023-09-12T19:41:42.758Z"
   },
   {
    "duration": 6,
    "start_time": "2023-09-12T19:41:43.626Z"
   },
   {
    "duration": 10,
    "start_time": "2023-09-12T19:41:43.987Z"
   },
   {
    "duration": 10,
    "start_time": "2023-09-12T19:41:44.291Z"
   },
   {
    "duration": 25,
    "start_time": "2023-09-12T19:41:44.820Z"
   },
   {
    "duration": 13,
    "start_time": "2023-09-12T19:41:44.957Z"
   },
   {
    "duration": 23,
    "start_time": "2023-09-12T19:41:45.291Z"
   },
   {
    "duration": 8,
    "start_time": "2023-09-12T19:41:45.625Z"
   },
   {
    "duration": 39,
    "start_time": "2023-09-12T19:41:45.809Z"
   },
   {
    "duration": 161,
    "start_time": "2023-09-12T19:41:45.958Z"
   },
   {
    "duration": 56,
    "start_time": "2023-09-12T19:41:46.462Z"
   },
   {
    "duration": 22,
    "start_time": "2023-09-12T19:41:46.625Z"
   },
   {
    "duration": 10,
    "start_time": "2023-09-12T19:41:46.791Z"
   },
   {
    "duration": 12,
    "start_time": "2023-09-12T19:41:46.958Z"
   },
   {
    "duration": 17,
    "start_time": "2023-09-12T19:41:47.124Z"
   },
   {
    "duration": 27,
    "start_time": "2023-09-12T19:41:47.484Z"
   },
   {
    "duration": 105,
    "start_time": "2023-09-12T19:41:48.150Z"
   },
   {
    "duration": 25,
    "start_time": "2023-09-12T19:41:48.323Z"
   },
   {
    "duration": 23,
    "start_time": "2023-09-12T19:41:48.457Z"
   },
   {
    "duration": 14,
    "start_time": "2023-09-12T19:42:32.197Z"
   },
   {
    "duration": 23,
    "start_time": "2023-09-12T19:46:46.662Z"
   },
   {
    "duration": 6,
    "start_time": "2023-09-12T19:47:45.982Z"
   },
   {
    "duration": 23,
    "start_time": "2023-09-12T19:48:54.660Z"
   },
   {
    "duration": 20,
    "start_time": "2023-09-12T19:49:08.192Z"
   },
   {
    "duration": 12,
    "start_time": "2023-09-12T19:49:31.724Z"
   },
   {
    "duration": 11,
    "start_time": "2023-09-12T19:51:05.510Z"
   },
   {
    "duration": 16,
    "start_time": "2023-09-12T19:51:16.876Z"
   },
   {
    "duration": 16,
    "start_time": "2023-09-12T19:54:12.169Z"
   },
   {
    "duration": 30,
    "start_time": "2023-09-12T19:54:16.610Z"
   },
   {
    "duration": 17,
    "start_time": "2023-09-12T19:54:27.366Z"
   },
   {
    "duration": 22,
    "start_time": "2023-09-12T19:54:46.661Z"
   },
   {
    "duration": 5,
    "start_time": "2023-09-12T19:54:57.628Z"
   },
   {
    "duration": 22,
    "start_time": "2023-09-12T19:55:04.744Z"
   },
   {
    "duration": 860,
    "start_time": "2023-09-12T20:03:09.028Z"
   },
   {
    "duration": 9,
    "start_time": "2023-09-12T20:04:43.514Z"
   },
   {
    "duration": 79,
    "start_time": "2023-09-12T20:05:28.946Z"
   },
   {
    "duration": 57,
    "start_time": "2023-09-12T20:05:50.095Z"
   },
   {
    "duration": 451,
    "start_time": "2023-09-12T20:07:41.161Z"
   },
   {
    "duration": 166,
    "start_time": "2023-09-12T20:09:58.426Z"
   },
   {
    "duration": 9,
    "start_time": "2023-09-12T20:10:11.946Z"
   },
   {
    "duration": 28,
    "start_time": "2023-09-12T20:10:23.109Z"
   },
   {
    "duration": 7,
    "start_time": "2023-09-12T20:11:19.599Z"
   },
   {
    "duration": 32,
    "start_time": "2023-09-12T20:11:20.679Z"
   },
   {
    "duration": 7,
    "start_time": "2023-09-12T20:11:25.479Z"
   },
   {
    "duration": 23,
    "start_time": "2023-09-12T20:11:26.022Z"
   },
   {
    "duration": 10,
    "start_time": "2023-09-12T20:11:37.846Z"
   },
   {
    "duration": 82,
    "start_time": "2023-09-12T20:11:38.916Z"
   },
   {
    "duration": 165,
    "start_time": "2023-09-12T20:12:27.347Z"
   },
   {
    "duration": 8,
    "start_time": "2023-09-12T20:22:16.065Z"
   },
   {
    "duration": 14,
    "start_time": "2023-09-12T20:22:34.515Z"
   },
   {
    "duration": 10,
    "start_time": "2023-09-12T20:22:42.697Z"
   },
   {
    "duration": 8,
    "start_time": "2023-09-12T20:22:48.748Z"
   },
   {
    "duration": 14,
    "start_time": "2023-09-12T20:23:43.582Z"
   },
   {
    "duration": 7,
    "start_time": "2023-09-12T20:24:09.456Z"
   },
   {
    "duration": 35,
    "start_time": "2023-09-12T20:24:30.098Z"
   },
   {
    "duration": 106,
    "start_time": "2023-09-12T20:24:56.425Z"
   },
   {
    "duration": 95,
    "start_time": "2023-09-12T20:25:00.342Z"
   },
   {
    "duration": 10,
    "start_time": "2023-09-12T20:25:11.588Z"
   },
   {
    "duration": 8,
    "start_time": "2023-09-12T20:25:54.715Z"
   },
   {
    "duration": 18,
    "start_time": "2023-09-12T20:30:15.849Z"
   },
   {
    "duration": 10,
    "start_time": "2023-09-12T20:30:34.132Z"
   },
   {
    "duration": 10,
    "start_time": "2023-09-12T20:31:03.283Z"
   },
   {
    "duration": 12,
    "start_time": "2023-09-12T20:31:12.912Z"
   },
   {
    "duration": 10,
    "start_time": "2023-09-12T20:31:17.616Z"
   },
   {
    "duration": 11,
    "start_time": "2023-09-12T20:31:24.366Z"
   },
   {
    "duration": 11,
    "start_time": "2023-09-12T20:31:58.019Z"
   },
   {
    "duration": 94,
    "start_time": "2023-09-12T20:35:42.985Z"
   },
   {
    "duration": 11,
    "start_time": "2023-09-12T20:36:35.173Z"
   },
   {
    "duration": 17,
    "start_time": "2023-09-12T20:36:45.004Z"
   },
   {
    "duration": 13,
    "start_time": "2023-09-12T20:43:51.993Z"
   },
   {
    "duration": 18,
    "start_time": "2023-09-12T20:44:31.501Z"
   },
   {
    "duration": 11,
    "start_time": "2023-09-12T20:44:48.868Z"
   },
   {
    "duration": 17,
    "start_time": "2023-09-12T20:45:51.975Z"
   },
   {
    "duration": 23,
    "start_time": "2023-09-12T20:46:21.384Z"
   },
   {
    "duration": 108,
    "start_time": "2023-09-12T20:47:45.801Z"
   },
   {
    "duration": 33,
    "start_time": "2023-09-12T20:47:56.551Z"
   },
   {
    "duration": 33,
    "start_time": "2023-09-12T20:48:26.900Z"
   },
   {
    "duration": 32,
    "start_time": "2023-09-12T20:49:23.520Z"
   },
   {
    "duration": 14,
    "start_time": "2023-09-12T20:51:57.353Z"
   },
   {
    "duration": 7,
    "start_time": "2023-09-12T20:52:15.335Z"
   },
   {
    "duration": 9,
    "start_time": "2023-09-12T20:54:21.202Z"
   },
   {
    "duration": 11,
    "start_time": "2023-09-12T20:54:54.776Z"
   },
   {
    "duration": 10,
    "start_time": "2023-09-12T20:55:01.253Z"
   },
   {
    "duration": 11,
    "start_time": "2023-09-12T20:55:29.302Z"
   },
   {
    "duration": 18,
    "start_time": "2023-09-12T20:56:21.037Z"
   },
   {
    "duration": 24,
    "start_time": "2023-09-12T21:03:18.202Z"
   },
   {
    "duration": 19,
    "start_time": "2023-09-12T21:04:15.002Z"
   },
   {
    "duration": 14,
    "start_time": "2023-09-12T21:04:35.427Z"
   },
   {
    "duration": 6,
    "start_time": "2023-09-12T21:04:56.833Z"
   },
   {
    "duration": 1374,
    "start_time": "2023-09-13T16:42:03.049Z"
   },
   {
    "duration": 1064,
    "start_time": "2023-09-13T16:42:04.425Z"
   },
   {
    "duration": 27,
    "start_time": "2023-09-13T16:42:05.490Z"
   },
   {
    "duration": 12,
    "start_time": "2023-09-13T16:42:05.520Z"
   },
   {
    "duration": 18,
    "start_time": "2023-09-13T16:42:05.534Z"
   },
   {
    "duration": 18,
    "start_time": "2023-09-13T16:42:05.553Z"
   },
   {
    "duration": 13,
    "start_time": "2023-09-13T16:42:05.572Z"
   },
   {
    "duration": 34,
    "start_time": "2023-09-13T16:42:05.587Z"
   },
   {
    "duration": 11,
    "start_time": "2023-09-13T16:42:05.623Z"
   },
   {
    "duration": 23,
    "start_time": "2023-09-13T16:42:05.636Z"
   },
   {
    "duration": 14,
    "start_time": "2023-09-13T16:42:05.661Z"
   },
   {
    "duration": 21,
    "start_time": "2023-09-13T16:42:07.297Z"
   },
   {
    "duration": 10,
    "start_time": "2023-09-13T16:42:07.442Z"
   },
   {
    "duration": 26,
    "start_time": "2023-09-13T16:42:07.609Z"
   },
   {
    "duration": 61,
    "start_time": "2023-09-13T16:42:08.082Z"
   },
   {
    "duration": 8,
    "start_time": "2023-09-13T16:42:08.227Z"
   },
   {
    "duration": 96,
    "start_time": "2023-09-13T16:42:08.393Z"
   },
   {
    "duration": 41,
    "start_time": "2023-09-13T16:42:08.561Z"
   },
   {
    "duration": 39,
    "start_time": "2023-09-13T16:42:08.695Z"
   },
   {
    "duration": 25,
    "start_time": "2023-09-13T16:42:08.843Z"
   },
   {
    "duration": 12,
    "start_time": "2023-09-13T16:42:09.325Z"
   },
   {
    "duration": 7,
    "start_time": "2023-09-13T16:42:09.510Z"
   },
   {
    "duration": 7,
    "start_time": "2023-09-13T16:42:09.676Z"
   },
   {
    "duration": 7,
    "start_time": "2023-09-13T16:42:09.843Z"
   },
   {
    "duration": 28,
    "start_time": "2023-09-13T16:42:10.026Z"
   },
   {
    "duration": 4,
    "start_time": "2023-09-13T16:42:11.234Z"
   },
   {
    "duration": 6,
    "start_time": "2023-09-13T16:42:11.559Z"
   },
   {
    "duration": 11,
    "start_time": "2023-09-13T16:42:11.934Z"
   },
   {
    "duration": 26,
    "start_time": "2023-09-13T16:42:12.443Z"
   },
   {
    "duration": 7,
    "start_time": "2023-09-13T16:42:12.609Z"
   },
   {
    "duration": 19,
    "start_time": "2023-09-13T16:42:12.964Z"
   },
   {
    "duration": 5,
    "start_time": "2023-09-13T16:42:13.293Z"
   },
   {
    "duration": 30,
    "start_time": "2023-09-13T16:42:13.477Z"
   },
   {
    "duration": 152,
    "start_time": "2023-09-13T16:42:13.626Z"
   },
   {
    "duration": 47,
    "start_time": "2023-09-13T16:42:14.144Z"
   },
   {
    "duration": 18,
    "start_time": "2023-09-13T16:42:14.317Z"
   },
   {
    "duration": 10,
    "start_time": "2023-09-13T16:42:14.464Z"
   },
   {
    "duration": 22,
    "start_time": "2023-09-13T16:42:14.642Z"
   },
   {
    "duration": 14,
    "start_time": "2023-09-13T16:42:14.827Z"
   },
   {
    "duration": 23,
    "start_time": "2023-09-13T16:42:15.182Z"
   },
   {
    "duration": 142,
    "start_time": "2023-09-13T16:42:15.845Z"
   },
   {
    "duration": 28,
    "start_time": "2023-09-13T16:42:16.011Z"
   },
   {
    "duration": 12,
    "start_time": "2023-09-13T16:42:16.196Z"
   },
   {
    "duration": 10,
    "start_time": "2023-09-13T16:42:16.526Z"
   },
   {
    "duration": 7,
    "start_time": "2023-09-13T16:42:16.861Z"
   },
   {
    "duration": 19,
    "start_time": "2023-09-13T16:42:17.009Z"
   },
   {
    "duration": 362,
    "start_time": "2023-09-13T16:42:17.479Z"
   },
   {
    "duration": 6,
    "start_time": "2023-09-13T16:42:17.843Z"
   },
   {
    "duration": 8,
    "start_time": "2023-09-13T16:42:18.311Z"
   },
   {
    "duration": 13,
    "start_time": "2023-09-13T16:42:21.444Z"
   },
   {
    "duration": 9,
    "start_time": "2023-09-13T16:42:21.610Z"
   },
   {
    "duration": 11,
    "start_time": "2023-09-13T16:42:22.093Z"
   },
   {
    "duration": 5,
    "start_time": "2023-09-13T16:42:22.410Z"
   },
   {
    "duration": 14,
    "start_time": "2023-09-13T16:42:23.861Z"
   },
   {
    "duration": 4,
    "start_time": "2023-09-13T16:42:24.028Z"
   },
   {
    "duration": 156,
    "start_time": "2023-09-13T16:42:24.612Z"
   },
   {
    "duration": 20,
    "start_time": "2023-09-13T16:42:38.232Z"
   },
   {
    "duration": 18,
    "start_time": "2023-09-13T16:43:01.912Z"
   },
   {
    "duration": 1802,
    "start_time": "2023-09-13T16:43:31.980Z"
   },
   {
    "duration": 11,
    "start_time": "2023-09-13T16:43:44.846Z"
   },
   {
    "duration": 16,
    "start_time": "2023-09-13T16:43:51.011Z"
   },
   {
    "duration": 15,
    "start_time": "2023-09-13T16:43:52.953Z"
   },
   {
    "duration": 5,
    "start_time": "2023-09-13T16:44:00.448Z"
   },
   {
    "duration": 18,
    "start_time": "2023-09-13T16:44:05.332Z"
   },
   {
    "duration": 339,
    "start_time": "2023-09-13T16:44:16.662Z"
   },
   {
    "duration": 226,
    "start_time": "2023-09-13T16:48:40.380Z"
   },
   {
    "duration": 12,
    "start_time": "2023-09-13T16:49:37.530Z"
   },
   {
    "duration": 11,
    "start_time": "2023-09-13T16:49:45.280Z"
   },
   {
    "duration": 276,
    "start_time": "2023-09-13T16:50:03.216Z"
   },
   {
    "duration": 212,
    "start_time": "2023-09-13T16:50:41.230Z"
   },
   {
    "duration": 269,
    "start_time": "2023-09-13T16:50:54.447Z"
   },
   {
    "duration": 264,
    "start_time": "2023-09-13T16:51:09.547Z"
   },
   {
    "duration": 255,
    "start_time": "2023-09-13T16:52:13.964Z"
   },
   {
    "duration": 268,
    "start_time": "2023-09-13T16:53:07.149Z"
   },
   {
    "duration": 312,
    "start_time": "2023-09-13T16:53:29.096Z"
   },
   {
    "duration": 9,
    "start_time": "2023-09-13T17:29:08.232Z"
   },
   {
    "duration": 29,
    "start_time": "2023-09-13T17:29:26.315Z"
   },
   {
    "duration": 3,
    "start_time": "2023-09-13T17:29:26.864Z"
   },
   {
    "duration": 4,
    "start_time": "2023-09-13T17:29:44.611Z"
   },
   {
    "duration": 274,
    "start_time": "2023-09-13T17:29:45.880Z"
   },
   {
    "duration": 11,
    "start_time": "2023-09-13T17:30:04.997Z"
   },
   {
    "duration": 10,
    "start_time": "2023-09-13T17:30:11.157Z"
   },
   {
    "duration": 3,
    "start_time": "2023-09-13T17:30:15.681Z"
   },
   {
    "duration": 281,
    "start_time": "2023-09-13T17:30:16.340Z"
   },
   {
    "duration": 3,
    "start_time": "2023-09-13T17:33:36.945Z"
   },
   {
    "duration": 912,
    "start_time": "2023-09-13T17:33:38.180Z"
   },
   {
    "duration": 23,
    "start_time": "2023-09-13T17:33:39.095Z"
   },
   {
    "duration": 11,
    "start_time": "2023-09-13T17:33:39.119Z"
   },
   {
    "duration": 23,
    "start_time": "2023-09-13T17:33:39.132Z"
   },
   {
    "duration": 5,
    "start_time": "2023-09-13T17:33:39.258Z"
   },
   {
    "duration": 5,
    "start_time": "2023-09-13T17:33:39.576Z"
   },
   {
    "duration": 19,
    "start_time": "2023-09-13T17:33:40.077Z"
   },
   {
    "duration": 12,
    "start_time": "2023-09-13T17:33:40.225Z"
   },
   {
    "duration": 12,
    "start_time": "2023-09-13T17:33:40.393Z"
   },
   {
    "duration": 9,
    "start_time": "2023-09-13T17:33:40.564Z"
   },
   {
    "duration": 18,
    "start_time": "2023-09-13T17:33:40.725Z"
   },
   {
    "duration": 10,
    "start_time": "2023-09-13T17:33:40.893Z"
   },
   {
    "duration": 26,
    "start_time": "2023-09-13T17:33:41.042Z"
   },
   {
    "duration": 63,
    "start_time": "2023-09-13T17:33:41.526Z"
   },
   {
    "duration": 8,
    "start_time": "2023-09-13T17:33:41.709Z"
   },
   {
    "duration": 80,
    "start_time": "2023-09-13T17:33:41.875Z"
   },
   {
    "duration": 40,
    "start_time": "2023-09-13T17:33:42.060Z"
   },
   {
    "duration": 44,
    "start_time": "2023-09-13T17:33:42.226Z"
   },
   {
    "duration": 27,
    "start_time": "2023-09-13T17:33:42.409Z"
   },
   {
    "duration": 17,
    "start_time": "2023-09-13T17:33:42.908Z"
   },
   {
    "duration": 7,
    "start_time": "2023-09-13T17:33:43.076Z"
   },
   {
    "duration": 7,
    "start_time": "2023-09-13T17:33:43.242Z"
   },
   {
    "duration": 8,
    "start_time": "2023-09-13T17:33:43.409Z"
   },
   {
    "duration": 26,
    "start_time": "2023-09-13T17:33:43.575Z"
   },
   {
    "duration": 6,
    "start_time": "2023-09-13T17:33:44.474Z"
   },
   {
    "duration": 7,
    "start_time": "2023-09-13T17:33:44.825Z"
   },
   {
    "duration": 97,
    "start_time": "2023-09-13T17:33:45.185Z"
   },
   {
    "duration": 17,
    "start_time": "2023-09-13T17:33:45.726Z"
   },
   {
    "duration": 8,
    "start_time": "2023-09-13T17:33:45.909Z"
   },
   {
    "duration": 15,
    "start_time": "2023-09-13T17:33:46.242Z"
   },
   {
    "duration": 6,
    "start_time": "2023-09-13T17:33:46.592Z"
   },
   {
    "duration": 23,
    "start_time": "2023-09-13T17:33:46.776Z"
   },
   {
    "duration": 118,
    "start_time": "2023-09-13T17:33:46.961Z"
   },
   {
    "duration": 42,
    "start_time": "2023-09-13T17:33:47.525Z"
   },
   {
    "duration": 18,
    "start_time": "2023-09-13T17:33:47.708Z"
   },
   {
    "duration": 8,
    "start_time": "2023-09-13T17:33:47.875Z"
   },
   {
    "duration": 8,
    "start_time": "2023-09-13T17:33:48.058Z"
   },
   {
    "duration": 12,
    "start_time": "2023-09-13T17:33:48.244Z"
   },
   {
    "duration": 22,
    "start_time": "2023-09-13T17:33:48.608Z"
   },
   {
    "duration": 105,
    "start_time": "2023-09-13T17:33:49.342Z"
   },
   {
    "duration": 24,
    "start_time": "2023-09-13T17:33:54.428Z"
   },
   {
    "duration": 10,
    "start_time": "2023-09-13T17:33:56.297Z"
   },
   {
    "duration": 11,
    "start_time": "2023-09-13T17:33:59.364Z"
   },
   {
    "duration": 5,
    "start_time": "2023-09-13T17:34:00.677Z"
   },
   {
    "duration": 18,
    "start_time": "2023-09-13T17:34:01.620Z"
   },
   {
    "duration": 47,
    "start_time": "2023-09-13T17:34:01.792Z"
   },
   {
    "duration": 6,
    "start_time": "2023-09-13T17:34:20.880Z"
   },
   {
    "duration": 11,
    "start_time": "2023-09-13T17:34:22.662Z"
   },
   {
    "duration": 7,
    "start_time": "2023-09-13T17:35:04.511Z"
   },
   {
    "duration": 10,
    "start_time": "2023-09-13T17:35:24.695Z"
   },
   {
    "duration": 9,
    "start_time": "2023-09-13T17:35:37.683Z"
   },
   {
    "duration": 13,
    "start_time": "2023-09-13T17:35:49.044Z"
   },
   {
    "duration": 15,
    "start_time": "2023-09-13T17:35:49.228Z"
   },
   {
    "duration": 11,
    "start_time": "2023-09-13T17:35:49.692Z"
   },
   {
    "duration": 7,
    "start_time": "2023-09-13T17:35:50.030Z"
   },
   {
    "duration": 9,
    "start_time": "2023-09-13T17:35:52.628Z"
   },
   {
    "duration": 10,
    "start_time": "2023-09-13T17:35:53.662Z"
   },
   {
    "duration": 4,
    "start_time": "2023-09-13T17:35:54.346Z"
   },
   {
    "duration": 283,
    "start_time": "2023-09-13T17:35:54.960Z"
   },
   {
    "duration": 14,
    "start_time": "2023-09-13T18:10:05.661Z"
   },
   {
    "duration": 7,
    "start_time": "2023-09-13T18:10:14.661Z"
   },
   {
    "duration": 8,
    "start_time": "2023-09-13T18:10:19.179Z"
   },
   {
    "duration": 17,
    "start_time": "2023-09-13T18:10:39.411Z"
   },
   {
    "duration": 17,
    "start_time": "2023-09-13T18:12:18.645Z"
   },
   {
    "duration": 8,
    "start_time": "2023-09-13T18:12:23.206Z"
   },
   {
    "duration": 8,
    "start_time": "2023-09-13T18:18:30.609Z"
   },
   {
    "duration": 11,
    "start_time": "2023-09-13T18:18:47.095Z"
   },
   {
    "duration": 15,
    "start_time": "2023-09-13T18:19:44.979Z"
   },
   {
    "duration": 16,
    "start_time": "2023-09-13T18:19:49.176Z"
   },
   {
    "duration": 7,
    "start_time": "2023-09-13T18:20:36.426Z"
   },
   {
    "duration": 11,
    "start_time": "2023-09-13T18:20:40.776Z"
   },
   {
    "duration": 8,
    "start_time": "2023-09-13T18:21:44.808Z"
   },
   {
    "duration": 11,
    "start_time": "2023-09-13T18:21:49.446Z"
   },
   {
    "duration": 13,
    "start_time": "2023-09-13T18:22:11.111Z"
   },
   {
    "duration": 19,
    "start_time": "2023-09-13T18:23:18.125Z"
   },
   {
    "duration": 43,
    "start_time": "2023-09-13T18:24:11.101Z"
   },
   {
    "duration": 42,
    "start_time": "2023-09-13T18:24:55.797Z"
   },
   {
    "duration": 10,
    "start_time": "2023-09-13T18:28:47.593Z"
   },
   {
    "duration": 15,
    "start_time": "2023-09-13T18:32:17.412Z"
   },
   {
    "duration": 16,
    "start_time": "2023-09-13T18:32:55.726Z"
   },
   {
    "duration": 11,
    "start_time": "2023-09-13T18:36:29.174Z"
   },
   {
    "duration": 11,
    "start_time": "2023-09-13T18:39:26.463Z"
   },
   {
    "duration": 15,
    "start_time": "2023-09-13T18:40:19.742Z"
   },
   {
    "duration": 12,
    "start_time": "2023-09-13T18:40:30.342Z"
   },
   {
    "duration": 9,
    "start_time": "2023-09-13T18:41:53.508Z"
   },
   {
    "duration": 12,
    "start_time": "2023-09-13T18:42:03.742Z"
   },
   {
    "duration": 3,
    "start_time": "2023-09-13T18:44:10.238Z"
   },
   {
    "duration": 1246,
    "start_time": "2023-09-13T18:44:10.391Z"
   },
   {
    "duration": 32,
    "start_time": "2023-09-13T18:44:11.640Z"
   },
   {
    "duration": 30,
    "start_time": "2023-09-13T18:44:11.675Z"
   },
   {
    "duration": 21,
    "start_time": "2023-09-13T18:44:11.708Z"
   },
   {
    "duration": 27,
    "start_time": "2023-09-13T18:44:11.732Z"
   },
   {
    "duration": 19,
    "start_time": "2023-09-13T18:44:11.768Z"
   },
   {
    "duration": 17,
    "start_time": "2023-09-13T18:44:12.501Z"
   },
   {
    "duration": 12,
    "start_time": "2023-09-13T18:44:12.684Z"
   },
   {
    "duration": 21,
    "start_time": "2023-09-13T18:44:12.887Z"
   },
   {
    "duration": 16,
    "start_time": "2023-09-13T18:44:13.069Z"
   },
   {
    "duration": 24,
    "start_time": "2023-09-13T18:44:13.266Z"
   },
   {
    "duration": 10,
    "start_time": "2023-09-13T18:44:13.462Z"
   },
   {
    "duration": 41,
    "start_time": "2023-09-13T18:44:13.635Z"
   },
   {
    "duration": 83,
    "start_time": "2023-09-13T18:44:14.161Z"
   },
   {
    "duration": 8,
    "start_time": "2023-09-13T18:44:14.336Z"
   },
   {
    "duration": 89,
    "start_time": "2023-09-13T18:44:14.518Z"
   },
   {
    "duration": 55,
    "start_time": "2023-09-13T18:44:14.709Z"
   },
   {
    "duration": 43,
    "start_time": "2023-09-13T18:44:14.888Z"
   },
   {
    "duration": 44,
    "start_time": "2023-09-13T18:44:15.264Z"
   },
   {
    "duration": 15,
    "start_time": "2023-09-13T18:44:15.819Z"
   },
   {
    "duration": 8,
    "start_time": "2023-09-13T18:44:16.004Z"
   },
   {
    "duration": 11,
    "start_time": "2023-09-13T18:44:16.198Z"
   },
   {
    "duration": 13,
    "start_time": "2023-09-13T18:44:16.397Z"
   },
   {
    "duration": 39,
    "start_time": "2023-09-13T18:44:16.566Z"
   },
   {
    "duration": 5,
    "start_time": "2023-09-13T18:44:17.471Z"
   },
   {
    "duration": 7,
    "start_time": "2023-09-13T18:44:17.827Z"
   },
   {
    "duration": 10,
    "start_time": "2023-09-13T18:44:18.205Z"
   },
   {
    "duration": 17,
    "start_time": "2023-09-13T18:44:19.701Z"
   },
   {
    "duration": 7,
    "start_time": "2023-09-13T18:44:19.905Z"
   },
   {
    "duration": 15,
    "start_time": "2023-09-13T18:44:20.312Z"
   },
   {
    "duration": 6,
    "start_time": "2023-09-13T18:44:20.668Z"
   },
   {
    "duration": 23,
    "start_time": "2023-09-13T18:44:20.886Z"
   },
   {
    "duration": 136,
    "start_time": "2023-09-13T18:44:21.088Z"
   },
   {
    "duration": 41,
    "start_time": "2023-09-13T18:44:21.700Z"
   },
   {
    "duration": 20,
    "start_time": "2023-09-13T18:44:21.901Z"
   },
   {
    "duration": 8,
    "start_time": "2023-09-13T18:44:22.087Z"
   },
   {
    "duration": 7,
    "start_time": "2023-09-13T18:44:22.285Z"
   },
   {
    "duration": 19,
    "start_time": "2023-09-13T18:44:22.469Z"
   },
   {
    "duration": 24,
    "start_time": "2023-09-13T18:44:22.852Z"
   },
   {
    "duration": 91,
    "start_time": "2023-09-13T18:44:23.627Z"
   },
   {
    "duration": 21,
    "start_time": "2023-09-13T18:44:23.802Z"
   },
   {
    "duration": 9,
    "start_time": "2023-09-13T18:44:23.985Z"
   },
   {
    "duration": 12,
    "start_time": "2023-09-13T18:44:25.207Z"
   },
   {
    "duration": 7,
    "start_time": "2023-09-13T18:44:25.587Z"
   },
   {
    "duration": 20,
    "start_time": "2023-09-13T18:44:25.773Z"
   },
   {
    "duration": 45,
    "start_time": "2023-09-13T18:44:25.963Z"
   },
   {
    "duration": 7,
    "start_time": "2023-09-13T18:44:26.339Z"
   },
   {
    "duration": 8,
    "start_time": "2023-09-13T18:44:26.920Z"
   },
   {
    "duration": 9,
    "start_time": "2023-09-13T18:44:34.619Z"
   },
   {
    "duration": 10,
    "start_time": "2023-09-13T18:44:34.837Z"
   },
   {
    "duration": 11,
    "start_time": "2023-09-13T18:44:35.735Z"
   },
   {
    "duration": 7,
    "start_time": "2023-09-13T18:44:36.118Z"
   },
   {
    "duration": 9,
    "start_time": "2023-09-13T18:44:37.122Z"
   },
   {
    "duration": 10,
    "start_time": "2023-09-13T18:44:37.286Z"
   },
   {
    "duration": 4,
    "start_time": "2023-09-13T18:44:37.468Z"
   },
   {
    "duration": 298,
    "start_time": "2023-09-13T18:44:37.635Z"
   },
   {
    "duration": 11,
    "start_time": "2023-09-13T18:44:38.823Z"
   },
   {
    "duration": 44,
    "start_time": "2023-09-13T18:44:39.374Z"
   },
   {
    "duration": 19,
    "start_time": "2023-09-13T18:44:41.026Z"
   },
   {
    "duration": 12,
    "start_time": "2023-09-13T18:44:42.687Z"
   },
   {
    "duration": 22,
    "start_time": "2023-09-13T18:45:06.601Z"
   },
   {
    "duration": 11,
    "start_time": "2023-09-13T18:45:07.653Z"
   },
   {
    "duration": 70,
    "start_time": "2023-09-13T18:46:26.435Z"
   },
   {
    "duration": 17,
    "start_time": "2023-09-13T18:46:32.519Z"
   },
   {
    "duration": 41,
    "start_time": "2023-09-13T18:46:37.675Z"
   },
   {
    "duration": 40,
    "start_time": "2023-09-13T18:47:08.501Z"
   },
   {
    "duration": 27,
    "start_time": "2023-09-13T18:53:03.347Z"
   },
   {
    "duration": 36,
    "start_time": "2023-09-13T18:53:11.351Z"
   },
   {
    "duration": 23,
    "start_time": "2023-09-13T18:53:20.868Z"
   },
   {
    "duration": 9,
    "start_time": "2023-09-13T18:54:51.080Z"
   },
   {
    "duration": 10,
    "start_time": "2023-09-13T18:54:57.097Z"
   },
   {
    "duration": 18,
    "start_time": "2023-09-13T18:55:23.851Z"
   },
   {
    "duration": 12,
    "start_time": "2023-09-13T18:55:57.913Z"
   },
   {
    "duration": 11,
    "start_time": "2023-09-13T18:57:23.215Z"
   },
   {
    "duration": 18,
    "start_time": "2023-09-13T18:58:36.546Z"
   },
   {
    "duration": 9,
    "start_time": "2023-09-13T19:00:12.562Z"
   },
   {
    "duration": 17,
    "start_time": "2023-09-13T19:00:17.703Z"
   },
   {
    "duration": 9,
    "start_time": "2023-09-13T19:02:09.672Z"
   },
   {
    "duration": 3,
    "start_time": "2023-09-13T19:11:02.106Z"
   },
   {
    "duration": 1381,
    "start_time": "2023-09-13T19:11:02.272Z"
   },
   {
    "duration": 25,
    "start_time": "2023-09-13T19:11:03.655Z"
   },
   {
    "duration": 10,
    "start_time": "2023-09-13T19:11:03.681Z"
   },
   {
    "duration": 11,
    "start_time": "2023-09-13T19:11:03.693Z"
   },
   {
    "duration": 24,
    "start_time": "2023-09-13T19:11:03.705Z"
   },
   {
    "duration": 37,
    "start_time": "2023-09-13T19:11:03.731Z"
   },
   {
    "duration": 22,
    "start_time": "2023-09-13T19:11:06.783Z"
   },
   {
    "duration": 14,
    "start_time": "2023-09-13T19:11:06.919Z"
   },
   {
    "duration": 13,
    "start_time": "2023-09-13T19:11:07.088Z"
   },
   {
    "duration": 11,
    "start_time": "2023-09-13T19:11:07.234Z"
   },
   {
    "duration": 20,
    "start_time": "2023-09-13T19:11:07.383Z"
   },
   {
    "duration": 10,
    "start_time": "2023-09-13T19:11:07.552Z"
   },
   {
    "duration": 41,
    "start_time": "2023-09-13T19:11:07.704Z"
   },
   {
    "duration": 77,
    "start_time": "2023-09-13T19:11:08.201Z"
   },
   {
    "duration": 8,
    "start_time": "2023-09-13T19:11:08.367Z"
   },
   {
    "duration": 92,
    "start_time": "2023-09-13T19:11:08.554Z"
   },
   {
    "duration": 44,
    "start_time": "2023-09-13T19:11:08.717Z"
   },
   {
    "duration": 42,
    "start_time": "2023-09-13T19:11:08.883Z"
   },
   {
    "duration": 33,
    "start_time": "2023-09-13T19:11:09.054Z"
   },
   {
    "duration": 13,
    "start_time": "2023-09-13T19:11:09.594Z"
   },
   {
    "duration": 7,
    "start_time": "2023-09-13T19:11:09.770Z"
   },
   {
    "duration": 7,
    "start_time": "2023-09-13T19:11:09.936Z"
   },
   {
    "duration": 10,
    "start_time": "2023-09-13T19:11:10.104Z"
   },
   {
    "duration": 41,
    "start_time": "2023-09-13T19:11:10.252Z"
   },
   {
    "duration": 6,
    "start_time": "2023-09-13T19:11:11.454Z"
   },
   {
    "duration": 8,
    "start_time": "2023-09-13T19:11:11.861Z"
   },
   {
    "duration": 10,
    "start_time": "2023-09-13T19:11:12.233Z"
   },
   {
    "duration": 18,
    "start_time": "2023-09-13T19:11:12.769Z"
   },
   {
    "duration": 8,
    "start_time": "2023-09-13T19:11:12.937Z"
   },
   {
    "duration": 18,
    "start_time": "2023-09-13T19:11:13.287Z"
   },
   {
    "duration": 8,
    "start_time": "2023-09-13T19:11:13.786Z"
   },
   {
    "duration": 37,
    "start_time": "2023-09-13T19:11:13.979Z"
   },
   {
    "duration": 149,
    "start_time": "2023-09-13T19:11:14.322Z"
   },
   {
    "duration": 44,
    "start_time": "2023-09-13T19:11:14.864Z"
   },
   {
    "duration": 21,
    "start_time": "2023-09-13T19:11:15.018Z"
   },
   {
    "duration": 10,
    "start_time": "2023-09-13T19:11:15.183Z"
   },
   {
    "duration": 7,
    "start_time": "2023-09-13T19:11:15.350Z"
   },
   {
    "duration": 14,
    "start_time": "2023-09-13T19:11:15.539Z"
   },
   {
    "duration": 25,
    "start_time": "2023-09-13T19:11:15.869Z"
   },
   {
    "duration": 81,
    "start_time": "2023-09-13T19:11:16.539Z"
   },
   {
    "duration": 32,
    "start_time": "2023-09-13T19:11:16.701Z"
   },
   {
    "duration": 14,
    "start_time": "2023-09-13T19:11:16.874Z"
   },
   {
    "duration": 15,
    "start_time": "2023-09-13T19:11:17.238Z"
   },
   {
    "duration": 8,
    "start_time": "2023-09-13T19:11:17.603Z"
   },
   {
    "duration": 21,
    "start_time": "2023-09-13T19:11:17.769Z"
   },
   {
    "duration": 60,
    "start_time": "2023-09-13T19:11:17.951Z"
   },
   {
    "duration": 8,
    "start_time": "2023-09-13T19:11:18.303Z"
   },
   {
    "duration": 47,
    "start_time": "2023-09-13T19:12:09.908Z"
   },
   {
    "duration": 6,
    "start_time": "2023-09-13T19:12:10.235Z"
   },
   {
    "duration": 11,
    "start_time": "2023-09-13T19:12:10.718Z"
   },
   {
    "duration": 11,
    "start_time": "2023-09-13T19:12:10.887Z"
   },
   {
    "duration": 11,
    "start_time": "2023-09-13T19:12:11.560Z"
   },
   {
    "duration": 11,
    "start_time": "2023-09-13T19:12:11.719Z"
   },
   {
    "duration": 11,
    "start_time": "2023-09-13T19:12:12.209Z"
   },
   {
    "duration": 6,
    "start_time": "2023-09-13T19:12:12.534Z"
   },
   {
    "duration": 15,
    "start_time": "2023-09-13T19:12:13.378Z"
   },
   {
    "duration": 15,
    "start_time": "2023-09-13T19:12:13.538Z"
   },
   {
    "duration": 5,
    "start_time": "2023-09-13T19:12:13.720Z"
   },
   {
    "duration": 419,
    "start_time": "2023-09-13T19:12:13.885Z"
   },
   {
    "duration": 16,
    "start_time": "2023-09-13T19:12:14.569Z"
   },
   {
    "duration": 72,
    "start_time": "2023-09-13T19:12:14.894Z"
   },
   {
    "duration": 18,
    "start_time": "2023-09-13T19:12:15.052Z"
   },
   {
    "duration": 17,
    "start_time": "2023-09-13T19:12:15.393Z"
   },
   {
    "duration": 47,
    "start_time": "2023-09-13T19:12:15.902Z"
   },
   {
    "duration": 21,
    "start_time": "2023-09-13T19:12:16.073Z"
   },
   {
    "duration": 13,
    "start_time": "2023-09-13T19:12:16.251Z"
   },
   {
    "duration": 21,
    "start_time": "2023-09-13T19:12:16.738Z"
   },
   {
    "duration": 20,
    "start_time": "2023-09-13T19:12:16.902Z"
   },
   {
    "duration": 9,
    "start_time": "2023-09-13T19:12:17.085Z"
   },
   {
    "duration": 6,
    "start_time": "2023-09-13T19:14:44.598Z"
   },
   {
    "duration": 25,
    "start_time": "2023-09-13T19:15:04.353Z"
   },
   {
    "duration": 9,
    "start_time": "2023-09-13T19:15:42.407Z"
   },
   {
    "duration": 13,
    "start_time": "2023-09-13T19:15:52.178Z"
   },
   {
    "duration": 10,
    "start_time": "2023-09-13T19:16:01.082Z"
   },
   {
    "duration": 7,
    "start_time": "2023-09-13T19:16:17.326Z"
   },
   {
    "duration": 9,
    "start_time": "2023-09-13T19:16:21.689Z"
   },
   {
    "duration": 29,
    "start_time": "2023-09-13T19:16:43.606Z"
   },
   {
    "duration": 15,
    "start_time": "2023-09-13T19:17:06.430Z"
   },
   {
    "duration": 12,
    "start_time": "2023-09-13T19:17:14.380Z"
   },
   {
    "duration": 18,
    "start_time": "2023-09-13T19:17:27.354Z"
   },
   {
    "duration": 17,
    "start_time": "2023-09-13T19:17:44.730Z"
   },
   {
    "duration": 18,
    "start_time": "2023-09-13T19:17:49.890Z"
   },
   {
    "duration": 22,
    "start_time": "2023-09-13T19:18:02.380Z"
   },
   {
    "duration": 18,
    "start_time": "2023-09-13T19:19:01.689Z"
   },
   {
    "duration": 12,
    "start_time": "2023-09-13T19:19:12.671Z"
   },
   {
    "duration": 50,
    "start_time": "2023-09-13T19:19:35.344Z"
   },
   {
    "duration": 12,
    "start_time": "2023-09-13T19:22:30.272Z"
   },
   {
    "duration": 12,
    "start_time": "2023-09-13T19:22:34.386Z"
   },
   {
    "duration": 4,
    "start_time": "2023-09-13T19:23:51.936Z"
   },
   {
    "duration": 10,
    "start_time": "2023-09-13T19:23:55.698Z"
   },
   {
    "duration": 19,
    "start_time": "2023-09-13T19:25:27.929Z"
   },
   {
    "duration": 15,
    "start_time": "2023-09-13T19:25:39.762Z"
   },
   {
    "duration": 285,
    "start_time": "2023-09-13T19:28:58.730Z"
   },
   {
    "duration": 11,
    "start_time": "2023-09-13T19:46:11.546Z"
   },
   {
    "duration": 5,
    "start_time": "2023-09-13T20:13:37.660Z"
   },
   {
    "duration": 7,
    "start_time": "2023-09-13T20:15:30.733Z"
   },
   {
    "duration": 15,
    "start_time": "2023-09-13T20:15:36.584Z"
   },
   {
    "duration": 12,
    "start_time": "2023-09-13T20:17:15.166Z"
   },
   {
    "duration": 14,
    "start_time": "2023-09-13T20:17:26.903Z"
   },
   {
    "duration": 12,
    "start_time": "2023-09-13T20:19:02.660Z"
   },
   {
    "duration": 5,
    "start_time": "2023-09-13T20:19:21.344Z"
   },
   {
    "duration": 1088,
    "start_time": "2023-09-13T20:19:22.544Z"
   },
   {
    "duration": 10,
    "start_time": "2023-09-13T20:20:19.452Z"
   },
   {
    "duration": 15,
    "start_time": "2023-09-13T20:20:27.816Z"
   },
   {
    "duration": 4,
    "start_time": "2023-09-13T20:20:52.163Z"
   },
   {
    "duration": 1112,
    "start_time": "2023-09-13T20:20:52.332Z"
   },
   {
    "duration": 22,
    "start_time": "2023-09-13T20:20:53.447Z"
   },
   {
    "duration": 9,
    "start_time": "2023-09-13T20:20:53.471Z"
   },
   {
    "duration": 14,
    "start_time": "2023-09-13T20:20:53.485Z"
   },
   {
    "duration": 13,
    "start_time": "2023-09-13T20:20:53.500Z"
   },
   {
    "duration": 8,
    "start_time": "2023-09-13T20:20:53.514Z"
   },
   {
    "duration": 17,
    "start_time": "2023-09-13T20:20:53.829Z"
   },
   {
    "duration": 13,
    "start_time": "2023-09-13T20:20:53.995Z"
   },
   {
    "duration": 12,
    "start_time": "2023-09-13T20:20:54.145Z"
   },
   {
    "duration": 10,
    "start_time": "2023-09-13T20:20:54.312Z"
   },
   {
    "duration": 22,
    "start_time": "2023-09-13T20:20:54.465Z"
   },
   {
    "duration": 9,
    "start_time": "2023-09-13T20:20:54.629Z"
   },
   {
    "duration": 26,
    "start_time": "2023-09-13T20:20:54.778Z"
   },
   {
    "duration": 64,
    "start_time": "2023-09-13T20:20:55.279Z"
   },
   {
    "duration": 8,
    "start_time": "2023-09-13T20:20:55.445Z"
   },
   {
    "duration": 78,
    "start_time": "2023-09-13T20:20:55.611Z"
   },
   {
    "duration": 43,
    "start_time": "2023-09-13T20:20:55.796Z"
   },
   {
    "duration": 40,
    "start_time": "2023-09-13T20:20:55.979Z"
   },
   {
    "duration": 29,
    "start_time": "2023-09-13T20:20:56.145Z"
   },
   {
    "duration": 12,
    "start_time": "2023-09-13T20:20:56.662Z"
   },
   {
    "duration": 7,
    "start_time": "2023-09-13T20:20:56.846Z"
   },
   {
    "duration": 7,
    "start_time": "2023-09-13T20:20:57.012Z"
   },
   {
    "duration": 8,
    "start_time": "2023-09-13T20:20:57.178Z"
   },
   {
    "duration": 26,
    "start_time": "2023-09-13T20:20:57.329Z"
   },
   {
    "duration": 5,
    "start_time": "2023-09-13T20:20:58.196Z"
   },
   {
    "duration": 6,
    "start_time": "2023-09-13T20:20:58.566Z"
   },
   {
    "duration": 10,
    "start_time": "2023-09-13T20:20:58.912Z"
   },
   {
    "duration": 18,
    "start_time": "2023-09-13T20:20:59.413Z"
   },
   {
    "duration": 7,
    "start_time": "2023-09-13T20:20:59.596Z"
   },
   {
    "duration": 15,
    "start_time": "2023-09-13T20:20:59.963Z"
   },
   {
    "duration": 6,
    "start_time": "2023-09-13T20:21:00.312Z"
   },
   {
    "duration": 36,
    "start_time": "2023-09-13T20:21:00.498Z"
   },
   {
    "duration": 167,
    "start_time": "2023-09-13T20:21:00.682Z"
   },
   {
    "duration": 41,
    "start_time": "2023-09-13T20:21:01.231Z"
   },
   {
    "duration": 19,
    "start_time": "2023-09-13T20:21:01.395Z"
   },
   {
    "duration": 9,
    "start_time": "2023-09-13T20:21:01.596Z"
   },
   {
    "duration": 7,
    "start_time": "2023-09-13T20:21:01.779Z"
   },
   {
    "duration": 15,
    "start_time": "2023-09-13T20:21:01.964Z"
   },
   {
    "duration": 24,
    "start_time": "2023-09-13T20:21:02.320Z"
   },
   {
    "duration": 88,
    "start_time": "2023-09-13T20:21:03.048Z"
   },
   {
    "duration": 29,
    "start_time": "2023-09-13T20:21:03.235Z"
   },
   {
    "duration": 9,
    "start_time": "2023-09-13T20:21:03.413Z"
   },
   {
    "duration": 10,
    "start_time": "2023-09-13T20:21:03.780Z"
   },
   {
    "duration": 5,
    "start_time": "2023-09-13T20:21:04.129Z"
   },
   {
    "duration": 18,
    "start_time": "2023-09-13T20:21:04.296Z"
   },
   {
    "duration": 42,
    "start_time": "2023-09-13T20:21:04.480Z"
   },
   {
    "duration": 5,
    "start_time": "2023-09-13T20:21:04.830Z"
   },
   {
    "duration": 8,
    "start_time": "2023-09-13T20:21:05.398Z"
   },
   {
    "duration": 13,
    "start_time": "2023-09-13T20:21:05.563Z"
   },
   {
    "duration": 21,
    "start_time": "2023-09-13T20:21:05.747Z"
   },
   {
    "duration": 11,
    "start_time": "2023-09-13T20:21:06.496Z"
   },
   {
    "duration": 11,
    "start_time": "2023-09-13T20:21:06.681Z"
   },
   {
    "duration": 12,
    "start_time": "2023-09-13T20:21:07.256Z"
   },
   {
    "duration": 7,
    "start_time": "2023-09-13T20:21:07.603Z"
   },
   {
    "duration": 10,
    "start_time": "2023-09-13T20:21:08.499Z"
   },
   {
    "duration": 9,
    "start_time": "2023-09-13T20:21:08.698Z"
   },
   {
    "duration": 5,
    "start_time": "2023-09-13T20:21:08.880Z"
   },
   {
    "duration": 293,
    "start_time": "2023-09-13T20:21:09.062Z"
   },
   {
    "duration": 23,
    "start_time": "2023-09-13T20:21:09.830Z"
   },
   {
    "duration": 45,
    "start_time": "2023-09-13T20:21:10.247Z"
   },
   {
    "duration": 19,
    "start_time": "2023-09-13T20:21:10.430Z"
   },
   {
    "duration": 12,
    "start_time": "2023-09-13T20:21:10.815Z"
   },
   {
    "duration": 39,
    "start_time": "2023-09-13T20:21:11.383Z"
   },
   {
    "duration": 13,
    "start_time": "2023-09-13T20:21:11.580Z"
   },
   {
    "duration": 9,
    "start_time": "2023-09-13T20:21:11.745Z"
   },
   {
    "duration": 17,
    "start_time": "2023-09-13T20:21:11.929Z"
   },
   {
    "duration": 18,
    "start_time": "2023-09-13T20:21:12.095Z"
   },
   {
    "duration": 16,
    "start_time": "2023-09-13T20:21:12.263Z"
   },
   {
    "duration": 5,
    "start_time": "2023-09-13T20:21:12.445Z"
   },
   {
    "duration": 10,
    "start_time": "2023-09-13T20:21:12.794Z"
   },
   {
    "duration": 5,
    "start_time": "2023-09-13T20:21:14.531Z"
   },
   {
    "duration": 15,
    "start_time": "2023-09-13T20:21:14.872Z"
   },
   {
    "duration": 14,
    "start_time": "2023-09-13T20:21:50.852Z"
   },
   {
    "duration": 5,
    "start_time": "2023-09-13T20:23:40.111Z"
   },
   {
    "duration": 15,
    "start_time": "2023-09-13T20:23:42.045Z"
   },
   {
    "duration": 4,
    "start_time": "2023-09-13T20:23:58.414Z"
   },
   {
    "duration": 16,
    "start_time": "2023-09-13T20:24:11.384Z"
   },
   {
    "duration": 8,
    "start_time": "2023-09-13T20:24:54.852Z"
   },
   {
    "duration": 11,
    "start_time": "2023-09-13T20:24:59.866Z"
   },
   {
    "duration": 6,
    "start_time": "2023-09-13T20:25:09.648Z"
   },
   {
    "duration": 18,
    "start_time": "2023-09-13T20:25:10.653Z"
   },
   {
    "duration": 4,
    "start_time": "2023-09-13T20:25:19.406Z"
   },
   {
    "duration": 9,
    "start_time": "2023-09-13T20:25:20.350Z"
   },
   {
    "duration": 17,
    "start_time": "2023-09-13T20:28:28.186Z"
   },
   {
    "duration": 13,
    "start_time": "2023-09-13T20:28:33.816Z"
   },
   {
    "duration": 14,
    "start_time": "2023-09-13T20:28:42.006Z"
   },
   {
    "duration": 551,
    "start_time": "2023-09-13T20:28:45.936Z"
   },
   {
    "duration": 18,
    "start_time": "2023-09-13T20:29:04.281Z"
   },
   {
    "duration": 12,
    "start_time": "2023-09-13T20:29:05.420Z"
   },
   {
    "duration": 12,
    "start_time": "2023-09-13T20:31:24.964Z"
   },
   {
    "duration": 13,
    "start_time": "2023-09-13T20:32:05.033Z"
   },
   {
    "duration": 14,
    "start_time": "2023-09-13T20:32:13.985Z"
   },
   {
    "duration": 13,
    "start_time": "2023-09-13T20:32:26.500Z"
   },
   {
    "duration": 14,
    "start_time": "2023-09-13T20:32:33.832Z"
   },
   {
    "duration": 10,
    "start_time": "2023-09-13T20:32:43.919Z"
   },
   {
    "duration": 9,
    "start_time": "2023-09-13T20:32:45.952Z"
   },
   {
    "duration": 9,
    "start_time": "2023-09-13T20:33:12.317Z"
   },
   {
    "duration": 4,
    "start_time": "2023-09-13T20:33:53.735Z"
   },
   {
    "duration": 130,
    "start_time": "2023-09-13T20:34:14.995Z"
   },
   {
    "duration": 12,
    "start_time": "2023-09-13T20:35:22.400Z"
   },
   {
    "duration": 13,
    "start_time": "2023-09-13T20:35:31.725Z"
   },
   {
    "duration": 16,
    "start_time": "2023-09-13T20:36:39.349Z"
   },
   {
    "duration": 969,
    "start_time": "2023-09-13T20:36:46.286Z"
   },
   {
    "duration": 15,
    "start_time": "2023-09-13T20:43:16.969Z"
   },
   {
    "duration": 10,
    "start_time": "2023-09-13T20:43:17.695Z"
   },
   {
    "duration": 6,
    "start_time": "2023-09-13T20:43:50.188Z"
   },
   {
    "duration": 41,
    "start_time": "2023-09-13T20:44:06.849Z"
   },
   {
    "duration": 20,
    "start_time": "2023-09-13T20:46:42.100Z"
   },
   {
    "duration": 6,
    "start_time": "2023-09-13T20:47:00.106Z"
   },
   {
    "duration": 21,
    "start_time": "2023-09-13T20:47:01.419Z"
   },
   {
    "duration": 6,
    "start_time": "2023-09-13T20:47:54.469Z"
   },
   {
    "duration": 10,
    "start_time": "2023-09-13T20:47:55.220Z"
   },
   {
    "duration": 5,
    "start_time": "2023-09-13T20:48:04.491Z"
   },
   {
    "duration": 28,
    "start_time": "2023-09-13T20:48:06.451Z"
   },
   {
    "duration": 7,
    "start_time": "2023-09-13T20:50:13.999Z"
   },
   {
    "duration": 28,
    "start_time": "2023-09-13T20:50:14.627Z"
   },
   {
    "duration": 6,
    "start_time": "2023-09-13T20:52:28.698Z"
   },
   {
    "duration": 25,
    "start_time": "2023-09-13T20:52:29.127Z"
   },
   {
    "duration": 6,
    "start_time": "2023-09-13T20:52:49.896Z"
   },
   {
    "duration": 20,
    "start_time": "2023-09-13T20:52:50.614Z"
   },
   {
    "duration": 14,
    "start_time": "2023-09-13T20:55:41.590Z"
   },
   {
    "duration": 4,
    "start_time": "2023-09-13T20:56:01.031Z"
   },
   {
    "duration": 12,
    "start_time": "2023-09-13T20:56:12.933Z"
   },
   {
    "duration": 10,
    "start_time": "2023-09-13T20:56:17.996Z"
   },
   {
    "duration": 12,
    "start_time": "2023-09-13T20:57:11.267Z"
   },
   {
    "duration": 15,
    "start_time": "2023-09-13T20:57:20.061Z"
   },
   {
    "duration": 16,
    "start_time": "2023-09-13T20:57:37.698Z"
   },
   {
    "duration": 14,
    "start_time": "2023-09-13T20:57:49.317Z"
   },
   {
    "duration": 1343,
    "start_time": "2023-09-13T20:58:10.402Z"
   },
   {
    "duration": 8,
    "start_time": "2023-09-13T20:58:35.852Z"
   },
   {
    "duration": 10,
    "start_time": "2023-09-13T20:58:36.919Z"
   },
   {
    "duration": 11,
    "start_time": "2023-09-13T20:59:06.533Z"
   },
   {
    "duration": 5,
    "start_time": "2023-09-13T21:01:05.285Z"
   },
   {
    "duration": 5,
    "start_time": "2023-09-13T21:01:30.300Z"
   },
   {
    "duration": 5,
    "start_time": "2023-09-13T21:04:15.511Z"
   },
   {
    "duration": 15,
    "start_time": "2023-09-13T21:04:16.033Z"
   },
   {
    "duration": 5,
    "start_time": "2023-09-13T21:04:42.325Z"
   },
   {
    "duration": 11,
    "start_time": "2023-09-13T21:04:42.968Z"
   },
   {
    "duration": 102,
    "start_time": "2023-09-13T21:06:48.177Z"
   },
   {
    "duration": 10,
    "start_time": "2023-09-13T21:30:17.970Z"
   },
   {
    "duration": 1392,
    "start_time": "2023-09-13T21:30:32.313Z"
   },
   {
    "duration": 9,
    "start_time": "2023-09-13T21:31:22.375Z"
   },
   {
    "duration": 18,
    "start_time": "2023-09-13T21:31:29.146Z"
   },
   {
    "duration": 8,
    "start_time": "2023-09-13T21:31:30.401Z"
   },
   {
    "duration": 8,
    "start_time": "2023-09-13T21:32:33.798Z"
   },
   {
    "duration": 11,
    "start_time": "2023-09-13T21:32:55.917Z"
   },
   {
    "duration": 9,
    "start_time": "2023-09-13T21:33:35.082Z"
   },
   {
    "duration": 1070,
    "start_time": "2023-09-13T21:33:38.826Z"
   },
   {
    "duration": 9,
    "start_time": "2023-09-13T21:34:31.351Z"
   },
   {
    "duration": 9,
    "start_time": "2023-09-13T21:34:45.098Z"
   },
   {
    "duration": 20,
    "start_time": "2023-09-13T21:35:07.774Z"
   },
   {
    "duration": 10,
    "start_time": "2023-09-13T21:35:08.849Z"
   },
   {
    "duration": 4,
    "start_time": "2023-09-13T21:35:36.508Z"
   },
   {
    "duration": 7,
    "start_time": "2023-09-13T21:35:39.831Z"
   },
   {
    "duration": 18,
    "start_time": "2023-09-13T21:36:01.657Z"
   },
   {
    "duration": 12,
    "start_time": "2023-09-13T21:36:25.417Z"
   },
   {
    "duration": 5,
    "start_time": "2023-09-13T21:36:28.601Z"
   },
   {
    "duration": 7,
    "start_time": "2023-09-13T21:36:29.192Z"
   },
   {
    "duration": 5,
    "start_time": "2023-09-13T21:36:56.941Z"
   },
   {
    "duration": 7,
    "start_time": "2023-09-13T21:36:57.643Z"
   },
   {
    "duration": 22,
    "start_time": "2023-09-13T21:37:04.189Z"
   },
   {
    "duration": 14,
    "start_time": "2023-09-13T21:37:05.249Z"
   },
   {
    "duration": 5,
    "start_time": "2023-09-13T21:37:06.182Z"
   },
   {
    "duration": 8,
    "start_time": "2023-09-13T21:37:06.905Z"
   },
   {
    "duration": 4,
    "start_time": "2023-09-13T21:37:10.071Z"
   },
   {
    "duration": 8,
    "start_time": "2023-09-13T21:37:10.951Z"
   },
   {
    "duration": 1410,
    "start_time": "2023-09-13T21:37:14.413Z"
   },
   {
    "duration": 14,
    "start_time": "2023-09-13T21:37:43.217Z"
   },
   {
    "duration": 13,
    "start_time": "2023-09-13T21:37:43.822Z"
   },
   {
    "duration": 7,
    "start_time": "2023-09-13T21:37:44.468Z"
   },
   {
    "duration": 1500,
    "start_time": "2023-09-13T21:37:45.602Z"
   },
   {
    "duration": 5,
    "start_time": "2023-09-13T21:40:48.600Z"
   },
   {
    "duration": 950,
    "start_time": "2023-09-13T21:40:48.745Z"
   },
   {
    "duration": 22,
    "start_time": "2023-09-13T21:40:49.696Z"
   },
   {
    "duration": 9,
    "start_time": "2023-09-13T21:40:49.719Z"
   },
   {
    "duration": 6,
    "start_time": "2023-09-13T21:40:49.731Z"
   },
   {
    "duration": 8,
    "start_time": "2023-09-13T21:40:49.749Z"
   },
   {
    "duration": 5,
    "start_time": "2023-09-13T21:40:49.963Z"
   },
   {
    "duration": 19,
    "start_time": "2023-09-13T21:40:50.395Z"
   },
   {
    "duration": 13,
    "start_time": "2023-09-13T21:40:50.545Z"
   },
   {
    "duration": 13,
    "start_time": "2023-09-13T21:40:50.695Z"
   },
   {
    "duration": 11,
    "start_time": "2023-09-13T21:40:50.845Z"
   },
   {
    "duration": 21,
    "start_time": "2023-09-13T21:40:51.012Z"
   },
   {
    "duration": 10,
    "start_time": "2023-09-13T21:40:51.161Z"
   },
   {
    "duration": 28,
    "start_time": "2023-09-13T21:40:51.311Z"
   },
   {
    "duration": 66,
    "start_time": "2023-09-13T21:40:51.779Z"
   },
   {
    "duration": 9,
    "start_time": "2023-09-13T21:40:51.928Z"
   },
   {
    "duration": 90,
    "start_time": "2023-09-13T21:40:52.097Z"
   },
   {
    "duration": 46,
    "start_time": "2023-09-13T21:40:52.262Z"
   },
   {
    "duration": 62,
    "start_time": "2023-09-13T21:40:52.429Z"
   },
   {
    "duration": 27,
    "start_time": "2023-09-13T21:40:52.594Z"
   },
   {
    "duration": 13,
    "start_time": "2023-09-13T21:40:53.079Z"
   },
   {
    "duration": 10,
    "start_time": "2023-09-13T21:40:53.246Z"
   },
   {
    "duration": 9,
    "start_time": "2023-09-13T21:40:53.410Z"
   },
   {
    "duration": 11,
    "start_time": "2023-09-13T21:40:53.578Z"
   },
   {
    "duration": 28,
    "start_time": "2023-09-13T21:40:53.745Z"
   },
   {
    "duration": 6,
    "start_time": "2023-09-13T21:40:54.553Z"
   },
   {
    "duration": 7,
    "start_time": "2023-09-13T21:40:54.887Z"
   },
   {
    "duration": 11,
    "start_time": "2023-09-13T21:40:55.195Z"
   },
   {
    "duration": 26,
    "start_time": "2023-09-13T21:40:55.662Z"
   },
   {
    "duration": 7,
    "start_time": "2023-09-13T21:40:55.828Z"
   },
   {
    "duration": 20,
    "start_time": "2023-09-13T21:40:56.163Z"
   },
   {
    "duration": 9,
    "start_time": "2023-09-13T21:40:56.463Z"
   },
   {
    "duration": 37,
    "start_time": "2023-09-13T21:40:56.612Z"
   },
   {
    "duration": 132,
    "start_time": "2023-09-13T21:40:56.779Z"
   },
   {
    "duration": 43,
    "start_time": "2023-09-13T21:40:57.411Z"
   },
   {
    "duration": 20,
    "start_time": "2023-09-13T21:40:57.578Z"
   },
   {
    "duration": 11,
    "start_time": "2023-09-13T21:40:57.728Z"
   },
   {
    "duration": 11,
    "start_time": "2023-09-13T21:40:57.895Z"
   },
   {
    "duration": 21,
    "start_time": "2023-09-13T21:40:58.063Z"
   },
   {
    "duration": 35,
    "start_time": "2023-09-13T21:40:58.396Z"
   },
   {
    "duration": 32,
    "start_time": "2023-09-13T21:40:59.022Z"
   },
   {
    "duration": 8,
    "start_time": "2023-09-13T21:40:59.513Z"
   },
   {
    "duration": 30,
    "start_time": "2023-09-13T21:40:59.679Z"
   },
   {
    "duration": 47,
    "start_time": "2023-09-13T21:41:00.648Z"
   },
   {
    "duration": 6,
    "start_time": "2023-09-13T21:41:00.979Z"
   },
   {
    "duration": 9,
    "start_time": "2023-09-13T21:41:01.465Z"
   },
   {
    "duration": 13,
    "start_time": "2023-09-13T21:41:01.612Z"
   },
   {
    "duration": 8,
    "start_time": "2023-09-13T21:41:01.779Z"
   },
   {
    "duration": 1487,
    "start_time": "2023-09-13T21:41:59.132Z"
   },
   {
    "duration": 331,
    "start_time": "2023-09-13T21:42:18.622Z"
   },
   {
    "duration": 12,
    "start_time": "2023-09-13T21:42:27.482Z"
   },
   {
    "duration": 18,
    "start_time": "2023-09-13T21:42:42.580Z"
   },
   {
    "duration": 15,
    "start_time": "2023-09-13T21:42:44.918Z"
   },
   {
    "duration": 14,
    "start_time": "2023-09-13T21:42:45.080Z"
   },
   {
    "duration": 7,
    "start_time": "2023-09-13T21:42:45.263Z"
   },
   {
    "duration": 10,
    "start_time": "2023-09-13T21:42:45.851Z"
   },
   {
    "duration": 1416,
    "start_time": "2023-09-14T11:39:54.805Z"
   },
   {
    "duration": 1620,
    "start_time": "2023-09-14T11:39:56.224Z"
   },
   {
    "duration": 41,
    "start_time": "2023-09-14T11:39:57.846Z"
   },
   {
    "duration": 13,
    "start_time": "2023-09-14T11:39:57.890Z"
   },
   {
    "duration": 8,
    "start_time": "2023-09-14T11:39:57.906Z"
   },
   {
    "duration": 27,
    "start_time": "2023-09-14T11:39:57.917Z"
   },
   {
    "duration": 15,
    "start_time": "2023-09-14T11:39:57.946Z"
   },
   {
    "duration": 36,
    "start_time": "2023-09-14T11:39:57.967Z"
   },
   {
    "duration": 18,
    "start_time": "2023-09-14T11:39:58.006Z"
   },
   {
    "duration": 51,
    "start_time": "2023-09-14T11:39:58.028Z"
   },
   {
    "duration": 41,
    "start_time": "2023-09-14T11:39:58.081Z"
   },
   {
    "duration": 47,
    "start_time": "2023-09-14T11:39:58.125Z"
   },
   {
    "duration": 12,
    "start_time": "2023-09-14T11:39:58.174Z"
   },
   {
    "duration": 240,
    "start_time": "2023-09-14T11:39:58.188Z"
   },
   {
    "duration": 113,
    "start_time": "2023-09-14T11:39:58.429Z"
   },
   {
    "duration": 57,
    "start_time": "2023-09-14T11:39:58.543Z"
   },
   {
    "duration": 167,
    "start_time": "2023-09-14T11:39:58.601Z"
   },
   {
    "duration": 116,
    "start_time": "2023-09-14T11:39:58.770Z"
   },
   {
    "duration": 58,
    "start_time": "2023-09-14T11:39:58.888Z"
   },
   {
    "duration": 55,
    "start_time": "2023-09-14T11:39:58.956Z"
   },
   {
    "duration": 20,
    "start_time": "2023-09-14T11:39:59.015Z"
   },
   {
    "duration": 26,
    "start_time": "2023-09-14T11:39:59.037Z"
   },
   {
    "duration": 158,
    "start_time": "2023-09-14T11:39:59.064Z"
   },
   {
    "duration": 22,
    "start_time": "2023-09-14T11:39:59.225Z"
   },
   {
    "duration": 46,
    "start_time": "2023-09-14T11:39:59.250Z"
   },
   {
    "duration": 6,
    "start_time": "2023-09-14T11:39:59.299Z"
   },
   {
    "duration": 15,
    "start_time": "2023-09-14T11:39:59.307Z"
   },
   {
    "duration": 47,
    "start_time": "2023-09-14T11:39:59.329Z"
   },
   {
    "duration": 23,
    "start_time": "2023-09-14T11:39:59.378Z"
   },
   {
    "duration": 10,
    "start_time": "2023-09-14T11:39:59.402Z"
   },
   {
    "duration": 57,
    "start_time": "2023-09-14T11:39:59.414Z"
   },
   {
    "duration": 7,
    "start_time": "2023-09-14T11:39:59.475Z"
   },
   {
    "duration": 40,
    "start_time": "2023-09-14T11:39:59.484Z"
   },
   {
    "duration": 207,
    "start_time": "2023-09-14T11:39:59.526Z"
   },
   {
    "duration": 71,
    "start_time": "2023-09-14T11:39:59.735Z"
   },
   {
    "duration": 23,
    "start_time": "2023-09-14T11:39:59.808Z"
   },
   {
    "duration": 39,
    "start_time": "2023-09-14T11:39:59.833Z"
   },
   {
    "duration": 14,
    "start_time": "2023-09-14T11:39:59.874Z"
   },
   {
    "duration": 28,
    "start_time": "2023-09-14T11:39:59.890Z"
   },
   {
    "duration": 29,
    "start_time": "2023-09-14T11:39:59.920Z"
   },
   {
    "duration": 40,
    "start_time": "2023-09-14T11:39:59.951Z"
   },
   {
    "duration": 26,
    "start_time": "2023-09-14T11:39:59.994Z"
   },
   {
    "duration": 97,
    "start_time": "2023-09-14T11:40:00.023Z"
   },
   {
    "duration": 1562,
    "start_time": "2023-09-14T11:40:00.122Z"
   },
   {
    "duration": 7,
    "start_time": "2023-09-14T11:40:01.686Z"
   },
   {
    "duration": 85,
    "start_time": "2023-09-14T11:40:01.695Z"
   },
   {
    "duration": 49,
    "start_time": "2023-09-14T11:40:01.782Z"
   },
   {
    "duration": 44,
    "start_time": "2023-09-14T11:40:01.834Z"
   },
   {
    "duration": 31,
    "start_time": "2023-09-14T11:40:01.880Z"
   },
   {
    "duration": 40,
    "start_time": "2023-09-14T11:40:01.913Z"
   },
   {
    "duration": 100,
    "start_time": "2023-09-14T11:40:01.955Z"
   },
   {
    "duration": 59,
    "start_time": "2023-09-14T11:40:02.061Z"
   },
   {
    "duration": 49,
    "start_time": "2023-09-14T11:40:02.122Z"
   },
   {
    "duration": 79,
    "start_time": "2023-09-14T11:40:02.175Z"
   },
   {
    "duration": 19,
    "start_time": "2023-09-14T11:40:02.257Z"
   },
   {
    "duration": 651,
    "start_time": "2023-09-14T11:40:02.279Z"
   },
   {
    "duration": 11,
    "start_time": "2023-09-14T11:40:02.932Z"
   },
   {
    "duration": 60,
    "start_time": "2023-09-14T11:40:02.957Z"
   },
   {
    "duration": 42,
    "start_time": "2023-09-14T11:40:03.019Z"
   },
   {
    "duration": 200,
    "start_time": "2023-09-14T11:40:03.068Z"
   },
   {
    "duration": 0,
    "start_time": "2023-09-14T11:40:03.273Z"
   },
   {
    "duration": 1,
    "start_time": "2023-09-14T11:40:03.274Z"
   },
   {
    "duration": 0,
    "start_time": "2023-09-14T11:40:03.276Z"
   },
   {
    "duration": 0,
    "start_time": "2023-09-14T11:40:03.277Z"
   },
   {
    "duration": 0,
    "start_time": "2023-09-14T11:40:03.279Z"
   },
   {
    "duration": 0,
    "start_time": "2023-09-14T11:40:03.280Z"
   },
   {
    "duration": 0,
    "start_time": "2023-09-14T11:40:03.281Z"
   },
   {
    "duration": 0,
    "start_time": "2023-09-14T11:40:03.283Z"
   },
   {
    "duration": 0,
    "start_time": "2023-09-14T11:40:03.284Z"
   },
   {
    "duration": 0,
    "start_time": "2023-09-14T11:40:03.285Z"
   },
   {
    "duration": 0,
    "start_time": "2023-09-14T11:40:03.286Z"
   },
   {
    "duration": 0,
    "start_time": "2023-09-14T11:40:03.287Z"
   },
   {
    "duration": 22,
    "start_time": "2023-09-14T11:50:04.096Z"
   },
   {
    "duration": 29,
    "start_time": "2023-09-14T11:51:22.673Z"
   },
   {
    "duration": 20,
    "start_time": "2023-09-14T11:51:22.842Z"
   },
   {
    "duration": 30,
    "start_time": "2023-09-14T11:51:23.004Z"
   },
   {
    "duration": 28,
    "start_time": "2023-09-14T11:51:23.172Z"
   },
   {
    "duration": 22,
    "start_time": "2023-09-14T11:51:23.341Z"
   },
   {
    "duration": 13,
    "start_time": "2023-09-14T11:51:23.505Z"
   },
   {
    "duration": 15,
    "start_time": "2023-09-14T11:51:23.683Z"
   },
   {
    "duration": 19,
    "start_time": "2023-09-14T11:51:38.429Z"
   },
   {
    "duration": 5,
    "start_time": "2023-09-14T11:51:38.599Z"
   },
   {
    "duration": 13,
    "start_time": "2023-09-14T11:51:38.773Z"
   },
   {
    "duration": 11,
    "start_time": "2023-09-14T11:51:39.503Z"
   },
   {
    "duration": 37,
    "start_time": "2023-09-14T11:51:39.665Z"
   },
   {
    "duration": 8,
    "start_time": "2023-09-14T11:51:55.569Z"
   },
   {
    "duration": 8,
    "start_time": "2023-09-14T11:51:57.964Z"
   },
   {
    "duration": 27,
    "start_time": "2023-09-14T11:51:59.468Z"
   },
   {
    "duration": 1588,
    "start_time": "2023-09-14T18:57:57.753Z"
   },
   {
    "duration": 1432,
    "start_time": "2023-09-14T18:57:59.343Z"
   },
   {
    "duration": 36,
    "start_time": "2023-09-14T18:58:00.777Z"
   },
   {
    "duration": 31,
    "start_time": "2023-09-14T18:58:00.816Z"
   },
   {
    "duration": 47,
    "start_time": "2023-09-14T18:58:00.849Z"
   },
   {
    "duration": 59,
    "start_time": "2023-09-14T18:58:00.899Z"
   },
   {
    "duration": 47,
    "start_time": "2023-09-14T18:58:00.960Z"
   },
   {
    "duration": 82,
    "start_time": "2023-09-14T18:58:01.009Z"
   },
   {
    "duration": 66,
    "start_time": "2023-09-14T18:58:01.093Z"
   },
   {
    "duration": 45,
    "start_time": "2023-09-14T18:58:01.166Z"
   },
   {
    "duration": 40,
    "start_time": "2023-09-14T18:58:01.213Z"
   },
   {
    "duration": 68,
    "start_time": "2023-09-14T18:58:01.256Z"
   },
   {
    "duration": 13,
    "start_time": "2023-09-14T18:58:01.326Z"
   },
   {
    "duration": 72,
    "start_time": "2023-09-14T18:58:01.341Z"
   },
   {
    "duration": 88,
    "start_time": "2023-09-14T18:58:01.416Z"
   },
   {
    "duration": 12,
    "start_time": "2023-09-14T18:58:01.506Z"
   },
   {
    "duration": 148,
    "start_time": "2023-09-14T18:58:01.521Z"
   },
   {
    "duration": 67,
    "start_time": "2023-09-14T18:58:01.671Z"
   },
   {
    "duration": 71,
    "start_time": "2023-09-14T18:58:01.740Z"
   },
   {
    "duration": 98,
    "start_time": "2023-09-14T18:58:01.813Z"
   },
   {
    "duration": 14,
    "start_time": "2023-09-14T18:58:01.912Z"
   },
   {
    "duration": 43,
    "start_time": "2023-09-14T18:58:01.928Z"
   },
   {
    "duration": 35,
    "start_time": "2023-09-14T18:58:01.973Z"
   },
   {
    "duration": 45,
    "start_time": "2023-09-14T18:58:02.010Z"
   },
   {
    "duration": 65,
    "start_time": "2023-09-14T18:58:02.060Z"
   },
   {
    "duration": 7,
    "start_time": "2023-09-14T18:58:02.127Z"
   },
   {
    "duration": 72,
    "start_time": "2023-09-14T18:58:02.136Z"
   },
   {
    "duration": 7,
    "start_time": "2023-09-14T18:58:02.214Z"
   },
   {
    "duration": 27,
    "start_time": "2023-09-14T18:58:02.223Z"
   },
   {
    "duration": 24,
    "start_time": "2023-09-14T18:58:02.252Z"
   },
   {
    "duration": 61,
    "start_time": "2023-09-14T18:58:02.278Z"
   },
   {
    "duration": 12,
    "start_time": "2023-09-14T18:58:02.342Z"
   },
   {
    "duration": 45,
    "start_time": "2023-09-14T18:58:02.356Z"
   },
   {
    "duration": 7,
    "start_time": "2023-09-14T18:58:02.404Z"
   },
   {
    "duration": 54,
    "start_time": "2023-09-14T18:58:02.413Z"
   },
   {
    "duration": 225,
    "start_time": "2023-09-14T18:58:02.470Z"
   },
   {
    "duration": 71,
    "start_time": "2023-09-14T18:58:02.697Z"
   },
   {
    "duration": 27,
    "start_time": "2023-09-14T18:58:02.770Z"
   },
   {
    "duration": 11,
    "start_time": "2023-09-14T18:58:02.799Z"
   },
   {
    "duration": 30,
    "start_time": "2023-09-14T18:58:02.813Z"
   },
   {
    "duration": 26,
    "start_time": "2023-09-14T18:58:02.859Z"
   },
   {
    "duration": 30,
    "start_time": "2023-09-14T18:58:02.887Z"
   },
   {
    "duration": 13,
    "start_time": "2023-09-14T18:58:02.919Z"
   },
   {
    "duration": 25,
    "start_time": "2023-09-14T18:58:02.934Z"
   },
   {
    "duration": 30,
    "start_time": "2023-09-14T18:58:02.963Z"
   },
   {
    "duration": 31,
    "start_time": "2023-09-14T18:58:02.995Z"
   },
   {
    "duration": 6,
    "start_time": "2023-09-14T18:58:03.028Z"
   },
   {
    "duration": 43,
    "start_time": "2023-09-14T18:58:03.036Z"
   },
   {
    "duration": 1396,
    "start_time": "2023-09-14T18:58:03.081Z"
   },
   {
    "duration": 6,
    "start_time": "2023-09-14T18:58:04.479Z"
   },
   {
    "duration": 13,
    "start_time": "2023-09-14T18:58:04.487Z"
   },
   {
    "duration": 56,
    "start_time": "2023-09-14T18:58:04.502Z"
   },
   {
    "duration": 11,
    "start_time": "2023-09-14T18:58:04.563Z"
   },
   {
    "duration": 24,
    "start_time": "2023-09-14T18:58:04.576Z"
   },
   {
    "duration": 68,
    "start_time": "2023-09-14T18:58:04.602Z"
   },
   {
    "duration": 33,
    "start_time": "2023-09-14T18:58:04.672Z"
   },
   {
    "duration": 52,
    "start_time": "2023-09-14T18:58:04.707Z"
   },
   {
    "duration": 34,
    "start_time": "2023-09-14T18:58:04.761Z"
   },
   {
    "duration": 50,
    "start_time": "2023-09-14T18:58:04.798Z"
   },
   {
    "duration": 612,
    "start_time": "2023-09-14T18:58:04.857Z"
   },
   {
    "duration": 17,
    "start_time": "2023-09-14T18:58:05.471Z"
   },
   {
    "duration": 87,
    "start_time": "2023-09-14T18:58:05.491Z"
   },
   {
    "duration": 33,
    "start_time": "2023-09-14T18:58:05.581Z"
   },
   {
    "duration": 43,
    "start_time": "2023-09-14T18:58:05.617Z"
   },
   {
    "duration": 51,
    "start_time": "2023-09-14T18:58:05.667Z"
   },
   {
    "duration": 20,
    "start_time": "2023-09-14T18:58:05.721Z"
   },
   {
    "duration": 38,
    "start_time": "2023-09-14T18:58:05.743Z"
   },
   {
    "duration": 39,
    "start_time": "2023-09-14T18:58:05.783Z"
   },
   {
    "duration": 40,
    "start_time": "2023-09-14T18:58:05.824Z"
   },
   {
    "duration": 27,
    "start_time": "2023-09-14T18:58:05.872Z"
   },
   {
    "duration": 28,
    "start_time": "2023-09-14T18:58:05.901Z"
   },
   {
    "duration": 51,
    "start_time": "2023-09-14T18:58:05.931Z"
   },
   {
    "duration": 9,
    "start_time": "2023-09-14T18:58:05.984Z"
   },
   {
    "duration": 24,
    "start_time": "2023-09-14T18:58:05.995Z"
   },
   {
    "duration": 45,
    "start_time": "2023-09-14T18:58:06.021Z"
   },
   {
    "duration": 20,
    "start_time": "2023-09-14T18:58:06.069Z"
   },
   {
    "duration": 5,
    "start_time": "2023-09-14T18:58:06.091Z"
   },
   {
    "duration": 18,
    "start_time": "2023-09-14T18:58:06.099Z"
   },
   {
    "duration": 9,
    "start_time": "2023-09-14T18:58:06.119Z"
   },
   {
    "duration": 65,
    "start_time": "2023-09-14T18:58:06.130Z"
   },
   {
    "duration": 1507,
    "start_time": "2023-09-14T19:08:20.427Z"
   },
   {
    "duration": 1501,
    "start_time": "2023-09-14T19:08:21.936Z"
   },
   {
    "duration": 49,
    "start_time": "2023-09-14T19:08:23.439Z"
   },
   {
    "duration": 16,
    "start_time": "2023-09-14T19:08:23.491Z"
   },
   {
    "duration": 40,
    "start_time": "2023-09-14T19:08:23.510Z"
   },
   {
    "duration": 53,
    "start_time": "2023-09-14T19:08:23.553Z"
   },
   {
    "duration": 37,
    "start_time": "2023-09-14T19:08:23.610Z"
   },
   {
    "duration": 72,
    "start_time": "2023-09-14T19:08:23.650Z"
   },
   {
    "duration": 40,
    "start_time": "2023-09-14T19:08:23.725Z"
   },
   {
    "duration": 30,
    "start_time": "2023-09-14T19:08:23.768Z"
   },
   {
    "duration": 28,
    "start_time": "2023-09-14T19:08:23.801Z"
   },
   {
    "duration": 44,
    "start_time": "2023-09-14T19:08:23.831Z"
   },
   {
    "duration": 13,
    "start_time": "2023-09-14T19:08:23.878Z"
   },
   {
    "duration": 82,
    "start_time": "2023-09-14T19:08:23.892Z"
   },
   {
    "duration": 82,
    "start_time": "2023-09-14T19:08:23.977Z"
   },
   {
    "duration": 13,
    "start_time": "2023-09-14T19:08:24.061Z"
   },
   {
    "duration": 116,
    "start_time": "2023-09-14T19:08:24.077Z"
   },
   {
    "duration": 98,
    "start_time": "2023-09-14T19:08:24.195Z"
   },
   {
    "duration": 67,
    "start_time": "2023-09-14T19:08:24.295Z"
   },
   {
    "duration": 36,
    "start_time": "2023-09-14T19:08:24.373Z"
   },
   {
    "duration": 20,
    "start_time": "2023-09-14T19:08:24.412Z"
   },
   {
    "duration": 31,
    "start_time": "2023-09-14T19:08:24.435Z"
   },
   {
    "duration": 13,
    "start_time": "2023-09-14T19:08:24.474Z"
   },
   {
    "duration": 21,
    "start_time": "2023-09-14T19:08:24.490Z"
   },
   {
    "duration": 87,
    "start_time": "2023-09-14T19:08:24.513Z"
   },
   {
    "duration": 6,
    "start_time": "2023-09-14T19:08:24.602Z"
   },
   {
    "duration": 70,
    "start_time": "2023-09-14T19:08:24.610Z"
   },
   {
    "duration": 6,
    "start_time": "2023-09-14T19:08:24.685Z"
   },
   {
    "duration": 21,
    "start_time": "2023-09-14T19:08:24.692Z"
   },
   {
    "duration": 54,
    "start_time": "2023-09-14T19:08:24.715Z"
   },
   {
    "duration": 27,
    "start_time": "2023-09-14T19:08:24.771Z"
   },
   {
    "duration": 183,
    "start_time": "2023-09-14T19:08:24.800Z"
   },
   {
    "duration": 31,
    "start_time": "2023-09-14T19:08:24.986Z"
   },
   {
    "duration": 6,
    "start_time": "2023-09-14T19:08:25.019Z"
   },
   {
    "duration": 67,
    "start_time": "2023-09-14T19:08:25.028Z"
   },
   {
    "duration": 212,
    "start_time": "2023-09-14T19:08:25.097Z"
   },
   {
    "duration": 65,
    "start_time": "2023-09-14T19:08:25.311Z"
   },
   {
    "duration": 30,
    "start_time": "2023-09-14T19:08:25.378Z"
   },
   {
    "duration": 24,
    "start_time": "2023-09-14T19:08:25.410Z"
   },
   {
    "duration": 51,
    "start_time": "2023-09-14T19:08:25.436Z"
   },
   {
    "duration": 42,
    "start_time": "2023-09-14T19:08:25.490Z"
   },
   {
    "duration": 47,
    "start_time": "2023-09-14T19:08:25.535Z"
   },
   {
    "duration": 15,
    "start_time": "2023-09-14T19:08:25.583Z"
   },
   {
    "duration": 30,
    "start_time": "2023-09-14T19:08:25.600Z"
   },
   {
    "duration": 31,
    "start_time": "2023-09-14T19:08:25.631Z"
   },
   {
    "duration": 36,
    "start_time": "2023-09-14T19:08:25.664Z"
   },
   {
    "duration": 7,
    "start_time": "2023-09-14T19:08:25.702Z"
   },
   {
    "duration": 28,
    "start_time": "2023-09-14T19:08:25.711Z"
   },
   {
    "duration": 1268,
    "start_time": "2023-09-14T19:08:25.741Z"
   },
   {
    "duration": 10,
    "start_time": "2023-09-14T19:08:27.011Z"
   },
   {
    "duration": 43,
    "start_time": "2023-09-14T19:08:27.023Z"
   },
   {
    "duration": 30,
    "start_time": "2023-09-14T19:08:27.068Z"
   },
   {
    "duration": 71,
    "start_time": "2023-09-14T19:08:27.100Z"
   },
   {
    "duration": 12,
    "start_time": "2023-09-14T19:08:27.173Z"
   },
   {
    "duration": 83,
    "start_time": "2023-09-14T19:08:27.188Z"
   },
   {
    "duration": 24,
    "start_time": "2023-09-14T19:08:27.278Z"
   },
   {
    "duration": 26,
    "start_time": "2023-09-14T19:08:27.305Z"
   },
   {
    "duration": 19,
    "start_time": "2023-09-14T19:08:27.334Z"
   },
   {
    "duration": 80,
    "start_time": "2023-09-14T19:08:27.356Z"
   },
   {
    "duration": 656,
    "start_time": "2023-09-14T19:08:27.439Z"
   },
   {
    "duration": 21,
    "start_time": "2023-09-14T19:08:28.097Z"
   },
   {
    "duration": 100,
    "start_time": "2023-09-14T19:08:28.124Z"
   },
   {
    "duration": 55,
    "start_time": "2023-09-14T19:08:28.227Z"
   },
   {
    "duration": 23,
    "start_time": "2023-09-14T19:08:28.285Z"
   },
   {
    "duration": 125,
    "start_time": "2023-09-14T19:08:28.310Z"
   },
   {
    "duration": 33,
    "start_time": "2023-09-14T19:08:28.438Z"
   },
   {
    "duration": 22,
    "start_time": "2023-09-14T19:08:28.473Z"
   },
   {
    "duration": 24,
    "start_time": "2023-09-14T19:08:28.498Z"
   },
   {
    "duration": 38,
    "start_time": "2023-09-14T19:08:28.524Z"
   },
   {
    "duration": 18,
    "start_time": "2023-09-14T19:08:28.566Z"
   },
   {
    "duration": 12,
    "start_time": "2023-09-14T19:08:28.586Z"
   },
   {
    "duration": 22,
    "start_time": "2023-09-14T19:08:28.600Z"
   },
   {
    "duration": 40,
    "start_time": "2023-09-14T19:08:28.625Z"
   },
   {
    "duration": 23,
    "start_time": "2023-09-14T19:08:28.671Z"
   },
   {
    "duration": 56,
    "start_time": "2023-09-14T19:08:28.696Z"
   },
   {
    "duration": 38,
    "start_time": "2023-09-14T19:08:28.753Z"
   },
   {
    "duration": 7,
    "start_time": "2023-09-14T19:08:28.793Z"
   },
   {
    "duration": 28,
    "start_time": "2023-09-14T19:08:28.802Z"
   },
   {
    "duration": 9,
    "start_time": "2023-09-14T19:08:28.833Z"
   },
   {
    "duration": 71,
    "start_time": "2023-09-14T19:08:28.845Z"
   }
  ],
  "kernelspec": {
   "display_name": "Python 3 (ipykernel)",
   "language": "python",
   "name": "python3"
  },
  "language_info": {
   "codemirror_mode": {
    "name": "ipython",
    "version": 3
   },
   "file_extension": ".py",
   "mimetype": "text/x-python",
   "name": "python",
   "nbconvert_exporter": "python",
   "pygments_lexer": "ipython3",
   "version": "3.11.3"
  },
  "toc": {
   "base_numbering": 1,
   "nav_menu": {},
   "number_sections": true,
   "sideBar": true,
   "skip_h1_title": true,
   "title_cell": "Table of Contents",
   "title_sidebar": "Contents",
   "toc_cell": false,
   "toc_position": {},
   "toc_section_display": true,
   "toc_window_display": true
  }
 },
 "nbformat": 4,
 "nbformat_minor": 2
}
