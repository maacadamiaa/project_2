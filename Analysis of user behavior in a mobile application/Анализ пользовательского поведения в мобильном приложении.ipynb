{
 "cells": [
  {
   "cell_type": "markdown",
   "metadata": {},
   "source": [
    "# Анализ пользовательского поведения в мобильном приложении"
   ]
  },
  {
   "cell_type": "markdown",
   "metadata": {},
   "source": [
    "**Описание проекта**\n",
    "\n",
    "Вы работаете в стартапе, который продаёт продукты питания. Нужно разобраться, как ведут себя пользователи вашего мобильного приложения.\n",
    "\n",
    "Изучите воронку продаж. Узнайте, как пользователи доходят до покупки. Сколько пользователей доходит до покупки, а сколько — «застревает» на предыдущих шагах? На каких именно?\n",
    "\n",
    "После этого исследуйте результаты A/A/B-эксперимента. Дизайнеры захотели поменять шрифты во всём приложении, а менеджеры испугались, что пользователям будет непривычно. Договорились принять решение по результатам A/A/B-теста. Пользователей разбили на 3 группы: 2 контрольные со старыми шрифтами и одну экспериментальную — с новыми. Выясните, какой шрифт лучше."
   ]
  },
  {
   "cell_type": "markdown",
   "metadata": {},
   "source": [
    "**Описание данных**\n",
    "\n",
    "Каждая запись в логе — это действие пользователя, или событие. \n",
    "\n",
    "   - EventName — название события;\n",
    "   - DeviceIDHash — уникальный идентификатор пользователя;\n",
    "   - EventTimestamp — время события;\n",
    "   - ExpId — номер эксперимента: 246 и 247 — контрольные группы, а 248 — экспериментальная."
   ]
  },
  {
   "cell_type": "markdown",
   "metadata": {},
   "source": [
    "## Откройте файл с данными и изучите общую информацию"
   ]
  },
  {
   "cell_type": "code",
   "execution_count": 3,
   "metadata": {},
   "outputs": [],
   "source": [
    "#Импорт библиотек\n",
    "import pandas as pd\n",
    "import numpy as np\n",
    "import matplotlib.pyplot as plt\n",
    "import seaborn as sns\n",
    "from IPython.display import display\n",
    "import math as mth\n",
    "from scipy import stats as st"
   ]
  },
  {
   "cell_type": "code",
   "execution_count": 4,
   "metadata": {},
   "outputs": [
    {
     "data": {
      "text/html": [
       "<div>\n",
       "<style scoped>\n",
       "    .dataframe tbody tr th:only-of-type {\n",
       "        vertical-align: middle;\n",
       "    }\n",
       "\n",
       "    .dataframe tbody tr th {\n",
       "        vertical-align: top;\n",
       "    }\n",
       "\n",
       "    .dataframe thead th {\n",
       "        text-align: right;\n",
       "    }\n",
       "</style>\n",
       "<table border=\"1\" class=\"dataframe\">\n",
       "  <thead>\n",
       "    <tr style=\"text-align: right;\">\n",
       "      <th></th>\n",
       "      <th>EventName</th>\n",
       "      <th>DeviceIDHash</th>\n",
       "      <th>EventTimestamp</th>\n",
       "      <th>ExpId</th>\n",
       "    </tr>\n",
       "  </thead>\n",
       "  <tbody>\n",
       "    <tr>\n",
       "      <th>0</th>\n",
       "      <td>MainScreenAppear</td>\n",
       "      <td>4575588528974610257</td>\n",
       "      <td>1564029816</td>\n",
       "      <td>246</td>\n",
       "    </tr>\n",
       "    <tr>\n",
       "      <th>1</th>\n",
       "      <td>MainScreenAppear</td>\n",
       "      <td>7416695313311560658</td>\n",
       "      <td>1564053102</td>\n",
       "      <td>246</td>\n",
       "    </tr>\n",
       "    <tr>\n",
       "      <th>2</th>\n",
       "      <td>PaymentScreenSuccessful</td>\n",
       "      <td>3518123091307005509</td>\n",
       "      <td>1564054127</td>\n",
       "      <td>248</td>\n",
       "    </tr>\n",
       "    <tr>\n",
       "      <th>3</th>\n",
       "      <td>CartScreenAppear</td>\n",
       "      <td>3518123091307005509</td>\n",
       "      <td>1564054127</td>\n",
       "      <td>248</td>\n",
       "    </tr>\n",
       "    <tr>\n",
       "      <th>4</th>\n",
       "      <td>PaymentScreenSuccessful</td>\n",
       "      <td>6217807653094995999</td>\n",
       "      <td>1564055322</td>\n",
       "      <td>248</td>\n",
       "    </tr>\n",
       "  </tbody>\n",
       "</table>\n",
       "</div>"
      ],
      "text/plain": [
       "                 EventName         DeviceIDHash  EventTimestamp  ExpId\n",
       "0         MainScreenAppear  4575588528974610257      1564029816    246\n",
       "1         MainScreenAppear  7416695313311560658      1564053102    246\n",
       "2  PaymentScreenSuccessful  3518123091307005509      1564054127    248\n",
       "3         CartScreenAppear  3518123091307005509      1564054127    248\n",
       "4  PaymentScreenSuccessful  6217807653094995999      1564055322    248"
      ]
     },
     "execution_count": 4,
     "metadata": {},
     "output_type": "execute_result"
    }
   ],
   "source": [
    "data = pd.read_csv('logs_exp.csv', sep='\\t')\n",
    "data.head()"
   ]
  },
  {
   "cell_type": "markdown",
   "metadata": {},
   "source": [
    "##  Подготовьте данные"
   ]
  },
  {
   "cell_type": "markdown",
   "metadata": {},
   "source": [
    "### Замените названия столбцов на удобные для вас"
   ]
  },
  {
   "cell_type": "code",
   "execution_count": 5,
   "metadata": {},
   "outputs": [],
   "source": [
    "data.columns = ['event_name', 'user_id', 'event_time', 'exp_id']"
   ]
  },
  {
   "cell_type": "markdown",
   "metadata": {},
   "source": [
    "### Проверьте пропуски и типы данных. Откорректируйте, если нужно"
   ]
  },
  {
   "cell_type": "code",
   "execution_count": 6,
   "metadata": {
    "scrolled": true
   },
   "outputs": [
    {
     "name": "stdout",
     "output_type": "stream",
     "text": [
      "<class 'pandas.core.frame.DataFrame'>\n",
      "RangeIndex: 244126 entries, 0 to 244125\n",
      "Data columns (total 4 columns):\n",
      " #   Column      Non-Null Count   Dtype \n",
      "---  ------      --------------   ----- \n",
      " 0   event_name  244126 non-null  object\n",
      " 1   user_id     244126 non-null  int64 \n",
      " 2   event_time  244126 non-null  int64 \n",
      " 3   exp_id      244126 non-null  int64 \n",
      "dtypes: int64(3), object(1)\n",
      "memory usage: 7.5+ MB\n"
     ]
    }
   ],
   "source": [
    "data.info()"
   ]
  },
  {
   "cell_type": "markdown",
   "metadata": {},
   "source": [
    "Переведем дату в нужный формат."
   ]
  },
  {
   "cell_type": "code",
   "execution_count": 7,
   "metadata": {},
   "outputs": [],
   "source": [
    "data.event_time = pd.to_datetime(data.event_time, unit = 's')"
   ]
  },
  {
   "cell_type": "code",
   "execution_count": 8,
   "metadata": {},
   "outputs": [
    {
     "data": {
      "text/plain": [
       "413"
      ]
     },
     "execution_count": 8,
     "metadata": {},
     "output_type": "execute_result"
    }
   ],
   "source": [
    "#проверим наличие дубликатов\n",
    "data.duplicated().sum()"
   ]
  },
  {
   "cell_type": "code",
   "execution_count": 9,
   "metadata": {},
   "outputs": [],
   "source": [
    "#удалим дубликаты \n",
    "data = data.drop_duplicates()"
   ]
  },
  {
   "cell_type": "markdown",
   "metadata": {},
   "source": [
    "### Добавьте столбец даты и времени, а также отдельный столбец дат"
   ]
  },
  {
   "cell_type": "code",
   "execution_count": 10,
   "metadata": {},
   "outputs": [
    {
     "data": {
      "text/html": [
       "<div>\n",
       "<style scoped>\n",
       "    .dataframe tbody tr th:only-of-type {\n",
       "        vertical-align: middle;\n",
       "    }\n",
       "\n",
       "    .dataframe tbody tr th {\n",
       "        vertical-align: top;\n",
       "    }\n",
       "\n",
       "    .dataframe thead th {\n",
       "        text-align: right;\n",
       "    }\n",
       "</style>\n",
       "<table border=\"1\" class=\"dataframe\">\n",
       "  <thead>\n",
       "    <tr style=\"text-align: right;\">\n",
       "      <th></th>\n",
       "      <th>event_name</th>\n",
       "      <th>user_id</th>\n",
       "      <th>event_time</th>\n",
       "      <th>exp_id</th>\n",
       "    </tr>\n",
       "  </thead>\n",
       "  <tbody>\n",
       "    <tr>\n",
       "      <th>0</th>\n",
       "      <td>MainScreenAppear</td>\n",
       "      <td>4575588528974610257</td>\n",
       "      <td>2019-07-25 04:43:36</td>\n",
       "      <td>246</td>\n",
       "    </tr>\n",
       "    <tr>\n",
       "      <th>1</th>\n",
       "      <td>MainScreenAppear</td>\n",
       "      <td>7416695313311560658</td>\n",
       "      <td>2019-07-25 11:11:42</td>\n",
       "      <td>246</td>\n",
       "    </tr>\n",
       "  </tbody>\n",
       "</table>\n",
       "</div>"
      ],
      "text/plain": [
       "         event_name              user_id          event_time  exp_id\n",
       "0  MainScreenAppear  4575588528974610257 2019-07-25 04:43:36     246\n",
       "1  MainScreenAppear  7416695313311560658 2019-07-25 11:11:42     246"
      ]
     },
     "execution_count": 10,
     "metadata": {},
     "output_type": "execute_result"
    }
   ],
   "source": [
    "data.head(2)"
   ]
  },
  {
   "cell_type": "code",
   "execution_count": 11,
   "metadata": {},
   "outputs": [
    {
     "data": {
      "text/html": [
       "<div>\n",
       "<style scoped>\n",
       "    .dataframe tbody tr th:only-of-type {\n",
       "        vertical-align: middle;\n",
       "    }\n",
       "\n",
       "    .dataframe tbody tr th {\n",
       "        vertical-align: top;\n",
       "    }\n",
       "\n",
       "    .dataframe thead th {\n",
       "        text-align: right;\n",
       "    }\n",
       "</style>\n",
       "<table border=\"1\" class=\"dataframe\">\n",
       "  <thead>\n",
       "    <tr style=\"text-align: right;\">\n",
       "      <th></th>\n",
       "      <th>event_name</th>\n",
       "      <th>user_id</th>\n",
       "      <th>event_time</th>\n",
       "      <th>exp_id</th>\n",
       "      <th>date</th>\n",
       "    </tr>\n",
       "  </thead>\n",
       "  <tbody>\n",
       "    <tr>\n",
       "      <th>0</th>\n",
       "      <td>MainScreenAppear</td>\n",
       "      <td>4575588528974610257</td>\n",
       "      <td>2019-07-25 04:43:36</td>\n",
       "      <td>246</td>\n",
       "      <td>2019-07-25</td>\n",
       "    </tr>\n",
       "    <tr>\n",
       "      <th>1</th>\n",
       "      <td>MainScreenAppear</td>\n",
       "      <td>7416695313311560658</td>\n",
       "      <td>2019-07-25 11:11:42</td>\n",
       "      <td>246</td>\n",
       "      <td>2019-07-25</td>\n",
       "    </tr>\n",
       "    <tr>\n",
       "      <th>2</th>\n",
       "      <td>PaymentScreenSuccessful</td>\n",
       "      <td>3518123091307005509</td>\n",
       "      <td>2019-07-25 11:28:47</td>\n",
       "      <td>248</td>\n",
       "      <td>2019-07-25</td>\n",
       "    </tr>\n",
       "    <tr>\n",
       "      <th>3</th>\n",
       "      <td>CartScreenAppear</td>\n",
       "      <td>3518123091307005509</td>\n",
       "      <td>2019-07-25 11:28:47</td>\n",
       "      <td>248</td>\n",
       "      <td>2019-07-25</td>\n",
       "    </tr>\n",
       "    <tr>\n",
       "      <th>4</th>\n",
       "      <td>PaymentScreenSuccessful</td>\n",
       "      <td>6217807653094995999</td>\n",
       "      <td>2019-07-25 11:48:42</td>\n",
       "      <td>248</td>\n",
       "      <td>2019-07-25</td>\n",
       "    </tr>\n",
       "  </tbody>\n",
       "</table>\n",
       "</div>"
      ],
      "text/plain": [
       "                event_name              user_id          event_time  exp_id  \\\n",
       "0         MainScreenAppear  4575588528974610257 2019-07-25 04:43:36     246   \n",
       "1         MainScreenAppear  7416695313311560658 2019-07-25 11:11:42     246   \n",
       "2  PaymentScreenSuccessful  3518123091307005509 2019-07-25 11:28:47     248   \n",
       "3         CartScreenAppear  3518123091307005509 2019-07-25 11:28:47     248   \n",
       "4  PaymentScreenSuccessful  6217807653094995999 2019-07-25 11:48:42     248   \n",
       "\n",
       "         date  \n",
       "0  2019-07-25  \n",
       "1  2019-07-25  \n",
       "2  2019-07-25  \n",
       "3  2019-07-25  \n",
       "4  2019-07-25  "
      ]
     },
     "execution_count": 11,
     "metadata": {},
     "output_type": "execute_result"
    }
   ],
   "source": [
    "#добавим дополнительный столбец с датой\n",
    "data['date'] = data.event_time.dt.date\n",
    "data.head()"
   ]
  },
  {
   "cell_type": "markdown",
   "metadata": {},
   "source": [
    "Проверим наличие пропусков. "
   ]
  },
  {
   "cell_type": "code",
   "execution_count": 12,
   "metadata": {
    "scrolled": true
   },
   "outputs": [
    {
     "data": {
      "text/plain": [
       "event_name    0\n",
       "user_id       0\n",
       "event_time    0\n",
       "exp_id        0\n",
       "date          0\n",
       "dtype: int64"
      ]
     },
     "execution_count": 12,
     "metadata": {},
     "output_type": "execute_result"
    }
   ],
   "source": [
    "data.isnull().sum()"
   ]
  },
  {
   "cell_type": "markdown",
   "metadata": {},
   "source": [
    "**Вывод:** Привели дату в нужный формат, нашли 413 дубликатов и удалили их, добавили новый столбец с датой \"date\", заменили названия столбцов на удобный, пропуски не обнаружили."
   ]
  },
  {
   "cell_type": "markdown",
   "metadata": {},
   "source": [
    "##  Изучите и проверьте данные"
   ]
  },
  {
   "cell_type": "markdown",
   "metadata": {},
   "source": [
    "### Сколько всего событий в логе?"
   ]
  },
  {
   "cell_type": "code",
   "execution_count": 13,
   "metadata": {},
   "outputs": [
    {
     "name": "stdout",
     "output_type": "stream",
     "text": [
      "В логе всего 243713 событий\n"
     ]
    }
   ],
   "source": [
    "print('В логе всего', len(data['event_name']), 'событий')"
   ]
  },
  {
   "cell_type": "code",
   "execution_count": 14,
   "metadata": {},
   "outputs": [
    {
     "name": "stdout",
     "output_type": "stream",
     "text": [
      "В логе всего 5 видов событий\n"
     ]
    }
   ],
   "source": [
    "print('В логе всего', len(data['event_name'].value_counts()), 'видов событий')"
   ]
  },
  {
   "cell_type": "markdown",
   "metadata": {},
   "source": [
    "### Сколько всего пользователей в логе?"
   ]
  },
  {
   "cell_type": "code",
   "execution_count": 15,
   "metadata": {},
   "outputs": [
    {
     "name": "stdout",
     "output_type": "stream",
     "text": [
      "В логе всего 7551 пользователь\n"
     ]
    }
   ],
   "source": [
    "print('В логе всего', len(data['user_id'].value_counts()), 'пользователь')"
   ]
  },
  {
   "cell_type": "markdown",
   "metadata": {},
   "source": [
    "### Сколько в среднем событий приходится на пользователя?"
   ]
  },
  {
   "cell_type": "code",
   "execution_count": 16,
   "metadata": {},
   "outputs": [
    {
     "name": "stdout",
     "output_type": "stream",
     "text": [
      "В среднем на пользователя приходится 32.3 события\n"
     ]
    }
   ],
   "source": [
    "df = data.pivot_table(index='user_id',values='event_name',aggfunc='count')\n",
    "print('В среднем на пользователя приходится', round(df['event_name'].mean(), 1), 'события')"
   ]
  },
  {
   "cell_type": "markdown",
   "metadata": {},
   "source": [
    "### Данными за какой период вы располагаете? Найдите максимальную и минимальную дату. Постройте гистограмму по дате и времени. Можно ли быть уверенным, что у вас одинаково полные данные за весь период? Технически в логи новых дней по некоторым пользователям могут «доезжать» события из прошлого  — это может «перекашивать данные». Определите, с какого момента данные полные и отбросьте более старые. Данными за какой период времени вы располагаете на самом деле?"
   ]
  },
  {
   "cell_type": "code",
   "execution_count": 17,
   "metadata": {},
   "outputs": [
    {
     "name": "stdout",
     "output_type": "stream",
     "text": [
      "Минимальная дата 2019-07-25\n"
     ]
    }
   ],
   "source": [
    "print('Минимальная дата', data['date'].min())"
   ]
  },
  {
   "cell_type": "code",
   "execution_count": 18,
   "metadata": {},
   "outputs": [
    {
     "name": "stdout",
     "output_type": "stream",
     "text": [
      "Максимальная дата 2019-08-07\n"
     ]
    }
   ],
   "source": [
    "print('Максимальная дата', data['date'].max())"
   ]
  },
  {
   "cell_type": "code",
   "execution_count": 19,
   "metadata": {},
   "outputs": [
    {
     "data": {
      "image/png": "[encoded data removed]",
      "text/plain": [
       "<Figure size 1500x500 with 1 Axes>"
      ]
     },
     "metadata": {},
     "output_type": "display_data"
    }
   ],
   "source": [
    "plt.figure(figsize=(15,5))\n",
    "plt.grid()\n",
    "plt.title('Гистограмма по дате')\n",
    "plt.xlabel('Дата')\n",
    "plt.xticks(rotation=50) \n",
    "data['event_time'].hist();"
   ]
  },
  {
   "cell_type": "markdown",
   "metadata": {},
   "source": [
    "Мы видим, что до 1.08.2019 было очень мало данных, скорее всего данные за этот период неполные. "
   ]
  },
  {
   "cell_type": "code",
   "execution_count": 20,
   "metadata": {
    "scrolled": true
   },
   "outputs": [
    {
     "data": {
      "image/png": "[encoded data removed]",
      "text/plain": [
       "<Figure size 1000x500 with 1 Axes>"
      ]
     },
     "metadata": {},
     "output_type": "display_data"
    }
   ],
   "source": [
    "data['date'] = pd.to_datetime(data['date'])\n",
    "data_new = data.query('date > \"2019-07-31\"')\n",
    "plt.figure(figsize=(10,5))\n",
    "plt.grid()\n",
    "plt.title('Гистограмма по дате c 1.08')\n",
    "plt.xlabel('Дата')\n",
    "plt.xticks(rotation=50) \n",
    "data_new['date'].hist();"
   ]
  },
  {
   "cell_type": "markdown",
   "metadata": {},
   "source": [
    "Я распологаю данными с 1.08.2019 по 7.08.2019."
   ]
  },
  {
   "cell_type": "markdown",
   "metadata": {},
   "source": [
    "### Много ли событий и пользователей вы потеряли, отбросив старые данные?"
   ]
  },
  {
   "cell_type": "code",
   "execution_count": 21,
   "metadata": {},
   "outputs": [
    {
     "data": {
      "text/plain": [
       "243713"
      ]
     },
     "execution_count": 21,
     "metadata": {},
     "output_type": "execute_result"
    }
   ],
   "source": [
    "len(data['event_name'])"
   ]
  },
  {
   "cell_type": "code",
   "execution_count": 22,
   "metadata": {
    "scrolled": true
   },
   "outputs": [
    {
     "name": "stdout",
     "output_type": "stream",
     "text": [
      "Потеряли 2826 событий\n",
      "Доля событий 1.16 %\n"
     ]
    }
   ],
   "source": [
    "data_new = data.query('date >= \"2019-08-01\"')\n",
    "print('Потеряли', len(data['event_name']) - len(data_new['event_name']), 'событий')\n",
    "print('Доля событий',round(100-len(data_new['event_name'])/len(data['event_name'])*100,2), '%')"
   ]
  },
  {
   "cell_type": "code",
   "execution_count": 23,
   "metadata": {
    "scrolled": true
   },
   "outputs": [
    {
     "name": "stdout",
     "output_type": "stream",
     "text": [
      "Потеряли 17 пользователей\n",
      "Доля пользователей 0.23 %\n"
     ]
    }
   ],
   "source": [
    "print('Потеряли', len(data['user_id'].unique()) - len(data_new['user_id'].unique()), 'пользователей')\n",
    "print('Доля пользователей',round(100-len(data_new['user_id'].unique())/len(data['user_id'].unique())*100,2), '%')"
   ]
  },
  {
   "cell_type": "markdown",
   "metadata": {},
   "source": [
    "### Проверьте, что у вас есть пользователи из всех трёх экспериментальных групп."
   ]
  },
  {
   "cell_type": "code",
   "execution_count": 26,
   "metadata": {
    "scrolled": true
   },
   "outputs": [
    {
     "data": {
      "text/html": [
       "<div>\n",
       "<style scoped>\n",
       "    .dataframe tbody tr th:only-of-type {\n",
       "        vertical-align: middle;\n",
       "    }\n",
       "\n",
       "    .dataframe tbody tr th {\n",
       "        vertical-align: top;\n",
       "    }\n",
       "\n",
       "    .dataframe thead th {\n",
       "        text-align: right;\n",
       "    }\n",
       "</style>\n",
       "<table border=\"1\" class=\"dataframe\">\n",
       "  <thead>\n",
       "    <tr style=\"text-align: right;\">\n",
       "      <th></th>\n",
       "      <th>event_name</th>\n",
       "      <th>user_id</th>\n",
       "      <th>event_time</th>\n",
       "      <th>exp_id</th>\n",
       "      <th>date</th>\n",
       "    </tr>\n",
       "  </thead>\n",
       "  <tbody>\n",
       "    <tr>\n",
       "      <th>0</th>\n",
       "      <td>MainScreenAppear</td>\n",
       "      <td>4575588528974610257</td>\n",
       "      <td>2019-07-25 04:43:36</td>\n",
       "      <td>246</td>\n",
       "      <td>2019-07-25</td>\n",
       "    </tr>\n",
       "    <tr>\n",
       "      <th>1</th>\n",
       "      <td>MainScreenAppear</td>\n",
       "      <td>7416695313311560658</td>\n",
       "      <td>2019-07-25 11:11:42</td>\n",
       "      <td>246</td>\n",
       "      <td>2019-07-25</td>\n",
       "    </tr>\n",
       "    <tr>\n",
       "      <th>2</th>\n",
       "      <td>PaymentScreenSuccessful</td>\n",
       "      <td>3518123091307005509</td>\n",
       "      <td>2019-07-25 11:28:47</td>\n",
       "      <td>248</td>\n",
       "      <td>2019-07-25</td>\n",
       "    </tr>\n",
       "    <tr>\n",
       "      <th>3</th>\n",
       "      <td>CartScreenAppear</td>\n",
       "      <td>3518123091307005509</td>\n",
       "      <td>2019-07-25 11:28:47</td>\n",
       "      <td>248</td>\n",
       "      <td>2019-07-25</td>\n",
       "    </tr>\n",
       "    <tr>\n",
       "      <th>4</th>\n",
       "      <td>PaymentScreenSuccessful</td>\n",
       "      <td>6217807653094995999</td>\n",
       "      <td>2019-07-25 11:48:42</td>\n",
       "      <td>248</td>\n",
       "      <td>2019-07-25</td>\n",
       "    </tr>\n",
       "  </tbody>\n",
       "</table>\n",
       "</div>"
      ],
      "text/plain": [
       "                event_name              user_id          event_time  exp_id  \\\n",
       "0         MainScreenAppear  4575588528974610257 2019-07-25 04:43:36     246   \n",
       "1         MainScreenAppear  7416695313311560658 2019-07-25 11:11:42     246   \n",
       "2  PaymentScreenSuccessful  3518123091307005509 2019-07-25 11:28:47     248   \n",
       "3         CartScreenAppear  3518123091307005509 2019-07-25 11:28:47     248   \n",
       "4  PaymentScreenSuccessful  6217807653094995999 2019-07-25 11:48:42     248   \n",
       "\n",
       "        date  \n",
       "0 2019-07-25  \n",
       "1 2019-07-25  \n",
       "2 2019-07-25  \n",
       "3 2019-07-25  \n",
       "4 2019-07-25  "
      ]
     },
     "execution_count": 26,
     "metadata": {},
     "output_type": "execute_result"
    }
   ],
   "source": [
    "data.head()"
   ]
  },
  {
   "cell_type": "code",
   "execution_count": 27,
   "metadata": {
    "scrolled": true
   },
   "outputs": [
    {
     "data": {
      "text/plain": [
       "248    85582\n",
       "246    80181\n",
       "247    77950\n",
       "Name: exp_id, dtype: int64"
      ]
     },
     "execution_count": 27,
     "metadata": {},
     "output_type": "execute_result"
    }
   ],
   "source": [
    "data['exp_id'].value_counts()"
   ]
  },
  {
   "cell_type": "markdown",
   "metadata": {},
   "source": [
    "Проверили сколько событий в экспериментальных группах."
   ]
  },
  {
   "cell_type": "code",
   "execution_count": 28,
   "metadata": {
    "scrolled": false
   },
   "outputs": [
    {
     "data": {
      "text/plain": [
       "exp_id\n",
       "246    2489\n",
       "247    2520\n",
       "248    2542\n",
       "Name: user_id, dtype: int64"
      ]
     },
     "execution_count": 28,
     "metadata": {},
     "output_type": "execute_result"
    }
   ],
   "source": [
    "data.groupby('exp_id')['user_id'].nunique()"
   ]
  },
  {
   "cell_type": "markdown",
   "metadata": {},
   "source": [
    "И количество пользователей в каждой экспериментальной группе."
   ]
  },
  {
   "cell_type": "code",
   "execution_count": 29,
   "metadata": {
    "scrolled": true
   },
   "outputs": [
    {
     "data": {
      "text/plain": [
       "exp_id    0\n",
       "dtype: int64"
      ]
     },
     "execution_count": 29,
     "metadata": {},
     "output_type": "execute_result"
    }
   ],
   "source": [
    "data.groupby('user_id').agg({'exp_id':'nunique'}).query('exp_id>1').count()   "
   ]
  },
  {
   "cell_type": "markdown",
   "metadata": {},
   "source": [
    "Пересечений поользователей не выявлено."
   ]
  },
  {
   "cell_type": "markdown",
   "metadata": {},
   "source": [
    "## Изучите воронку событий\n"
   ]
  },
  {
   "cell_type": "markdown",
   "metadata": {},
   "source": [
    "### Посмотрите, какие события есть в логах, как часто они встречаются. Отсортируйте события по частоте."
   ]
  },
  {
   "cell_type": "code",
   "execution_count": 31,
   "metadata": {
    "scrolled": true
   },
   "outputs": [
    {
     "data": {
      "text/html": [
       "<div>\n",
       "<style scoped>\n",
       "    .dataframe tbody tr th:only-of-type {\n",
       "        vertical-align: middle;\n",
       "    }\n",
       "\n",
       "    .dataframe tbody tr th {\n",
       "        vertical-align: top;\n",
       "    }\n",
       "\n",
       "    .dataframe thead th {\n",
       "        text-align: right;\n",
       "    }\n",
       "</style>\n",
       "<table border=\"1\" class=\"dataframe\">\n",
       "  <thead>\n",
       "    <tr style=\"text-align: right;\">\n",
       "      <th></th>\n",
       "      <th>index</th>\n",
       "      <th>event_name</th>\n",
       "    </tr>\n",
       "  </thead>\n",
       "  <tbody>\n",
       "    <tr>\n",
       "      <th>0</th>\n",
       "      <td>MainScreenAppear</td>\n",
       "      <td>119101</td>\n",
       "    </tr>\n",
       "    <tr>\n",
       "      <th>1</th>\n",
       "      <td>OffersScreenAppear</td>\n",
       "      <td>46808</td>\n",
       "    </tr>\n",
       "    <tr>\n",
       "      <th>2</th>\n",
       "      <td>CartScreenAppear</td>\n",
       "      <td>42668</td>\n",
       "    </tr>\n",
       "    <tr>\n",
       "      <th>3</th>\n",
       "      <td>PaymentScreenSuccessful</td>\n",
       "      <td>34118</td>\n",
       "    </tr>\n",
       "    <tr>\n",
       "      <th>4</th>\n",
       "      <td>Tutorial</td>\n",
       "      <td>1018</td>\n",
       "    </tr>\n",
       "  </tbody>\n",
       "</table>\n",
       "</div>"
      ],
      "text/plain": [
       "                     index  event_name\n",
       "0         MainScreenAppear      119101\n",
       "1       OffersScreenAppear       46808\n",
       "2         CartScreenAppear       42668\n",
       "3  PaymentScreenSuccessful       34118\n",
       "4                 Tutorial        1018"
      ]
     },
     "execution_count": 31,
     "metadata": {},
     "output_type": "execute_result"
    }
   ],
   "source": [
    "data_event = data['event_name'].value_counts().sort_values(ascending=False).to_frame().reset_index()\n",
    "data_event"
   ]
  },
  {
   "cell_type": "markdown",
   "metadata": {},
   "source": [
    "Событие \"MainScreenAppear\" встречается в логах чаще всего, реже всего событие Tutorial."
   ]
  },
  {
   "cell_type": "markdown",
   "metadata": {},
   "source": [
    "### Посчитайте, сколько пользователей совершали каждое из этих событий. Отсортируйте события по числу пользователей. Посчитайте долю пользователей, которые хоть раз совершали событие."
   ]
  },
  {
   "cell_type": "code",
   "execution_count": 32,
   "metadata": {
    "scrolled": true
   },
   "outputs": [
    {
     "data": {
      "text/html": [
       "<div>\n",
       "<style scoped>\n",
       "    .dataframe tbody tr th:only-of-type {\n",
       "        vertical-align: middle;\n",
       "    }\n",
       "\n",
       "    .dataframe tbody tr th {\n",
       "        vertical-align: top;\n",
       "    }\n",
       "\n",
       "    .dataframe thead th {\n",
       "        text-align: right;\n",
       "    }\n",
       "</style>\n",
       "<table border=\"1\" class=\"dataframe\">\n",
       "  <thead>\n",
       "    <tr style=\"text-align: right;\">\n",
       "      <th></th>\n",
       "      <th>event_name</th>\n",
       "      <th>user_id</th>\n",
       "      <th>percent</th>\n",
       "    </tr>\n",
       "  </thead>\n",
       "  <tbody>\n",
       "    <tr>\n",
       "      <th>0</th>\n",
       "      <td>MainScreenAppear</td>\n",
       "      <td>7439</td>\n",
       "      <td>98.52</td>\n",
       "    </tr>\n",
       "    <tr>\n",
       "      <th>1</th>\n",
       "      <td>OffersScreenAppear</td>\n",
       "      <td>4613</td>\n",
       "      <td>61.09</td>\n",
       "    </tr>\n",
       "    <tr>\n",
       "      <th>2</th>\n",
       "      <td>CartScreenAppear</td>\n",
       "      <td>3749</td>\n",
       "      <td>49.65</td>\n",
       "    </tr>\n",
       "    <tr>\n",
       "      <th>3</th>\n",
       "      <td>PaymentScreenSuccessful</td>\n",
       "      <td>3547</td>\n",
       "      <td>46.97</td>\n",
       "    </tr>\n",
       "    <tr>\n",
       "      <th>4</th>\n",
       "      <td>Tutorial</td>\n",
       "      <td>847</td>\n",
       "      <td>11.22</td>\n",
       "    </tr>\n",
       "  </tbody>\n",
       "</table>\n",
       "</div>"
      ],
      "text/plain": [
       "                event_name  user_id  percent\n",
       "0         MainScreenAppear     7439    98.52\n",
       "1       OffersScreenAppear     4613    61.09\n",
       "2         CartScreenAppear     3749    49.65\n",
       "3  PaymentScreenSuccessful     3547    46.97\n",
       "4                 Tutorial      847    11.22"
      ]
     },
     "execution_count": 32,
     "metadata": {},
     "output_type": "execute_result"
    }
   ],
   "source": [
    "data_id = data.groupby('event_name')['user_id'].nunique().sort_values(ascending=False).to_frame().reset_index()\n",
    "data_id['percent'] = round(data_id['user_id']/data['user_id'].nunique(),4)*100\n",
    "data_id"
   ]
  },
  {
   "cell_type": "markdown",
   "metadata": {},
   "source": [
    "98.52% пользователей совершили событие - MainScreenAppear, до события Tutorial дошло всего 11.22% пользователей"
   ]
  },
  {
   "cell_type": "markdown",
   "metadata": {},
   "source": [
    "### Предположите, в каком порядке происходят события. Все ли они выстраиваются в последовательную цепочку? Их не нужно учитывать при расчёте воронки."
   ]
  },
  {
   "cell_type": "markdown",
   "metadata": {},
   "source": [
    "Думаю, что событие Tutorial не нужно учитывать при расчете воронки, т.к. оно в воронку в приницпе не входит. Скорее всего это просто обучение.\n",
    "\n",
    "Сначала пользователи перходят на главную страницу сайта MainScreenAppear, далее на страницу с предложением OffersScreenAppear, после добавляют товар в корзину CartScreenAppear и происходит оплата PaymentScreenSuccessful."
   ]
  },
  {
   "cell_type": "markdown",
   "metadata": {},
   "source": [
    "Предлагаю шаг \"Tutorial\" удалить, т.к. он при анализе не нужен."
   ]
  },
  {
   "cell_type": "code",
   "execution_count": 33,
   "metadata": {
    "scrolled": true
   },
   "outputs": [
    {
     "data": {
      "text/html": [
       "<div>\n",
       "<style scoped>\n",
       "    .dataframe tbody tr th:only-of-type {\n",
       "        vertical-align: middle;\n",
       "    }\n",
       "\n",
       "    .dataframe tbody tr th {\n",
       "        vertical-align: top;\n",
       "    }\n",
       "\n",
       "    .dataframe thead th {\n",
       "        text-align: right;\n",
       "    }\n",
       "</style>\n",
       "<table border=\"1\" class=\"dataframe\">\n",
       "  <thead>\n",
       "    <tr style=\"text-align: right;\">\n",
       "      <th></th>\n",
       "      <th>event_name</th>\n",
       "      <th>user_id</th>\n",
       "      <th>percent</th>\n",
       "    </tr>\n",
       "  </thead>\n",
       "  <tbody>\n",
       "    <tr>\n",
       "      <th>0</th>\n",
       "      <td>MainScreenAppear</td>\n",
       "      <td>7439</td>\n",
       "      <td>98.52</td>\n",
       "    </tr>\n",
       "    <tr>\n",
       "      <th>1</th>\n",
       "      <td>OffersScreenAppear</td>\n",
       "      <td>4613</td>\n",
       "      <td>61.09</td>\n",
       "    </tr>\n",
       "    <tr>\n",
       "      <th>2</th>\n",
       "      <td>CartScreenAppear</td>\n",
       "      <td>3749</td>\n",
       "      <td>49.65</td>\n",
       "    </tr>\n",
       "    <tr>\n",
       "      <th>3</th>\n",
       "      <td>PaymentScreenSuccessful</td>\n",
       "      <td>3547</td>\n",
       "      <td>46.97</td>\n",
       "    </tr>\n",
       "  </tbody>\n",
       "</table>\n",
       "</div>"
      ],
      "text/plain": [
       "                event_name  user_id  percent\n",
       "0         MainScreenAppear     7439    98.52\n",
       "1       OffersScreenAppear     4613    61.09\n",
       "2         CartScreenAppear     3749    49.65\n",
       "3  PaymentScreenSuccessful     3547    46.97"
      ]
     },
     "execution_count": 33,
     "metadata": {},
     "output_type": "execute_result"
    }
   ],
   "source": [
    "data_id.drop([4], axis=0, inplace=True)\n",
    "data_id"
   ]
  },
  {
   "cell_type": "markdown",
   "metadata": {},
   "source": [
    "### По воронке событий посчитайте, какая доля пользователей проходит на следующий шаг воронки (от числа пользователей на предыдущем). То есть для последовательности событий A → B → C посчитайте отношение числа пользователей с событием B к количеству пользователей с событием A, а также отношение числа пользователей с событием C к количеству пользователей с событием B."
   ]
  },
  {
   "cell_type": "code",
   "execution_count": 34,
   "metadata": {},
   "outputs": [
    {
     "data": {
      "text/html": [
       "<div>\n",
       "<style scoped>\n",
       "    .dataframe tbody tr th:only-of-type {\n",
       "        vertical-align: middle;\n",
       "    }\n",
       "\n",
       "    .dataframe tbody tr th {\n",
       "        vertical-align: top;\n",
       "    }\n",
       "\n",
       "    .dataframe thead th {\n",
       "        text-align: right;\n",
       "    }\n",
       "</style>\n",
       "<table border=\"1\" class=\"dataframe\">\n",
       "  <thead>\n",
       "    <tr style=\"text-align: right;\">\n",
       "      <th></th>\n",
       "      <th>event_name</th>\n",
       "      <th>user_id</th>\n",
       "      <th>percent</th>\n",
       "      <th>proportion</th>\n",
       "    </tr>\n",
       "  </thead>\n",
       "  <tbody>\n",
       "    <tr>\n",
       "      <th>0</th>\n",
       "      <td>MainScreenAppear</td>\n",
       "      <td>7439</td>\n",
       "      <td>98.52</td>\n",
       "      <td>100.00</td>\n",
       "    </tr>\n",
       "    <tr>\n",
       "      <th>1</th>\n",
       "      <td>OffersScreenAppear</td>\n",
       "      <td>4613</td>\n",
       "      <td>61.09</td>\n",
       "      <td>62.01</td>\n",
       "    </tr>\n",
       "    <tr>\n",
       "      <th>2</th>\n",
       "      <td>CartScreenAppear</td>\n",
       "      <td>3749</td>\n",
       "      <td>49.65</td>\n",
       "      <td>81.27</td>\n",
       "    </tr>\n",
       "    <tr>\n",
       "      <th>3</th>\n",
       "      <td>PaymentScreenSuccessful</td>\n",
       "      <td>3547</td>\n",
       "      <td>46.97</td>\n",
       "      <td>94.61</td>\n",
       "    </tr>\n",
       "  </tbody>\n",
       "</table>\n",
       "</div>"
      ],
      "text/plain": [
       "                event_name  user_id  percent  proportion\n",
       "0         MainScreenAppear     7439    98.52      100.00\n",
       "1       OffersScreenAppear     4613    61.09       62.01\n",
       "2         CartScreenAppear     3749    49.65       81.27\n",
       "3  PaymentScreenSuccessful     3547    46.97       94.61"
      ]
     },
     "execution_count": 34,
     "metadata": {},
     "output_type": "execute_result"
    }
   ],
   "source": [
    "data_id['proportion'] = 100\n",
    "for i in range(1, 4):\n",
    "    data_id.loc[i, 'proportion'] = round(data_id.loc[i, 'user_id'] / (data_id.loc[i-1, 'user_id']) *100,2)\n",
    "\n",
    "data_id"
   ]
  },
  {
   "cell_type": "markdown",
   "metadata": {},
   "source": [
    "### На каком шаге теряете больше всего пользователей?"
   ]
  },
  {
   "cell_type": "markdown",
   "metadata": {},
   "source": [
    "Большее количество пользователей отваливается на шаге \"OffersScreenAppear\", мы теряем около 38% пользователей, которые достигли шага \"MainScreenAppear\". Меьше всего отваливается от оплаты, чуть больше 5%."
   ]
  },
  {
   "cell_type": "markdown",
   "metadata": {},
   "source": [
    "### Какая доля пользователей доходит от первого события до оплаты?"
   ]
  },
  {
   "cell_type": "code",
   "execution_count": 35,
   "metadata": {},
   "outputs": [
    {
     "data": {
      "text/html": [
       "<div>\n",
       "<style scoped>\n",
       "    .dataframe tbody tr th:only-of-type {\n",
       "        vertical-align: middle;\n",
       "    }\n",
       "\n",
       "    .dataframe tbody tr th {\n",
       "        vertical-align: top;\n",
       "    }\n",
       "\n",
       "    .dataframe thead th {\n",
       "        text-align: right;\n",
       "    }\n",
       "</style>\n",
       "<table border=\"1\" class=\"dataframe\">\n",
       "  <thead>\n",
       "    <tr style=\"text-align: right;\">\n",
       "      <th></th>\n",
       "      <th>event_name</th>\n",
       "      <th>user_id</th>\n",
       "      <th>percent</th>\n",
       "      <th>proportion</th>\n",
       "    </tr>\n",
       "  </thead>\n",
       "  <tbody>\n",
       "    <tr>\n",
       "      <th>0</th>\n",
       "      <td>MainScreenAppear</td>\n",
       "      <td>7439</td>\n",
       "      <td>98.52</td>\n",
       "      <td>100.00</td>\n",
       "    </tr>\n",
       "    <tr>\n",
       "      <th>1</th>\n",
       "      <td>OffersScreenAppear</td>\n",
       "      <td>4613</td>\n",
       "      <td>61.09</td>\n",
       "      <td>62.01</td>\n",
       "    </tr>\n",
       "    <tr>\n",
       "      <th>2</th>\n",
       "      <td>CartScreenAppear</td>\n",
       "      <td>3749</td>\n",
       "      <td>49.65</td>\n",
       "      <td>81.27</td>\n",
       "    </tr>\n",
       "    <tr>\n",
       "      <th>3</th>\n",
       "      <td>PaymentScreenSuccessful</td>\n",
       "      <td>3547</td>\n",
       "      <td>46.97</td>\n",
       "      <td>94.61</td>\n",
       "    </tr>\n",
       "  </tbody>\n",
       "</table>\n",
       "</div>"
      ],
      "text/plain": [
       "                event_name  user_id  percent  proportion\n",
       "0         MainScreenAppear     7439    98.52      100.00\n",
       "1       OffersScreenAppear     4613    61.09       62.01\n",
       "2         CartScreenAppear     3749    49.65       81.27\n",
       "3  PaymentScreenSuccessful     3547    46.97       94.61"
      ]
     },
     "execution_count": 35,
     "metadata": {},
     "output_type": "execute_result"
    }
   ],
   "source": [
    "data_id"
   ]
  },
  {
   "cell_type": "code",
   "execution_count": 36,
   "metadata": {
    "scrolled": true
   },
   "outputs": [
    {
     "data": {
      "text/plain": [
       "62.01"
      ]
     },
     "execution_count": 36,
     "metadata": {},
     "output_type": "execute_result"
    }
   ],
   "source": [
    "round(data_id['percent'].iloc[1]/data_id['percent'].iloc[0] * 100,2)"
   ]
  },
  {
   "cell_type": "markdown",
   "metadata": {},
   "source": [
    "С первого шага \"MainScreenAppear\" и до оплаты \"PaymentScreenSuccessful\" доходит 47,68% пользователей."
   ]
  },
  {
   "cell_type": "code",
   "execution_count": 37,
   "metadata": {
    "scrolled": false
   },
   "outputs": [],
   "source": [
    "import plotly.express as px\n",
    "fig = px.funnel(data_id, x='proportion', y='event_name',  title='Воронка продаж')\n",
    "fig.show()"
   ]
  },
  {
   "cell_type": "code",
   "execution_count": 38,
   "metadata": {},
   "outputs": [
    {
     "data": {
      "application/vnd.plotly.v1+json": {
       "config": {
        "plotlyServerURL": "https://plot.ly"
       },
       "data": [
        {
         "hovertemplate": "percent=%{x}<br>event_name=%{y}<extra></extra>",
         "legendgroup": "",
         "marker": {
          "color": "#636efa"
         },
         "name": "",
         "orientation": "h",
         "showlegend": false,
         "type": "funnel",
         "x": [
          98.52,
          61.09,
          49.65,
          46.97
         ],
         "xaxis": "x",
         "y": [
          "MainScreenAppear",
          "OffersScreenAppear",
          "CartScreenAppear",
          "PaymentScreenSuccessful"
         ],
         "yaxis": "y"
        }
       ],
       "layout": {
        "legend": {
         "tracegroupgap": 0
        },
        "template": {
         "data": {
          "bar": [
           {
            "error_x": {
             "color": "#2a3f5f"
            },
            "error_y": {
             "color": "#2a3f5f"
            },
            "marker": {
             "line": {
              "color": "#E5ECF6",
              "width": 0.5
             },
             "pattern": {
              "fillmode": "overlay",
              "size": 10,
              "solidity": 0.2
             }
            },
            "type": "bar"
           }
          ],
          "barpolar": [
           {
            "marker": {
             "line": {
              "color": "#E5ECF6",
              "width": 0.5
             },
             "pattern": {
              "fillmode": "overlay",
              "size": 10,
              "solidity": 0.2
             }
            },
            "type": "barpolar"
           }
          ],
          "carpet": [
           {
            "aaxis": {
             "endlinecolor": "#2a3f5f",
             "gridcolor": "white",
             "linecolor": "white",
             "minorgridcolor": "white",
             "startlinecolor": "#2a3f5f"
            },
            "baxis": {
             "endlinecolor": "#2a3f5f",
             "gridcolor": "white",
             "linecolor": "white",
             "minorgridcolor": "white",
             "startlinecolor": "#2a3f5f"
            },
            "type": "carpet"
           }
          ],
          "choropleth": [
           {
            "colorbar": {
             "outlinewidth": 0,
             "ticks": ""
            },
            "type": "choropleth"
           }
          ],
          "contour": [
           {
            "colorbar": {
             "outlinewidth": 0,
             "ticks": ""
            },
            "colorscale": [
             [
              0,
              "#0d0887"
             ],
             [
              0.1111111111111111,
              "#46039f"
             ],
             [
              0.2222222222222222,
              "#7201a8"
             ],
             [
              0.3333333333333333,
              "#9c179e"
             ],
             [
              0.4444444444444444,
              "#bd3786"
             ],
             [
              0.5555555555555556,
              "#d8576b"
             ],
             [
              0.6666666666666666,
              "#ed7953"
             ],
             [
              0.7777777777777778,
              "#fb9f3a"
             ],
             [
              0.8888888888888888,
              "#fdca26"
             ],
             [
              1,
              "#f0f921"
             ]
            ],
            "type": "contour"
           }
          ],
          "contourcarpet": [
           {
            "colorbar": {
             "outlinewidth": 0,
             "ticks": ""
            },
            "type": "contourcarpet"
           }
          ],
          "heatmap": [
           {
            "colorbar": {
             "outlinewidth": 0,
             "ticks": ""
            },
            "colorscale": [
             [
              0,
              "#0d0887"
             ],
             [
              0.1111111111111111,
              "#46039f"
             ],
             [
              0.2222222222222222,
              "#7201a8"
             ],
             [
              0.3333333333333333,
              "#9c179e"
             ],
             [
              0.4444444444444444,
              "#bd3786"
             ],
             [
              0.5555555555555556,
              "#d8576b"
             ],
             [
              0.6666666666666666,
              "#ed7953"
             ],
             [
              0.7777777777777778,
              "#fb9f3a"
             ],
             [
              0.8888888888888888,
              "#fdca26"
             ],
             [
              1,
              "#f0f921"
             ]
            ],
            "type": "heatmap"
           }
          ],
          "heatmapgl": [
           {
            "colorbar": {
             "outlinewidth": 0,
             "ticks": ""
            },
            "colorscale": [
             [
              0,
              "#0d0887"
             ],
             [
              0.1111111111111111,
              "#46039f"
             ],
             [
              0.2222222222222222,
              "#7201a8"
             ],
             [
              0.3333333333333333,
              "#9c179e"
             ],
             [
              0.4444444444444444,
              "#bd3786"
             ],
             [
              0.5555555555555556,
              "#d8576b"
             ],
             [
              0.6666666666666666,
              "#ed7953"
             ],
             [
              0.7777777777777778,
              "#fb9f3a"
             ],
             [
              0.8888888888888888,
              "#fdca26"
             ],
             [
              1,
              "#f0f921"
             ]
            ],
            "type": "heatmapgl"
           }
          ],
          "histogram": [
           {
            "marker": {
             "pattern": {
              "fillmode": "overlay",
              "size": 10,
              "solidity": 0.2
             }
            },
            "type": "histogram"
           }
          ],
          "histogram2d": [
           {
            "colorbar": {
             "outlinewidth": 0,
             "ticks": ""
            },
            "colorscale": [
             [
              0,
              "#0d0887"
             ],
             [
              0.1111111111111111,
              "#46039f"
             ],
             [
              0.2222222222222222,
              "#7201a8"
             ],
             [
              0.3333333333333333,
              "#9c179e"
             ],
             [
              0.4444444444444444,
              "#bd3786"
             ],
             [
              0.5555555555555556,
              "#d8576b"
             ],
             [
              0.6666666666666666,
              "#ed7953"
             ],
             [
              0.7777777777777778,
              "#fb9f3a"
             ],
             [
              0.8888888888888888,
              "#fdca26"
             ],
             [
              1,
              "#f0f921"
             ]
            ],
            "type": "histogram2d"
           }
          ],
          "histogram2dcontour": [
           {
            "colorbar": {
             "outlinewidth": 0,
             "ticks": ""
            },
            "colorscale": [
             [
              0,
              "#0d0887"
             ],
             [
              0.1111111111111111,
              "#46039f"
             ],
             [
              0.2222222222222222,
              "#7201a8"
             ],
             [
              0.3333333333333333,
              "#9c179e"
             ],
             [
              0.4444444444444444,
              "#bd3786"
             ],
             [
              0.5555555555555556,
              "#d8576b"
             ],
             [
              0.6666666666666666,
              "#ed7953"
             ],
             [
              0.7777777777777778,
              "#fb9f3a"
             ],
             [
              0.8888888888888888,
              "#fdca26"
             ],
             [
              1,
              "#f0f921"
             ]
            ],
            "type": "histogram2dcontour"
           }
          ],
          "mesh3d": [
           {
            "colorbar": {
             "outlinewidth": 0,
             "ticks": ""
            },
            "type": "mesh3d"
           }
          ],
          "parcoords": [
           {
            "line": {
             "colorbar": {
              "outlinewidth": 0,
              "ticks": ""
             }
            },
            "type": "parcoords"
           }
          ],
          "pie": [
           {
            "automargin": true,
            "type": "pie"
           }
          ],
          "scatter": [
           {
            "fillpattern": {
             "fillmode": "overlay",
             "size": 10,
             "solidity": 0.2
            },
            "type": "scatter"
           }
          ],
          "scatter3d": [
           {
            "line": {
             "colorbar": {
              "outlinewidth": 0,
              "ticks": ""
             }
            },
            "marker": {
             "colorbar": {
              "outlinewidth": 0,
              "ticks": ""
             }
            },
            "type": "scatter3d"
           }
          ],
          "scattercarpet": [
           {
            "marker": {
             "colorbar": {
              "outlinewidth": 0,
              "ticks": ""
             }
            },
            "type": "scattercarpet"
           }
          ],
          "scattergeo": [
           {
            "marker": {
             "colorbar": {
              "outlinewidth": 0,
              "ticks": ""
             }
            },
            "type": "scattergeo"
           }
          ],
          "scattergl": [
           {
            "marker": {
             "colorbar": {
              "outlinewidth": 0,
              "ticks": ""
             }
            },
            "type": "scattergl"
           }
          ],
          "scattermapbox": [
           {
            "marker": {
             "colorbar": {
              "outlinewidth": 0,
              "ticks": ""
             }
            },
            "type": "scattermapbox"
           }
          ],
          "scatterpolar": [
           {
            "marker": {
             "colorbar": {
              "outlinewidth": 0,
              "ticks": ""
             }
            },
            "type": "scatterpolar"
           }
          ],
          "scatterpolargl": [
           {
            "marker": {
             "colorbar": {
              "outlinewidth": 0,
              "ticks": ""
             }
            },
            "type": "scatterpolargl"
           }
          ],
          "scatterternary": [
           {
            "marker": {
             "colorbar": {
              "outlinewidth": 0,
              "ticks": ""
             }
            },
            "type": "scatterternary"
           }
          ],
          "surface": [
           {
            "colorbar": {
             "outlinewidth": 0,
             "ticks": ""
            },
            "colorscale": [
             [
              0,
              "#0d0887"
             ],
             [
              0.1111111111111111,
              "#46039f"
             ],
             [
              0.2222222222222222,
              "#7201a8"
             ],
             [
              0.3333333333333333,
              "#9c179e"
             ],
             [
              0.4444444444444444,
              "#bd3786"
             ],
             [
              0.5555555555555556,
              "#d8576b"
             ],
             [
              0.6666666666666666,
              "#ed7953"
             ],
             [
              0.7777777777777778,
              "#fb9f3a"
             ],
             [
              0.8888888888888888,
              "#fdca26"
             ],
             [
              1,
              "#f0f921"
             ]
            ],
            "type": "surface"
           }
          ],
          "table": [
           {
            "cells": {
             "fill": {
              "color": "#EBF0F8"
             },
             "line": {
              "color": "white"
             }
            },
            "header": {
             "fill": {
              "color": "#C8D4E3"
             },
             "line": {
              "color": "white"
             }
            },
            "type": "table"
           }
          ]
         },
         "layout": {
          "annotationdefaults": {
           "arrowcolor": "#2a3f5f",
           "arrowhead": 0,
           "arrowwidth": 1
          },
          "autotypenumbers": "strict",
          "coloraxis": {
           "colorbar": {
            "outlinewidth": 0,
            "ticks": ""
           }
          },
          "colorscale": {
           "diverging": [
            [
             0,
             "#8e0152"
            ],
            [
             0.1,
             "#c51b7d"
            ],
            [
             0.2,
             "#de77ae"
            ],
            [
             0.3,
             "#f1b6da"
            ],
            [
             0.4,
             "#fde0ef"
            ],
            [
             0.5,
             "#f7f7f7"
            ],
            [
             0.6,
             "#e6f5d0"
            ],
            [
             0.7,
             "#b8e186"
            ],
            [
             0.8,
             "#7fbc41"
            ],
            [
             0.9,
             "#4d9221"
            ],
            [
             1,
             "#276419"
            ]
           ],
           "sequential": [
            [
             0,
             "#0d0887"
            ],
            [
             0.1111111111111111,
             "#46039f"
            ],
            [
             0.2222222222222222,
             "#7201a8"
            ],
            [
             0.3333333333333333,
             "#9c179e"
            ],
            [
             0.4444444444444444,
             "#bd3786"
            ],
            [
             0.5555555555555556,
             "#d8576b"
            ],
            [
             0.6666666666666666,
             "#ed7953"
            ],
            [
             0.7777777777777778,
             "#fb9f3a"
            ],
            [
             0.8888888888888888,
             "#fdca26"
            ],
            [
             1,
             "#f0f921"
            ]
           ],
           "sequentialminus": [
            [
             0,
             "#0d0887"
            ],
            [
             0.1111111111111111,
             "#46039f"
            ],
            [
             0.2222222222222222,
             "#7201a8"
            ],
            [
             0.3333333333333333,
             "#9c179e"
            ],
            [
             0.4444444444444444,
             "#bd3786"
            ],
            [
             0.5555555555555556,
             "#d8576b"
            ],
            [
             0.6666666666666666,
             "#ed7953"
            ],
            [
             0.7777777777777778,
             "#fb9f3a"
            ],
            [
             0.8888888888888888,
             "#fdca26"
            ],
            [
             1,
             "#f0f921"
            ]
           ]
          },
          "colorway": [
           "#636efa",
           "#EF553B",
           "#00cc96",
           "#ab63fa",
           "#FFA15A",
           "#19d3f3",
           "#FF6692",
           "#B6E880",
           "#FF97FF",
           "#FECB52"
          ],
          "font": {
           "color": "#2a3f5f"
          },
          "geo": {
           "bgcolor": "white",
           "lakecolor": "white",
           "landcolor": "#E5ECF6",
           "showlakes": true,
           "showland": true,
           "subunitcolor": "white"
          },
          "hoverlabel": {
           "align": "left"
          },
          "hovermode": "closest",
          "mapbox": {
           "style": "light"
          },
          "paper_bgcolor": "white",
          "plot_bgcolor": "#E5ECF6",
          "polar": {
           "angularaxis": {
            "gridcolor": "white",
            "linecolor": "white",
            "ticks": ""
           },
           "bgcolor": "#E5ECF6",
           "radialaxis": {
            "gridcolor": "white",
            "linecolor": "white",
            "ticks": ""
           }
          },
          "scene": {
           "xaxis": {
            "backgroundcolor": "#E5ECF6",
            "gridcolor": "white",
            "gridwidth": 2,
            "linecolor": "white",
            "showbackground": true,
            "ticks": "",
            "zerolinecolor": "white"
           },
           "yaxis": {
            "backgroundcolor": "#E5ECF6",
            "gridcolor": "white",
            "gridwidth": 2,
            "linecolor": "white",
            "showbackground": true,
            "ticks": "",
            "zerolinecolor": "white"
           },
           "zaxis": {
            "backgroundcolor": "#E5ECF6",
            "gridcolor": "white",
            "gridwidth": 2,
            "linecolor": "white",
            "showbackground": true,
            "ticks": "",
            "zerolinecolor": "white"
           }
          },
          "shapedefaults": {
           "line": {
            "color": "#2a3f5f"
           }
          },
          "ternary": {
           "aaxis": {
            "gridcolor": "white",
            "linecolor": "white",
            "ticks": ""
           },
           "baxis": {
            "gridcolor": "white",
            "linecolor": "white",
            "ticks": ""
           },
           "bgcolor": "#E5ECF6",
           "caxis": {
            "gridcolor": "white",
            "linecolor": "white",
            "ticks": ""
           }
          },
          "title": {
           "x": 0.05
          },
          "xaxis": {
           "automargin": true,
           "gridcolor": "white",
           "linecolor": "white",
           "ticks": "",
           "title": {
            "standoff": 15
           },
           "zerolinecolor": "white",
           "zerolinewidth": 2
          },
          "yaxis": {
           "automargin": true,
           "gridcolor": "white",
           "linecolor": "white",
           "ticks": "",
           "title": {
            "standoff": 15
           },
           "zerolinecolor": "white",
           "zerolinewidth": 2
          }
         }
        },
        "title": {
         "text": "Воронка продаж"
        },
        "xaxis": {
         "anchor": "y",
         "domain": [
          0,
          1
         ],
         "title": {
          "text": "percent"
         }
        },
        "yaxis": {
         "anchor": "x",
         "domain": [
          0,
          1
         ],
         "title": {
          "text": "event_name"
         }
        }
       }
      },
      "text/html": [
       "<div>                            <div id=\"69acab97-4b63-4b9d-b5d9-5f226eb34e39\" class=\"plotly-graph-div\" style=\"height:525px; width:100%;\"></div>            <script type=\"text/javascript\">                require([\"plotly\"], function(Plotly) {                    window.PLOTLYENV=window.PLOTLYENV || {};                                    if (document.getElementById(\"69acab97-4b63-4b9d-b5d9-5f226eb34e39\")) {                    Plotly.newPlot(                        \"69acab97-4b63-4b9d-b5d9-5f226eb34e39\",                        [{\"hovertemplate\":\"percent=%{x}<br>event_name=%{y}<extra></extra>\",\"legendgroup\":\"\",\"marker\":{\"color\":\"#636efa\"},\"name\":\"\",\"orientation\":\"h\",\"showlegend\":false,\"x\":[98.52,61.09,49.65,46.97],\"xaxis\":\"x\",\"y\":[\"MainScreenAppear\",\"OffersScreenAppear\",\"CartScreenAppear\",\"PaymentScreenSuccessful\"],\"yaxis\":\"y\",\"type\":\"funnel\"}],                        {\"template\":{\"data\":{\"histogram2dcontour\":[{\"type\":\"histogram2dcontour\",\"colorbar\":{\"outlinewidth\":0,\"ticks\":\"\"},\"colorscale\":[[0.0,\"#0d0887\"],[0.1111111111111111,\"#46039f\"],[0.2222222222222222,\"#7201a8\"],[0.3333333333333333,\"#9c179e\"],[0.4444444444444444,\"#bd3786\"],[0.5555555555555556,\"#d8576b\"],[0.6666666666666666,\"#ed7953\"],[0.7777777777777778,\"#fb9f3a\"],[0.8888888888888888,\"#fdca26\"],[1.0,\"#f0f921\"]]}],\"choropleth\":[{\"type\":\"choropleth\",\"colorbar\":{\"outlinewidth\":0,\"ticks\":\"\"}}],\"histogram2d\":[{\"type\":\"histogram2d\",\"colorbar\":{\"outlinewidth\":0,\"ticks\":\"\"},\"colorscale\":[[0.0,\"#0d0887\"],[0.1111111111111111,\"#46039f\"],[0.2222222222222222,\"#7201a8\"],[0.3333333333333333,\"#9c179e\"],[0.4444444444444444,\"#bd3786\"],[0.5555555555555556,\"#d8576b\"],[0.6666666666666666,\"#ed7953\"],[0.7777777777777778,\"#fb9f3a\"],[0.8888888888888888,\"#fdca26\"],[1.0,\"#f0f921\"]]}],\"heatmap\":[{\"type\":\"heatmap\",\"colorbar\":{\"outlinewidth\":0,\"ticks\":\"\"},\"colorscale\":[[0.0,\"#0d0887\"],[0.1111111111111111,\"#46039f\"],[0.2222222222222222,\"#7201a8\"],[0.3333333333333333,\"#9c179e\"],[0.4444444444444444,\"#bd3786\"],[0.5555555555555556,\"#d8576b\"],[0.6666666666666666,\"#ed7953\"],[0.7777777777777778,\"#fb9f3a\"],[0.8888888888888888,\"#fdca26\"],[1.0,\"#f0f921\"]]}],\"heatmapgl\":[{\"type\":\"heatmapgl\",\"colorbar\":{\"outlinewidth\":0,\"ticks\":\"\"},\"colorscale\":[[0.0,\"#0d0887\"],[0.1111111111111111,\"#46039f\"],[0.2222222222222222,\"#7201a8\"],[0.3333333333333333,\"#9c179e\"],[0.4444444444444444,\"#bd3786\"],[0.5555555555555556,\"#d8576b\"],[0.6666666666666666,\"#ed7953\"],[0.7777777777777778,\"#fb9f3a\"],[0.8888888888888888,\"#fdca26\"],[1.0,\"#f0f921\"]]}],\"contourcarpet\":[{\"type\":\"contourcarpet\",\"colorbar\":{\"outlinewidth\":0,\"ticks\":\"\"}}],\"contour\":[{\"type\":\"contour\",\"colorbar\":{\"outlinewidth\":0,\"ticks\":\"\"},\"colorscale\":[[0.0,\"#0d0887\"],[0.1111111111111111,\"#46039f\"],[0.2222222222222222,\"#7201a8\"],[0.3333333333333333,\"#9c179e\"],[0.4444444444444444,\"#bd3786\"],[0.5555555555555556,\"#d8576b\"],[0.6666666666666666,\"#ed7953\"],[0.7777777777777778,\"#fb9f3a\"],[0.8888888888888888,\"#fdca26\"],[1.0,\"#f0f921\"]]}],\"surface\":[{\"type\":\"surface\",\"colorbar\":{\"outlinewidth\":0,\"ticks\":\"\"},\"colorscale\":[[0.0,\"#0d0887\"],[0.1111111111111111,\"#46039f\"],[0.2222222222222222,\"#7201a8\"],[0.3333333333333333,\"#9c179e\"],[0.4444444444444444,\"#bd3786\"],[0.5555555555555556,\"#d8576b\"],[0.6666666666666666,\"#ed7953\"],[0.7777777777777778,\"#fb9f3a\"],[0.8888888888888888,\"#fdca26\"],[1.0,\"#f0f921\"]]}],\"mesh3d\":[{\"type\":\"mesh3d\",\"colorbar\":{\"outlinewidth\":0,\"ticks\":\"\"}}],\"scatter\":[{\"fillpattern\":{\"fillmode\":\"overlay\",\"size\":10,\"solidity\":0.2},\"type\":\"scatter\"}],\"parcoords\":[{\"type\":\"parcoords\",\"line\":{\"colorbar\":{\"outlinewidth\":0,\"ticks\":\"\"}}}],\"scatterpolargl\":[{\"type\":\"scatterpolargl\",\"marker\":{\"colorbar\":{\"outlinewidth\":0,\"ticks\":\"\"}}}],\"bar\":[{\"error_x\":{\"color\":\"#2a3f5f\"},\"error_y\":{\"color\":\"#2a3f5f\"},\"marker\":{\"line\":{\"color\":\"#E5ECF6\",\"width\":0.5},\"pattern\":{\"fillmode\":\"overlay\",\"size\":10,\"solidity\":0.2}},\"type\":\"bar\"}],\"scattergeo\":[{\"type\":\"scattergeo\",\"marker\":{\"colorbar\":{\"outlinewidth\":0,\"ticks\":\"\"}}}],\"scatterpolar\":[{\"type\":\"scatterpolar\",\"marker\":{\"colorbar\":{\"outlinewidth\":0,\"ticks\":\"\"}}}],\"histogram\":[{\"marker\":{\"pattern\":{\"fillmode\":\"overlay\",\"size\":10,\"solidity\":0.2}},\"type\":\"histogram\"}],\"scattergl\":[{\"type\":\"scattergl\",\"marker\":{\"colorbar\":{\"outlinewidth\":0,\"ticks\":\"\"}}}],\"scatter3d\":[{\"type\":\"scatter3d\",\"line\":{\"colorbar\":{\"outlinewidth\":0,\"ticks\":\"\"}},\"marker\":{\"colorbar\":{\"outlinewidth\":0,\"ticks\":\"\"}}}],\"scattermapbox\":[{\"type\":\"scattermapbox\",\"marker\":{\"colorbar\":{\"outlinewidth\":0,\"ticks\":\"\"}}}],\"scatterternary\":[{\"type\":\"scatterternary\",\"marker\":{\"colorbar\":{\"outlinewidth\":0,\"ticks\":\"\"}}}],\"scattercarpet\":[{\"type\":\"scattercarpet\",\"marker\":{\"colorbar\":{\"outlinewidth\":0,\"ticks\":\"\"}}}],\"carpet\":[{\"aaxis\":{\"endlinecolor\":\"#2a3f5f\",\"gridcolor\":\"white\",\"linecolor\":\"white\",\"minorgridcolor\":\"white\",\"startlinecolor\":\"#2a3f5f\"},\"baxis\":{\"endlinecolor\":\"#2a3f5f\",\"gridcolor\":\"white\",\"linecolor\":\"white\",\"minorgridcolor\":\"white\",\"startlinecolor\":\"#2a3f5f\"},\"type\":\"carpet\"}],\"table\":[{\"cells\":{\"fill\":{\"color\":\"#EBF0F8\"},\"line\":{\"color\":\"white\"}},\"header\":{\"fill\":{\"color\":\"#C8D4E3\"},\"line\":{\"color\":\"white\"}},\"type\":\"table\"}],\"barpolar\":[{\"marker\":{\"line\":{\"color\":\"#E5ECF6\",\"width\":0.5},\"pattern\":{\"fillmode\":\"overlay\",\"size\":10,\"solidity\":0.2}},\"type\":\"barpolar\"}],\"pie\":[{\"automargin\":true,\"type\":\"pie\"}]},\"layout\":{\"autotypenumbers\":\"strict\",\"colorway\":[\"#636efa\",\"#EF553B\",\"#00cc96\",\"#ab63fa\",\"#FFA15A\",\"#19d3f3\",\"#FF6692\",\"#B6E880\",\"#FF97FF\",\"#FECB52\"],\"font\":{\"color\":\"#2a3f5f\"},\"hovermode\":\"closest\",\"hoverlabel\":{\"align\":\"left\"},\"paper_bgcolor\":\"white\",\"plot_bgcolor\":\"#E5ECF6\",\"polar\":{\"bgcolor\":\"#E5ECF6\",\"angularaxis\":{\"gridcolor\":\"white\",\"linecolor\":\"white\",\"ticks\":\"\"},\"radialaxis\":{\"gridcolor\":\"white\",\"linecolor\":\"white\",\"ticks\":\"\"}},\"ternary\":{\"bgcolor\":\"#E5ECF6\",\"aaxis\":{\"gridcolor\":\"white\",\"linecolor\":\"white\",\"ticks\":\"\"},\"baxis\":{\"gridcolor\":\"white\",\"linecolor\":\"white\",\"ticks\":\"\"},\"caxis\":{\"gridcolor\":\"white\",\"linecolor\":\"white\",\"ticks\":\"\"}},\"coloraxis\":{\"colorbar\":{\"outlinewidth\":0,\"ticks\":\"\"}},\"colorscale\":{\"sequential\":[[0.0,\"#0d0887\"],[0.1111111111111111,\"#46039f\"],[0.2222222222222222,\"#7201a8\"],[0.3333333333333333,\"#9c179e\"],[0.4444444444444444,\"#bd3786\"],[0.5555555555555556,\"#d8576b\"],[0.6666666666666666,\"#ed7953\"],[0.7777777777777778,\"#fb9f3a\"],[0.8888888888888888,\"#fdca26\"],[1.0,\"#f0f921\"]],\"sequentialminus\":[[0.0,\"#0d0887\"],[0.1111111111111111,\"#46039f\"],[0.2222222222222222,\"#7201a8\"],[0.3333333333333333,\"#9c179e\"],[0.4444444444444444,\"#bd3786\"],[0.5555555555555556,\"#d8576b\"],[0.6666666666666666,\"#ed7953\"],[0.7777777777777778,\"#fb9f3a\"],[0.8888888888888888,\"#fdca26\"],[1.0,\"#f0f921\"]],\"diverging\":[[0,\"#8e0152\"],[0.1,\"#c51b7d\"],[0.2,\"#de77ae\"],[0.3,\"#f1b6da\"],[0.4,\"#fde0ef\"],[0.5,\"#f7f7f7\"],[0.6,\"#e6f5d0\"],[0.7,\"#b8e186\"],[0.8,\"#7fbc41\"],[0.9,\"#4d9221\"],[1,\"#276419\"]]},\"xaxis\":{\"gridcolor\":\"white\",\"linecolor\":\"white\",\"ticks\":\"\",\"title\":{\"standoff\":15},\"zerolinecolor\":\"white\",\"automargin\":true,\"zerolinewidth\":2},\"yaxis\":{\"gridcolor\":\"white\",\"linecolor\":\"white\",\"ticks\":\"\",\"title\":{\"standoff\":15},\"zerolinecolor\":\"white\",\"automargin\":true,\"zerolinewidth\":2},\"scene\":{\"xaxis\":{\"backgroundcolor\":\"#E5ECF6\",\"gridcolor\":\"white\",\"linecolor\":\"white\",\"showbackground\":true,\"ticks\":\"\",\"zerolinecolor\":\"white\",\"gridwidth\":2},\"yaxis\":{\"backgroundcolor\":\"#E5ECF6\",\"gridcolor\":\"white\",\"linecolor\":\"white\",\"showbackground\":true,\"ticks\":\"\",\"zerolinecolor\":\"white\",\"gridwidth\":2},\"zaxis\":{\"backgroundcolor\":\"#E5ECF6\",\"gridcolor\":\"white\",\"linecolor\":\"white\",\"showbackground\":true,\"ticks\":\"\",\"zerolinecolor\":\"white\",\"gridwidth\":2}},\"shapedefaults\":{\"line\":{\"color\":\"#2a3f5f\"}},\"annotationdefaults\":{\"arrowcolor\":\"#2a3f5f\",\"arrowhead\":0,\"arrowwidth\":1},\"geo\":{\"bgcolor\":\"white\",\"landcolor\":\"#E5ECF6\",\"subunitcolor\":\"white\",\"showland\":true,\"showlakes\":true,\"lakecolor\":\"white\"},\"title\":{\"x\":0.05},\"mapbox\":{\"style\":\"light\"}}},\"xaxis\":{\"anchor\":\"y\",\"domain\":[0.0,1.0],\"title\":{\"text\":\"percent\"}},\"yaxis\":{\"anchor\":\"x\",\"domain\":[0.0,1.0],\"title\":{\"text\":\"event_name\"}},\"legend\":{\"tracegroupgap\":0},\"title\":{\"text\":\"\\u0412\\u043e\\u0440\\u043e\\u043d\\u043a\\u0430 \\u043f\\u0440\\u043e\\u0434\\u0430\\u0436\"}},                        {\"responsive\": true}                    ).then(function(){\n",
       "                            \n",
       "var gd = document.getElementById('69acab97-4b63-4b9d-b5d9-5f226eb34e39');\n",
       "var x = new MutationObserver(function (mutations, observer) {{\n",
       "        var display = window.getComputedStyle(gd).display;\n",
       "        if (!display || display === 'none') {{\n",
       "            console.log([gd, 'removed!']);\n",
       "            Plotly.purge(gd);\n",
       "            observer.disconnect();\n",
       "        }}\n",
       "}});\n",
       "\n",
       "// Listen for the removal of the full notebook cells\n",
       "var notebookContainer = gd.closest('#notebook-container');\n",
       "if (notebookContainer) {{\n",
       "    x.observe(notebookContainer, {childList: true});\n",
       "}}\n",
       "\n",
       "// Listen for the clearing of the current output cell\n",
       "var outputEl = gd.closest('.output');\n",
       "if (outputEl) {{\n",
       "    x.observe(outputEl, {childList: true});\n",
       "}}\n",
       "\n",
       "                        })                };                });            </script>        </div>"
      ]
     },
     "metadata": {},
     "output_type": "display_data"
    }
   ],
   "source": [
    "import plotly.express as px\n",
    "fig = px.funnel(data_id, x='percent', y='event_name',  title='Воронка продаж')\n",
    "fig.show()"
   ]
  },
  {
   "cell_type": "markdown",
   "metadata": {},
   "source": [
    "## Изучите результаты эксперимента"
   ]
  },
  {
   "cell_type": "markdown",
   "metadata": {},
   "source": [
    "### Сколько пользователей в каждой экспериментальной группе?"
   ]
  },
  {
   "cell_type": "code",
   "execution_count": 39,
   "metadata": {},
   "outputs": [
    {
     "data": {
      "text/html": [
       "<div>\n",
       "<style scoped>\n",
       "    .dataframe tbody tr th:only-of-type {\n",
       "        vertical-align: middle;\n",
       "    }\n",
       "\n",
       "    .dataframe tbody tr th {\n",
       "        vertical-align: top;\n",
       "    }\n",
       "\n",
       "    .dataframe thead th {\n",
       "        text-align: right;\n",
       "    }\n",
       "</style>\n",
       "<table border=\"1\" class=\"dataframe\">\n",
       "  <thead>\n",
       "    <tr style=\"text-align: right;\">\n",
       "      <th></th>\n",
       "      <th>user_id</th>\n",
       "    </tr>\n",
       "    <tr>\n",
       "      <th>exp_id</th>\n",
       "      <th></th>\n",
       "    </tr>\n",
       "  </thead>\n",
       "  <tbody>\n",
       "    <tr>\n",
       "      <th>246</th>\n",
       "      <td>2484</td>\n",
       "    </tr>\n",
       "    <tr>\n",
       "      <th>247</th>\n",
       "      <td>2513</td>\n",
       "    </tr>\n",
       "    <tr>\n",
       "      <th>248</th>\n",
       "      <td>2537</td>\n",
       "    </tr>\n",
       "  </tbody>\n",
       "</table>\n",
       "</div>"
      ],
      "text/plain": [
       "        user_id\n",
       "exp_id         \n",
       "246        2484\n",
       "247        2513\n",
       "248        2537"
      ]
     },
     "execution_count": 39,
     "metadata": {},
     "output_type": "execute_result"
    }
   ],
   "source": [
    "data_new.groupby('exp_id')['user_id'].nunique().to_frame()"
   ]
  },
  {
   "cell_type": "code",
   "execution_count": 40,
   "metadata": {
    "scrolled": true
   },
   "outputs": [
    {
     "data": {
      "text/html": [
       "<div>\n",
       "<style scoped>\n",
       "    .dataframe tbody tr th:only-of-type {\n",
       "        vertical-align: middle;\n",
       "    }\n",
       "\n",
       "    .dataframe tbody tr th {\n",
       "        vertical-align: top;\n",
       "    }\n",
       "\n",
       "    .dataframe thead th {\n",
       "        text-align: right;\n",
       "    }\n",
       "</style>\n",
       "<table border=\"1\" class=\"dataframe\">\n",
       "  <thead>\n",
       "    <tr style=\"text-align: right;\">\n",
       "      <th>event_name</th>\n",
       "      <th>exp_id</th>\n",
       "      <th>CartScreenAppear</th>\n",
       "      <th>MainScreenAppear</th>\n",
       "      <th>OffersScreenAppear</th>\n",
       "      <th>PaymentScreenSuccessful</th>\n",
       "      <th>Tutorial</th>\n",
       "    </tr>\n",
       "  </thead>\n",
       "  <tbody>\n",
       "    <tr>\n",
       "      <th>0</th>\n",
       "      <td>246</td>\n",
       "      <td>1266</td>\n",
       "      <td>2450</td>\n",
       "      <td>1542</td>\n",
       "      <td>1200</td>\n",
       "      <td>278</td>\n",
       "    </tr>\n",
       "    <tr>\n",
       "      <th>1</th>\n",
       "      <td>247</td>\n",
       "      <td>1238</td>\n",
       "      <td>2476</td>\n",
       "      <td>1520</td>\n",
       "      <td>1158</td>\n",
       "      <td>283</td>\n",
       "    </tr>\n",
       "    <tr>\n",
       "      <th>2</th>\n",
       "      <td>248</td>\n",
       "      <td>1230</td>\n",
       "      <td>2493</td>\n",
       "      <td>1531</td>\n",
       "      <td>1181</td>\n",
       "      <td>279</td>\n",
       "    </tr>\n",
       "  </tbody>\n",
       "</table>\n",
       "</div>"
      ],
      "text/plain": [
       "event_name  exp_id  CartScreenAppear  MainScreenAppear  OffersScreenAppear  \\\n",
       "0              246              1266              2450                1542   \n",
       "1              247              1238              2476                1520   \n",
       "2              248              1230              2493                1531   \n",
       "\n",
       "event_name  PaymentScreenSuccessful  Tutorial  \n",
       "0                              1200       278  \n",
       "1                              1158       283  \n",
       "2                              1181       279  "
      ]
     },
     "execution_count": 40,
     "metadata": {},
     "output_type": "execute_result"
    }
   ],
   "source": [
    "#сформируем сводную таблицу \n",
    "data_test = data_new.pivot_table(index='exp_id',columns = 'event_name', values='user_id',aggfunc='nunique')\n",
    "\n",
    "data_test.reset_index()\n"
   ]
  },
  {
   "cell_type": "markdown",
   "metadata": {},
   "source": [
    "Мы видим, что в каждой экспериментальной группе примерно одинаковое количество пользователей. Также по событиям пользователи распределяются достаточно равномерно."
   ]
  },
  {
   "cell_type": "markdown",
   "metadata": {},
   "source": [
    "### Есть 2 контрольные группы для А/А-эксперимента, чтобы проверить корректность всех механизмов и расчётов. Проверьте, находят ли статистические критерии разницу между выборками 246 и 247."
   ]
  },
  {
   "cell_type": "markdown",
   "metadata": {},
   "source": [
    "### Выберите самое популярное событие. Посчитайте число пользователей, совершивших это событие в каждой из контрольных групп. Посчитайте долю пользователей, совершивших это событие. Проверьте, будет ли отличие между группами статистически достоверным. Проделайте то же самое для всех других событий (удобно обернуть проверку в отдельную функцию). Можно ли сказать, что разбиение на группы работает корректно?"
   ]
  },
  {
   "cell_type": "markdown",
   "metadata": {},
   "source": [
    "### Аналогично поступите с группой с изменённым шрифтом. Сравните результаты с каждой из контрольных групп в отдельности по каждому событию. Сравните результаты с объединённой контрольной группой. Какие выводы из эксперимента можно сделать?"
   ]
  },
  {
   "cell_type": "markdown",
   "metadata": {},
   "source": [
    "Сформируем гипотезы:\n",
    "\n",
    "**Нулевая гипотеза:** Доля пользователей, совершивших событие, одинаковая.\n",
    "\n",
    "**Альтернативная гипотеза:** Между долями пользователей, совершивших событие, есть значимая статистическая разница."
   ]
  },
  {
   "cell_type": "code",
   "execution_count": 41,
   "metadata": {},
   "outputs": [],
   "source": [
    "def test(df, exp_id, alpha):\n",
    "    \n",
    "    users = [df.query('exp_id == @exp')['user_id'].nunique() for exp in exp_id]\n",
    "   \n",
    "    for event in df.event_name.unique():\n",
    "        events = [df.query('exp_id == %d and event_name == \"%s\"' % (exp, event))['user_id'].nunique() for exp in exp_id]\n",
    "        \n",
    "        p1 = events[0] / users[0] \n",
    "        p2 = events[1] / users[1] \n",
    "        \n",
    "        p_combined = sum(events) / sum(users) \n",
    "        \n",
    "        difference = p1 - p2 \n",
    "        \n",
    "        z_value = difference / mth.sqrt(p_combined * (1 - p_combined) * (1 / users[0] + 1 / users[1]))\n",
    "        \n",
    "        distr = st.norm(0, 1) \n",
    "        p_value = (1 - distr.cdf(abs(z_value))) * 2\n",
    "        \n",
    "        print('Событие:', event)\n",
    "        print('p-значение: {p_value:}'.format(p_value=p_value))\n",
    "        \n",
    "        if p_value < alpha:\n",
    "            print('Отвергаем нулевую гипотезу: между долями пользователей, совершивших событие, есть значимая статистическая разница.')\n",
    "        else:\n",
    "            print('Не получилось отвергнуть нулевую гипотезу: различия между долями статистически не значимы')\n",
    "            \n",
    "        print('')    "
   ]
  },
  {
   "cell_type": "markdown",
   "metadata": {},
   "source": [
    "Проверим группы 246 и 247. "
   ]
  },
  {
   "cell_type": "code",
   "execution_count": 42,
   "metadata": {
    "scrolled": true
   },
   "outputs": [
    {
     "name": "stdout",
     "output_type": "stream",
     "text": [
      "Событие: MainScreenAppear\n",
      "p-значение: 0.5856639791209877\n",
      "Не получилось отвергнуть нулевую гипотезу: различия между долями статистически не значимы\n",
      "\n",
      "Событие: PaymentScreenSuccessful\n",
      "p-значение: 0.10902546202332886\n",
      "Не получилось отвергнуть нулевую гипотезу: различия между долями статистически не значимы\n",
      "\n",
      "Событие: CartScreenAppear\n",
      "p-значение: 0.19817540651836918\n",
      "Не получилось отвергнуть нулевую гипотезу: различия между долями статистически не значимы\n",
      "\n",
      "Событие: OffersScreenAppear\n",
      "p-значение: 0.3233225048227193\n",
      "Не получилось отвергнуть нулевую гипотезу: различия между долями статистически не значимы\n",
      "\n",
      "Событие: Tutorial\n",
      "p-значение: 0.8756574258016974\n",
      "Не получилось отвергнуть нулевую гипотезу: различия между долями статистически не значимы\n",
      "\n"
     ]
    }
   ],
   "source": [
    "test(data, [246, 247], 0.1)"
   ]
  },
  {
   "cell_type": "markdown",
   "metadata": {},
   "source": [
    "Статистически значимых различий между группами нет, пользователи распределились равномерно."
   ]
  },
  {
   "cell_type": "code",
   "execution_count": 43,
   "metadata": {},
   "outputs": [
    {
     "name": "stdout",
     "output_type": "stream",
     "text": [
      "Событие: MainScreenAppear\n",
      "p-значение: 0.39774960182882513\n",
      "Не получилось отвергнуть нулевую гипотезу: различия между долями статистически не значимы\n",
      "\n",
      "Событие: PaymentScreenSuccessful\n",
      "p-значение: 0.23403912852637143\n",
      "Не получилось отвергнуть нулевую гипотезу: различия между долями статистически не значимы\n",
      "\n",
      "Событие: CartScreenAppear\n",
      "p-значение: 0.10534150642722295\n",
      "Не получилось отвергнуть нулевую гипотезу: различия между долями статистически не значимы\n",
      "\n",
      "Событие: OffersScreenAppear\n",
      "p-значение: 0.2531656758489338\n",
      "Не получилось отвергнуть нулевую гипотезу: различия между долями статистически не значимы\n",
      "\n",
      "Событие: Tutorial\n",
      "p-значение: 0.8962914725257976\n",
      "Не получилось отвергнуть нулевую гипотезу: различия между долями статистически не значимы\n",
      "\n"
     ]
    }
   ],
   "source": [
    "test(data, [246, 248], 0.1)"
   ]
  },
  {
   "cell_type": "code",
   "execution_count": 44,
   "metadata": {},
   "outputs": [
    {
     "name": "stdout",
     "output_type": "stream",
     "text": [
      "Событие: MainScreenAppear\n",
      "p-значение: 0.7632160970326178\n",
      "Не получилось отвергнуть нулевую гипотезу: различия между долями статистически не значимы\n",
      "\n",
      "Событие: PaymentScreenSuccessful\n",
      "p-значение: 0.6763830984465451\n",
      "Не получилось отвергнуть нулевую гипотезу: различия между долями статистически не значимы\n",
      "\n",
      "Событие: CartScreenAppear\n",
      "p-значение: 0.7406094633808076\n",
      "Не получилось отвергнуть нулевую гипотезу: различия между долями статистически не значимы\n",
      "\n",
      "Событие: OffersScreenAppear\n",
      "p-значение: 0.878057445632423\n",
      "Не получилось отвергнуть нулевую гипотезу: различия между долями статистически не значимы\n",
      "\n",
      "Событие: Tutorial\n",
      "p-значение: 0.773300249936147\n",
      "Не получилось отвергнуть нулевую гипотезу: различия между долями статистически не значимы\n",
      "\n"
     ]
    }
   ],
   "source": [
    "test(data, [247, 248], 0.1)"
   ]
  },
  {
   "cell_type": "markdown",
   "metadata": {},
   "source": [
    "**Вывод:** Мы не смогли отвергнуть нулевую гипотеза, различия по всем событиям и между группами не значимы."
   ]
  },
  {
   "cell_type": "markdown",
   "metadata": {},
   "source": [
    "Далее проверим различия между объединенной группой (246+247) и группой 248, которая с измененным шрифтом. \n",
    "Для этого нам нужно объединить 2 группы, столбец exp_id со значением 246 изменю на 247."
   ]
  },
  {
   "cell_type": "code",
   "execution_count": 45,
   "metadata": {},
   "outputs": [
    {
     "data": {
      "text/plain": [
       "array([247, 248])"
      ]
     },
     "execution_count": 45,
     "metadata": {},
     "output_type": "execute_result"
    }
   ],
   "source": [
    "data_group = data.copy()\n",
    "data_group.loc[(data_group.exp_id == 246), ('exp_id')] = 247\n",
    "data_group['exp_id'].unique()"
   ]
  },
  {
   "cell_type": "code",
   "execution_count": 46,
   "metadata": {
    "scrolled": true
   },
   "outputs": [
    {
     "name": "stdout",
     "output_type": "stream",
     "text": [
      "Событие: MainScreenAppear\n",
      "p-значение: 0.5067126962216841\n",
      "Не получилось отвергнуть нулевую гипотезу: различия между долями статистически не значимы\n",
      "\n",
      "Событие: PaymentScreenSuccessful\n",
      "p-значение: 0.6578429353593096\n",
      "Не получилось отвергнуть нулевую гипотезу: различия между долями статистически не значимы\n",
      "\n",
      "Событие: CartScreenAppear\n",
      "p-значение: 0.2609811882648243\n",
      "Не получилось отвергнуть нулевую гипотезу: различия между долями статистически не значимы\n",
      "\n",
      "Событие: OffersScreenAppear\n",
      "p-значение: 0.4555404043137232\n",
      "Не получилось отвергнуть нулевую гипотезу: различия между долями статистически не значимы\n",
      "\n",
      "Событие: Tutorial\n",
      "p-значение: 0.8086866211802637\n",
      "Не получилось отвергнуть нулевую гипотезу: различия между долями статистически не значимы\n",
      "\n"
     ]
    }
   ],
   "source": [
    "test(data_group, [247, 248], 0.1)"
   ]
  },
  {
   "cell_type": "markdown",
   "metadata": {},
   "source": [
    "Различия также статистически не значимы."
   ]
  },
  {
   "cell_type": "markdown",
   "metadata": {},
   "source": [
    "### Какой уровень значимости вы выбрали при проверке статистических гипотез выше? Посчитайте, сколько проверок статистических гипотез вы сделали. При уровне значимости 0.1 каждый десятый раз можно получать ложный результат. Какой уровень значимости стоит применить? Если вы хотите изменить его, проделайте предыдущие пункты и проверьте свои выводы."
   ]
  },
  {
   "cell_type": "code",
   "execution_count": 47,
   "metadata": {},
   "outputs": [
    {
     "name": "stdout",
     "output_type": "stream",
     "text": [
      "Событие: MainScreenAppear\n",
      "p-значение: 0.5856639791209877\n",
      "Не получилось отвергнуть нулевую гипотезу: различия между долями статистически не значимы\n",
      "\n",
      "Событие: PaymentScreenSuccessful\n",
      "p-значение: 0.10902546202332886\n",
      "Не получилось отвергнуть нулевую гипотезу: различия между долями статистически не значимы\n",
      "\n",
      "Событие: CartScreenAppear\n",
      "p-значение: 0.19817540651836918\n",
      "Не получилось отвергнуть нулевую гипотезу: различия между долями статистически не значимы\n",
      "\n",
      "Событие: OffersScreenAppear\n",
      "p-значение: 0.3233225048227193\n",
      "Не получилось отвергнуть нулевую гипотезу: различия между долями статистически не значимы\n",
      "\n",
      "Событие: Tutorial\n",
      "p-значение: 0.8756574258016974\n",
      "Не получилось отвергнуть нулевую гипотезу: различия между долями статистически не значимы\n",
      "\n"
     ]
    }
   ],
   "source": [
    "test(data, [246, 247], 0.05)"
   ]
  },
  {
   "cell_type": "code",
   "execution_count": 48,
   "metadata": {},
   "outputs": [
    {
     "name": "stdout",
     "output_type": "stream",
     "text": [
      "Событие: MainScreenAppear\n",
      "p-значение: 0.39774960182882513\n",
      "Не получилось отвергнуть нулевую гипотезу: различия между долями статистически не значимы\n",
      "\n",
      "Событие: PaymentScreenSuccessful\n",
      "p-значение: 0.23403912852637143\n",
      "Не получилось отвергнуть нулевую гипотезу: различия между долями статистически не значимы\n",
      "\n",
      "Событие: CartScreenAppear\n",
      "p-значение: 0.10534150642722295\n",
      "Не получилось отвергнуть нулевую гипотезу: различия между долями статистически не значимы\n",
      "\n",
      "Событие: OffersScreenAppear\n",
      "p-значение: 0.2531656758489338\n",
      "Не получилось отвергнуть нулевую гипотезу: различия между долями статистически не значимы\n",
      "\n",
      "Событие: Tutorial\n",
      "p-значение: 0.8962914725257976\n",
      "Не получилось отвергнуть нулевую гипотезу: различия между долями статистически не значимы\n",
      "\n"
     ]
    }
   ],
   "source": [
    "test(data, [246, 248], 0.05)"
   ]
  },
  {
   "cell_type": "code",
   "execution_count": 49,
   "metadata": {},
   "outputs": [
    {
     "name": "stdout",
     "output_type": "stream",
     "text": [
      "Событие: MainScreenAppear\n",
      "p-значение: 0.7632160970326178\n",
      "Не получилось отвергнуть нулевую гипотезу: различия между долями статистически не значимы\n",
      "\n",
      "Событие: PaymentScreenSuccessful\n",
      "p-значение: 0.6763830984465451\n",
      "Не получилось отвергнуть нулевую гипотезу: различия между долями статистически не значимы\n",
      "\n",
      "Событие: CartScreenAppear\n",
      "p-значение: 0.7406094633808076\n",
      "Не получилось отвергнуть нулевую гипотезу: различия между долями статистически не значимы\n",
      "\n",
      "Событие: OffersScreenAppear\n",
      "p-значение: 0.878057445632423\n",
      "Не получилось отвергнуть нулевую гипотезу: различия между долями статистически не значимы\n",
      "\n",
      "Событие: Tutorial\n",
      "p-значение: 0.773300249936147\n",
      "Не получилось отвергнуть нулевую гипотезу: различия между долями статистически не значимы\n",
      "\n"
     ]
    }
   ],
   "source": [
    "test(data, [247, 248], 0.05)"
   ]
  },
  {
   "cell_type": "code",
   "execution_count": 50,
   "metadata": {},
   "outputs": [
    {
     "name": "stdout",
     "output_type": "stream",
     "text": [
      "Событие: MainScreenAppear\n",
      "p-значение: 0.5067126962216841\n",
      "Не получилось отвергнуть нулевую гипотезу: различия между долями статистически не значимы\n",
      "\n",
      "Событие: PaymentScreenSuccessful\n",
      "p-значение: 0.6578429353593096\n",
      "Не получилось отвергнуть нулевую гипотезу: различия между долями статистически не значимы\n",
      "\n",
      "Событие: CartScreenAppear\n",
      "p-значение: 0.2609811882648243\n",
      "Не получилось отвергнуть нулевую гипотезу: различия между долями статистически не значимы\n",
      "\n",
      "Событие: OffersScreenAppear\n",
      "p-значение: 0.4555404043137232\n",
      "Не получилось отвергнуть нулевую гипотезу: различия между долями статистически не значимы\n",
      "\n",
      "Событие: Tutorial\n",
      "p-значение: 0.8086866211802637\n",
      "Не получилось отвергнуть нулевую гипотезу: различия между долями статистически не значимы\n",
      "\n"
     ]
    }
   ],
   "source": [
    "test(data_group, [247, 248], 0.05)"
   ]
  },
  {
   "cell_type": "markdown",
   "metadata": {},
   "source": [
    "Я проверила гипотезы с разными уровнями значимости. Во всех нулевую гипотезу отвергнуть не получилось, т.е. можно сделать вывод о том, что доли не имеют статистической разницы, значит шрифт никак не повлиял на пользователей. "
   ]
  },
  {
   "cell_type": "markdown",
   "metadata": {},
   "source": [
    "**Вывод:**\n",
    "- Я проверила данные с логами, нашла всего 413 дубликатов, посчитала нужным их удалить, заменила названия стобцов на удобные для анализа, одинаковых пользователей в экспериментальных группах не нашла, пропусков также не было;\n",
    "- Изучила данные, в логах 243713 событи, всего 5 видов событий, 4 из них формируют воронку. В логах всего 7551 пользователя, в среднем на пользователя приходится 32 события.\n",
    "- Я распологаю данными с 2019-07-25 по 2019-08-07. Но с 2019-08-01 было очень мало данных, скорее всего до этого времени были неполные данных, поэтому я их отбросила. \n",
    "\n",
    "Мы имеем воронку событий: \n",
    "* MainScreenAppear (главная страница сайта)\n",
    "* OffersScreenAppear (страница с предложением, возможно, каточка товара)\n",
    "* CartScreenAppear (страница корзины)\n",
    "* PaymentScreenSuccessful (успешное оформление заказа)\n",
    "\n",
    "Также мы имеем событие Tutorial (обучение), но я считаю, что оно вне воронки. \n",
    "\n",
    "Всего 98.52% пользователей попали на MainScreenAppear, большее количество пользователей отваливается на шаге \"OffersScreenAppear\", мы теряем около 38% пользователей, которые достигли шага \"MainScreenAppear\". Меньше всего отваливается от оплаты, чуть больше 5%. С первого шага \"MainScreenAppear\" и до оплаты \"PaymentScreenSuccessful\" доходит 47,68% пользователей.\n",
    "\n",
    "- Провела А/А/В тестирование. Я выявила, что доли пользователей одинаковые, в тесте использовала разные уровни значимости, но p-value всегда был значительно больше 0.05. Могу сделать вывод, что изменение шрифта никак не повлияло на действия пользователей. Большая часть пользователей отваливается на событии MainScreenAppear и не переходят на OffersScreenAppear, я бы предложила скорее поработать с кнопкой перехода в корзину, либо же самим оформлением карточки.  "
   ]
  },
  {
   "cell_type": "markdown",
   "metadata": {},
   "source": [
    "События на пользователя в каждой из групп распределены неравномерно, в группе А - 7 событий, в группе В - 6 событий. Также во время проведения теста проводилось два мероприятия, но т.к. мы исследуем только пользователей из Европы, то только Christmas&New Year Promo могло повлиять на пользователей.\n",
    "\n",
    "Распределение событий по дням тоже неравномерное, мы видим, что в группе А после 12.12 был рост количества событий, в группе В рост был менее выражен, также в группе А наблюдается всплеск 21.12, в группе В он был совсем небольшой\n",
    "\n"
   ]
  }
 ],
 "metadata": {
  "ExecuteTimeLog": [
   {
    "duration": 94,
    "start_time": "2023-07-07T11:37:26.298Z"
   },
   {
    "duration": 3,
    "start_time": "2023-07-07T11:37:42.958Z"
   },
   {
    "duration": 11,
    "start_time": "2023-07-07T11:37:43.696Z"
   },
   {
    "duration": 3,
    "start_time": "2023-07-07T11:37:49.095Z"
   },
   {
    "duration": 11,
    "start_time": "2023-07-07T11:37:49.710Z"
   },
   {
    "duration": 3,
    "start_time": "2023-07-07T11:37:58.634Z"
   },
   {
    "duration": 9,
    "start_time": "2023-07-07T11:37:59.623Z"
   },
   {
    "duration": 4,
    "start_time": "2023-07-07T11:38:15.497Z"
   },
   {
    "duration": 12,
    "start_time": "2023-07-07T11:38:16.277Z"
   },
   {
    "duration": 160,
    "start_time": "2023-07-07T11:38:27.127Z"
   },
   {
    "duration": 4,
    "start_time": "2023-07-07T11:40:52.334Z"
   },
   {
    "duration": 21,
    "start_time": "2023-07-07T11:41:02.393Z"
   },
   {
    "duration": 34,
    "start_time": "2023-07-07T11:42:33.041Z"
   },
   {
    "duration": 19,
    "start_time": "2023-07-07T11:42:36.652Z"
   },
   {
    "duration": 12,
    "start_time": "2023-07-07T11:44:20.606Z"
   },
   {
    "duration": 10,
    "start_time": "2023-07-07T11:44:33.910Z"
   },
   {
    "duration": 56,
    "start_time": "2023-07-07T11:44:54.890Z"
   },
   {
    "duration": 68,
    "start_time": "2023-07-07T11:45:42.444Z"
   },
   {
    "duration": 165,
    "start_time": "2023-07-07T11:48:22.820Z"
   },
   {
    "duration": 8,
    "start_time": "2023-07-07T11:48:30.610Z"
   },
   {
    "duration": 3,
    "start_time": "2023-07-07T11:48:37.854Z"
   },
   {
    "duration": 20,
    "start_time": "2023-07-07T11:48:38.788Z"
   },
   {
    "duration": 35,
    "start_time": "2023-07-07T11:48:40.140Z"
   },
   {
    "duration": 55,
    "start_time": "2023-07-07T11:48:40.598Z"
   },
   {
    "duration": 60,
    "start_time": "2023-07-07T11:48:41.109Z"
   },
   {
    "duration": 8,
    "start_time": "2023-07-07T11:48:42.131Z"
   },
   {
    "duration": 13,
    "start_time": "2023-07-07T11:49:07.988Z"
   },
   {
    "duration": 60,
    "start_time": "2023-07-07T11:49:08.429Z"
   },
   {
    "duration": 67,
    "start_time": "2023-07-07T11:49:08.894Z"
   },
   {
    "duration": 8,
    "start_time": "2023-07-07T11:49:09.746Z"
   },
   {
    "duration": 89,
    "start_time": "2023-07-07T11:49:49.040Z"
   },
   {
    "duration": 407,
    "start_time": "2023-07-07T11:50:16.758Z"
   },
   {
    "duration": 29,
    "start_time": "2023-07-07T11:50:17.318Z"
   },
   {
    "duration": 86,
    "start_time": "2023-07-07T11:50:17.842Z"
   },
   {
    "duration": 355,
    "start_time": "2023-07-07T11:50:34.891Z"
   },
   {
    "duration": 25,
    "start_time": "2023-07-07T11:50:35.889Z"
   },
   {
    "duration": 91,
    "start_time": "2023-07-07T11:50:37.339Z"
   },
   {
    "duration": 98,
    "start_time": "2023-07-07T11:50:37.849Z"
   },
   {
    "duration": 11,
    "start_time": "2023-07-07T11:50:38.882Z"
   },
   {
    "duration": 79,
    "start_time": "2023-07-07T11:50:40.450Z"
   },
   {
    "duration": 1244,
    "start_time": "2023-07-07T11:50:59.354Z"
   },
   {
    "duration": 167,
    "start_time": "2023-07-07T11:51:00.600Z"
   },
   {
    "duration": 4,
    "start_time": "2023-07-07T11:51:00.769Z"
   },
   {
    "duration": 100,
    "start_time": "2023-07-07T11:51:00.774Z"
   },
   {
    "duration": 157,
    "start_time": "2023-07-07T11:51:00.876Z"
   },
   {
    "duration": 81,
    "start_time": "2023-07-07T11:51:01.035Z"
   },
   {
    "duration": 8,
    "start_time": "2023-07-07T11:51:01.118Z"
   },
   {
    "duration": 118,
    "start_time": "2023-07-07T11:51:01.128Z"
   },
   {
    "duration": 3,
    "start_time": "2023-07-07T11:51:03.576Z"
   },
   {
    "duration": 153,
    "start_time": "2023-07-07T11:51:04.463Z"
   },
   {
    "duration": 4,
    "start_time": "2023-07-07T11:51:07.362Z"
   },
   {
    "duration": 19,
    "start_time": "2023-07-07T11:51:08.953Z"
   },
   {
    "duration": 61,
    "start_time": "2023-07-07T11:51:12.409Z"
   },
   {
    "duration": 64,
    "start_time": "2023-07-07T11:51:13.019Z"
   },
   {
    "duration": 8,
    "start_time": "2023-07-07T11:51:14.420Z"
   },
   {
    "duration": 85,
    "start_time": "2023-07-07T11:51:16.474Z"
   },
   {
    "duration": 14,
    "start_time": "2023-07-07T11:51:37.524Z"
   },
   {
    "duration": 91,
    "start_time": "2023-07-07T11:51:38.532Z"
   },
   {
    "duration": 96,
    "start_time": "2023-07-07T11:51:39.049Z"
   },
   {
    "duration": 9,
    "start_time": "2023-07-07T11:51:40.045Z"
   },
   {
    "duration": 88,
    "start_time": "2023-07-07T11:51:40.615Z"
   },
   {
    "duration": 5,
    "start_time": "2023-07-07T11:55:14.657Z"
   },
   {
    "duration": 5,
    "start_time": "2023-07-07T11:56:07.728Z"
   },
   {
    "duration": 103,
    "start_time": "2023-07-07T11:57:24.557Z"
   },
   {
    "duration": 19,
    "start_time": "2023-07-07T11:57:50.485Z"
   },
   {
    "duration": 21,
    "start_time": "2023-07-07T11:57:59.726Z"
   },
   {
    "duration": 35,
    "start_time": "2023-07-07T12:00:18.686Z"
   },
   {
    "duration": 25,
    "start_time": "2023-07-07T12:00:32.672Z"
   },
   {
    "duration": 1367,
    "start_time": "2023-07-10T12:22:44.698Z"
   },
   {
    "duration": 643,
    "start_time": "2023-07-10T12:22:46.067Z"
   },
   {
    "duration": 3,
    "start_time": "2023-07-10T12:22:46.712Z"
   },
   {
    "duration": 23,
    "start_time": "2023-07-10T12:22:47.547Z"
   },
   {
    "duration": 15,
    "start_time": "2023-07-10T12:22:48.464Z"
   },
   {
    "duration": 60,
    "start_time": "2023-07-10T12:22:48.704Z"
   },
   {
    "duration": 66,
    "start_time": "2023-07-10T12:22:48.889Z"
   },
   {
    "duration": 8,
    "start_time": "2023-07-10T12:22:49.231Z"
   },
   {
    "duration": 75,
    "start_time": "2023-07-10T12:22:49.421Z"
   },
   {
    "duration": 4,
    "start_time": "2023-07-10T12:22:50.185Z"
   },
   {
    "duration": 20,
    "start_time": "2023-07-10T12:22:50.403Z"
   },
   {
    "duration": 24,
    "start_time": "2023-07-10T12:22:51.226Z"
   },
   {
    "duration": 41,
    "start_time": "2023-07-10T12:22:52.089Z"
   },
   {
    "duration": 7,
    "start_time": "2023-07-10T12:23:09.227Z"
   },
   {
    "duration": 6,
    "start_time": "2023-07-10T12:23:18.107Z"
   },
   {
    "duration": 7,
    "start_time": "2023-07-10T12:23:28.410Z"
   },
   {
    "duration": 25,
    "start_time": "2023-07-10T12:25:41.951Z"
   },
   {
    "duration": 26,
    "start_time": "2023-07-10T12:25:56.038Z"
   },
   {
    "duration": 24,
    "start_time": "2023-07-10T12:26:14.495Z"
   },
   {
    "duration": 18,
    "start_time": "2023-07-10T12:28:41.650Z"
   },
   {
    "duration": 16,
    "start_time": "2023-07-10T12:29:01.025Z"
   },
   {
    "duration": 16,
    "start_time": "2023-07-10T12:29:27.348Z"
   },
   {
    "duration": 463,
    "start_time": "2023-07-10T12:34:01.204Z"
   },
   {
    "duration": 405,
    "start_time": "2023-07-10T12:37:09.463Z"
   },
   {
    "duration": 405,
    "start_time": "2023-07-10T12:37:51.357Z"
   },
   {
    "duration": 183,
    "start_time": "2023-07-10T12:40:45.541Z"
   },
   {
    "duration": 189,
    "start_time": "2023-07-10T12:41:07.038Z"
   },
   {
    "duration": 1332,
    "start_time": "2023-07-10T12:43:24.432Z"
   },
   {
    "duration": 239,
    "start_time": "2023-07-10T12:44:40.154Z"
   },
   {
    "duration": 263,
    "start_time": "2023-07-10T12:44:48.856Z"
   },
   {
    "duration": 197,
    "start_time": "2023-07-10T12:45:06.429Z"
   },
   {
    "duration": 198,
    "start_time": "2023-07-10T12:45:12.313Z"
   },
   {
    "duration": 197,
    "start_time": "2023-07-10T12:45:21.720Z"
   },
   {
    "duration": 186,
    "start_time": "2023-07-10T12:45:31.201Z"
   },
   {
    "duration": 12,
    "start_time": "2023-07-10T12:50:04.383Z"
   },
   {
    "duration": 8,
    "start_time": "2023-07-10T12:50:28.114Z"
   },
   {
    "duration": 5,
    "start_time": "2023-07-10T12:51:13.235Z"
   },
   {
    "duration": 4,
    "start_time": "2023-07-10T12:51:29.686Z"
   },
   {
    "duration": 1509,
    "start_time": "2023-07-14T11:43:53.663Z"
   },
   {
    "duration": 728,
    "start_time": "2023-07-14T11:43:55.174Z"
   },
   {
    "duration": 3,
    "start_time": "2023-07-14T11:43:55.904Z"
   },
   {
    "duration": 53,
    "start_time": "2023-07-14T11:43:55.909Z"
   },
   {
    "duration": 19,
    "start_time": "2023-07-14T11:43:55.966Z"
   },
   {
    "duration": 69,
    "start_time": "2023-07-14T11:43:55.987Z"
   },
   {
    "duration": 85,
    "start_time": "2023-07-14T11:43:56.060Z"
   },
   {
    "duration": 27,
    "start_time": "2023-07-14T11:43:56.146Z"
   },
   {
    "duration": 98,
    "start_time": "2023-07-14T11:43:56.178Z"
   },
   {
    "duration": 3,
    "start_time": "2023-07-14T11:43:56.601Z"
   },
   {
    "duration": 21,
    "start_time": "2023-07-14T11:43:56.795Z"
   },
   {
    "duration": 14,
    "start_time": "2023-07-14T11:43:57.202Z"
   },
   {
    "duration": 42,
    "start_time": "2023-07-14T11:43:57.595Z"
   },
   {
    "duration": 24,
    "start_time": "2023-07-14T11:43:58.157Z"
   },
   {
    "duration": 28,
    "start_time": "2023-07-14T11:43:58.552Z"
   },
   {
    "duration": 343,
    "start_time": "2023-07-14T11:43:58.860Z"
   },
   {
    "duration": 269,
    "start_time": "2023-07-14T11:43:59.390Z"
   },
   {
    "duration": 9,
    "start_time": "2023-07-14T11:43:59.962Z"
   },
   {
    "duration": 5,
    "start_time": "2023-07-14T11:44:00.162Z"
   },
   {
    "duration": 16,
    "start_time": "2023-07-14T11:44:29.998Z"
   },
   {
    "duration": 11,
    "start_time": "2023-07-14T11:44:45.719Z"
   },
   {
    "duration": 113,
    "start_time": "2023-07-14T11:45:26.903Z"
   },
   {
    "duration": 9,
    "start_time": "2023-07-14T11:45:33.119Z"
   },
   {
    "duration": 7,
    "start_time": "2023-07-14T11:45:36.277Z"
   },
   {
    "duration": 37,
    "start_time": "2023-07-14T11:47:36.312Z"
   },
   {
    "duration": 12,
    "start_time": "2023-07-14T11:55:42.353Z"
   },
   {
    "duration": 14,
    "start_time": "2023-07-14T11:55:51.423Z"
   },
   {
    "duration": 23,
    "start_time": "2023-07-14T12:06:59.095Z"
   },
   {
    "duration": 309,
    "start_time": "2023-07-14T12:07:09.699Z"
   },
   {
    "duration": 54,
    "start_time": "2023-07-14T12:07:13.217Z"
   },
   {
    "duration": 55,
    "start_time": "2023-07-14T12:07:56.802Z"
   },
   {
    "duration": 26,
    "start_time": "2023-07-14T12:08:09.476Z"
   },
   {
    "duration": 30,
    "start_time": "2023-07-14T12:10:52.512Z"
   },
   {
    "duration": 3,
    "start_time": "2023-07-14T12:11:56.405Z"
   },
   {
    "duration": 22,
    "start_time": "2023-07-14T12:12:26.209Z"
   },
   {
    "duration": 11,
    "start_time": "2023-07-14T12:12:40.903Z"
   },
   {
    "duration": 7,
    "start_time": "2023-07-14T12:12:57.492Z"
   },
   {
    "duration": 5,
    "start_time": "2023-07-14T12:13:10.908Z"
   },
   {
    "duration": 5,
    "start_time": "2023-07-14T12:13:18.607Z"
   },
   {
    "duration": 100,
    "start_time": "2023-07-14T12:13:29.258Z"
   },
   {
    "duration": 68,
    "start_time": "2023-07-14T12:13:53.589Z"
   },
   {
    "duration": 56,
    "start_time": "2023-07-14T12:14:06.187Z"
   },
   {
    "duration": 61,
    "start_time": "2023-07-14T12:15:59.402Z"
   },
   {
    "duration": 75,
    "start_time": "2023-07-14T12:16:04.234Z"
   },
   {
    "duration": 63,
    "start_time": "2023-07-14T12:16:34.001Z"
   },
   {
    "duration": 80,
    "start_time": "2023-07-14T12:16:42.031Z"
   },
   {
    "duration": 91,
    "start_time": "2023-07-14T12:16:53.889Z"
   },
   {
    "duration": 58,
    "start_time": "2023-07-14T12:17:51.261Z"
   },
   {
    "duration": 59,
    "start_time": "2023-07-14T12:17:56.259Z"
   },
   {
    "duration": 81,
    "start_time": "2023-07-14T12:18:04.953Z"
   },
   {
    "duration": 12,
    "start_time": "2023-07-14T12:33:07.454Z"
   },
   {
    "duration": 15,
    "start_time": "2023-07-14T12:33:12.330Z"
   },
   {
    "duration": 11,
    "start_time": "2023-07-14T12:33:16.276Z"
   },
   {
    "duration": 16,
    "start_time": "2023-07-14T12:40:16.135Z"
   },
   {
    "duration": 11,
    "start_time": "2023-07-14T12:40:25.061Z"
   },
   {
    "duration": 1227,
    "start_time": "2023-07-14T12:40:39.067Z"
   },
   {
    "duration": 185,
    "start_time": "2023-07-14T12:40:40.296Z"
   },
   {
    "duration": 3,
    "start_time": "2023-07-14T12:40:40.482Z"
   },
   {
    "duration": 44,
    "start_time": "2023-07-14T12:40:40.486Z"
   },
   {
    "duration": 22,
    "start_time": "2023-07-14T12:40:40.539Z"
   },
   {
    "duration": 77,
    "start_time": "2023-07-14T12:40:40.562Z"
   },
   {
    "duration": 79,
    "start_time": "2023-07-14T12:40:40.640Z"
   },
   {
    "duration": 7,
    "start_time": "2023-07-14T12:40:40.721Z"
   },
   {
    "duration": 165,
    "start_time": "2023-07-14T12:40:40.730Z"
   },
   {
    "duration": 4,
    "start_time": "2023-07-14T12:40:40.897Z"
   },
   {
    "duration": 38,
    "start_time": "2023-07-14T12:40:40.902Z"
   },
   {
    "duration": 37,
    "start_time": "2023-07-14T12:40:40.943Z"
   },
   {
    "duration": 36,
    "start_time": "2023-07-14T12:40:40.982Z"
   },
   {
    "duration": 22,
    "start_time": "2023-07-14T12:40:41.021Z"
   },
   {
    "duration": 40,
    "start_time": "2023-07-14T12:40:41.044Z"
   },
   {
    "duration": 306,
    "start_time": "2023-07-14T12:40:41.085Z"
   },
   {
    "duration": 245,
    "start_time": "2023-07-14T12:40:41.392Z"
   },
   {
    "duration": 20,
    "start_time": "2023-07-14T12:40:41.640Z"
   },
   {
    "duration": 16,
    "start_time": "2023-07-14T12:40:41.661Z"
   },
   {
    "duration": 27,
    "start_time": "2023-07-14T12:40:41.679Z"
   },
   {
    "duration": 22,
    "start_time": "2023-07-14T12:40:41.708Z"
   },
   {
    "duration": 103,
    "start_time": "2023-07-14T12:40:41.733Z"
   },
   {
    "duration": 33,
    "start_time": "2023-07-14T12:40:41.838Z"
   },
   {
    "duration": 85,
    "start_time": "2023-07-14T12:40:41.873Z"
   },
   {
    "duration": 12,
    "start_time": "2023-07-14T12:40:41.962Z"
   },
   {
    "duration": 90,
    "start_time": "2023-07-14T12:41:02.597Z"
   },
   {
    "duration": 14,
    "start_time": "2023-07-14T12:41:05.978Z"
   },
   {
    "duration": 13,
    "start_time": "2023-07-14T13:06:05.769Z"
   },
   {
    "duration": 14,
    "start_time": "2023-07-14T13:06:23.489Z"
   },
   {
    "duration": 19,
    "start_time": "2023-07-14T13:06:28.829Z"
   },
   {
    "duration": 1270,
    "start_time": "2023-07-17T07:06:56.316Z"
   },
   {
    "duration": 699,
    "start_time": "2023-07-17T07:06:57.588Z"
   },
   {
    "duration": 3,
    "start_time": "2023-07-17T07:06:58.288Z"
   },
   {
    "duration": 21,
    "start_time": "2023-07-17T07:06:58.293Z"
   },
   {
    "duration": 12,
    "start_time": "2023-07-17T07:06:58.316Z"
   },
   {
    "duration": 74,
    "start_time": "2023-07-17T07:06:58.330Z"
   },
   {
    "duration": 77,
    "start_time": "2023-07-17T07:06:58.405Z"
   },
   {
    "duration": 8,
    "start_time": "2023-07-17T07:06:58.484Z"
   },
   {
    "duration": 88,
    "start_time": "2023-07-17T07:06:58.493Z"
   },
   {
    "duration": 4,
    "start_time": "2023-07-17T07:06:59.157Z"
   },
   {
    "duration": 21,
    "start_time": "2023-07-17T07:06:59.322Z"
   },
   {
    "duration": 9,
    "start_time": "2023-07-17T07:06:59.668Z"
   },
   {
    "duration": 40,
    "start_time": "2023-07-17T07:07:00.027Z"
   },
   {
    "duration": 16,
    "start_time": "2023-07-17T07:07:00.559Z"
   },
   {
    "duration": 17,
    "start_time": "2023-07-17T07:07:00.742Z"
   },
   {
    "duration": 279,
    "start_time": "2023-07-17T07:07:00.915Z"
   },
   {
    "duration": 238,
    "start_time": "2023-07-17T07:07:01.270Z"
   },
   {
    "duration": 8,
    "start_time": "2023-07-17T07:07:01.803Z"
   },
   {
    "duration": 5,
    "start_time": "2023-07-17T07:07:01.979Z"
   },
   {
    "duration": 9,
    "start_time": "2023-07-17T07:07:02.342Z"
   },
   {
    "duration": 8,
    "start_time": "2023-07-17T07:07:02.524Z"
   },
   {
    "duration": 32,
    "start_time": "2023-07-17T07:07:02.880Z"
   },
   {
    "duration": 24,
    "start_time": "2023-07-17T07:07:03.578Z"
   },
   {
    "duration": 82,
    "start_time": "2023-07-17T07:07:04.123Z"
   },
   {
    "duration": 12,
    "start_time": "2023-07-17T07:07:05.027Z"
   },
   {
    "duration": 11,
    "start_time": "2023-07-17T07:09:17.823Z"
   },
   {
    "duration": 10,
    "start_time": "2023-07-17T07:12:59.562Z"
   },
   {
    "duration": 10,
    "start_time": "2023-07-17T07:13:08.473Z"
   },
   {
    "duration": 11,
    "start_time": "2023-07-17T07:13:20.485Z"
   },
   {
    "duration": 11,
    "start_time": "2023-07-17T07:13:37.527Z"
   },
   {
    "duration": 11,
    "start_time": "2023-07-17T07:13:56.749Z"
   },
   {
    "duration": 102,
    "start_time": "2023-07-17T07:15:37.323Z"
   },
   {
    "duration": 10,
    "start_time": "2023-07-17T07:16:06.423Z"
   },
   {
    "duration": 10,
    "start_time": "2023-07-17T07:16:29.411Z"
   },
   {
    "duration": 1187,
    "start_time": "2023-07-17T07:16:34.819Z"
   },
   {
    "duration": 11,
    "start_time": "2023-07-17T07:16:46.447Z"
   },
   {
    "duration": 1198,
    "start_time": "2023-07-17T07:17:34.587Z"
   },
   {
    "duration": 1100,
    "start_time": "2023-07-17T07:17:46.614Z"
   },
   {
    "duration": 145,
    "start_time": "2023-07-17T07:18:10.803Z"
   },
   {
    "duration": 173,
    "start_time": "2023-07-17T07:18:34.561Z"
   },
   {
    "duration": 10,
    "start_time": "2023-07-17T07:26:37.416Z"
   },
   {
    "duration": 13,
    "start_time": "2023-07-17T07:28:21.782Z"
   },
   {
    "duration": 4,
    "start_time": "2023-07-17T07:28:40.944Z"
   },
   {
    "duration": 4,
    "start_time": "2023-07-17T07:28:55.696Z"
   },
   {
    "duration": 4,
    "start_time": "2023-07-17T07:29:04.419Z"
   },
   {
    "duration": 11,
    "start_time": "2023-07-17T14:55:17.882Z"
   },
   {
    "duration": 8,
    "start_time": "2023-07-17T14:55:58.794Z"
   },
   {
    "duration": 13,
    "start_time": "2023-07-17T14:56:07.081Z"
   },
   {
    "duration": 7,
    "start_time": "2023-07-17T14:56:28.525Z"
   },
   {
    "duration": 24,
    "start_time": "2023-07-17T14:56:53.312Z"
   },
   {
    "duration": 13,
    "start_time": "2023-07-17T14:57:40.609Z"
   },
   {
    "duration": 37,
    "start_time": "2023-07-17T14:57:49.825Z"
   },
   {
    "duration": 1386,
    "start_time": "2023-07-17T18:35:04.337Z"
   },
   {
    "duration": 799,
    "start_time": "2023-07-17T18:35:05.725Z"
   },
   {
    "duration": 4,
    "start_time": "2023-07-17T18:35:06.933Z"
   },
   {
    "duration": 21,
    "start_time": "2023-07-17T18:35:08.693Z"
   },
   {
    "duration": 14,
    "start_time": "2023-07-17T18:35:09.081Z"
   },
   {
    "duration": 67,
    "start_time": "2023-07-17T18:35:09.249Z"
   },
   {
    "duration": 76,
    "start_time": "2023-07-17T18:35:09.449Z"
   },
   {
    "duration": 9,
    "start_time": "2023-07-17T18:35:09.809Z"
   },
   {
    "duration": 93,
    "start_time": "2023-07-17T18:35:10.005Z"
   },
   {
    "duration": 4,
    "start_time": "2023-07-17T18:35:10.789Z"
   },
   {
    "duration": 26,
    "start_time": "2023-07-17T18:35:10.949Z"
   },
   {
    "duration": 11,
    "start_time": "2023-07-17T18:35:11.342Z"
   },
   {
    "duration": 39,
    "start_time": "2023-07-17T18:35:11.685Z"
   },
   {
    "duration": 15,
    "start_time": "2023-07-17T18:35:12.274Z"
   },
   {
    "duration": 19,
    "start_time": "2023-07-17T18:35:12.463Z"
   },
   {
    "duration": 304,
    "start_time": "2023-07-17T18:35:12.670Z"
   },
   {
    "duration": 264,
    "start_time": "2023-07-17T18:35:13.073Z"
   },
   {
    "duration": 13,
    "start_time": "2023-07-17T18:35:14.249Z"
   },
   {
    "duration": 4,
    "start_time": "2023-07-17T18:35:14.453Z"
   },
   {
    "duration": 11,
    "start_time": "2023-07-17T18:35:15.773Z"
   },
   {
    "duration": 9,
    "start_time": "2023-07-17T18:35:15.964Z"
   },
   {
    "duration": 35,
    "start_time": "2023-07-17T18:35:16.393Z"
   },
   {
    "duration": 44,
    "start_time": "2023-07-17T18:37:29.121Z"
   },
   {
    "duration": 129,
    "start_time": "2023-07-17T19:09:34.035Z"
   },
   {
    "duration": 86,
    "start_time": "2023-07-17T19:10:50.443Z"
   },
   {
    "duration": 94,
    "start_time": "2023-07-17T19:11:05.038Z"
   },
   {
    "duration": 104,
    "start_time": "2023-07-17T19:11:17.363Z"
   },
   {
    "duration": 7,
    "start_time": "2023-07-17T19:15:12.230Z"
   },
   {
    "duration": 118,
    "start_time": "2023-07-17T19:48:44.047Z"
   },
   {
    "duration": 5,
    "start_time": "2023-07-17T19:48:44.818Z"
   },
   {
    "duration": 6,
    "start_time": "2023-07-17T19:48:45.524Z"
   },
   {
    "duration": 1227,
    "start_time": "2023-07-17T19:49:07.683Z"
   },
   {
    "duration": 92,
    "start_time": "2023-07-17T19:52:41.295Z"
   },
   {
    "duration": 1429,
    "start_time": "2023-07-18T07:28:35.001Z"
   },
   {
    "duration": 766,
    "start_time": "2023-07-18T07:28:36.433Z"
   },
   {
    "duration": 199,
    "start_time": "2023-07-18T07:30:59.638Z"
   },
   {
    "duration": 3,
    "start_time": "2023-07-18T07:31:22.490Z"
   },
   {
    "duration": 4,
    "start_time": "2023-07-18T07:31:25.574Z"
   },
   {
    "duration": 30,
    "start_time": "2023-07-18T07:31:27.808Z"
   },
   {
    "duration": 15,
    "start_time": "2023-07-18T07:31:30.577Z"
   },
   {
    "duration": 71,
    "start_time": "2023-07-18T07:31:31.385Z"
   },
   {
    "duration": 74,
    "start_time": "2023-07-18T07:31:35.376Z"
   },
   {
    "duration": 10,
    "start_time": "2023-07-18T07:31:39.184Z"
   },
   {
    "duration": 78,
    "start_time": "2023-07-18T07:31:39.675Z"
   },
   {
    "duration": 5,
    "start_time": "2023-07-18T07:31:47.786Z"
   },
   {
    "duration": 27,
    "start_time": "2023-07-18T07:31:48.251Z"
   },
   {
    "duration": 1347,
    "start_time": "2023-07-18T07:31:49.126Z"
   },
   {
    "duration": 0,
    "start_time": "2023-07-18T07:31:50.475Z"
   },
   {
    "duration": 9,
    "start_time": "2023-07-18T07:31:55.676Z"
   },
   {
    "duration": 27,
    "start_time": "2023-07-18T07:31:57.058Z"
   },
   {
    "duration": 38,
    "start_time": "2023-07-18T07:32:00.994Z"
   },
   {
    "duration": 15,
    "start_time": "2023-07-18T07:32:04.284Z"
   },
   {
    "duration": 14,
    "start_time": "2023-07-18T07:32:05.173Z"
   },
   {
    "duration": 307,
    "start_time": "2023-07-18T07:32:06.595Z"
   },
   {
    "duration": 278,
    "start_time": "2023-07-18T07:32:08.927Z"
   },
   {
    "duration": 10,
    "start_time": "2023-07-18T07:32:11.412Z"
   },
   {
    "duration": 1187,
    "start_time": "2023-07-18T07:32:12.385Z"
   },
   {
    "duration": 7,
    "start_time": "2023-07-18T07:32:18.668Z"
   },
   {
    "duration": 10,
    "start_time": "2023-07-18T07:33:00.114Z"
   },
   {
    "duration": 7,
    "start_time": "2023-07-18T07:33:01.044Z"
   },
   {
    "duration": 44,
    "start_time": "2023-07-18T07:33:02.250Z"
   },
   {
    "duration": 24,
    "start_time": "2023-07-18T07:33:05.218Z"
   },
   {
    "duration": 79,
    "start_time": "2023-07-18T07:33:12.701Z"
   },
   {
    "duration": 14,
    "start_time": "2023-07-18T07:33:15.856Z"
   },
   {
    "duration": 15,
    "start_time": "2023-07-18T07:33:24.027Z"
   },
   {
    "duration": 8,
    "start_time": "2023-07-18T07:33:43.671Z"
   },
   {
    "duration": 5,
    "start_time": "2023-07-18T07:33:46.646Z"
   },
   {
    "duration": 47,
    "start_time": "2023-07-18T07:33:55.228Z"
   },
   {
    "duration": 91,
    "start_time": "2023-07-18T07:34:12.181Z"
   },
   {
    "duration": 94,
    "start_time": "2023-07-18T07:34:51.626Z"
   },
   {
    "duration": 45,
    "start_time": "2023-07-18T07:48:53.973Z"
   },
   {
    "duration": 58,
    "start_time": "2023-07-18T07:49:39.135Z"
   },
   {
    "duration": 54,
    "start_time": "2023-07-18T07:49:51.749Z"
   },
   {
    "duration": 6,
    "start_time": "2023-07-18T07:57:27.896Z"
   },
   {
    "duration": 45,
    "start_time": "2023-07-18T07:57:29.360Z"
   },
   {
    "duration": 6,
    "start_time": "2023-07-18T07:57:49.714Z"
   },
   {
    "duration": 80,
    "start_time": "2023-07-18T07:57:51.342Z"
   },
   {
    "duration": 6,
    "start_time": "2023-07-18T07:58:53.907Z"
   },
   {
    "duration": 182,
    "start_time": "2023-07-18T07:58:55.320Z"
   },
   {
    "duration": 6,
    "start_time": "2023-07-18T08:00:42.798Z"
   },
   {
    "duration": 176,
    "start_time": "2023-07-18T08:00:45.732Z"
   },
   {
    "duration": 6,
    "start_time": "2023-07-18T08:00:51.796Z"
   },
   {
    "duration": 167,
    "start_time": "2023-07-18T08:00:52.641Z"
   },
   {
    "duration": 125,
    "start_time": "2023-07-18T08:01:13.149Z"
   },
   {
    "duration": 176,
    "start_time": "2023-07-18T08:01:14.672Z"
   },
   {
    "duration": 8,
    "start_time": "2023-07-18T08:01:36.688Z"
   },
   {
    "duration": 167,
    "start_time": "2023-07-18T08:01:39.757Z"
   },
   {
    "duration": 157,
    "start_time": "2023-07-18T08:03:51.314Z"
   },
   {
    "duration": 189,
    "start_time": "2023-07-18T08:04:04.898Z"
   },
   {
    "duration": 177,
    "start_time": "2023-07-18T08:04:16.804Z"
   },
   {
    "duration": 6,
    "start_time": "2023-07-18T12:31:07.932Z"
   },
   {
    "duration": 147,
    "start_time": "2023-07-18T12:31:09.774Z"
   },
   {
    "duration": 151,
    "start_time": "2023-07-18T12:32:12.601Z"
   },
   {
    "duration": 150,
    "start_time": "2023-07-18T12:32:18.895Z"
   },
   {
    "duration": 164,
    "start_time": "2023-07-18T12:32:26.609Z"
   },
   {
    "duration": 7,
    "start_time": "2023-07-18T12:38:15.097Z"
   },
   {
    "duration": 7,
    "start_time": "2023-07-18T12:38:19.419Z"
   },
   {
    "duration": 137,
    "start_time": "2023-07-18T12:38:20.352Z"
   },
   {
    "duration": 147,
    "start_time": "2023-07-18T12:40:18.579Z"
   },
   {
    "duration": 7,
    "start_time": "2023-07-18T12:40:25.952Z"
   },
   {
    "duration": 170,
    "start_time": "2023-07-18T12:40:26.976Z"
   },
   {
    "duration": 9,
    "start_time": "2023-07-18T12:40:31.299Z"
   },
   {
    "duration": 5,
    "start_time": "2023-07-18T12:40:45.871Z"
   },
   {
    "duration": 9,
    "start_time": "2023-07-18T12:40:51.587Z"
   },
   {
    "duration": 11,
    "start_time": "2023-07-18T12:41:01.291Z"
   },
   {
    "duration": 183,
    "start_time": "2023-07-18T12:41:30.822Z"
   },
   {
    "duration": 150,
    "start_time": "2023-07-18T12:41:41.112Z"
   },
   {
    "duration": 165,
    "start_time": "2023-07-18T12:41:50.822Z"
   },
   {
    "duration": 166,
    "start_time": "2023-07-18T12:42:10.211Z"
   },
   {
    "duration": 162,
    "start_time": "2023-07-18T12:42:15.710Z"
   },
   {
    "duration": 167,
    "start_time": "2023-07-18T12:42:26.080Z"
   },
   {
    "duration": 194,
    "start_time": "2023-07-18T12:46:15.977Z"
   },
   {
    "duration": 158,
    "start_time": "2023-07-18T12:46:26.102Z"
   },
   {
    "duration": 138,
    "start_time": "2023-07-18T12:46:38.282Z"
   },
   {
    "duration": 151,
    "start_time": "2023-07-18T12:46:45.175Z"
   },
   {
    "duration": 7,
    "start_time": "2023-07-18T12:49:48.350Z"
   },
   {
    "duration": 142,
    "start_time": "2023-07-18T12:49:50.391Z"
   },
   {
    "duration": 147,
    "start_time": "2023-07-18T12:49:57.661Z"
   },
   {
    "duration": 8,
    "start_time": "2023-07-18T12:50:12.060Z"
   },
   {
    "duration": 150,
    "start_time": "2023-07-18T12:50:13.350Z"
   },
   {
    "duration": 145,
    "start_time": "2023-07-18T13:01:12.854Z"
   },
   {
    "duration": 1213,
    "start_time": "2023-07-18T13:01:37.174Z"
   },
   {
    "duration": 173,
    "start_time": "2023-07-18T13:01:38.389Z"
   },
   {
    "duration": 14,
    "start_time": "2023-07-18T13:01:38.564Z"
   },
   {
    "duration": 20,
    "start_time": "2023-07-18T13:01:38.580Z"
   },
   {
    "duration": 21,
    "start_time": "2023-07-18T13:01:38.603Z"
   },
   {
    "duration": 91,
    "start_time": "2023-07-18T13:01:38.626Z"
   },
   {
    "duration": 111,
    "start_time": "2023-07-18T13:01:38.719Z"
   },
   {
    "duration": 9,
    "start_time": "2023-07-18T13:01:38.832Z"
   },
   {
    "duration": 100,
    "start_time": "2023-07-18T13:01:38.843Z"
   },
   {
    "duration": 4,
    "start_time": "2023-07-18T13:01:38.945Z"
   },
   {
    "duration": 40,
    "start_time": "2023-07-18T13:01:38.950Z"
   },
   {
    "duration": 19,
    "start_time": "2023-07-18T13:01:38.992Z"
   },
   {
    "duration": 60,
    "start_time": "2023-07-18T13:01:39.013Z"
   },
   {
    "duration": 18,
    "start_time": "2023-07-18T13:01:39.077Z"
   },
   {
    "duration": 31,
    "start_time": "2023-07-18T13:01:39.097Z"
   },
   {
    "duration": 343,
    "start_time": "2023-07-18T13:01:39.130Z"
   },
   {
    "duration": 250,
    "start_time": "2023-07-18T13:01:39.478Z"
   },
   {
    "duration": 9,
    "start_time": "2023-07-18T13:01:39.729Z"
   },
   {
    "duration": 27,
    "start_time": "2023-07-18T13:01:39.739Z"
   },
   {
    "duration": 15,
    "start_time": "2023-07-18T13:01:39.767Z"
   },
   {
    "duration": 23,
    "start_time": "2023-07-18T13:01:39.784Z"
   },
   {
    "duration": 46,
    "start_time": "2023-07-18T13:01:39.808Z"
   },
   {
    "duration": 49,
    "start_time": "2023-07-18T13:01:39.855Z"
   },
   {
    "duration": 22,
    "start_time": "2023-07-18T13:01:39.905Z"
   },
   {
    "duration": 97,
    "start_time": "2023-07-18T13:01:39.929Z"
   },
   {
    "duration": 11,
    "start_time": "2023-07-18T13:01:40.029Z"
   },
   {
    "duration": 31,
    "start_time": "2023-07-18T13:01:40.041Z"
   },
   {
    "duration": 31,
    "start_time": "2023-07-18T13:01:40.076Z"
   },
   {
    "duration": 10,
    "start_time": "2023-07-18T13:01:40.109Z"
   },
   {
    "duration": 52,
    "start_time": "2023-07-18T13:01:40.121Z"
   },
   {
    "duration": 84,
    "start_time": "2023-07-18T13:01:40.176Z"
   },
   {
    "duration": 12,
    "start_time": "2023-07-18T13:01:40.268Z"
   },
   {
    "duration": 131,
    "start_time": "2023-07-18T13:01:40.282Z"
   },
   {
    "duration": 0,
    "start_time": "2023-07-18T13:01:40.416Z"
   },
   {
    "duration": 0,
    "start_time": "2023-07-18T13:01:40.417Z"
   },
   {
    "duration": 10,
    "start_time": "2023-07-18T13:01:47.558Z"
   },
   {
    "duration": 71,
    "start_time": "2023-07-18T13:01:50.417Z"
   },
   {
    "duration": 6,
    "start_time": "2023-07-18T13:01:56.876Z"
   },
   {
    "duration": 143,
    "start_time": "2023-07-18T13:01:57.964Z"
   },
   {
    "duration": 129,
    "start_time": "2023-07-18T13:23:23.136Z"
   },
   {
    "duration": 139,
    "start_time": "2023-07-18T13:23:26.634Z"
   },
   {
    "duration": 137,
    "start_time": "2023-07-18T13:24:18.057Z"
   },
   {
    "duration": 131,
    "start_time": "2023-07-18T13:24:55.900Z"
   },
   {
    "duration": 129,
    "start_time": "2023-07-18T13:24:59.735Z"
   },
   {
    "duration": 79,
    "start_time": "2023-07-18T13:27:41.178Z"
   },
   {
    "duration": 85,
    "start_time": "2023-07-18T13:29:05.033Z"
   },
   {
    "duration": 102,
    "start_time": "2023-07-18T13:51:36.428Z"
   },
   {
    "duration": 53,
    "start_time": "2023-07-18T20:28:30.293Z"
   },
   {
    "duration": 1397,
    "start_time": "2023-07-18T20:28:36.270Z"
   },
   {
    "duration": 516,
    "start_time": "2023-07-18T20:28:37.669Z"
   },
   {
    "duration": 3,
    "start_time": "2023-07-18T20:28:38.187Z"
   },
   {
    "duration": 50,
    "start_time": "2023-07-18T20:28:38.192Z"
   },
   {
    "duration": 15,
    "start_time": "2023-07-18T20:28:38.244Z"
   },
   {
    "duration": 105,
    "start_time": "2023-07-18T20:28:38.261Z"
   },
   {
    "duration": 93,
    "start_time": "2023-07-18T20:28:38.368Z"
   },
   {
    "duration": 9,
    "start_time": "2023-07-18T20:28:38.498Z"
   },
   {
    "duration": 72,
    "start_time": "2023-07-18T20:28:38.685Z"
   },
   {
    "duration": 3,
    "start_time": "2023-07-18T20:28:40.778Z"
   },
   {
    "duration": 19,
    "start_time": "2023-07-18T20:28:41.189Z"
   },
   {
    "duration": 8,
    "start_time": "2023-07-18T20:28:41.568Z"
   },
   {
    "duration": 36,
    "start_time": "2023-07-18T20:28:41.935Z"
   },
   {
    "duration": 15,
    "start_time": "2023-07-18T20:28:42.311Z"
   },
   {
    "duration": 15,
    "start_time": "2023-07-18T20:28:42.499Z"
   },
   {
    "duration": 284,
    "start_time": "2023-07-18T20:28:42.690Z"
   },
   {
    "duration": 239,
    "start_time": "2023-07-18T20:28:43.845Z"
   },
   {
    "duration": 8,
    "start_time": "2023-07-18T20:28:45.217Z"
   },
   {
    "duration": 4,
    "start_time": "2023-07-18T20:28:46.590Z"
   },
   {
    "duration": 10,
    "start_time": "2023-07-18T20:28:47.729Z"
   },
   {
    "duration": 6,
    "start_time": "2023-07-18T20:28:49.676Z"
   },
   {
    "duration": 1463,
    "start_time": "2023-07-19T09:27:20.708Z"
   },
   {
    "duration": 522,
    "start_time": "2023-07-19T09:27:22.174Z"
   },
   {
    "duration": 3,
    "start_time": "2023-07-19T09:27:22.698Z"
   },
   {
    "duration": 146,
    "start_time": "2023-07-19T09:27:22.704Z"
   },
   {
    "duration": 90,
    "start_time": "2023-07-19T09:27:22.852Z"
   },
   {
    "duration": 110,
    "start_time": "2023-07-19T09:27:22.944Z"
   },
   {
    "duration": 124,
    "start_time": "2023-07-19T09:27:23.057Z"
   },
   {
    "duration": 9,
    "start_time": "2023-07-19T09:27:23.183Z"
   },
   {
    "duration": 79,
    "start_time": "2023-07-19T09:27:23.300Z"
   },
   {
    "duration": 4,
    "start_time": "2023-07-19T09:27:24.006Z"
   },
   {
    "duration": 21,
    "start_time": "2023-07-19T09:27:24.184Z"
   },
   {
    "duration": 9,
    "start_time": "2023-07-19T09:27:24.550Z"
   },
   {
    "duration": 46,
    "start_time": "2023-07-19T09:27:24.889Z"
   },
   {
    "duration": 15,
    "start_time": "2023-07-19T09:27:25.260Z"
   },
   {
    "duration": 15,
    "start_time": "2023-07-19T09:27:25.449Z"
   },
   {
    "duration": 294,
    "start_time": "2023-07-19T09:27:25.633Z"
   },
   {
    "duration": 287,
    "start_time": "2023-07-19T09:27:25.998Z"
   },
   {
    "duration": 10,
    "start_time": "2023-07-19T09:27:26.555Z"
   },
   {
    "duration": 4,
    "start_time": "2023-07-19T09:27:26.750Z"
   },
   {
    "duration": 9,
    "start_time": "2023-07-19T09:27:27.137Z"
   },
   {
    "duration": 7,
    "start_time": "2023-07-19T09:27:27.305Z"
   },
   {
    "duration": 38,
    "start_time": "2023-07-19T09:27:27.674Z"
   },
   {
    "duration": 49,
    "start_time": "2023-07-19T09:27:28.021Z"
   },
   {
    "duration": 22,
    "start_time": "2023-07-19T09:27:28.772Z"
   },
   {
    "duration": 84,
    "start_time": "2023-07-19T09:27:29.332Z"
   },
   {
    "duration": 9,
    "start_time": "2023-07-19T09:27:30.239Z"
   },
   {
    "duration": 14,
    "start_time": "2023-07-19T09:27:30.599Z"
   },
   {
    "duration": 10,
    "start_time": "2023-07-19T09:27:31.356Z"
   },
   {
    "duration": 5,
    "start_time": "2023-07-19T09:27:31.945Z"
   },
   {
    "duration": 91,
    "start_time": "2023-07-19T09:28:56.435Z"
   },
   {
    "duration": 89,
    "start_time": "2023-07-19T09:29:28.134Z"
   },
   {
    "duration": 8,
    "start_time": "2023-07-19T11:22:30.239Z"
   },
   {
    "duration": 90,
    "start_time": "2023-07-19T11:27:04.684Z"
   },
   {
    "duration": 228,
    "start_time": "2023-07-19T11:44:27.068Z"
   },
   {
    "duration": 7,
    "start_time": "2023-07-19T11:45:03.848Z"
   },
   {
    "duration": 142,
    "start_time": "2023-07-19T11:45:09.720Z"
   },
   {
    "duration": 8,
    "start_time": "2023-07-19T11:46:46.908Z"
   },
   {
    "duration": 181,
    "start_time": "2023-07-19T11:46:49.847Z"
   },
   {
    "duration": 6,
    "start_time": "2023-07-19T11:47:34.848Z"
   },
   {
    "duration": 167,
    "start_time": "2023-07-19T11:47:36.222Z"
   },
   {
    "duration": 90,
    "start_time": "2023-07-19T11:50:48.402Z"
   },
   {
    "duration": 3086,
    "start_time": "2023-07-19T11:50:55.260Z"
   },
   {
    "duration": 170,
    "start_time": "2023-07-19T11:51:14.913Z"
   },
   {
    "duration": 16,
    "start_time": "2023-07-19T11:58:07.075Z"
   },
   {
    "duration": 17,
    "start_time": "2023-07-19T11:58:31.075Z"
   },
   {
    "duration": 28,
    "start_time": "2023-07-19T11:58:55.894Z"
   },
   {
    "duration": 28,
    "start_time": "2023-07-19T12:01:31.273Z"
   },
   {
    "duration": 27,
    "start_time": "2023-07-19T12:01:51.690Z"
   },
   {
    "duration": 21,
    "start_time": "2023-07-19T12:02:06.802Z"
   },
   {
    "duration": 186,
    "start_time": "2023-07-19T12:03:02.223Z"
   },
   {
    "duration": 181,
    "start_time": "2023-07-19T12:05:02.979Z"
   },
   {
    "duration": 17,
    "start_time": "2023-07-19T12:30:37.983Z"
   },
   {
    "duration": 6,
    "start_time": "2023-07-19T12:31:58.795Z"
   },
   {
    "duration": 166,
    "start_time": "2023-07-19T12:31:59.796Z"
   },
   {
    "duration": 169,
    "start_time": "2023-07-19T12:32:05.121Z"
   },
   {
    "duration": 183,
    "start_time": "2023-07-19T12:32:05.291Z"
   },
   {
    "duration": 17,
    "start_time": "2023-07-19T12:32:05.755Z"
   },
   {
    "duration": 202,
    "start_time": "2023-07-19T12:32:05.914Z"
   },
   {
    "duration": 189,
    "start_time": "2023-07-19T12:32:06.439Z"
   },
   {
    "duration": 189,
    "start_time": "2023-07-19T12:32:06.630Z"
   },
   {
    "duration": 174,
    "start_time": "2023-07-19T12:32:06.821Z"
   },
   {
    "duration": 199,
    "start_time": "2023-07-19T12:32:07.010Z"
   },
   {
    "duration": 28,
    "start_time": "2023-07-19T12:33:19.257Z"
   },
   {
    "duration": 2308,
    "start_time": "2023-07-19T14:09:02.789Z"
   },
   {
    "duration": 152,
    "start_time": "2023-07-19T14:09:05.098Z"
   },
   {
    "duration": 3,
    "start_time": "2023-07-19T14:09:05.251Z"
   },
   {
    "duration": 37,
    "start_time": "2023-07-19T14:09:05.256Z"
   },
   {
    "duration": 28,
    "start_time": "2023-07-19T14:09:05.294Z"
   },
   {
    "duration": 65,
    "start_time": "2023-07-19T14:09:05.323Z"
   },
   {
    "duration": 66,
    "start_time": "2023-07-19T14:09:05.389Z"
   },
   {
    "duration": 7,
    "start_time": "2023-07-19T14:09:05.457Z"
   },
   {
    "duration": 81,
    "start_time": "2023-07-19T14:09:05.465Z"
   },
   {
    "duration": 3,
    "start_time": "2023-07-19T14:09:05.548Z"
   },
   {
    "duration": 59,
    "start_time": "2023-07-19T14:09:05.553Z"
   },
   {
    "duration": 43,
    "start_time": "2023-07-19T14:09:05.613Z"
   },
   {
    "duration": 54,
    "start_time": "2023-07-19T14:09:05.657Z"
   },
   {
    "duration": 12,
    "start_time": "2023-07-19T14:09:05.712Z"
   },
   {
    "duration": 31,
    "start_time": "2023-07-19T14:09:05.726Z"
   },
   {
    "duration": 297,
    "start_time": "2023-07-19T14:09:05.758Z"
   },
   {
    "duration": 213,
    "start_time": "2023-07-19T14:09:06.056Z"
   },
   {
    "duration": 8,
    "start_time": "2023-07-19T14:09:06.271Z"
   },
   {
    "duration": 16,
    "start_time": "2023-07-19T14:09:06.280Z"
   },
   {
    "duration": 36,
    "start_time": "2023-07-19T14:09:06.298Z"
   },
   {
    "duration": 24,
    "start_time": "2023-07-19T14:09:06.336Z"
   },
   {
    "duration": 44,
    "start_time": "2023-07-19T14:09:06.362Z"
   },
   {
    "duration": 40,
    "start_time": "2023-07-19T14:09:06.407Z"
   },
   {
    "duration": 21,
    "start_time": "2023-07-19T14:09:06.448Z"
   },
   {
    "duration": 100,
    "start_time": "2023-07-19T14:09:06.471Z"
   },
   {
    "duration": 6,
    "start_time": "2023-07-19T14:09:06.573Z"
   },
   {
    "duration": 18,
    "start_time": "2023-07-19T14:09:06.580Z"
   },
   {
    "duration": 31,
    "start_time": "2023-07-19T14:09:06.601Z"
   },
   {
    "duration": 15,
    "start_time": "2023-07-19T14:09:06.634Z"
   },
   {
    "duration": 44,
    "start_time": "2023-07-19T14:09:06.651Z"
   },
   {
    "duration": 76,
    "start_time": "2023-07-19T14:09:06.696Z"
   },
   {
    "duration": 5,
    "start_time": "2023-07-19T14:09:06.774Z"
   },
   {
    "duration": 118,
    "start_time": "2023-07-19T14:09:06.780Z"
   },
   {
    "duration": 114,
    "start_time": "2023-07-19T14:09:06.906Z"
   },
   {
    "duration": 116,
    "start_time": "2023-07-19T14:09:07.022Z"
   },
   {
    "duration": 14,
    "start_time": "2023-07-19T14:09:07.140Z"
   },
   {
    "duration": 142,
    "start_time": "2023-07-19T14:09:07.156Z"
   },
   {
    "duration": 125,
    "start_time": "2023-07-19T14:09:07.300Z"
   },
   {
    "duration": 123,
    "start_time": "2023-07-19T14:09:07.426Z"
   },
   {
    "duration": 118,
    "start_time": "2023-07-19T14:09:07.551Z"
   },
   {
    "duration": 126,
    "start_time": "2023-07-19T14:09:07.671Z"
   },
   {
    "duration": 46,
    "start_time": "2023-07-20T15:42:04.535Z"
   },
   {
    "duration": 1236,
    "start_time": "2023-07-20T15:42:11.556Z"
   },
   {
    "duration": 472,
    "start_time": "2023-07-20T15:42:12.794Z"
   },
   {
    "duration": 3,
    "start_time": "2023-07-20T15:42:13.358Z"
   },
   {
    "duration": 17,
    "start_time": "2023-07-20T15:42:17.372Z"
   },
   {
    "duration": 12,
    "start_time": "2023-07-20T15:42:18.267Z"
   },
   {
    "duration": 56,
    "start_time": "2023-07-20T15:42:18.416Z"
   },
   {
    "duration": 57,
    "start_time": "2023-07-20T15:42:18.551Z"
   },
   {
    "duration": 8,
    "start_time": "2023-07-20T15:42:19.203Z"
   },
   {
    "duration": 58,
    "start_time": "2023-07-20T15:42:19.535Z"
   },
   {
    "duration": 22,
    "start_time": "2023-07-20T15:42:21.455Z"
   },
   {
    "duration": 3,
    "start_time": "2023-07-20T15:43:26.787Z"
   },
   {
    "duration": 40,
    "start_time": "2023-07-20T15:43:26.953Z"
   },
   {
    "duration": 8,
    "start_time": "2023-07-20T15:43:27.278Z"
   },
   {
    "duration": 34,
    "start_time": "2023-07-20T15:43:27.604Z"
   },
   {
    "duration": 14,
    "start_time": "2023-07-20T15:43:27.954Z"
   },
   {
    "duration": 17,
    "start_time": "2023-07-20T15:43:28.109Z"
   },
   {
    "duration": 264,
    "start_time": "2023-07-20T15:43:28.282Z"
   },
   {
    "duration": 225,
    "start_time": "2023-07-20T15:43:28.813Z"
   },
   {
    "duration": 7,
    "start_time": "2023-07-20T15:43:29.333Z"
   },
   {
    "duration": 4,
    "start_time": "2023-07-20T15:43:29.512Z"
   },
   {
    "duration": 8,
    "start_time": "2023-07-20T15:45:08.492Z"
   },
   {
    "duration": 8,
    "start_time": "2023-07-20T15:45:31.198Z"
   },
   {
    "duration": 6,
    "start_time": "2023-07-20T15:45:43.998Z"
   },
   {
    "duration": 134,
    "start_time": "2023-07-20T15:45:57.425Z"
   },
   {
    "duration": 127,
    "start_time": "2023-07-20T15:46:17.013Z"
   },
   {
    "duration": 4,
    "start_time": "2023-07-20T15:46:25.890Z"
   },
   {
    "duration": 8,
    "start_time": "2023-07-20T15:46:55.452Z"
   },
   {
    "duration": 8,
    "start_time": "2023-07-20T15:47:07.882Z"
   },
   {
    "duration": 158,
    "start_time": "2023-07-20T15:47:49.709Z"
   },
   {
    "duration": 6,
    "start_time": "2023-07-20T15:48:08.082Z"
   },
   {
    "duration": 7,
    "start_time": "2023-07-20T15:48:17.216Z"
   },
   {
    "duration": 123,
    "start_time": "2023-07-20T15:49:06.990Z"
   },
   {
    "duration": 69,
    "start_time": "2023-07-20T15:49:32.916Z"
   },
   {
    "duration": 198,
    "start_time": "2023-07-20T15:49:53.871Z"
   },
   {
    "duration": 149,
    "start_time": "2023-07-20T15:50:04.481Z"
   },
   {
    "duration": 7,
    "start_time": "2023-07-20T15:50:41.284Z"
   },
   {
    "duration": 149,
    "start_time": "2023-07-20T15:50:44.975Z"
   },
   {
    "duration": 10,
    "start_time": "2023-07-20T15:51:44.906Z"
   },
   {
    "duration": 340,
    "start_time": "2023-07-20T15:54:59.395Z"
   },
   {
    "duration": 18,
    "start_time": "2023-07-20T15:55:37.754Z"
   },
   {
    "duration": 7,
    "start_time": "2023-07-20T15:58:34.394Z"
   },
   {
    "duration": 3,
    "start_time": "2023-07-20T15:58:39.471Z"
   },
   {
    "duration": 8,
    "start_time": "2023-07-20T15:58:39.631Z"
   },
   {
    "duration": 7,
    "start_time": "2023-07-20T15:58:39.795Z"
   },
   {
    "duration": 8,
    "start_time": "2023-07-20T15:58:40.448Z"
   },
   {
    "duration": 7,
    "start_time": "2023-07-20T15:58:40.611Z"
   },
   {
    "duration": 29,
    "start_time": "2023-07-20T15:58:40.915Z"
   },
   {
    "duration": 40,
    "start_time": "2023-07-20T15:58:41.225Z"
   },
   {
    "duration": 22,
    "start_time": "2023-07-20T15:58:42.292Z"
   },
   {
    "duration": 64,
    "start_time": "2023-07-20T15:58:43.197Z"
   },
   {
    "duration": 8,
    "start_time": "2023-07-20T15:58:44.221Z"
   },
   {
    "duration": 13,
    "start_time": "2023-07-20T15:58:45.003Z"
   },
   {
    "duration": 8,
    "start_time": "2023-07-20T15:58:46.483Z"
   },
   {
    "duration": 5,
    "start_time": "2023-07-20T15:58:46.876Z"
   },
   {
    "duration": 442,
    "start_time": "2023-07-20T15:58:47.382Z"
   },
   {
    "duration": 6,
    "start_time": "2023-07-20T15:59:50.544Z"
   },
   {
    "duration": 66,
    "start_time": "2023-07-20T16:00:12.803Z"
   },
   {
    "duration": 11,
    "start_time": "2023-07-20T16:00:29.465Z"
   },
   {
    "duration": 2291,
    "start_time": "2023-07-20T16:00:30.339Z"
   },
   {
    "duration": 0,
    "start_time": "2023-07-20T16:00:32.632Z"
   },
   {
    "duration": 10,
    "start_time": "2023-07-20T16:00:38.177Z"
   },
   {
    "duration": 11,
    "start_time": "2023-07-20T16:01:29.847Z"
   },
   {
    "duration": 7,
    "start_time": "2023-07-20T16:01:58.052Z"
   },
   {
    "duration": 5,
    "start_time": "2023-07-20T16:02:10.048Z"
   },
   {
    "duration": 1720,
    "start_time": "2023-07-20T16:02:12.153Z"
   },
   {
    "duration": 4,
    "start_time": "2023-07-20T16:02:24.492Z"
   },
   {
    "duration": 1647,
    "start_time": "2023-07-20T16:02:25.709Z"
   },
   {
    "duration": 15,
    "start_time": "2023-07-20T16:02:28.878Z"
   },
   {
    "duration": 4,
    "start_time": "2023-07-20T16:02:31.341Z"
   },
   {
    "duration": 1056,
    "start_time": "2023-07-20T16:02:42.532Z"
   },
   {
    "duration": 152,
    "start_time": "2023-07-20T16:02:43.590Z"
   },
   {
    "duration": 3,
    "start_time": "2023-07-20T16:02:43.743Z"
   },
   {
    "duration": 37,
    "start_time": "2023-07-20T16:02:43.748Z"
   },
   {
    "duration": 15,
    "start_time": "2023-07-20T16:02:43.787Z"
   },
   {
    "duration": 71,
    "start_time": "2023-07-20T16:02:43.803Z"
   },
   {
    "duration": 86,
    "start_time": "2023-07-20T16:02:43.876Z"
   },
   {
    "duration": 8,
    "start_time": "2023-07-20T16:02:43.963Z"
   },
   {
    "duration": 77,
    "start_time": "2023-07-20T16:02:43.973Z"
   },
   {
    "duration": 22,
    "start_time": "2023-07-20T16:02:44.053Z"
   },
   {
    "duration": 10,
    "start_time": "2023-07-20T16:02:44.077Z"
   },
   {
    "duration": 28,
    "start_time": "2023-07-20T16:02:44.099Z"
   },
   {
    "duration": 17,
    "start_time": "2023-07-20T16:02:44.129Z"
   },
   {
    "duration": 47,
    "start_time": "2023-07-20T16:02:44.148Z"
   },
   {
    "duration": 13,
    "start_time": "2023-07-20T16:02:44.199Z"
   },
   {
    "duration": 15,
    "start_time": "2023-07-20T16:02:44.213Z"
   },
   {
    "duration": 270,
    "start_time": "2023-07-20T16:02:44.230Z"
   },
   {
    "duration": 217,
    "start_time": "2023-07-20T16:02:44.501Z"
   },
   {
    "duration": 4,
    "start_time": "2023-07-20T16:02:44.719Z"
   },
   {
    "duration": 12,
    "start_time": "2023-07-20T16:02:44.724Z"
   },
   {
    "duration": 24,
    "start_time": "2023-07-20T16:02:44.738Z"
   },
   {
    "duration": 11,
    "start_time": "2023-07-20T16:02:44.764Z"
   },
   {
    "duration": 21,
    "start_time": "2023-07-20T16:02:44.777Z"
   },
   {
    "duration": 44,
    "start_time": "2023-07-20T16:02:44.799Z"
   },
   {
    "duration": 41,
    "start_time": "2023-07-20T16:02:44.844Z"
   },
   {
    "duration": 23,
    "start_time": "2023-07-20T16:02:44.886Z"
   },
   {
    "duration": 102,
    "start_time": "2023-07-20T16:02:44.910Z"
   },
   {
    "duration": 7,
    "start_time": "2023-07-20T16:02:45.015Z"
   },
   {
    "duration": 48,
    "start_time": "2023-07-20T16:02:45.024Z"
   },
   {
    "duration": 43,
    "start_time": "2023-07-20T16:02:45.074Z"
   },
   {
    "duration": 17,
    "start_time": "2023-07-20T16:02:45.119Z"
   },
   {
    "duration": 744,
    "start_time": "2023-07-20T16:02:45.137Z"
   },
   {
    "duration": 33,
    "start_time": "2023-07-20T16:02:45.883Z"
   },
   {
    "duration": 148,
    "start_time": "2023-07-20T16:02:45.917Z"
   },
   {
    "duration": 8,
    "start_time": "2023-07-20T16:02:46.067Z"
   },
   {
    "duration": 190,
    "start_time": "2023-07-20T16:02:46.078Z"
   },
   {
    "duration": 131,
    "start_time": "2023-07-20T16:02:46.269Z"
   },
   {
    "duration": 132,
    "start_time": "2023-07-20T16:02:46.402Z"
   },
   {
    "duration": 14,
    "start_time": "2023-07-20T16:02:46.535Z"
   },
   {
    "duration": 154,
    "start_time": "2023-07-20T16:02:46.550Z"
   },
   {
    "duration": 127,
    "start_time": "2023-07-20T16:02:46.706Z"
   },
   {
    "duration": 149,
    "start_time": "2023-07-20T16:02:46.835Z"
   },
   {
    "duration": 127,
    "start_time": "2023-07-20T16:02:46.985Z"
   },
   {
    "duration": 143,
    "start_time": "2023-07-20T16:02:47.113Z"
   },
   {
    "duration": 3,
    "start_time": "2023-07-20T16:02:55.694Z"
   },
   {
    "duration": 146,
    "start_time": "2023-07-20T16:02:55.856Z"
   },
   {
    "duration": 2,
    "start_time": "2023-07-20T16:02:56.883Z"
   },
   {
    "duration": 16,
    "start_time": "2023-07-20T16:02:57.407Z"
   },
   {
    "duration": 6,
    "start_time": "2023-07-20T16:02:57.752Z"
   },
   {
    "duration": 52,
    "start_time": "2023-07-20T16:02:57.903Z"
   },
   {
    "duration": 55,
    "start_time": "2023-07-20T16:02:58.073Z"
   },
   {
    "duration": 7,
    "start_time": "2023-07-20T16:02:58.394Z"
   },
   {
    "duration": 61,
    "start_time": "2023-07-20T16:02:58.570Z"
   },
   {
    "duration": 20,
    "start_time": "2023-07-20T16:02:59.269Z"
   },
   {
    "duration": 4,
    "start_time": "2023-07-20T16:03:00.273Z"
   },
   {
    "duration": 61,
    "start_time": "2023-07-20T16:03:00.279Z"
   },
   {
    "duration": 7,
    "start_time": "2023-07-20T16:03:00.543Z"
   },
   {
    "duration": 33,
    "start_time": "2023-07-20T16:03:00.910Z"
   },
   {
    "duration": 15,
    "start_time": "2023-07-20T16:03:01.281Z"
   },
   {
    "duration": 15,
    "start_time": "2023-07-20T16:03:01.465Z"
   },
   {
    "duration": 178,
    "start_time": "2023-07-20T16:03:01.653Z"
   },
   {
    "duration": 199,
    "start_time": "2023-07-20T16:03:02.036Z"
   },
   {
    "duration": 4,
    "start_time": "2023-07-20T16:03:02.583Z"
   },
   {
    "duration": 7,
    "start_time": "2023-07-20T16:03:02.759Z"
   },
   {
    "duration": 6,
    "start_time": "2023-07-20T16:03:02.936Z"
   },
   {
    "duration": 8,
    "start_time": "2023-07-20T16:03:03.675Z"
   },
   {
    "duration": 6,
    "start_time": "2023-07-20T16:03:03.859Z"
   },
   {
    "duration": 29,
    "start_time": "2023-07-20T16:03:04.228Z"
   },
   {
    "duration": 36,
    "start_time": "2023-07-20T16:03:04.578Z"
   },
   {
    "duration": 23,
    "start_time": "2023-07-20T16:03:05.529Z"
   },
   {
    "duration": 65,
    "start_time": "2023-07-20T16:03:06.109Z"
   },
   {
    "duration": 8,
    "start_time": "2023-07-20T16:03:07.040Z"
   },
   {
    "duration": 11,
    "start_time": "2023-07-20T16:03:07.857Z"
   },
   {
    "duration": 7,
    "start_time": "2023-07-20T16:03:09.833Z"
   },
   {
    "duration": 5,
    "start_time": "2023-07-20T16:03:10.711Z"
   },
   {
    "duration": 37,
    "start_time": "2023-07-20T16:03:11.984Z"
   },
   {
    "duration": 153,
    "start_time": "2023-07-20T16:03:25.529Z"
   },
   {
    "duration": 9,
    "start_time": "2023-07-20T16:03:46.151Z"
   },
   {
    "duration": 8,
    "start_time": "2023-07-20T16:03:59.098Z"
   },
   {
    "duration": 4,
    "start_time": "2023-07-20T16:04:02.606Z"
   },
   {
    "duration": 4,
    "start_time": "2023-07-20T16:04:32.979Z"
   },
   {
    "duration": 4,
    "start_time": "2023-07-20T16:04:52.970Z"
   },
   {
    "duration": 40,
    "start_time": "2023-07-20T16:04:57.937Z"
   },
   {
    "duration": 39,
    "start_time": "2023-07-20T16:05:58.580Z"
   },
   {
    "duration": 30,
    "start_time": "2023-07-20T16:06:09.385Z"
   },
   {
    "duration": 71,
    "start_time": "2023-07-20T16:06:09.549Z"
   },
   {
    "duration": 5,
    "start_time": "2023-07-20T16:06:10.854Z"
   },
   {
    "duration": 111,
    "start_time": "2023-07-20T16:06:11.204Z"
   },
   {
    "duration": 114,
    "start_time": "2023-07-20T16:06:11.541Z"
   },
   {
    "duration": 110,
    "start_time": "2023-07-20T16:06:11.713Z"
   },
   {
    "duration": 12,
    "start_time": "2023-07-20T16:06:12.247Z"
   },
   {
    "duration": 121,
    "start_time": "2023-07-20T16:06:12.415Z"
   },
   {
    "duration": 111,
    "start_time": "2023-07-20T16:06:12.938Z"
   },
   {
    "duration": 110,
    "start_time": "2023-07-20T16:06:13.108Z"
   },
   {
    "duration": 111,
    "start_time": "2023-07-20T16:06:13.275Z"
   },
   {
    "duration": 127,
    "start_time": "2023-07-20T16:06:13.479Z"
   },
   {
    "duration": 1256,
    "start_time": "2023-07-21T05:34:59.507Z"
   },
   {
    "duration": 186,
    "start_time": "2023-07-21T05:35:00.764Z"
   },
   {
    "duration": 3,
    "start_time": "2023-07-21T05:35:00.952Z"
   },
   {
    "duration": 268,
    "start_time": "2023-07-21T05:35:00.957Z"
   },
   {
    "duration": 300,
    "start_time": "2023-07-21T05:35:01.226Z"
   },
   {
    "duration": 235,
    "start_time": "2023-07-21T05:35:01.527Z"
   },
   {
    "duration": 124,
    "start_time": "2023-07-21T05:35:01.763Z"
   },
   {
    "duration": 7,
    "start_time": "2023-07-21T05:35:01.889Z"
   },
   {
    "duration": 107,
    "start_time": "2023-07-21T05:35:01.898Z"
   },
   {
    "duration": 36,
    "start_time": "2023-07-21T05:35:02.007Z"
   },
   {
    "duration": 48,
    "start_time": "2023-07-21T05:35:02.045Z"
   },
   {
    "duration": 97,
    "start_time": "2023-07-21T05:35:02.094Z"
   },
   {
    "duration": 70,
    "start_time": "2023-07-21T05:35:02.193Z"
   },
   {
    "duration": 67,
    "start_time": "2023-07-21T05:35:02.264Z"
   },
   {
    "duration": 29,
    "start_time": "2023-07-21T05:35:02.332Z"
   },
   {
    "duration": 59,
    "start_time": "2023-07-21T05:35:02.363Z"
   },
   {
    "duration": 291,
    "start_time": "2023-07-21T05:35:02.424Z"
   },
   {
    "duration": 237,
    "start_time": "2023-07-21T05:35:02.719Z"
   },
   {
    "duration": 4,
    "start_time": "2023-07-21T05:35:02.958Z"
   },
   {
    "duration": 33,
    "start_time": "2023-07-21T05:35:02.963Z"
   },
   {
    "duration": 37,
    "start_time": "2023-07-21T05:35:02.998Z"
   },
   {
    "duration": 36,
    "start_time": "2023-07-21T05:35:03.036Z"
   },
   {
    "duration": 16,
    "start_time": "2023-07-21T05:35:03.074Z"
   },
   {
    "duration": 60,
    "start_time": "2023-07-21T05:35:03.092Z"
   },
   {
    "duration": 49,
    "start_time": "2023-07-21T05:35:03.154Z"
   },
   {
    "duration": 46,
    "start_time": "2023-07-21T05:35:03.205Z"
   },
   {
    "duration": 148,
    "start_time": "2023-07-21T05:35:03.252Z"
   },
   {
    "duration": 8,
    "start_time": "2023-07-21T05:35:03.403Z"
   },
   {
    "duration": 52,
    "start_time": "2023-07-21T05:35:03.412Z"
   },
   {
    "duration": 29,
    "start_time": "2023-07-21T05:35:03.466Z"
   },
   {
    "duration": 25,
    "start_time": "2023-07-21T05:35:03.496Z"
   },
   {
    "duration": 889,
    "start_time": "2023-07-21T05:35:03.522Z"
   },
   {
    "duration": 37,
    "start_time": "2023-07-21T05:35:04.413Z"
   },
   {
    "duration": 121,
    "start_time": "2023-07-21T05:35:04.452Z"
   },
   {
    "duration": 6,
    "start_time": "2023-07-21T05:35:04.575Z"
   },
   {
    "duration": 152,
    "start_time": "2023-07-21T05:35:04.583Z"
   },
   {
    "duration": 131,
    "start_time": "2023-07-21T05:35:04.737Z"
   },
   {
    "duration": 138,
    "start_time": "2023-07-21T05:35:04.869Z"
   },
   {
    "duration": 28,
    "start_time": "2023-07-21T05:35:05.008Z"
   },
   {
    "duration": 178,
    "start_time": "2023-07-21T05:35:05.038Z"
   },
   {
    "duration": 169,
    "start_time": "2023-07-21T05:35:05.219Z"
   },
   {
    "duration": 194,
    "start_time": "2023-07-21T05:35:05.390Z"
   },
   {
    "duration": 152,
    "start_time": "2023-07-21T05:35:05.587Z"
   },
   {
    "duration": 163,
    "start_time": "2023-07-21T05:35:05.741Z"
   },
   {
    "duration": 1153,
    "start_time": "2023-07-21T21:29:42.403Z"
   },
   {
    "duration": 153,
    "start_time": "2023-07-21T21:29:43.558Z"
   },
   {
    "duration": 0,
    "start_time": "2023-07-21T21:29:43.713Z"
   },
   {
    "duration": 0,
    "start_time": "2023-07-21T21:29:43.714Z"
   },
   {
    "duration": 0,
    "start_time": "2023-07-21T21:29:43.715Z"
   },
   {
    "duration": 0,
    "start_time": "2023-07-21T21:29:43.716Z"
   },
   {
    "duration": 0,
    "start_time": "2023-07-21T21:29:43.717Z"
   },
   {
    "duration": 0,
    "start_time": "2023-07-21T21:29:43.718Z"
   },
   {
    "duration": 0,
    "start_time": "2023-07-21T21:29:43.719Z"
   },
   {
    "duration": 0,
    "start_time": "2023-07-21T21:29:43.720Z"
   },
   {
    "duration": 0,
    "start_time": "2023-07-21T21:29:43.732Z"
   },
   {
    "duration": 0,
    "start_time": "2023-07-21T21:29:43.734Z"
   },
   {
    "duration": 0,
    "start_time": "2023-07-21T21:29:43.737Z"
   },
   {
    "duration": 0,
    "start_time": "2023-07-21T21:29:43.739Z"
   },
   {
    "duration": 0,
    "start_time": "2023-07-21T21:29:43.740Z"
   },
   {
    "duration": 0,
    "start_time": "2023-07-21T21:29:43.742Z"
   },
   {
    "duration": 0,
    "start_time": "2023-07-21T21:29:43.743Z"
   },
   {
    "duration": 0,
    "start_time": "2023-07-21T21:29:43.744Z"
   },
   {
    "duration": 0,
    "start_time": "2023-07-21T21:29:43.746Z"
   },
   {
    "duration": 0,
    "start_time": "2023-07-21T21:29:43.747Z"
   },
   {
    "duration": 0,
    "start_time": "2023-07-21T21:29:43.748Z"
   },
   {
    "duration": 0,
    "start_time": "2023-07-21T21:29:43.749Z"
   },
   {
    "duration": 0,
    "start_time": "2023-07-21T21:29:43.751Z"
   },
   {
    "duration": 0,
    "start_time": "2023-07-21T21:29:43.752Z"
   },
   {
    "duration": 0,
    "start_time": "2023-07-21T21:29:43.753Z"
   },
   {
    "duration": 0,
    "start_time": "2023-07-21T21:29:43.753Z"
   },
   {
    "duration": 0,
    "start_time": "2023-07-21T21:29:43.754Z"
   },
   {
    "duration": 0,
    "start_time": "2023-07-21T21:29:43.755Z"
   },
   {
    "duration": 0,
    "start_time": "2023-07-21T21:29:43.756Z"
   },
   {
    "duration": 0,
    "start_time": "2023-07-21T21:29:43.757Z"
   },
   {
    "duration": 0,
    "start_time": "2023-07-21T21:29:43.758Z"
   },
   {
    "duration": 0,
    "start_time": "2023-07-21T21:29:43.759Z"
   },
   {
    "duration": 0,
    "start_time": "2023-07-21T21:29:43.760Z"
   },
   {
    "duration": 0,
    "start_time": "2023-07-21T21:29:43.761Z"
   },
   {
    "duration": 0,
    "start_time": "2023-07-21T21:29:43.762Z"
   },
   {
    "duration": 0,
    "start_time": "2023-07-21T21:29:43.763Z"
   },
   {
    "duration": 0,
    "start_time": "2023-07-21T21:29:43.764Z"
   },
   {
    "duration": 0,
    "start_time": "2023-07-21T21:29:43.765Z"
   },
   {
    "duration": 0,
    "start_time": "2023-07-21T21:29:43.766Z"
   },
   {
    "duration": 0,
    "start_time": "2023-07-21T21:29:43.767Z"
   },
   {
    "duration": 0,
    "start_time": "2023-07-21T21:29:43.768Z"
   },
   {
    "duration": 0,
    "start_time": "2023-07-21T21:29:43.769Z"
   },
   {
    "duration": 0,
    "start_time": "2023-07-21T21:29:43.770Z"
   },
   {
    "duration": 0,
    "start_time": "2023-07-21T21:29:43.771Z"
   },
   {
    "duration": 0,
    "start_time": "2023-07-21T21:29:43.772Z"
   },
   {
    "duration": 0,
    "start_time": "2023-07-21T21:29:43.832Z"
   },
   {
    "duration": 1051,
    "start_time": "2023-07-22T05:31:54.868Z"
   },
   {
    "duration": 154,
    "start_time": "2023-07-22T05:31:55.921Z"
   },
   {
    "duration": 0,
    "start_time": "2023-07-22T05:31:56.078Z"
   },
   {
    "duration": 0,
    "start_time": "2023-07-22T05:31:56.079Z"
   },
   {
    "duration": 0,
    "start_time": "2023-07-22T05:31:56.080Z"
   },
   {
    "duration": 0,
    "start_time": "2023-07-22T05:31:56.081Z"
   },
   {
    "duration": 0,
    "start_time": "2023-07-22T05:31:56.082Z"
   },
   {
    "duration": 0,
    "start_time": "2023-07-22T05:31:56.083Z"
   },
   {
    "duration": 0,
    "start_time": "2023-07-22T05:31:56.083Z"
   },
   {
    "duration": 0,
    "start_time": "2023-07-22T05:31:56.084Z"
   },
   {
    "duration": 0,
    "start_time": "2023-07-22T05:31:56.085Z"
   },
   {
    "duration": 0,
    "start_time": "2023-07-22T05:31:56.086Z"
   },
   {
    "duration": 0,
    "start_time": "2023-07-22T05:31:56.087Z"
   },
   {
    "duration": 0,
    "start_time": "2023-07-22T05:31:56.088Z"
   },
   {
    "duration": 0,
    "start_time": "2023-07-22T05:31:56.089Z"
   },
   {
    "duration": 0,
    "start_time": "2023-07-22T05:31:56.090Z"
   },
   {
    "duration": 0,
    "start_time": "2023-07-22T05:31:56.091Z"
   },
   {
    "duration": 0,
    "start_time": "2023-07-22T05:31:56.092Z"
   },
   {
    "duration": 0,
    "start_time": "2023-07-22T05:31:56.093Z"
   },
   {
    "duration": 0,
    "start_time": "2023-07-22T05:31:56.094Z"
   },
   {
    "duration": 0,
    "start_time": "2023-07-22T05:31:56.095Z"
   },
   {
    "duration": 0,
    "start_time": "2023-07-22T05:31:56.096Z"
   },
   {
    "duration": 0,
    "start_time": "2023-07-22T05:31:56.097Z"
   },
   {
    "duration": 0,
    "start_time": "2023-07-22T05:31:56.097Z"
   },
   {
    "duration": 0,
    "start_time": "2023-07-22T05:31:56.098Z"
   },
   {
    "duration": 0,
    "start_time": "2023-07-22T05:31:56.099Z"
   },
   {
    "duration": 0,
    "start_time": "2023-07-22T05:31:56.100Z"
   },
   {
    "duration": 0,
    "start_time": "2023-07-22T05:31:56.132Z"
   },
   {
    "duration": 0,
    "start_time": "2023-07-22T05:31:56.133Z"
   },
   {
    "duration": 0,
    "start_time": "2023-07-22T05:31:56.134Z"
   },
   {
    "duration": 0,
    "start_time": "2023-07-22T05:31:56.134Z"
   },
   {
    "duration": 0,
    "start_time": "2023-07-22T05:31:56.135Z"
   },
   {
    "duration": 0,
    "start_time": "2023-07-22T05:31:56.137Z"
   },
   {
    "duration": 0,
    "start_time": "2023-07-22T05:31:56.138Z"
   },
   {
    "duration": 1,
    "start_time": "2023-07-22T05:31:56.138Z"
   },
   {
    "duration": 0,
    "start_time": "2023-07-22T05:31:56.140Z"
   },
   {
    "duration": 0,
    "start_time": "2023-07-22T05:31:56.141Z"
   },
   {
    "duration": 0,
    "start_time": "2023-07-22T05:31:56.141Z"
   },
   {
    "duration": 0,
    "start_time": "2023-07-22T05:31:56.142Z"
   },
   {
    "duration": 0,
    "start_time": "2023-07-22T05:31:56.143Z"
   },
   {
    "duration": 0,
    "start_time": "2023-07-22T05:31:56.144Z"
   },
   {
    "duration": 0,
    "start_time": "2023-07-22T05:31:56.145Z"
   },
   {
    "duration": 0,
    "start_time": "2023-07-22T05:31:56.146Z"
   },
   {
    "duration": 0,
    "start_time": "2023-07-22T05:31:56.147Z"
   },
   {
    "duration": 0,
    "start_time": "2023-07-22T05:31:56.147Z"
   },
   {
    "duration": 0,
    "start_time": "2023-07-22T05:31:56.148Z"
   },
   {
    "duration": 1730,
    "start_time": "2023-07-22T10:17:49.118Z"
   },
   {
    "duration": 131,
    "start_time": "2023-07-22T10:17:50.850Z"
   },
   {
    "duration": 732,
    "start_time": "2023-07-22T10:18:34.522Z"
   },
   {
    "duration": 4,
    "start_time": "2023-07-22T10:18:37.056Z"
   },
   {
    "duration": 154,
    "start_time": "2023-07-22T10:18:37.451Z"
   },
   {
    "duration": 10,
    "start_time": "2023-07-22T10:18:38.001Z"
   },
   {
    "duration": 4,
    "start_time": "2023-07-22T10:18:39.946Z"
   },
   {
    "duration": 19,
    "start_time": "2023-07-22T10:18:40.253Z"
   },
   {
    "duration": 4,
    "start_time": "2023-07-22T10:18:49.951Z"
   },
   {
    "duration": 21,
    "start_time": "2023-07-22T10:18:50.803Z"
   },
   {
    "duration": 13,
    "start_time": "2023-07-22T10:18:53.112Z"
   },
   {
    "duration": 65,
    "start_time": "2023-07-22T10:18:53.305Z"
   },
   {
    "duration": 65,
    "start_time": "2023-07-22T10:18:53.844Z"
   },
   {
    "duration": 8,
    "start_time": "2023-07-22T10:18:54.204Z"
   },
   {
    "duration": 87,
    "start_time": "2023-07-22T10:18:54.360Z"
   },
   {
    "duration": 20,
    "start_time": "2023-07-22T10:18:56.411Z"
   },
   {
    "duration": 4,
    "start_time": "2023-07-22T10:18:57.297Z"
   },
   {
    "duration": 20,
    "start_time": "2023-07-22T10:18:57.456Z"
   },
   {
    "duration": 9,
    "start_time": "2023-07-22T10:18:57.803Z"
   },
   {
    "duration": 37,
    "start_time": "2023-07-22T10:18:58.176Z"
   },
   {
    "duration": 15,
    "start_time": "2023-07-22T10:18:58.539Z"
   },
   {
    "duration": 14,
    "start_time": "2023-07-22T10:18:58.726Z"
   },
   {
    "duration": 273,
    "start_time": "2023-07-22T10:18:58.909Z"
   },
   {
    "duration": 230,
    "start_time": "2023-07-22T10:18:59.298Z"
   },
   {
    "duration": 4,
    "start_time": "2023-07-22T10:18:59.836Z"
   },
   {
    "duration": 17,
    "start_time": "2023-07-22T10:19:00.224Z"
   },
   {
    "duration": 13,
    "start_time": "2023-07-22T10:19:00.265Z"
   },
   {
    "duration": 9,
    "start_time": "2023-07-22T10:19:00.944Z"
   },
   {
    "duration": 7,
    "start_time": "2023-07-22T10:19:01.145Z"
   },
   {
    "duration": 33,
    "start_time": "2023-07-22T10:19:01.502Z"
   },
   {
    "duration": 41,
    "start_time": "2023-07-22T10:19:01.871Z"
   },
   {
    "duration": 24,
    "start_time": "2023-07-22T10:19:02.771Z"
   },
   {
    "duration": 57,
    "start_time": "2023-07-22T10:19:03.304Z"
   },
   {
    "duration": 10,
    "start_time": "2023-07-22T10:19:04.243Z"
   },
   {
    "duration": 13,
    "start_time": "2023-07-22T10:19:04.604Z"
   },
   {
    "duration": 9,
    "start_time": "2023-07-22T10:19:05.312Z"
   },
   {
    "duration": 5,
    "start_time": "2023-07-22T10:19:05.507Z"
   },
   {
    "duration": 526,
    "start_time": "2023-07-22T10:19:05.905Z"
   },
   {
    "duration": 53,
    "start_time": "2023-07-22T10:19:06.433Z"
   },
   {
    "duration": 35,
    "start_time": "2023-07-22T10:19:07.334Z"
   },
   {
    "duration": 74,
    "start_time": "2023-07-22T10:19:07.504Z"
   },
   {
    "duration": 6,
    "start_time": "2023-07-22T10:19:08.804Z"
   },
   {
    "duration": 136,
    "start_time": "2023-07-22T10:19:09.148Z"
   },
   {
    "duration": 136,
    "start_time": "2023-07-22T10:19:09.517Z"
   },
   {
    "duration": 134,
    "start_time": "2023-07-22T10:19:09.706Z"
   },
   {
    "duration": 15,
    "start_time": "2023-07-22T10:19:10.251Z"
   },
   {
    "duration": 143,
    "start_time": "2023-07-22T10:19:10.424Z"
   },
   {
    "duration": 135,
    "start_time": "2023-07-22T10:19:11.004Z"
   },
   {
    "duration": 143,
    "start_time": "2023-07-22T10:19:11.204Z"
   },
   {
    "duration": 142,
    "start_time": "2023-07-22T10:19:11.408Z"
   },
   {
    "duration": 150,
    "start_time": "2023-07-22T10:19:11.560Z"
   },
   {
    "duration": 1288,
    "start_time": "2023-07-22T11:02:30.489Z"
   },
   {
    "duration": 181,
    "start_time": "2023-07-22T11:02:31.779Z"
   },
   {
    "duration": 4,
    "start_time": "2023-07-22T11:02:31.961Z"
   },
   {
    "duration": 75,
    "start_time": "2023-07-22T11:02:31.966Z"
   },
   {
    "duration": 15,
    "start_time": "2023-07-22T11:02:32.053Z"
   },
   {
    "duration": 93,
    "start_time": "2023-07-22T11:02:32.070Z"
   },
   {
    "duration": 70,
    "start_time": "2023-07-22T11:02:32.165Z"
   },
   {
    "duration": 25,
    "start_time": "2023-07-22T11:02:32.239Z"
   },
   {
    "duration": 110,
    "start_time": "2023-07-22T11:02:32.269Z"
   },
   {
    "duration": 21,
    "start_time": "2023-07-22T11:02:32.382Z"
   },
   {
    "duration": 42,
    "start_time": "2023-07-22T11:02:32.405Z"
   },
   {
    "duration": 29,
    "start_time": "2023-07-22T11:02:32.458Z"
   },
   {
    "duration": 13,
    "start_time": "2023-07-22T11:02:32.490Z"
   },
   {
    "duration": 76,
    "start_time": "2023-07-22T11:02:32.504Z"
   },
   {
    "duration": 14,
    "start_time": "2023-07-22T11:02:32.582Z"
   },
   {
    "duration": 50,
    "start_time": "2023-07-22T11:02:32.598Z"
   },
   {
    "duration": 338,
    "start_time": "2023-07-22T11:02:32.650Z"
   },
   {
    "duration": 299,
    "start_time": "2023-07-22T11:02:32.989Z"
   },
   {
    "duration": 4,
    "start_time": "2023-07-22T11:02:33.290Z"
   },
   {
    "duration": 48,
    "start_time": "2023-07-22T11:02:33.295Z"
   },
   {
    "duration": 15,
    "start_time": "2023-07-22T11:02:33.345Z"
   },
   {
    "duration": 10,
    "start_time": "2023-07-22T11:02:33.362Z"
   },
   {
    "duration": 7,
    "start_time": "2023-07-22T11:02:33.374Z"
   },
   {
    "duration": 35,
    "start_time": "2023-07-22T11:02:33.384Z"
   },
   {
    "duration": 67,
    "start_time": "2023-07-22T11:02:33.422Z"
   },
   {
    "duration": 36,
    "start_time": "2023-07-22T11:02:33.491Z"
   },
   {
    "duration": 67,
    "start_time": "2023-07-22T11:02:33.529Z"
   },
   {
    "duration": 34,
    "start_time": "2023-07-22T11:02:33.600Z"
   },
   {
    "duration": 16,
    "start_time": "2023-07-22T11:02:33.643Z"
   },
   {
    "duration": 12,
    "start_time": "2023-07-22T11:02:33.660Z"
   },
   {
    "duration": 7,
    "start_time": "2023-07-22T11:02:33.674Z"
   },
   {
    "duration": 913,
    "start_time": "2023-07-22T11:02:33.682Z"
   },
   {
    "duration": 91,
    "start_time": "2023-07-22T11:02:34.597Z"
   },
   {
    "duration": 53,
    "start_time": "2023-07-22T11:02:34.691Z"
   },
   {
    "duration": 129,
    "start_time": "2023-07-22T11:02:34.746Z"
   },
   {
    "duration": 5,
    "start_time": "2023-07-22T11:02:34.878Z"
   },
   {
    "duration": 193,
    "start_time": "2023-07-22T11:02:34.884Z"
   },
   {
    "duration": 170,
    "start_time": "2023-07-22T11:02:35.079Z"
   },
   {
    "duration": 159,
    "start_time": "2023-07-22T11:02:35.260Z"
   },
   {
    "duration": 18,
    "start_time": "2023-07-22T11:02:35.428Z"
   },
   {
    "duration": 177,
    "start_time": "2023-07-22T11:02:35.448Z"
   },
   {
    "duration": 147,
    "start_time": "2023-07-22T11:02:35.627Z"
   },
   {
    "duration": 163,
    "start_time": "2023-07-22T11:02:35.775Z"
   },
   {
    "duration": 161,
    "start_time": "2023-07-22T11:02:35.940Z"
   },
   {
    "duration": 189,
    "start_time": "2023-07-22T11:02:36.103Z"
   }
  ],
  "kernelspec": {
   "display_name": "Python 3 (ipykernel)",
   "language": "python",
   "name": "python3"
  },
  "language_info": {
   "codemirror_mode": {
    "name": "ipython",
    "version": 3
   },
   "file_extension": ".py",
   "mimetype": "text/x-python",
   "name": "python",
   "nbconvert_exporter": "python",
   "pygments_lexer": "ipython3",
   "version": "3.11.3"
  },
  "toc": {
   "base_numbering": 1,
   "nav_menu": {},
   "number_sections": true,
   "sideBar": true,
   "skip_h1_title": true,
   "title_cell": "Table of Contents",
   "title_sidebar": "Contents",
   "toc_cell": false,
   "toc_position": {},
   "toc_section_display": true,
   "toc_window_display": false
  }
 },
 "nbformat": 4,
 "nbformat_minor": 2
}
